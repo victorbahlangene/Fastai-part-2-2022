{
 "cells": [
  {
   "cell_type": "code",
   "execution_count": 2,
   "id": "ec53a3ab",
   "metadata": {},
   "outputs": [],
   "source": [
    "from __future__ import annotations\n",
    "import math,numpy as np,matplotlib.pyplot as plt\n",
    "from operator import itemgetter\n",
    "from itertools import zip_longest\n",
    "import fastcore.all as fc\n",
    "\n",
    "from torch.utils.data import default_collate\n",
    "\n",
    "# from miniai.training import *"
   ]
  },
  {
   "cell_type": "code",
   "execution_count": 3,
   "id": "a24f0465",
   "metadata": {},
   "outputs": [],
   "source": [
    "import logging,pickle,gzip,os,time,shutil,torch,matplotlib as mpl\n",
    "from pathlib import Path\n",
    "\n",
    "from torch import tensor,nn,optim\n",
    "from torch.utils.data import DataLoader\n",
    "import torch.nn.functional as F\n",
    "from datasets import load_dataset,load_dataset_builder\n",
    "\n",
    "import torchvision.transforms.functional as TF\n",
    "from fastcore.test import test_close"
   ]
  },
  {
   "cell_type": "code",
   "execution_count": 4,
   "id": "828886b6",
   "metadata": {},
   "outputs": [],
   "source": [
    "torch.set_printoptions(precision=2, linewidth=140, sci_mode=False)\n",
    "torch.manual_seed(1)\n",
    "mpl.rcParams['image.cmap'] = 'gray'"
   ]
  },
  {
   "cell_type": "code",
   "execution_count": 5,
   "id": "f2f1d379",
   "metadata": {},
   "outputs": [],
   "source": [
    "logging.disable(logging.WARNING)"
   ]
  },
  {
   "cell_type": "markdown",
   "id": "d7faca66",
   "metadata": {},
   "source": [
    "# Hugging Face Datasets"
   ]
  },
  {
   "cell_type": "code",
   "execution_count": 6,
   "id": "d1ceb86c",
   "metadata": {},
   "outputs": [
    {
     "data": {
      "text/plain": [
       "<function datasets.load.load_dataset_builder(path: str, name: Union[str, NoneType] = None, data_dir: Union[str, NoneType] = None, data_files: Union[str, Sequence[str], Mapping[str, Union[str, Sequence[str]]], NoneType] = None, cache_dir: Union[str, NoneType] = None, features: Union[datasets.features.features.Features, NoneType] = None, download_config: Union[datasets.download.download_config.DownloadConfig, NoneType] = None, download_mode: Union[datasets.download.download_manager.DownloadMode, str, NoneType] = None, revision: Union[str, datasets.utils.version.Version, NoneType] = None, use_auth_token: Union[bool, str, NoneType] = None, storage_options: Union[Dict, NoneType] = None, **config_kwargs) -> datasets.builder.DatasetBuilder>"
      ]
     },
     "execution_count": 6,
     "metadata": {},
     "output_type": "execute_result"
    }
   ],
   "source": [
    "load_dataset_builder"
   ]
  },
  {
   "cell_type": "code",
   "execution_count": 7,
   "id": "9a1f5737",
   "metadata": {},
   "outputs": [
    {
     "data": {
      "application/vnd.jupyter.widget-view+json": {
       "model_id": "bc6ecc3307a44c7c9eda3acbdc669cee",
       "version_major": 2,
       "version_minor": 0
      },
      "text/plain": [
       "Downloading builder script:   0%|          | 0.00/4.83k [00:00<?, ?B/s]"
      ]
     },
     "metadata": {},
     "output_type": "display_data"
    },
    {
     "data": {
      "application/vnd.jupyter.widget-view+json": {
       "model_id": "940de37313224943982d93129f0a5832",
       "version_major": 2,
       "version_minor": 0
      },
      "text/plain": [
       "Downloading metadata:   0%|          | 0.00/3.13k [00:00<?, ?B/s]"
      ]
     },
     "metadata": {},
     "output_type": "display_data"
    },
    {
     "data": {
      "application/vnd.jupyter.widget-view+json": {
       "model_id": "3906e9262ae144fc9a13eaa5e4296cb9",
       "version_major": 2,
       "version_minor": 0
      },
      "text/plain": [
       "Downloading readme:   0%|          | 0.00/8.85k [00:00<?, ?B/s]"
      ]
     },
     "metadata": {},
     "output_type": "display_data"
    },
    {
     "name": "stdout",
     "output_type": "stream",
     "text": [
      "Fashion-MNIST is a dataset of Zalando's article images—consisting of a training set of\n",
      "60,000 examples and a test set of 10,000 examples. Each example is a 28x28 grayscale image,\n",
      "associated with a label from 10 classes. We intend Fashion-MNIST to serve as a direct drop-in\n",
      "replacement for the original MNIST dataset for benchmarking machine learning algorithms.\n",
      "It shares the same image size and structure of training and testing splits.\n",
      "\n"
     ]
    }
   ],
   "source": [
    "name = \"fashion_mnist\"\n",
    "ds_builder = load_dataset_builder(name)\n",
    "print(ds_builder.info.description)"
   ]
  },
  {
   "cell_type": "code",
   "execution_count": 8,
   "id": "d5af3304",
   "metadata": {},
   "outputs": [
    {
     "data": {
      "text/plain": [
       "<datasets_modules.datasets.fashion_mnist.0a671f063342996f19779d38c0ab4abef9c64f757b35af8134b331c294d7ba48.fashion_mnist.FashionMnist at 0x4f580899a0>"
      ]
     },
     "execution_count": 8,
     "metadata": {},
     "output_type": "execute_result"
    }
   ],
   "source": [
    "ds_builder"
   ]
  },
  {
   "cell_type": "code",
   "execution_count": 9,
   "id": "11d60fb0",
   "metadata": {},
   "outputs": [
    {
     "data": {
      "text/plain": [
       "DatasetInfo(description=\"Fashion-MNIST is a dataset of Zalando's article images—consisting of a training set of\\n60,000 examples and a test set of 10,000 examples. Each example is a 28x28 grayscale image,\\nassociated with a label from 10 classes. We intend Fashion-MNIST to serve as a direct drop-in\\nreplacement for the original MNIST dataset for benchmarking machine learning algorithms.\\nIt shares the same image size and structure of training and testing splits.\\n\", citation='@article{DBLP:journals/corr/abs-1708-07747,\\n  author    = {Han Xiao and\\n               Kashif Rasul and\\n               Roland Vollgraf},\\n  title     = {Fashion-MNIST: a Novel Image Dataset for Benchmarking Machine Learning\\n               Algorithms},\\n  journal   = {CoRR},\\n  volume    = {abs/1708.07747},\\n  year      = {2017},\\n  url       = {http://arxiv.org/abs/1708.07747},\\n  archivePrefix = {arXiv},\\n  eprint    = {1708.07747},\\n  timestamp = {Mon, 13 Aug 2018 16:47:27 +0200},\\n  biburl    = {https://dblp.org/rec/bib/journals/corr/abs-1708-07747},\\n  bibsource = {dblp computer science bibliography, https://dblp.org}\\n}\\n', homepage='https://github.com/zalandoresearch/fashion-mnist', license='', features={'image': Image(decode=True, id=None), 'label': ClassLabel(names=['T - shirt / top', 'Trouser', 'Pullover', 'Dress', 'Coat', 'Sandal', 'Shirt', 'Sneaker', 'Bag', 'Ankle boot'], id=None)}, post_processed=None, supervised_keys=SupervisedKeysData(input='image', output='label'), task_templates=[ImageClassification(task='image-classification', image_column='image', label_column='label')], builder_name='fashion_mnist', config_name='fashion_mnist', version=1.0.0, splits={'train': SplitInfo(name='train', num_bytes=31296655, num_examples=60000, shard_lengths=None, dataset_name=None), 'test': SplitInfo(name='test', num_bytes=5233818, num_examples=10000, shard_lengths=None, dataset_name=None)}, download_checksums=None, download_size=30878645, post_processing_size=None, dataset_size=36530473, size_in_bytes=None)"
      ]
     },
     "execution_count": 9,
     "metadata": {},
     "output_type": "execute_result"
    }
   ],
   "source": [
    "ds_builder.info"
   ]
  },
  {
   "cell_type": "code",
   "execution_count": 10,
   "id": "bfdbc201",
   "metadata": {},
   "outputs": [
    {
     "data": {
      "text/plain": [
       "{'image': Image(decode=True, id=None),\n",
       " 'label': ClassLabel(names=['T - shirt / top', 'Trouser', 'Pullover', 'Dress', 'Coat', 'Sandal', 'Shirt', 'Sneaker', 'Bag', 'Ankle boot'], id=None)}"
      ]
     },
     "execution_count": 10,
     "metadata": {},
     "output_type": "execute_result"
    }
   ],
   "source": [
    "ds_builder.info.features"
   ]
  },
  {
   "cell_type": "code",
   "execution_count": 12,
   "id": "35ab15c0",
   "metadata": {},
   "outputs": [
    {
     "data": {
      "text/plain": [
       "{'train': SplitInfo(name='train', num_bytes=31296655, num_examples=60000, shard_lengths=None, dataset_name=None),\n",
       " 'test': SplitInfo(name='test', num_bytes=5233818, num_examples=10000, shard_lengths=None, dataset_name=None)}"
      ]
     },
     "execution_count": 12,
     "metadata": {},
     "output_type": "execute_result"
    }
   ],
   "source": [
    "ds_builder.info.splits"
   ]
  },
  {
   "cell_type": "code",
   "execution_count": 13,
   "id": "60114c3a",
   "metadata": {},
   "outputs": [
    {
     "name": "stdout",
     "output_type": "stream",
     "text": [
      "Downloading and preparing dataset fashion_mnist/fashion_mnist to C:/Users/User/.cache/huggingface/datasets/fashion_mnist/fashion_mnist/1.0.0/0a671f063342996f19779d38c0ab4abef9c64f757b35af8134b331c294d7ba48...\n"
     ]
    },
    {
     "data": {
      "application/vnd.jupyter.widget-view+json": {
       "model_id": "d4a8a16aa89c4a18aa36bd03e0cbceae",
       "version_major": 2,
       "version_minor": 0
      },
      "text/plain": [
       "Downloading data files:   0%|          | 0/4 [00:00<?, ?it/s]"
      ]
     },
     "metadata": {},
     "output_type": "display_data"
    },
    {
     "data": {
      "application/vnd.jupyter.widget-view+json": {
       "model_id": "d1ac2c59930b4878807fa1fd0a3f29f8",
       "version_major": 2,
       "version_minor": 0
      },
      "text/plain": [
       "Downloading data:   0%|          | 0.00/26.4M [00:00<?, ?B/s]"
      ]
     },
     "metadata": {},
     "output_type": "display_data"
    },
    {
     "data": {
      "application/vnd.jupyter.widget-view+json": {
       "model_id": "a06f207bc532456bb1640c04deca4b70",
       "version_major": 2,
       "version_minor": 0
      },
      "text/plain": [
       "Downloading data:   0%|          | 0.00/29.5k [00:00<?, ?B/s]"
      ]
     },
     "metadata": {},
     "output_type": "display_data"
    },
    {
     "data": {
      "application/vnd.jupyter.widget-view+json": {
       "model_id": "303c532e590b41ba8627b0946d235e18",
       "version_major": 2,
       "version_minor": 0
      },
      "text/plain": [
       "Downloading data:   0%|          | 0.00/4.42M [00:00<?, ?B/s]"
      ]
     },
     "metadata": {},
     "output_type": "display_data"
    },
    {
     "data": {
      "application/vnd.jupyter.widget-view+json": {
       "model_id": "cbddaceebd3c4cda999db365cff280c6",
       "version_major": 2,
       "version_minor": 0
      },
      "text/plain": [
       "Downloading data:   0%|          | 0.00/5.15k [00:00<?, ?B/s]"
      ]
     },
     "metadata": {},
     "output_type": "display_data"
    },
    {
     "data": {
      "application/vnd.jupyter.widget-view+json": {
       "model_id": "c28e1795f3cb4f9eb4dbfff431b28c3e",
       "version_major": 2,
       "version_minor": 0
      },
      "text/plain": [
       "Extracting data files:   0%|          | 0/4 [00:00<?, ?it/s]"
      ]
     },
     "metadata": {},
     "output_type": "display_data"
    },
    {
     "data": {
      "application/vnd.jupyter.widget-view+json": {
       "model_id": "",
       "version_major": 2,
       "version_minor": 0
      },
      "text/plain": [
       "Generating train split:   0%|          | 0/60000 [00:00<?, ? examples/s]"
      ]
     },
     "metadata": {},
     "output_type": "display_data"
    },
    {
     "data": {
      "application/vnd.jupyter.widget-view+json": {
       "model_id": "",
       "version_major": 2,
       "version_minor": 0
      },
      "text/plain": [
       "Generating test split:   0%|          | 0/10000 [00:00<?, ? examples/s]"
      ]
     },
     "metadata": {},
     "output_type": "display_data"
    },
    {
     "name": "stdout",
     "output_type": "stream",
     "text": [
      "Dataset fashion_mnist downloaded and prepared to C:/Users/User/.cache/huggingface/datasets/fashion_mnist/fashion_mnist/1.0.0/0a671f063342996f19779d38c0ab4abef9c64f757b35af8134b331c294d7ba48. Subsequent calls will reuse this data.\n"
     ]
    },
    {
     "data": {
      "application/vnd.jupyter.widget-view+json": {
       "model_id": "7bff4697729e47fa97104f8ccd6d2937",
       "version_major": 2,
       "version_minor": 0
      },
      "text/plain": [
       "  0%|          | 0/2 [00:00<?, ?it/s]"
      ]
     },
     "metadata": {},
     "output_type": "display_data"
    }
   ],
   "source": [
    "dsd = load_dataset(name)"
   ]
  },
  {
   "cell_type": "code",
   "execution_count": 14,
   "id": "e50fafeb",
   "metadata": {},
   "outputs": [
    {
     "data": {
      "text/plain": [
       "DatasetDict({\n",
       "    train: Dataset({\n",
       "        features: ['image', 'label'],\n",
       "        num_rows: 60000\n",
       "    })\n",
       "    test: Dataset({\n",
       "        features: ['image', 'label'],\n",
       "        num_rows: 10000\n",
       "    })\n",
       "})"
      ]
     },
     "execution_count": 14,
     "metadata": {},
     "output_type": "execute_result"
    }
   ],
   "source": [
    "dsd"
   ]
  },
  {
   "cell_type": "code",
   "execution_count": 15,
   "id": "862411de",
   "metadata": {},
   "outputs": [
    {
     "data": {
      "text/plain": [
       "Dataset({\n",
       "    features: ['image', 'label'],\n",
       "    num_rows: 60000\n",
       "})"
      ]
     },
     "execution_count": 15,
     "metadata": {},
     "output_type": "execute_result"
    }
   ],
   "source": [
    "dsd[\"train\"]"
   ]
  },
  {
   "cell_type": "code",
   "execution_count": 16,
   "id": "71ee5550",
   "metadata": {},
   "outputs": [
    {
     "data": {
      "text/plain": [
       "{'image': <PIL.PngImagePlugin.PngImageFile image mode=L size=28x28 at 0x4F58F9B640>,\n",
       " 'label': 9}"
      ]
     },
     "execution_count": 16,
     "metadata": {},
     "output_type": "execute_result"
    }
   ],
   "source": [
    "dsd[\"train\"][0]"
   ]
  },
  {
   "cell_type": "code",
   "execution_count": 18,
   "id": "2f00fab1",
   "metadata": {},
   "outputs": [
    {
     "data": {
      "text/plain": [
       "{'image': Image(decode=True, id=None),\n",
       " 'label': ClassLabel(names=['T - shirt / top', 'Trouser', 'Pullover', 'Dress', 'Coat', 'Sandal', 'Shirt', 'Sneaker', 'Bag', 'Ankle boot'], id=None)}"
      ]
     },
     "execution_count": 18,
     "metadata": {},
     "output_type": "execute_result"
    }
   ],
   "source": [
    "dsd[\"train\"].features"
   ]
  },
  {
   "cell_type": "code",
   "execution_count": 19,
   "id": "6f5d82fb",
   "metadata": {},
   "outputs": [
    {
     "data": {
      "text/plain": [
       "Image(decode=True, id=None)"
      ]
     },
     "execution_count": 19,
     "metadata": {},
     "output_type": "execute_result"
    }
   ],
   "source": [
    "dsd[\"train\"].features[\"image\"]"
   ]
  },
  {
   "cell_type": "code",
   "execution_count": 21,
   "id": "3d4250b4",
   "metadata": {},
   "outputs": [
    {
     "data": {
      "text/plain": [
       "[<PIL.PngImagePlugin.PngImageFile image mode=L size=28x28 at 0x4F5F5A8A30>,\n",
       " <PIL.PngImagePlugin.PngImageFile image mode=L size=28x28 at 0x4F5F5A8910>,\n",
       " <PIL.PngImagePlugin.PngImageFile image mode=L size=28x28 at 0x4F5F5A8160>,\n",
       " <PIL.PngImagePlugin.PngImageFile image mode=L size=28x28 at 0x4F5F5A8A90>,\n",
       " <PIL.PngImagePlugin.PngImageFile image mode=L size=28x28 at 0x4F5F5A8A60>]"
      ]
     },
     "execution_count": 21,
     "metadata": {},
     "output_type": "execute_result"
    }
   ],
   "source": [
    "dsd[\"train\"][\"image\"][:5]"
   ]
  },
  {
   "cell_type": "code",
   "execution_count": 22,
   "id": "99a2658e",
   "metadata": {},
   "outputs": [
    {
     "data": {
      "text/plain": [
       "{'image': <PIL.PngImagePlugin.PngImageFile image mode=L size=28x28 at 0x4F69C42DC0>,\n",
       " 'label': 9}"
      ]
     },
     "execution_count": 22,
     "metadata": {},
     "output_type": "execute_result"
    }
   ],
   "source": [
    "train,test = dsd[\"train\"],dsd[\"test\"]\n",
    "train[0]"
   ]
  },
  {
   "cell_type": "code",
   "execution_count": 23,
   "id": "c767379d",
   "metadata": {},
   "outputs": [
    {
     "data": {
      "text/plain": [
       "{'image': Image(decode=True, id=None),\n",
       " 'label': ClassLabel(names=['T - shirt / top', 'Trouser', 'Pullover', 'Dress', 'Coat', 'Sandal', 'Shirt', 'Sneaker', 'Bag', 'Ankle boot'], id=None)}"
      ]
     },
     "execution_count": 23,
     "metadata": {},
     "output_type": "execute_result"
    }
   ],
   "source": [
    "ds_builder.info.features"
   ]
  },
  {
   "cell_type": "code",
   "execution_count": 24,
   "id": "9b39e557",
   "metadata": {},
   "outputs": [
    {
     "data": {
      "text/plain": [
       "('image', 'label')"
      ]
     },
     "execution_count": 24,
     "metadata": {},
     "output_type": "execute_result"
    }
   ],
   "source": [
    "x,y = ds_builder.info.features\n",
    "x,y"
   ]
  },
  {
   "cell_type": "code",
   "execution_count": 25,
   "id": "80241290",
   "metadata": {},
   "outputs": [
    {
     "data": {
      "text/plain": [
       "{'image': <PIL.PngImagePlugin.PngImageFile image mode=L size=28x28 at 0x4F66992CD0>,\n",
       " 'label': 9}"
      ]
     },
     "execution_count": 25,
     "metadata": {},
     "output_type": "execute_result"
    }
   ],
   "source": [
    "train[0]"
   ]
  },
  {
   "cell_type": "code",
   "execution_count": 30,
   "id": "ac3fc4ed",
   "metadata": {},
   "outputs": [
    {
     "data": {
      "image/png": "[encoded data removed]",
      "text/plain": [
       "<PIL.PngImagePlugin.PngImageFile image mode=L size=28x28 at 0x4F5F5AD520>"
      ]
     },
     "execution_count": 30,
     "metadata": {},
     "output_type": "execute_result"
    }
   ],
   "source": [
    "train[0][x]"
   ]
  },
  {
   "cell_type": "code",
   "execution_count": 31,
   "id": "04cb0218",
   "metadata": {},
   "outputs": [
    {
     "data": {
      "text/plain": [
       "{'image': [<PIL.PngImagePlugin.PngImageFile image mode=L size=28x28 at 0x4F5F5ADE80>,\n",
       "  <PIL.PngImagePlugin.PngImageFile image mode=L size=28x28 at 0x4F5F5ADD90>,\n",
       "  <PIL.PngImagePlugin.PngImageFile image mode=L size=28x28 at 0x4F5F5ADD00>,\n",
       "  <PIL.PngImagePlugin.PngImageFile image mode=L size=28x28 at 0x4F5F5ADC70>,\n",
       "  <PIL.PngImagePlugin.PngImageFile image mode=L size=28x28 at 0x4F5F5ADDF0>],\n",
       " 'label': [9, 0, 0, 3, 0]}"
      ]
     },
     "execution_count": 31,
     "metadata": {},
     "output_type": "execute_result"
    }
   ],
   "source": [
    "train[:5]"
   ]
  },
  {
   "cell_type": "code",
   "execution_count": 32,
   "id": "21738ae2",
   "metadata": {},
   "outputs": [
    {
     "data": {
      "text/plain": [
       "[<PIL.PngImagePlugin.PngImageFile image mode=L size=28x28 at 0x4F5F5ADF40>,\n",
       " <PIL.PngImagePlugin.PngImageFile image mode=L size=28x28 at 0x4F5F5AD8E0>,\n",
       " <PIL.PngImagePlugin.PngImageFile image mode=L size=28x28 at 0x4F5F5AD7C0>,\n",
       " <PIL.PngImagePlugin.PngImageFile image mode=L size=28x28 at 0x4F5F5AD1F0>,\n",
       " <PIL.PngImagePlugin.PngImageFile image mode=L size=28x28 at 0x4F5F5AD8B0>]"
      ]
     },
     "execution_count": 32,
     "metadata": {},
     "output_type": "execute_result"
    }
   ],
   "source": [
    "train[:5][x]"
   ]
  },
  {
   "cell_type": "code",
   "execution_count": 33,
   "id": "c5c26724",
   "metadata": {},
   "outputs": [
    {
     "data": {
      "text/plain": [
       "[9, 0, 0, 3, 0]"
      ]
     },
     "execution_count": 33,
     "metadata": {},
     "output_type": "execute_result"
    }
   ],
   "source": [
    "xb = train[:5][x]\n",
    "yb = train[:5][y]\n",
    "yb"
   ]
  },
  {
   "cell_type": "code",
   "execution_count": 35,
   "id": "8c82e7c4",
   "metadata": {},
   "outputs": [
    {
     "data": {
      "text/plain": [
       "{'image': Image(decode=True, id=None),\n",
       " 'label': ClassLabel(names=['T - shirt / top', 'Trouser', 'Pullover', 'Dress', 'Coat', 'Sandal', 'Shirt', 'Sneaker', 'Bag', 'Ankle boot'], id=None)}"
      ]
     },
     "execution_count": 35,
     "metadata": {},
     "output_type": "execute_result"
    }
   ],
   "source": [
    "train.features"
   ]
  },
  {
   "cell_type": "code",
   "execution_count": 37,
   "id": "fbd8127c",
   "metadata": {},
   "outputs": [
    {
     "data": {
      "text/plain": [
       "ClassLabel(names=['T - shirt / top', 'Trouser', 'Pullover', 'Dress', 'Coat', 'Sandal', 'Shirt', 'Sneaker', 'Bag', 'Ankle boot'], id=None)"
      ]
     },
     "execution_count": 37,
     "metadata": {},
     "output_type": "execute_result"
    }
   ],
   "source": [
    "featy = train.features[y]\n",
    "featy"
   ]
  },
  {
   "cell_type": "code",
   "execution_count": 38,
   "id": "fefba6ed",
   "metadata": {},
   "outputs": [
    {
     "data": {
      "text/plain": [
       "[9, 0, 0, 3, 0]"
      ]
     },
     "execution_count": 38,
     "metadata": {},
     "output_type": "execute_result"
    }
   ],
   "source": [
    "yb"
   ]
  },
  {
   "cell_type": "code",
   "execution_count": 44,
   "id": "f85ef1bb",
   "metadata": {},
   "outputs": [
    {
     "data": {
      "text/plain": [
       "['T - shirt / top',\n",
       " 'Trouser',\n",
       " 'Pullover',\n",
       " 'Dress',\n",
       " 'Coat',\n",
       " 'Sandal',\n",
       " 'Shirt',\n",
       " 'Sneaker',\n",
       " 'Bag',\n",
       " 'Ankle boot']"
      ]
     },
     "execution_count": 44,
     "metadata": {},
     "output_type": "execute_result"
    }
   ],
   "source": [
    "featy.names"
   ]
  },
  {
   "cell_type": "code",
   "execution_count": 39,
   "id": "a261bcb3",
   "metadata": {},
   "outputs": [
    {
     "data": {
      "text/plain": [
       "['Ankle boot',\n",
       " 'T - shirt / top',\n",
       " 'T - shirt / top',\n",
       " 'Dress',\n",
       " 'T - shirt / top']"
      ]
     },
     "execution_count": 39,
     "metadata": {},
     "output_type": "execute_result"
    }
   ],
   "source": [
    "featy.int2str(yb)"
   ]
  },
  {
   "cell_type": "code",
   "execution_count": 51,
   "id": "ad753e36",
   "metadata": {},
   "outputs": [
    {
     "data": {
      "text/plain": [
       "<module 'torchvision.transforms.functional' from 'C:\\\\ProgramData\\\\Anaconda3\\\\lib\\\\site-packages\\\\torchvision\\\\transforms\\\\functional.py'>"
      ]
     },
     "execution_count": 51,
     "metadata": {},
     "output_type": "execute_result"
    }
   ],
   "source": [
    "TF"
   ]
  },
  {
   "cell_type": "code",
   "execution_count": 53,
   "id": "262030b5",
   "metadata": {},
   "outputs": [],
   "source": [
    "def collate_fn(b):\n",
    "    return {x:torch.stack([TF.to_tensor(o[x]) for o in b]),\n",
    "            y:tensor([o[y] for o in b])}"
   ]
  },
  {
   "cell_type": "code",
   "execution_count": 54,
   "id": "e0a08ebe",
   "metadata": {},
   "outputs": [
    {
     "data": {
      "text/plain": [
       "Dataset({\n",
       "    features: ['image', 'label'],\n",
       "    num_rows: 60000\n",
       "})"
      ]
     },
     "execution_count": 54,
     "metadata": {},
     "output_type": "execute_result"
    }
   ],
   "source": [
    "train"
   ]
  },
  {
   "cell_type": "code",
   "execution_count": 58,
   "id": "bef056d3",
   "metadata": {},
   "outputs": [
    {
     "data": {
      "text/plain": [
       "(torch.Size([16, 1, 28, 28]),\n",
       " tensor([9, 0, 0, 3, 0, 2, 7, 2, 5, 5, 0, 9, 5, 5, 7, 9]))"
      ]
     },
     "execution_count": 58,
     "metadata": {},
     "output_type": "execute_result"
    }
   ],
   "source": [
    "dl = DataLoader(train, collate_fn=collate_fn, batch_size=16)\n",
    "b = next(iter(dl))\n",
    "b[x].shape,b[y]"
   ]
  },
  {
   "cell_type": "markdown",
   "id": "83bd11a5",
   "metadata": {},
   "source": [
    "**OR**"
   ]
  },
  {
   "cell_type": "code",
   "execution_count": 63,
   "id": "ced46dfd",
   "metadata": {},
   "outputs": [
    {
     "data": {
      "image/png": "[encoded data removed]",
      "text/plain": [
       "<PIL.PngImagePlugin.PngImageFile image mode=L size=28x28 at 0x4F71388AC0>"
      ]
     },
     "execution_count": 63,
     "metadata": {},
     "output_type": "execute_result"
    }
   ],
   "source": [
    "train[0][x]"
   ]
  },
  {
   "cell_type": "code",
   "execution_count": 65,
   "id": "e57cc155",
   "metadata": {},
   "outputs": [
    {
     "data": {
      "text/plain": [
       "torch.Size([1, 28, 28])"
      ]
     },
     "execution_count": 65,
     "metadata": {},
     "output_type": "execute_result"
    }
   ],
   "source": [
    "x_to_tensor = TF.to_tensor(train[0][x])\n",
    "x_to_tensor.shape"
   ]
  },
  {
   "cell_type": "code",
   "execution_count": 75,
   "id": "8002b142",
   "metadata": {},
   "outputs": [],
   "source": [
    "def transforms(b):\n",
    "    b[x] = [TF.to_tensor(o) for o in b[x]]\n",
    "    return b"
   ]
  },
  {
   "cell_type": "code",
   "execution_count": 76,
   "id": "4db6c461",
   "metadata": {},
   "outputs": [
    {
     "data": {
      "text/plain": [
       "(torch.Size([16, 1, 28, 28]),\n",
       " tensor([9, 0, 0, 3, 0, 2, 7, 2, 5, 5, 0, 9, 5, 5, 7, 9]))"
      ]
     },
     "execution_count": 76,
     "metadata": {},
     "output_type": "execute_result"
    }
   ],
   "source": [
    "tds = train.with_transform(transforms)\n",
    "dl = DataLoader(tds, batch_size=16)\n",
    "b = next(iter(dl))\n",
    "b[x].shape,b[y]"
   ]
  },
  {
   "cell_type": "code",
   "execution_count": 77,
   "id": "e602121e",
   "metadata": {},
   "outputs": [
    {
     "data": {
      "text/plain": [
       "torch.Size([784])"
      ]
     },
     "execution_count": 77,
     "metadata": {},
     "output_type": "execute_result"
    }
   ],
   "source": [
    "x_to_tensor_flat = torch.flatten(TF.to_tensor(train[0][x]))\n",
    "x_to_tensor_flat.shape"
   ]
  },
  {
   "cell_type": "code",
   "execution_count": 78,
   "id": "751fb253",
   "metadata": {},
   "outputs": [],
   "source": [
    "def _transformi(b): b[x] = [torch.flatten(TF.to_tensor(o)) for o in b[x]]"
   ]
  },
  {
   "cell_type": "code",
   "execution_count": 81,
   "id": "944f6411",
   "metadata": {},
   "outputs": [],
   "source": [
    "def inplace(f):\n",
    "    def _f(b):\n",
    "        f(b)\n",
    "        return b\n",
    "    return _f"
   ]
  },
  {
   "cell_type": "code",
   "execution_count": 82,
   "id": "dfe58de0",
   "metadata": {},
   "outputs": [
    {
     "data": {
      "text/plain": [
       "<function __main__.inplace(f)>"
      ]
     },
     "execution_count": 82,
     "metadata": {},
     "output_type": "execute_result"
    }
   ],
   "source": [
    "inplace"
   ]
  },
  {
   "cell_type": "code",
   "execution_count": 86,
   "id": "d5200ab5",
   "metadata": {},
   "outputs": [
    {
     "data": {
      "text/plain": [
       "<function __main__._transformi(b)>"
      ]
     },
     "execution_count": 86,
     "metadata": {},
     "output_type": "execute_result"
    }
   ],
   "source": [
    "_transformi"
   ]
  },
  {
   "cell_type": "code",
   "execution_count": 87,
   "id": "264d5492",
   "metadata": {},
   "outputs": [],
   "source": [
    "transformi = inplace(_transformi)"
   ]
  },
  {
   "cell_type": "code",
   "execution_count": 90,
   "id": "047e05cd",
   "metadata": {},
   "outputs": [
    {
     "data": {
      "text/plain": [
       "<function __main__.inplace.<locals>._f(b)>"
      ]
     },
     "execution_count": 90,
     "metadata": {},
     "output_type": "execute_result"
    }
   ],
   "source": [
    "transformi"
   ]
  },
  {
   "cell_type": "code",
   "execution_count": 88,
   "id": "c643aa7b",
   "metadata": {},
   "outputs": [
    {
     "data": {
      "text/plain": [
       "(torch.Size([784]), 9)"
      ]
     },
     "execution_count": 88,
     "metadata": {},
     "output_type": "execute_result"
    }
   ],
   "source": [
    "r = train.with_transform(transformi)[0]\n",
    "r[x].shape, r[y]"
   ]
  },
  {
   "cell_type": "code",
   "execution_count": 91,
   "id": "f2eefe3f",
   "metadata": {},
   "outputs": [],
   "source": [
    "@inplace\n",
    "def transformi(b): b[x] = [torch.flatten(TF.to_tensor(o)) for o in b[x]]"
   ]
  },
  {
   "cell_type": "code",
   "execution_count": 108,
   "id": "0d9d4bd6",
   "metadata": {},
   "outputs": [
    {
     "data": {
      "text/plain": [
       "(torch.Size([784]), 9)"
      ]
     },
     "execution_count": 108,
     "metadata": {},
     "output_type": "execute_result"
    }
   ],
   "source": [
    "tdsf = train.with_transform(transformi)\n",
    "r = tdsf[0]\n",
    "r[x].shape, r[y]"
   ]
  },
  {
   "cell_type": "code",
   "execution_count": 109,
   "id": "d8fe6ef2",
   "metadata": {},
   "outputs": [
    {
     "data": {
      "text/plain": [
       "{'a': 1, 'b': 2, 'c': 3}"
      ]
     },
     "execution_count": 109,
     "metadata": {},
     "output_type": "execute_result"
    }
   ],
   "source": [
    "d = dict(a=1,b=2,c=3)\n",
    "d"
   ]
  },
  {
   "cell_type": "code",
   "execution_count": 110,
   "id": "a883f3c5",
   "metadata": {},
   "outputs": [
    {
     "data": {
      "text/plain": [
       "operator.itemgetter"
      ]
     },
     "execution_count": 110,
     "metadata": {},
     "output_type": "execute_result"
    }
   ],
   "source": [
    "itemgetter"
   ]
  },
  {
   "cell_type": "code",
   "execution_count": 112,
   "id": "a4a2772f",
   "metadata": {},
   "outputs": [
    {
     "data": {
      "text/plain": [
       "operator.itemgetter('a', 'c')"
      ]
     },
     "execution_count": 112,
     "metadata": {},
     "output_type": "execute_result"
    }
   ],
   "source": [
    "ig = itemgetter(\"a\",\"c\")\n",
    "ig"
   ]
  },
  {
   "cell_type": "code",
   "execution_count": 113,
   "id": "793c18d6",
   "metadata": {},
   "outputs": [
    {
     "data": {
      "text/plain": [
       "(1, 3)"
      ]
     },
     "execution_count": 113,
     "metadata": {},
     "output_type": "execute_result"
    }
   ],
   "source": [
    "ig(d)"
   ]
  },
  {
   "cell_type": "code",
   "execution_count": 115,
   "id": "feb1527d",
   "metadata": {},
   "outputs": [],
   "source": [
    "class D:\n",
    "    def __getitem__(self,k): return 1 if k==\"a\" else 2 if k==\"b\" else 3"
   ]
  },
  {
   "cell_type": "code",
   "execution_count": 117,
   "id": "f0713310",
   "metadata": {},
   "outputs": [
    {
     "data": {
      "text/plain": [
       "operator.itemgetter('a', 'c')"
      ]
     },
     "execution_count": 117,
     "metadata": {},
     "output_type": "execute_result"
    }
   ],
   "source": [
    "ig"
   ]
  },
  {
   "cell_type": "code",
   "execution_count": 116,
   "id": "c2185dc6",
   "metadata": {},
   "outputs": [
    {
     "data": {
      "text/plain": [
       "(1, 3)"
      ]
     },
     "execution_count": 116,
     "metadata": {},
     "output_type": "execute_result"
    }
   ],
   "source": [
    "d = D()\n",
    "ig(d)"
   ]
  },
  {
   "cell_type": "code",
   "execution_count": 118,
   "id": "1924359e",
   "metadata": {},
   "outputs": [
    {
     "data": {
      "text/plain": [
       "Dataset({\n",
       "    features: ['image', 'label'],\n",
       "    num_rows: 60000\n",
       "})"
      ]
     },
     "execution_count": 118,
     "metadata": {},
     "output_type": "execute_result"
    }
   ],
   "source": [
    "tdsf"
   ]
  },
  {
   "cell_type": "code",
   "execution_count": 119,
   "id": "7aeee102",
   "metadata": {},
   "outputs": [
    {
     "data": {
      "text/plain": [
       "['image', 'label']"
      ]
     },
     "execution_count": 119,
     "metadata": {},
     "output_type": "execute_result"
    }
   ],
   "source": [
    "list(tdsf.features)"
   ]
  },
  {
   "cell_type": "code",
   "execution_count": 121,
   "id": "4067120b",
   "metadata": {},
   "outputs": [
    {
     "data": {
      "text/plain": [
       "<function torch.utils.data._utils.collate.default_collate(batch)>"
      ]
     },
     "execution_count": 121,
     "metadata": {},
     "output_type": "execute_result"
    }
   ],
   "source": [
    "default_collate"
   ]
  },
  {
   "cell_type": "code",
   "execution_count": 123,
   "id": "2ba8bde3",
   "metadata": {},
   "outputs": [
    {
     "data": {
      "text/plain": [
       "({'a': [1], 'b': [2]}, {'a': [3], 'b': [4]})"
      ]
     },
     "execution_count": 123,
     "metadata": {},
     "output_type": "execute_result"
    }
   ],
   "source": [
    "batch = dict(a=[1], b=[2]), dict(a=[3],b=[4])\n",
    "batch"
   ]
  },
  {
   "cell_type": "code",
   "execution_count": 124,
   "id": "fb6ac089",
   "metadata": {},
   "outputs": [
    {
     "data": {
      "text/plain": [
       "{'a': [1], 'b': [2]}"
      ]
     },
     "execution_count": 124,
     "metadata": {},
     "output_type": "execute_result"
    }
   ],
   "source": [
    "batch[0]"
   ]
  },
  {
   "cell_type": "code",
   "execution_count": 125,
   "id": "ef447695",
   "metadata": {},
   "outputs": [
    {
     "data": {
      "text/plain": [
       "{'a': [3], 'b': [4]}"
      ]
     },
     "execution_count": 125,
     "metadata": {},
     "output_type": "execute_result"
    }
   ],
   "source": [
    "batch[1]"
   ]
  },
  {
   "cell_type": "code",
   "execution_count": 126,
   "id": "b0fa0d0c",
   "metadata": {},
   "outputs": [
    {
     "data": {
      "text/plain": [
       "{'a': [tensor([1, 3])], 'b': [tensor([2, 4])]}"
      ]
     },
     "execution_count": 126,
     "metadata": {},
     "output_type": "execute_result"
    }
   ],
   "source": [
    "default_collate(batch)"
   ]
  },
  {
   "cell_type": "code",
   "execution_count": 129,
   "id": "d0380cdb",
   "metadata": {},
   "outputs": [
    {
     "data": {
      "text/plain": [
       "Dataset({\n",
       "    features: ['image', 'label'],\n",
       "    num_rows: 60000\n",
       "})"
      ]
     },
     "execution_count": 129,
     "metadata": {},
     "output_type": "execute_result"
    }
   ],
   "source": [
    "tdsf"
   ]
  },
  {
   "cell_type": "code",
   "execution_count": 127,
   "id": "101273e1",
   "metadata": {},
   "outputs": [
    {
     "data": {
      "text/plain": [
       "['image', 'label']"
      ]
     },
     "execution_count": 127,
     "metadata": {},
     "output_type": "execute_result"
    }
   ],
   "source": [
    "list(tdsf.features)"
   ]
  },
  {
   "cell_type": "code",
   "execution_count": 128,
   "id": "f6971360",
   "metadata": {},
   "outputs": [
    {
     "data": {
      "text/plain": [
       "operator.itemgetter({'image': Image(decode=True, id=None), 'label': ClassLabel(names=['T - shirt / top', 'Trouser', 'Pullover', 'Dress', 'Coat', 'Sandal', 'Shirt', 'Sneaker', 'Bag', 'Ankle boot'], id=None)})"
      ]
     },
     "execution_count": 128,
     "metadata": {},
     "output_type": "execute_result"
    }
   ],
   "source": [
    "itemgetter(tdsf.features)"
   ]
  },
  {
   "cell_type": "code",
   "execution_count": 132,
   "id": "b1eb0312",
   "metadata": {},
   "outputs": [
    {
     "data": {
      "text/plain": [
       "operator.itemgetter('image', 'label')"
      ]
     },
     "execution_count": 132,
     "metadata": {},
     "output_type": "execute_result"
    }
   ],
   "source": [
    "get = itemgetter(*tdsf.features)\n",
    "get"
   ]
  },
  {
   "cell_type": "code",
   "execution_count": 142,
   "id": "b2eba1fd",
   "metadata": {},
   "outputs": [],
   "source": [
    "def _res(b): return get(default_collate(b))"
   ]
  },
  {
   "cell_type": "code",
   "execution_count": 146,
   "id": "798d816a",
   "metadata": {},
   "outputs": [],
   "source": [
    "final_rs = _res(tdsf)"
   ]
  },
  {
   "cell_type": "code",
   "execution_count": 154,
   "id": "e051f57e",
   "metadata": {},
   "outputs": [
    {
     "data": {
      "text/plain": [
       "(torch.Size([60000, 784]), torch.Size([60000]))"
      ]
     },
     "execution_count": 154,
     "metadata": {},
     "output_type": "execute_result"
    }
   ],
   "source": [
    "final_rs[0].shape, final_rs[1].shape"
   ]
  },
  {
   "cell_type": "code",
   "execution_count": 134,
   "id": "33afd9ab",
   "metadata": {},
   "outputs": [],
   "source": [
    "def collate_dict(ds):\n",
    "    get = itemgetter(*ds.features)\n",
    "    def _f(b): return get(default_collate(b))\n",
    "    return _f"
   ]
  },
  {
   "cell_type": "code",
   "execution_count": 138,
   "id": "04e52b9a",
   "metadata": {},
   "outputs": [
    {
     "data": {
      "text/plain": [
       "datasets.arrow_dataset.Dataset"
      ]
     },
     "execution_count": 138,
     "metadata": {},
     "output_type": "execute_result"
    }
   ],
   "source": [
    "type(tdsf)"
   ]
  },
  {
   "cell_type": "code",
   "execution_count": 155,
   "id": "e1f597e5",
   "metadata": {},
   "outputs": [
    {
     "data": {
      "text/plain": [
       "(torch.Size([4, 784]), tensor([9, 0, 0, 3]))"
      ]
     },
     "execution_count": 155,
     "metadata": {},
     "output_type": "execute_result"
    }
   ],
   "source": [
    "dlf = DataLoader(tdsf, batch_size=4, collate_fn=collate_dict(tdsf))\n",
    "xb,yb = next(iter(dlf))\n",
    "xb.shape, yb"
   ]
  },
  {
   "cell_type": "markdown",
   "id": "6c152ecd",
   "metadata": {},
   "source": [
    "## Plotting images"
   ]
  },
  {
   "cell_type": "code",
   "execution_count": 242,
   "id": "15867693",
   "metadata": {},
   "outputs": [
    {
     "data": {
      "text/plain": [
       "<torch.utils.data.dataloader.DataLoader at 0x4f5e1d9340>"
      ]
     },
     "execution_count": 242,
     "metadata": {},
     "output_type": "execute_result"
    }
   ],
   "source": [
    "dl"
   ]
  },
  {
   "cell_type": "code",
   "execution_count": 171,
   "id": "e12d00fd",
   "metadata": {},
   "outputs": [
    {
     "data": {
      "text/plain": [
       "(torch.Size([28, 28]), torch.Size([28, 28]))"
      ]
     },
     "execution_count": 171,
     "metadata": {},
     "output_type": "execute_result"
    },
    {
     "data": {
      "image/png": "[encoded data removed]",
      "text/plain": [
       "<Figure size 432x288 with 1 Axes>"
      ]
     },
     "metadata": {
      "needs_background": "light"
     },
     "output_type": "display_data"
    }
   ],
   "source": [
    "b = next(iter(dl))\n",
    "xb = b[\"image\"]\n",
    "img = xb[0]\n",
    "plt.imshow(img[0])\n",
    "\n",
    "img[0].shape, img.squeeze().shape"
   ]
  },
  {
   "cell_type": "code",
   "execution_count": 173,
   "id": "f6559698",
   "metadata": {},
   "outputs": [
    {
     "data": {
      "text/plain": [
       "<function fastcore.meta.delegates(to: function = None, keep=False, but: list = None)>"
      ]
     },
     "execution_count": 173,
     "metadata": {},
     "output_type": "execute_result"
    }
   ],
   "source": [
    "fc.delegates"
   ]
  },
  {
   "cell_type": "markdown",
   "id": "298b3f21",
   "metadata": {},
   "source": [
    "fc.delegates --> \"Decorator: replace `**kwargs` in signature with params from `to`\""
   ]
  },
  {
   "cell_type": "code",
   "execution_count": 176,
   "id": "828a6a98",
   "metadata": {},
   "outputs": [
    {
     "data": {
      "text/plain": [
       "<function matplotlib.axes._axes.Axes.imshow(self, X, cmap=None, norm=None, aspect=None, interpolation=None, alpha=None, vmin=None, vmax=None, origin=None, extent=None, *, filternorm=True, filterrad=4.0, resample=None, url=None, data=None, **kwargs)>"
      ]
     },
     "execution_count": 176,
     "metadata": {},
     "output_type": "execute_result"
    }
   ],
   "source": [
    "plt.Axes.imshow"
   ]
  },
  {
   "cell_type": "code",
   "execution_count": 186,
   "id": "5b791cff",
   "metadata": {},
   "outputs": [
    {
     "data": {
      "text/plain": [
       "(torch.Size([4, 1, 28, 28]), 4, 4)"
      ]
     },
     "execution_count": 186,
     "metadata": {},
     "output_type": "execute_result"
    }
   ],
   "source": [
    "xb.shape, len(xb.shape), xb.ndim"
   ]
  },
  {
   "cell_type": "code",
   "execution_count": 191,
   "id": "bbefb771",
   "metadata": {},
   "outputs": [],
   "source": [
    "plt.subplots??"
   ]
  },
  {
   "cell_type": "code",
   "execution_count": 192,
   "id": "1d9e14a9",
   "metadata": {},
   "outputs": [],
   "source": [
    "@fc.delegates(plt.Axes.imshow)\n",
    "def show_image(im, ax=None, figsize=None, title=None, noframe=True, **kwargs):\n",
    "    \"Show a PIL or PyTorch image on `ax`.\"\n",
    "    if fc.hasattrs(im, ('cpu','permute','detach')):\n",
    "        im = im.detach().cpu()\n",
    "        if len(im.shape)==3 and im.shape[0]<5: im=im.permute(1,2,0)\n",
    "    elif not isinstance(im,np.ndarray): im=np.array(im)\n",
    "    if im.shape[-1]==1: im=im[...,0]\n",
    "    if ax is None: _,ax = plt.subplots(figsize=figsize)\n",
    "    ax.imshow(im, **kwargs)\n",
    "    if title is not None: ax.set_title(title)\n",
    "    ax.set_xticks([]) \n",
    "    ax.set_yticks([]) \n",
    "    if noframe: ax.axis('off')\n",
    "    return ax"
   ]
  },
  {
   "cell_type": "code",
   "execution_count": 193,
   "id": "20cee427",
   "metadata": {},
   "outputs": [
    {
     "name": "stdout",
     "output_type": "stream",
     "text": [
      "Help on function show_image in module __main__:\n",
      "\n",
      "show_image(im, ax=None, figsize=None, title=None, noframe=True, *, cmap=None, norm=None, aspect=None, interpolation=None, alpha=None, vmin=None, vmax=None, origin=None, extent=None, filternorm=True, filterrad=4.0, resample=None, url=None, data=None)\n",
      "    Show a PIL or PyTorch image on `ax`.\n",
      "\n"
     ]
    }
   ],
   "source": [
    "help(show_image)"
   ]
  },
  {
   "cell_type": "code",
   "execution_count": 194,
   "id": "121b7dc4",
   "metadata": {},
   "outputs": [
    {
     "data": {
      "text/plain": [
       "torch.Size([1, 28, 28])"
      ]
     },
     "execution_count": 194,
     "metadata": {},
     "output_type": "execute_result"
    }
   ],
   "source": [
    "img.shape"
   ]
  },
  {
   "cell_type": "code",
   "execution_count": 197,
   "id": "798c97b5",
   "metadata": {},
   "outputs": [
    {
     "data": {
      "image/png": "[encoded data removed]",
      "text/plain": [
       "<Figure size 144x144 with 1 Axes>"
      ]
     },
     "metadata": {},
     "output_type": "display_data"
    }
   ],
   "source": [
    "show_image(img, figsize=(2,2));"
   ]
  },
  {
   "cell_type": "code",
   "execution_count": 198,
   "id": "8a4344ca",
   "metadata": {},
   "outputs": [
    {
     "data": {
      "image/png": "[encoded data removed]",
      "text/plain": [
       "<Figure size 432x288 with 2 Axes>"
      ]
     },
     "metadata": {
      "needs_background": "light"
     },
     "output_type": "display_data"
    }
   ],
   "source": [
    "fig,axs = plt.subplots(1,2)"
   ]
  },
  {
   "cell_type": "code",
   "execution_count": 201,
   "id": "2689f6f8",
   "metadata": {},
   "outputs": [
    {
     "data": {
      "text/plain": [
       "array([<AxesSubplot:>, <AxesSubplot:>], dtype=object)"
      ]
     },
     "execution_count": 201,
     "metadata": {},
     "output_type": "execute_result"
    }
   ],
   "source": [
    "axs"
   ]
  },
  {
   "cell_type": "code",
   "execution_count": 202,
   "id": "6e1ca9da",
   "metadata": {},
   "outputs": [
    {
     "data": {
      "text/plain": [
       "<AxesSubplot:>"
      ]
     },
     "execution_count": 202,
     "metadata": {},
     "output_type": "execute_result"
    },
    {
     "data": {
      "image/png": "[encoded data removed]",
      "text/plain": [
       "<Figure size 432x288 with 2 Axes>"
      ]
     },
     "metadata": {
      "needs_background": "light"
     },
     "output_type": "display_data"
    }
   ],
   "source": [
    "fig,axs = plt.subplots(1,2)\n",
    "show_image(img, axs[0])"
   ]
  },
  {
   "cell_type": "code",
   "execution_count": 207,
   "id": "fd1fe24a",
   "metadata": {},
   "outputs": [
    {
     "data": {
      "text/plain": [
       "torch.Size([1, 28, 28])"
      ]
     },
     "execution_count": 207,
     "metadata": {},
     "output_type": "execute_result"
    }
   ],
   "source": [
    "img2 = xb[1]\n",
    "img2.shape"
   ]
  },
  {
   "cell_type": "code",
   "execution_count": 210,
   "id": "e9837da5",
   "metadata": {},
   "outputs": [
    {
     "data": {
      "image/png": "[encoded data removed]",
      "text/plain": [
       "<Figure size 432x288 with 2 Axes>"
      ]
     },
     "metadata": {},
     "output_type": "display_data"
    }
   ],
   "source": [
    "fig,axs = plt.subplots(1,2)\n",
    "a =show_image(img, axs[0])\n",
    "b =show_image(img2, axs[1]);"
   ]
  },
  {
   "cell_type": "code",
   "execution_count": 212,
   "id": "18da8cc8",
   "metadata": {},
   "outputs": [
    {
     "data": {
      "image/png": "[encoded data removed]",
      "text/plain": [
       "<Figure size 432x288 with 2 Axes>"
      ]
     },
     "execution_count": 212,
     "metadata": {},
     "output_type": "execute_result"
    }
   ],
   "source": [
    "a.figure"
   ]
  },
  {
   "cell_type": "code",
   "execution_count": 213,
   "id": "6824fd32",
   "metadata": {},
   "outputs": [
    {
     "data": {
      "image/png": "[encoded data removed]",
      "text/plain": [
       "<Figure size 432x288 with 2 Axes>"
      ]
     },
     "metadata": {},
     "output_type": "display_data"
    }
   ],
   "source": [
    "fig,axs = plt.subplots(1,2)\n",
    "show_image(img, axs[0])\n",
    "show_image(img2, axs[1]);"
   ]
  },
  {
   "cell_type": "code",
   "execution_count": 216,
   "id": "efa50d76",
   "metadata": {},
   "outputs": [],
   "source": [
    "@fc.delegates(plt.subplots, keep=True)\n",
    "def subplots(\n",
    "    nrows:int=1, # Number of rows in returned axes grid\n",
    "    ncols:int=1, # Number of columns in returned axes grid\n",
    "    figsize:tuple=None, # Width, height in inches of the returned figure\n",
    "    imsize:int=3, # Size (in inches) of images that will be displayed in the returned figure\n",
    "    suptitle:str=None, # Title to be set to returned figure\n",
    "    **kwargs\n",
    "): # fig and axs\n",
    "    \"A figure and set of subplots to display images of `imsize` inches\"\n",
    "    if figsize is None: figsize=(ncols*imsize, nrows*imsize)\n",
    "    fig,ax = plt.subplots(nrows, ncols, figsize=figsize, **kwargs)\n",
    "    if suptitle is not None: fig.suptitle(suptitle)\n",
    "    if nrows*ncols==1: ax = np.array([ax])\n",
    "    return fig,ax"
   ]
  },
  {
   "cell_type": "code",
   "execution_count": 217,
   "id": "1164caee",
   "metadata": {},
   "outputs": [
    {
     "name": "stdout",
     "output_type": "stream",
     "text": [
      "Help on function subplots in module __main__:\n",
      "\n",
      "subplots(nrows: 'int' = 1, ncols: 'int' = 1, figsize: 'tuple' = None, imsize: 'int' = 3, suptitle: 'str' = None, *, sharex=False, sharey=False, squeeze=True, subplot_kw=None, gridspec_kw=None, **kwargs)\n",
      "    A figure and set of subplots to display images of `imsize` inches\n",
      "\n"
     ]
    }
   ],
   "source": [
    "help(subplots)"
   ]
  },
  {
   "cell_type": "code",
   "execution_count": 218,
   "id": "5d839c4c",
   "metadata": {},
   "outputs": [],
   "source": [
    "from nbdev.showdoc import show_doc"
   ]
  },
  {
   "cell_type": "code",
   "execution_count": 219,
   "id": "393145c5",
   "metadata": {},
   "outputs": [
    {
     "data": {
      "text/markdown": [
       "---\n",
       "\n",
       "### subplots\n",
       "\n",
       ">      subplots (nrows:int=1, ncols:int=1, figsize:tuple=None, imsize:int=3,\n",
       ">                suptitle:str=None, sharex=False, sharey=False, squeeze=True,\n",
       ">                subplot_kw=None, gridspec_kw=None, **kwargs)\n",
       "\n",
       "A figure and set of subplots to display images of `imsize` inches\n",
       "\n",
       "|    | **Type** | **Default** | **Details** |\n",
       "| -- | -------- | ----------- | ----------- |\n",
       "| nrows | int | 1 | Number of rows in returned axes grid |\n",
       "| ncols | int | 1 | Number of columns in returned axes grid |\n",
       "| figsize | tuple | None | Width, height in inches of the returned figure |\n",
       "| imsize | int | 3 | Size (in inches) of images that will be displayed in the returned figure |\n",
       "| suptitle | str | None | Title to be set to returned figure |\n",
       "| sharex | bool | False |  |\n",
       "| sharey | bool | False |  |\n",
       "| squeeze | bool | True |  |\n",
       "| subplot_kw | NoneType | None |  |\n",
       "| gridspec_kw | NoneType | None |  |\n",
       "| kwargs |  |  |  |"
      ],
      "text/plain": [
       "---\n",
       "\n",
       "### subplots\n",
       "\n",
       ">      subplots (nrows:int=1, ncols:int=1, figsize:tuple=None, imsize:int=3,\n",
       ">                suptitle:str=None, sharex=False, sharey=False, squeeze=True,\n",
       ">                subplot_kw=None, gridspec_kw=None, **kwargs)\n",
       "\n",
       "A figure and set of subplots to display images of `imsize` inches\n",
       "\n",
       "|    | **Type** | **Default** | **Details** |\n",
       "| -- | -------- | ----------- | ----------- |\n",
       "| nrows | int | 1 | Number of rows in returned axes grid |\n",
       "| ncols | int | 1 | Number of columns in returned axes grid |\n",
       "| figsize | tuple | None | Width, height in inches of the returned figure |\n",
       "| imsize | int | 3 | Size (in inches) of images that will be displayed in the returned figure |\n",
       "| suptitle | str | None | Title to be set to returned figure |\n",
       "| sharex | bool | False |  |\n",
       "| sharey | bool | False |  |\n",
       "| squeeze | bool | True |  |\n",
       "| subplot_kw | NoneType | None |  |\n",
       "| gridspec_kw | NoneType | None |  |\n",
       "| kwargs |  |  |  |"
      ]
     },
     "execution_count": 219,
     "metadata": {},
     "output_type": "execute_result"
    }
   ],
   "source": [
    "show_doc(subplots)"
   ]
  },
  {
   "cell_type": "code",
   "execution_count": 246,
   "id": "f0b4e6c7",
   "metadata": {},
   "outputs": [
    {
     "data": {
      "text/plain": [
       "torch.Size([4, 1, 28, 28])"
      ]
     },
     "execution_count": 246,
     "metadata": {},
     "output_type": "execute_result"
    }
   ],
   "source": [
    "b = next(iter(dl))\n",
    "xb = b['image']\n",
    "xb.shape"
   ]
  },
  {
   "cell_type": "code",
   "execution_count": 251,
   "id": "e5c186f9",
   "metadata": {},
   "outputs": [
    {
     "data": {
      "text/plain": [
       "torch.Size([16, 1, 28, 28])"
      ]
     },
     "execution_count": 251,
     "metadata": {},
     "output_type": "execute_result"
    }
   ],
   "source": [
    "tds = train.with_transform(transforms)\n",
    "dl = DataLoader(tds, batch_size=16)\n",
    "b = next(iter(dl))\n",
    "xb = b['image']\n",
    "xb.shape"
   ]
  },
  {
   "cell_type": "code",
   "execution_count": 252,
   "id": "8180679f",
   "metadata": {},
   "outputs": [
    {
     "data": {
      "image/png": "[encoded data removed]",
      "text/plain": [
       "<Figure size 216x216 with 9 Axes>"
      ]
     },
     "metadata": {
      "needs_background": "light"
     },
     "output_type": "display_data"
    }
   ],
   "source": [
    "fig,axs = subplots(3,3, imsize=1)\n",
    "imgs = xb[:8]\n",
    "for ax,img in zip(axs.flat, imgs): show_image(img, ax)"
   ]
  },
  {
   "cell_type": "code",
   "execution_count": 253,
   "id": "582415e5",
   "metadata": {},
   "outputs": [],
   "source": [
    "@fc.delegates(subplots)\n",
    "def get_grid(\n",
    "    n:int, # Number of axes\n",
    "    nrows:int=None, # Number of rows, defaulting to `int(math.sqrt(n))`\n",
    "    ncols:int=None, # Number of columns, defaulting to `ceil(n/rows)`\n",
    "    title:str=None, # If passed, title set to the figure\n",
    "    weight:str='bold', # Title font weight\n",
    "    size:int=14, # Title font size\n",
    "    **kwargs,\n",
    "): # fig and axs\n",
    "    \"Return a grid of `n` axes, `rows` by `cols`\"\n",
    "    if nrows: ncols = ncols or int(np.floor(n/nrows))\n",
    "    elif ncols: nrows = nrows or int(np.ceil(n/ncols))\n",
    "    else:\n",
    "        nrows = int(math.sqrt(n))\n",
    "        ncols = int(np.floor(n/nrows))\n",
    "    fig,axs = subplots(nrows, ncols, **kwargs)\n",
    "    for i in range(n, nrows*ncols): axs.flat[i].set_axis_off()\n",
    "    if title is not None: fig.suptitle(title, weight=weight, size=size)\n",
    "    return fig,axs"
   ]
  },
  {
   "cell_type": "code",
   "execution_count": 257,
   "id": "a78d1758",
   "metadata": {},
   "outputs": [
    {
     "data": {
      "image/png": "[encoded data removed]",
      "text/plain": [
       "<Figure size 288x432 with 6 Axes>"
      ]
     },
     "metadata": {},
     "output_type": "display_data"
    }
   ],
   "source": [
    "fig,axs = get_grid(8, nrows=3, imsize=2)\n",
    "for ax,img in zip(axs.flat,imgs): show_image(img, ax)"
   ]
  },
  {
   "cell_type": "code",
   "execution_count": 258,
   "id": "64d8ce6f",
   "metadata": {},
   "outputs": [],
   "source": [
    "@fc.delegates(subplots)\n",
    "def show_images(ims:list, # Images to show\n",
    "                nrows:int|None=None, # Number of rows in grid\n",
    "                ncols:int|None=None, # Number of columns in grid (auto-calculated if None)\n",
    "                titles:list|None=None, # Optional list of titles for each image\n",
    "                **kwargs):\n",
    "    \"Show all images `ims` as subplots with `rows` using `titles`\"\n",
    "    axs = get_grid(len(ims), nrows, ncols, **kwargs)[1].flat\n",
    "    for im,t,ax in zip_longest(ims, titles or [], axs): show_image(im, ax=ax, title=t)"
   ]
  },
  {
   "cell_type": "code",
   "execution_count": 260,
   "id": "b533c151",
   "metadata": {},
   "outputs": [
    {
     "data": {
      "text/plain": [
       "torch.Size([16])"
      ]
     },
     "execution_count": 260,
     "metadata": {},
     "output_type": "execute_result"
    }
   ],
   "source": [
    "b[\"label\"].shape"
   ]
  },
  {
   "cell_type": "code",
   "execution_count": 262,
   "id": "06fb0cfd",
   "metadata": {},
   "outputs": [
    {
     "data": {
      "text/plain": [
       "tensor([9, 0, 0, 3, 0, 2, 7, 2])"
      ]
     },
     "execution_count": 262,
     "metadata": {},
     "output_type": "execute_result"
    }
   ],
   "source": [
    "yb = b[\"label\"]\n",
    "lbls = yb[:8]\n",
    "lbls"
   ]
  },
  {
   "cell_type": "code",
   "execution_count": 267,
   "id": "63dbf197",
   "metadata": {},
   "outputs": [
    {
     "data": {
      "text/plain": [
       "'Boot Top Top Dress Top Pullover Sneaker Pullover'"
      ]
     },
     "execution_count": 267,
     "metadata": {},
     "output_type": "execute_result"
    }
   ],
   "source": [
    "names = \"Top Trouser Pullover Dress Coat Sandal Shirt Sneaker Bag Boot\".split()\n",
    "titles = itemgetter(*lbls)(names)\n",
    "\" \".join(titles)"
   ]
  },
  {
   "cell_type": "code",
   "execution_count": 268,
   "id": "b70cfd0f",
   "metadata": {},
   "outputs": [
    {
     "data": {
      "image/png": "[encoded data removed]",
      "text/plain": [
       "<Figure size 489.6x244.8 with 8 Axes>"
      ]
     },
     "metadata": {},
     "output_type": "display_data"
    }
   ],
   "source": [
    "show_images(imgs, imsize=1.7, titles=titles)"
   ]
  },
  {
   "cell_type": "code",
   "execution_count": 275,
   "id": "e8070cc7",
   "metadata": {},
   "outputs": [],
   "source": [
    "# classmethod??"
   ]
  },
  {
   "cell_type": "code",
   "execution_count": 276,
   "id": "6970572d",
   "metadata": {},
   "outputs": [],
   "source": [
    "class DataLoaders:\n",
    "    def __init__(self, *dls): self.train,self.valid = dls[:2]\n",
    "\n",
    "    @classmethod\n",
    "    def from_dd(cls, dd, batch_size, as_tuple=True, **kwargs):\n",
    "        f = collate_dict(dd['train'])\n",
    "        return cls(*get_dls(*dd.values(), bs=batch_size, collate_fn=f, **kwargs))"
   ]
  },
  {
   "cell_type": "code",
   "execution_count": 274,
   "id": "31aefe2d",
   "metadata": {},
   "outputs": [],
   "source": []
  },
  {
   "cell_type": "code",
   "execution_count": null,
   "id": "645f00b0",
   "metadata": {},
   "outputs": [],
   "source": []
  }
 ],
 "metadata": {
  "kernelspec": {
   "display_name": "Python 3",
   "language": "python",
   "name": "python3"
  },
  "language_info": {
   "codemirror_mode": {
    "name": "ipython",
    "version": 3
   },
   "file_extension": ".py",
   "mimetype": "text/x-python",
   "name": "python",
   "nbconvert_exporter": "python",
   "pygments_lexer": "ipython3",
   "version": "3.8.8"
  }
 },
 "nbformat": 4,
 "nbformat_minor": 5
}

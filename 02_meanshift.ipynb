{
 "cells": [
  {
   "cell_type": "markdown",
   "id": "48b4e4c2",
   "metadata": {},
   "source": [
    "# Clustering"
   ]
  },
  {
   "cell_type": "code",
   "execution_count": 1,
   "id": "ff726e55",
   "metadata": {},
   "outputs": [],
   "source": [
    "import math, matplotlib.pyplot as plt, operator, torch\n",
    "from functools import partial"
   ]
  },
  {
   "cell_type": "code",
   "execution_count": 15,
   "id": "0c83e3f6",
   "metadata": {},
   "outputs": [],
   "source": [
    "torch.manual_seed(47)\n",
    "torch.set_printoptions(precision=3, linewidth=140, sci_mode=False)"
   ]
  },
  {
   "cell_type": "markdown",
   "id": "a3fdc2db",
   "metadata": {},
   "source": [
    "## Set up device"
   ]
  },
  {
   "cell_type": "code",
   "execution_count": 26,
   "id": "209610dd",
   "metadata": {},
   "outputs": [
    {
     "data": {
      "text/plain": [
       "device(type='cpu')"
      ]
     },
     "execution_count": 26,
     "metadata": {},
     "output_type": "execute_result"
    }
   ],
   "source": [
    "device = torch.device(\"cuda\" if torch.cuda.is_available() else \"cpu\")\n",
    "device"
   ]
  },
  {
   "cell_type": "markdown",
   "id": "9cae5116",
   "metadata": {},
   "source": [
    "## Create data"
   ]
  },
  {
   "cell_type": "code",
   "execution_count": 16,
   "id": "753bed40",
   "metadata": {},
   "outputs": [],
   "source": [
    "n_clusters = 6\n",
    "n_samples = 250"
   ]
  },
  {
   "cell_type": "code",
   "execution_count": 17,
   "id": "fa24d203",
   "metadata": {},
   "outputs": [
    {
     "data": {
      "text/plain": [
       "tensor([[-31.287, -31.506],\n",
       "        [ -2.263,  26.298],\n",
       "        [  3.925,  20.887],\n",
       "        [ 33.303, -17.624],\n",
       "        [-24.716,  -4.586],\n",
       "        [ 13.914,  27.182]])"
      ]
     },
     "execution_count": 17,
     "metadata": {},
     "output_type": "execute_result"
    }
   ],
   "source": [
    "centroids = torch.rand(n_clusters,2)*70-35\n",
    "centroids"
   ]
  },
  {
   "cell_type": "code",
   "execution_count": 18,
   "id": "aa0c3f6d",
   "metadata": {},
   "outputs": [
    {
     "data": {
      "text/plain": [
       "torch.Size([6, 2])"
      ]
     },
     "execution_count": 18,
     "metadata": {},
     "output_type": "execute_result"
    }
   ],
   "source": [
    "centroids.shape"
   ]
  },
  {
   "cell_type": "code",
   "execution_count": 19,
   "id": "234a0420",
   "metadata": {},
   "outputs": [],
   "source": [
    "from torch.distributions.multivariate_normal import MultivariateNormal\n",
    "from torch import tensor"
   ]
  },
  {
   "cell_type": "code",
   "execution_count": 20,
   "id": "7a33d04b",
   "metadata": {},
   "outputs": [],
   "source": [
    "def sample(m): return MultivariateNormal(m, torch.diag(tensor([5.,5.]))).sample((n_samples,))"
   ]
  },
  {
   "cell_type": "code",
   "execution_count": 21,
   "id": "a3f8c17b",
   "metadata": {},
   "outputs": [
    {
     "data": {
      "text/plain": [
       "torch.Size([1500, 2])"
      ]
     },
     "execution_count": 21,
     "metadata": {},
     "output_type": "execute_result"
    }
   ],
   "source": [
    "slices = [sample(c) for c in centroids]\n",
    "data = torch.cat(slices)\n",
    "data.shape"
   ]
  },
  {
   "cell_type": "code",
   "execution_count": 22,
   "id": "525256e1",
   "metadata": {},
   "outputs": [
    {
     "data": {
      "text/plain": [
       "tensor([[-32.997, -33.012],\n",
       "        [-30.553, -32.214],\n",
       "        [-31.838, -31.558],\n",
       "        [-30.234, -31.197],\n",
       "        [-31.658, -32.412]])"
      ]
     },
     "execution_count": 22,
     "metadata": {},
     "output_type": "execute_result"
    }
   ],
   "source": [
    "data[:5]"
   ]
  },
  {
   "cell_type": "code",
   "execution_count": 23,
   "id": "9b61ba70",
   "metadata": {},
   "outputs": [],
   "source": [
    "def plot_data(centroids, data, n_samples, ax=None):\n",
    "    if ax is None: _,ax = plt.subplots()\n",
    "    for i, centroid in enumerate(centroids):\n",
    "        samples = data[i*n_samples:(i+1)*n_samples]\n",
    "        ax.scatter(samples[:,0], samples[:,1], s=1)\n",
    "        ax.plot(*centroid, markersize=10, marker=\"x\", color='k', mew=5)\n",
    "        ax.plot(*centroid, markersize=5, marker=\"x\", color='m', mew=2)"
   ]
  },
  {
   "cell_type": "code",
   "execution_count": 24,
   "id": "7e70ad9d",
   "metadata": {},
   "outputs": [
    {
     "data": {
      "image/png": "[encoded data removed]",
      "text/plain": [
       "<Figure size 432x288 with 1 Axes>"
      ]
     },
     "metadata": {
      "needs_background": "light"
     },
     "output_type": "display_data"
    }
   ],
   "source": [
    "plot_data(centroids, data, n_samples)"
   ]
  },
  {
   "cell_type": "markdown",
   "id": "414a347c",
   "metadata": {},
   "source": [
    "## Mean shift"
   ]
  },
  {
   "cell_type": "markdown",
   "id": "8851cda2",
   "metadata": {},
   "source": [
    "The algorithm is as follows:\n",
    "\n",
    "- For each data point x in the sample X, find the distance between that point x and every other point in X\n",
    "- Create weights for each point in X by using the Gaussian kernel of that point's distance to x\n",
    " - This weighting approach penalizes points further away from x\n",
    " - The rate at which the weights fall to zero is determined by the bandwidth, which is the standard deviation of the Gaussian\n",
    "- Update x as the weighted average of all other points in X, weighted based on the previous step\n",
    "\n",
    "\n",
    "This will iteratively push points that are close together even closer until they are next to each other."
   ]
  },
  {
   "cell_type": "code",
   "execution_count": 28,
   "id": "c90c0c2b",
   "metadata": {},
   "outputs": [
    {
     "data": {
      "text/plain": [
       "tensor([[-32.997, -33.012],\n",
       "        [-30.553, -32.214],\n",
       "        [-31.838, -31.558],\n",
       "        [-30.234, -31.197],\n",
       "        [-31.658, -32.412]])"
      ]
     },
     "execution_count": 28,
     "metadata": {},
     "output_type": "execute_result"
    }
   ],
   "source": [
    "data[:5]"
   ]
  },
  {
   "cell_type": "code",
   "execution_count": 29,
   "id": "1f62911b",
   "metadata": {},
   "outputs": [
    {
     "data": {
      "text/plain": [
       "tensor([-31.456, -32.079])"
      ]
     },
     "execution_count": 29,
     "metadata": {},
     "output_type": "execute_result"
    }
   ],
   "source": [
    "data[:5].mean(0)"
   ]
  },
  {
   "cell_type": "code",
   "execution_count": 30,
   "id": "1024a914",
   "metadata": {},
   "outputs": [
    {
     "data": {
      "text/plain": [
       "tensor([-33.004, -31.383, -31.698, -30.715, -32.035])"
      ]
     },
     "execution_count": 30,
     "metadata": {},
     "output_type": "execute_result"
    }
   ],
   "source": [
    "data[:5].mean(1)"
   ]
  },
  {
   "cell_type": "code",
   "execution_count": 32,
   "id": "ae78768b",
   "metadata": {},
   "outputs": [
    {
     "data": {
      "text/plain": [
       "tensor(-33.005)"
      ]
     },
     "execution_count": 32,
     "metadata": {},
     "output_type": "execute_result"
    }
   ],
   "source": [
    "tensor([-32.997, -33.012]).mean()"
   ]
  },
  {
   "cell_type": "code",
   "execution_count": 33,
   "id": "5031b29a",
   "metadata": {},
   "outputs": [
    {
     "data": {
      "text/plain": [
       "tensor([-1.202,  3.434])"
      ]
     },
     "execution_count": 33,
     "metadata": {},
     "output_type": "execute_result"
    }
   ],
   "source": [
    "midp = data.mean(0)\n",
    "midp"
   ]
  },
  {
   "cell_type": "code",
   "execution_count": 36,
   "id": "93d99a2c",
   "metadata": {},
   "outputs": [
    {
     "data": {
      "text/plain": [
       "<function __main__.plot_data(centroids, data, n_samples, ax=None)>"
      ]
     },
     "execution_count": 36,
     "metadata": {},
     "output_type": "execute_result"
    }
   ],
   "source": [
    "plot_data"
   ]
  },
  {
   "cell_type": "code",
   "execution_count": 38,
   "id": "1e7fb7c9",
   "metadata": {},
   "outputs": [
    {
     "data": {
      "image/png": "[encoded data removed]",
      "text/plain": [
       "<Figure size 432x288 with 1 Axes>"
      ]
     },
     "metadata": {
      "needs_background": "light"
     },
     "output_type": "display_data"
    }
   ],
   "source": [
    "plot_data([midp]*6, data, n_samples)"
   ]
  },
  {
   "cell_type": "code",
   "execution_count": 39,
   "id": "cb0deddc",
   "metadata": {},
   "outputs": [],
   "source": [
    "# gaussian kernel #\n",
    "def gaussian(d, bw): return torch.exp(-0.5*((d/bw))**2) / (bw*math.sqrt(2*math.pi))"
   ]
  },
  {
   "cell_type": "code",
   "execution_count": 40,
   "id": "d7c933dc",
   "metadata": {},
   "outputs": [],
   "source": [
    "def plot_func(f):\n",
    "    x = torch.linspace(0,10,100)\n",
    "    plt.plot(x, f(x))"
   ]
  },
  {
   "cell_type": "code",
   "execution_count": 41,
   "id": "c6af3f7f",
   "metadata": {},
   "outputs": [
    {
     "data": {
      "image/png": "[encoded data removed]",
      "text/plain": [
       "<Figure size 432x288 with 1 Axes>"
      ]
     },
     "metadata": {
      "needs_background": "light"
     },
     "output_type": "display_data"
    }
   ],
   "source": [
    "plot_func(partial(gaussian, bw=2.5))"
   ]
  },
  {
   "cell_type": "code",
   "execution_count": 48,
   "id": "62d8efb0",
   "metadata": {},
   "outputs": [
    {
     "data": {
      "text/plain": [
       "functools.partial(<function gaussian at 0x000000A5CB01BA60>, bw=2.5)"
      ]
     },
     "execution_count": 48,
     "metadata": {},
     "output_type": "execute_result"
    }
   ],
   "source": [
    "f = partial(gaussian, bw=2.5)\n",
    "f"
   ]
  },
  {
   "cell_type": "code",
   "execution_count": 49,
   "id": "06e3c4a2",
   "metadata": {},
   "outputs": [
    {
     "data": {
      "text/plain": [
       "tensor(0.044)"
      ]
     },
     "execution_count": 49,
     "metadata": {},
     "output_type": "execute_result"
    }
   ],
   "source": [
    "f(tensor(4))"
   ]
  },
  {
   "cell_type": "code",
   "execution_count": 50,
   "id": "0e248507",
   "metadata": {},
   "outputs": [
    {
     "data": {
      "image/png": "[encoded data removed]",
      "text/plain": [
       "<Figure size 432x288 with 1 Axes>"
      ]
     },
     "metadata": {
      "needs_background": "light"
     },
     "output_type": "display_data"
    }
   ],
   "source": [
    "plot_func(lambda x: gaussian(x, bw=2.5))"
   ]
  },
  {
   "cell_type": "code",
   "execution_count": 43,
   "id": "2a749571",
   "metadata": {},
   "outputs": [
    {
     "data": {
      "text/plain": [
       "functools.partial"
      ]
     },
     "execution_count": 43,
     "metadata": {},
     "output_type": "execute_result"
    }
   ],
   "source": [
    "partial"
   ]
  },
  {
   "cell_type": "markdown",
   "id": "e3f97f5d",
   "metadata": {},
   "source": [
    "In our implementation, we choose the bandwidth to be 2.5.\n",
    "\n",
    "One easy way to choose bandwidth is to find which bandwidth covers one third of the data."
   ]
  },
  {
   "cell_type": "code",
   "execution_count": 44,
   "id": "02dc2df0",
   "metadata": {},
   "outputs": [],
   "source": [
    "def tri(d, i): return (-d+i).clamp_min(0)/i"
   ]
  },
  {
   "cell_type": "code",
   "execution_count": 45,
   "id": "b4eb572d",
   "metadata": {},
   "outputs": [
    {
     "data": {
      "image/png": "[encoded data removed]",
      "text/plain": [
       "<Figure size 432x288 with 1 Axes>"
      ]
     },
     "metadata": {
      "needs_background": "light"
     },
     "output_type": "display_data"
    }
   ],
   "source": [
    "plot_func(partial(tri, i=8))"
   ]
  },
  {
   "cell_type": "code",
   "execution_count": 51,
   "id": "8f2e811b",
   "metadata": {},
   "outputs": [
    {
     "data": {
      "text/plain": [
       "torch.Size([1500, 2])"
      ]
     },
     "execution_count": 51,
     "metadata": {},
     "output_type": "execute_result"
    }
   ],
   "source": [
    "data.shape"
   ]
  },
  {
   "cell_type": "code",
   "execution_count": 52,
   "id": "69e9f4ef",
   "metadata": {},
   "outputs": [],
   "source": [
    "X = data.clone()\n",
    "x = data[0]"
   ]
  },
  {
   "cell_type": "code",
   "execution_count": 53,
   "id": "283544b4",
   "metadata": {},
   "outputs": [
    {
     "data": {
      "text/plain": [
       "tensor([-32.997, -33.012])"
      ]
     },
     "execution_count": 53,
     "metadata": {},
     "output_type": "execute_result"
    }
   ],
   "source": [
    "x"
   ]
  },
  {
   "cell_type": "code",
   "execution_count": 57,
   "id": "24ca94b2",
   "metadata": {},
   "outputs": [
    {
     "data": {
      "text/plain": [
       "(torch.Size([2]), torch.Size([1500, 2]), torch.Size([1, 2]))"
      ]
     },
     "execution_count": 57,
     "metadata": {},
     "output_type": "execute_result"
    }
   ],
   "source": [
    "x.shape, X.shape, x[None].shape"
   ]
  },
  {
   "cell_type": "code",
   "execution_count": 59,
   "id": "dc6b1d84",
   "metadata": {},
   "outputs": [
    {
     "data": {
      "text/plain": [
       "tensor([[ 0.000,  0.000],\n",
       "        [-2.444, -0.798],\n",
       "        [-1.159, -1.454],\n",
       "        [-2.763, -1.815],\n",
       "        [-1.338, -0.600],\n",
       "        [-2.680, -3.889],\n",
       "        [-5.360, -0.911],\n",
       "        [-1.058, -3.766]])"
      ]
     },
     "execution_count": 59,
     "metadata": {},
     "output_type": "execute_result"
    }
   ],
   "source": [
    "(x-X)[:8]"
   ]
  },
  {
   "cell_type": "code",
   "execution_count": 61,
   "id": "7dc67ae1",
   "metadata": {},
   "outputs": [
    {
     "data": {
      "text/plain": [
       "tensor([[ 0.000,  0.000],\n",
       "        [-2.444, -0.798],\n",
       "        [-1.159, -1.454],\n",
       "        [-2.763, -1.815],\n",
       "        [-1.338, -0.600],\n",
       "        [-2.680, -3.889],\n",
       "        [-5.360, -0.911],\n",
       "        [-1.058, -3.766]])"
      ]
     },
     "execution_count": 61,
     "metadata": {},
     "output_type": "execute_result"
    }
   ],
   "source": [
    "(x[None]-X)[:8]"
   ]
  },
  {
   "cell_type": "markdown",
   "id": "45cc171b",
   "metadata": {},
   "source": [
    "distance between points"
   ]
  },
  {
   "cell_type": "code",
   "execution_count": 67,
   "id": "3295f9e3",
   "metadata": {},
   "outputs": [
    {
     "data": {
      "text/plain": [
       "tensor([[0.000, 0.000],\n",
       "        [5.974, 0.636],\n",
       "        [1.344, 2.115],\n",
       "        [7.635, 3.293],\n",
       "        [1.792, 0.360]])"
      ]
     },
     "execution_count": 67,
     "metadata": {},
     "output_type": "execute_result"
    }
   ],
   "source": [
    "((x-X)**2)[:5]"
   ]
  },
  {
   "cell_type": "code",
   "execution_count": 71,
   "id": "e56e8765",
   "metadata": {},
   "outputs": [
    {
     "data": {
      "text/plain": [
       "tensor([2254523.500, 2783547.500])"
      ]
     },
     "execution_count": 71,
     "metadata": {},
     "output_type": "execute_result"
    }
   ],
   "source": [
    "((x-X)**2).sum(0)"
   ]
  },
  {
   "cell_type": "code",
   "execution_count": 69,
   "id": "eaf40955",
   "metadata": {},
   "outputs": [
    {
     "data": {
      "text/plain": [
       "tensor([    0.000,     6.610,     3.459,  ...,  5557.238,  5757.894,  6029.006])"
      ]
     },
     "execution_count": 69,
     "metadata": {},
     "output_type": "execute_result"
    }
   ],
   "source": [
    "((x-X)**2).sum(1)"
   ]
  },
  {
   "cell_type": "code",
   "execution_count": 72,
   "id": "d654f3b4",
   "metadata": {},
   "outputs": [
    {
     "data": {
      "text/plain": [
       "tensor([0.000, 2.571, 1.860, 3.306, 1.467, 4.723, 5.437, 3.912])"
      ]
     },
     "execution_count": 72,
     "metadata": {},
     "output_type": "execute_result"
    }
   ],
   "source": [
    "dist = ((x-X)**2).sum(1).sqrt()\n",
    "dist[:8]"
   ]
  },
  {
   "cell_type": "code",
   "execution_count": 73,
   "id": "42960b26",
   "metadata": {},
   "outputs": [
    {
     "data": {
      "text/plain": [
       "<function __main__.gaussian(d, bw)>"
      ]
     },
     "execution_count": 73,
     "metadata": {},
     "output_type": "execute_result"
    }
   ],
   "source": [
    "gaussian"
   ]
  },
  {
   "cell_type": "code",
   "execution_count": 74,
   "id": "854eec4d",
   "metadata": {},
   "outputs": [
    {
     "data": {
      "text/plain": [
       "torch.Size([1500])"
      ]
     },
     "execution_count": 74,
     "metadata": {},
     "output_type": "execute_result"
    }
   ],
   "source": [
    "dist.shape"
   ]
  },
  {
   "cell_type": "code",
   "execution_count": 75,
   "id": "75ab0873",
   "metadata": {},
   "outputs": [
    {
     "data": {
      "text/plain": [
       "tensor([0.160, 0.094, 0.121,  ..., 0.000, 0.000, 0.000])"
      ]
     },
     "execution_count": 75,
     "metadata": {},
     "output_type": "execute_result"
    }
   ],
   "source": [
    "weight = gaussian(dist, 2.5)\n",
    "weight"
   ]
  },
  {
   "cell_type": "code",
   "execution_count": 76,
   "id": "71f65cb1",
   "metadata": {},
   "outputs": [
    {
     "data": {
      "text/plain": [
       "(torch.Size([1500]), torch.Size([1500, 2]))"
      ]
     },
     "execution_count": 76,
     "metadata": {},
     "output_type": "execute_result"
    }
   ],
   "source": [
    "weight.shape,X.shape"
   ]
  },
  {
   "cell_type": "code",
   "execution_count": 77,
   "id": "a595633c",
   "metadata": {},
   "outputs": [
    {
     "ename": "RuntimeError",
     "evalue": "The size of tensor a (1500) must match the size of tensor b (2) at non-singleton dimension 1",
     "output_type": "error",
     "traceback": [
      "\u001b[1;31m---------------------------------------------------------------------------\u001b[0m",
      "\u001b[1;31mRuntimeError\u001b[0m                              Traceback (most recent call last)",
      "\u001b[1;32m<ipython-input-77-f3a5e14a550a>\u001b[0m in \u001b[0;36m<module>\u001b[1;34m\u001b[0m\n\u001b[1;32m----> 1\u001b[1;33m \u001b[0mweight\u001b[0m\u001b[1;33m*\u001b[0m\u001b[0mX\u001b[0m\u001b[1;33m\u001b[0m\u001b[1;33m\u001b[0m\u001b[0m\n\u001b[0m",
      "\u001b[1;31mRuntimeError\u001b[0m: The size of tensor a (1500) must match the size of tensor b (2) at non-singleton dimension 1"
     ]
    }
   ],
   "source": [
    "weight*X"
   ]
  },
  {
   "cell_type": "code",
   "execution_count": 78,
   "id": "b3449153",
   "metadata": {},
   "outputs": [
    {
     "data": {
      "text/plain": [
       "torch.Size([1500, 1])"
      ]
     },
     "execution_count": 78,
     "metadata": {},
     "output_type": "execute_result"
    }
   ],
   "source": [
    "weight[:,None].shape"
   ]
  },
  {
   "cell_type": "code",
   "execution_count": 80,
   "id": "119da9a0",
   "metadata": {},
   "outputs": [
    {
     "data": {
      "text/plain": [
       "torch.Size([1500, 2])"
      ]
     },
     "execution_count": 80,
     "metadata": {},
     "output_type": "execute_result"
    }
   ],
   "source": [
    "(weight[:,None]*X).shape"
   ]
  },
  {
   "cell_type": "markdown",
   "id": "2bd9019e",
   "metadata": {},
   "source": [
    "one update"
   ]
  },
  {
   "cell_type": "code",
   "execution_count": 83,
   "id": "9cf847cb",
   "metadata": {},
   "outputs": [],
   "source": [
    "def one_update(X):\n",
    "    for i, x in enumerate(X):\n",
    "        dist = torch.sqrt(((x-X)**2).sum(1))\n",
    "#         weight = gaussian(dist, 2.5)\n",
    "        weight = tri(dist, 8)\n",
    "        X[i] = (weight[:,None]*X).sum(0)/weight.sum()"
   ]
  },
  {
   "cell_type": "code",
   "execution_count": 84,
   "id": "9f8e8346",
   "metadata": {},
   "outputs": [],
   "source": [
    "def meanshift(data):\n",
    "    X = data.clone()\n",
    "    for it in range(5): one_update(X)\n",
    "    return X"
   ]
  },
  {
   "cell_type": "code",
   "execution_count": 85,
   "id": "c1ed174c",
   "metadata": {},
   "outputs": [
    {
     "name": "stdout",
     "output_type": "stream",
     "text": [
      "Wall time: 2.54 s\n"
     ]
    }
   ],
   "source": [
    "%time X = meanshift(data)"
   ]
  },
  {
   "cell_type": "code",
   "execution_count": 86,
   "id": "6af78d6f",
   "metadata": {},
   "outputs": [
    {
     "data": {
      "text/plain": [
       "<function __main__.plot_data(centroids, data, n_samples, ax=None)>"
      ]
     },
     "execution_count": 86,
     "metadata": {},
     "output_type": "execute_result"
    }
   ],
   "source": [
    "plot_data"
   ]
  },
  {
   "cell_type": "code",
   "execution_count": 88,
   "id": "9fd80ff5",
   "metadata": {},
   "outputs": [
    {
     "data": {
      "image/png": "[encoded data removed]",
      "text/plain": [
       "<Figure size 432x288 with 1 Axes>"
      ]
     },
     "metadata": {
      "needs_background": "light"
     },
     "output_type": "display_data"
    }
   ],
   "source": [
    "plot_data(centroids+2, X, n_samples)"
   ]
  },
  {
   "cell_type": "markdown",
   "id": "f2a03671",
   "metadata": {},
   "source": [
    "## Animation"
   ]
  },
  {
   "cell_type": "code",
   "execution_count": 89,
   "id": "64675929",
   "metadata": {},
   "outputs": [],
   "source": [
    "from matplotlib.animation import FuncAnimation\n",
    "from IPython.display import HTML"
   ]
  },
  {
   "cell_type": "code",
   "execution_count": 91,
   "id": "14de1e5e",
   "metadata": {},
   "outputs": [],
   "source": [
    "# FuncAnimation??"
   ]
  },
  {
   "cell_type": "code",
   "execution_count": 92,
   "id": "bd8cbb4e",
   "metadata": {},
   "outputs": [],
   "source": [
    "def do_one(d):\n",
    "    if d: one_update(X)\n",
    "    ax.clear()\n",
    "    plot_data(centroids+2, X, n_samples, ax=ax)"
   ]
  },
  {
   "cell_type": "code",
   "execution_count": 97,
   "id": "6679a926",
   "metadata": {},
   "outputs": [
    {
     "data": {
      "text/html": [
       "\n",
       "<link rel=\"stylesheet\"\n",
       "href=\"https://maxcdn.bootstrapcdn.com/font-awesome/4.4.0/css/font-awesome.min.css\">\n",
       "<script language=\"javascript\">\n",
       "  function isInternetExplorer() {\n",
       "    ua = navigator.userAgent;\n",
       "    /* MSIE used to detect old browsers and Trident used to newer ones*/\n",
       "    return ua.indexOf(\"MSIE \") > -1 || ua.indexOf(\"Trident/\") > -1;\n",
       "  }\n",
       "\n",
       "  /* Define the Animation class */\n",
       "  function Animation(frames, img_id, slider_id, interval, loop_select_id){\n",
       "    this.img_id = img_id;\n",
       "    this.slider_id = slider_id;\n",
       "    this.loop_select_id = loop_select_id;\n",
       "    this.interval = interval;\n",
       "    this.current_frame = 0;\n",
       "    this.direction = 0;\n",
       "    this.timer = null;\n",
       "    this.frames = new Array(frames.length);\n",
       "\n",
       "    for (var i=0; i<frames.length; i++)\n",
       "    {\n",
       "     this.frames[i] = new Image();\n",
       "     this.frames[i].src = frames[i];\n",
       "    }\n",
       "    var slider = document.getElementById(this.slider_id);\n",
       "    slider.max = this.frames.length - 1;\n",
       "    if (isInternetExplorer()) {\n",
       "        // switch from oninput to onchange because IE <= 11 does not conform\n",
       "        // with W3C specification. It ignores oninput and onchange behaves\n",
       "        // like oninput. In contrast, Mircosoft Edge behaves correctly.\n",
       "        slider.setAttribute('onchange', slider.getAttribute('oninput'));\n",
       "        slider.setAttribute('oninput', null);\n",
       "    }\n",
       "    this.set_frame(this.current_frame);\n",
       "  }\n",
       "\n",
       "  Animation.prototype.get_loop_state = function(){\n",
       "    var button_group = document[this.loop_select_id].state;\n",
       "    for (var i = 0; i < button_group.length; i++) {\n",
       "        var button = button_group[i];\n",
       "        if (button.checked) {\n",
       "            return button.value;\n",
       "        }\n",
       "    }\n",
       "    return undefined;\n",
       "  }\n",
       "\n",
       "  Animation.prototype.set_frame = function(frame){\n",
       "    this.current_frame = frame;\n",
       "    document.getElementById(this.img_id).src =\n",
       "            this.frames[this.current_frame].src;\n",
       "    document.getElementById(this.slider_id).value = this.current_frame;\n",
       "  }\n",
       "\n",
       "  Animation.prototype.next_frame = function()\n",
       "  {\n",
       "    this.set_frame(Math.min(this.frames.length - 1, this.current_frame + 1));\n",
       "  }\n",
       "\n",
       "  Animation.prototype.previous_frame = function()\n",
       "  {\n",
       "    this.set_frame(Math.max(0, this.current_frame - 1));\n",
       "  }\n",
       "\n",
       "  Animation.prototype.first_frame = function()\n",
       "  {\n",
       "    this.set_frame(0);\n",
       "  }\n",
       "\n",
       "  Animation.prototype.last_frame = function()\n",
       "  {\n",
       "    this.set_frame(this.frames.length - 1);\n",
       "  }\n",
       "\n",
       "  Animation.prototype.slower = function()\n",
       "  {\n",
       "    this.interval /= 0.7;\n",
       "    if(this.direction > 0){this.play_animation();}\n",
       "    else if(this.direction < 0){this.reverse_animation();}\n",
       "  }\n",
       "\n",
       "  Animation.prototype.faster = function()\n",
       "  {\n",
       "    this.interval *= 0.7;\n",
       "    if(this.direction > 0){this.play_animation();}\n",
       "    else if(this.direction < 0){this.reverse_animation();}\n",
       "  }\n",
       "\n",
       "  Animation.prototype.anim_step_forward = function()\n",
       "  {\n",
       "    this.current_frame += 1;\n",
       "    if(this.current_frame < this.frames.length){\n",
       "      this.set_frame(this.current_frame);\n",
       "    }else{\n",
       "      var loop_state = this.get_loop_state();\n",
       "      if(loop_state == \"loop\"){\n",
       "        this.first_frame();\n",
       "      }else if(loop_state == \"reflect\"){\n",
       "        this.last_frame();\n",
       "        this.reverse_animation();\n",
       "      }else{\n",
       "        this.pause_animation();\n",
       "        this.last_frame();\n",
       "      }\n",
       "    }\n",
       "  }\n",
       "\n",
       "  Animation.prototype.anim_step_reverse = function()\n",
       "  {\n",
       "    this.current_frame -= 1;\n",
       "    if(this.current_frame >= 0){\n",
       "      this.set_frame(this.current_frame);\n",
       "    }else{\n",
       "      var loop_state = this.get_loop_state();\n",
       "      if(loop_state == \"loop\"){\n",
       "        this.last_frame();\n",
       "      }else if(loop_state == \"reflect\"){\n",
       "        this.first_frame();\n",
       "        this.play_animation();\n",
       "      }else{\n",
       "        this.pause_animation();\n",
       "        this.first_frame();\n",
       "      }\n",
       "    }\n",
       "  }\n",
       "\n",
       "  Animation.prototype.pause_animation = function()\n",
       "  {\n",
       "    this.direction = 0;\n",
       "    if (this.timer){\n",
       "      clearInterval(this.timer);\n",
       "      this.timer = null;\n",
       "    }\n",
       "  }\n",
       "\n",
       "  Animation.prototype.play_animation = function()\n",
       "  {\n",
       "    this.pause_animation();\n",
       "    this.direction = 1;\n",
       "    var t = this;\n",
       "    if (!this.timer) this.timer = setInterval(function() {\n",
       "        t.anim_step_forward();\n",
       "    }, this.interval);\n",
       "  }\n",
       "\n",
       "  Animation.prototype.reverse_animation = function()\n",
       "  {\n",
       "    this.pause_animation();\n",
       "    this.direction = -1;\n",
       "    var t = this;\n",
       "    if (!this.timer) this.timer = setInterval(function() {\n",
       "        t.anim_step_reverse();\n",
       "    }, this.interval);\n",
       "  }\n",
       "</script>\n",
       "\n",
       "<style>\n",
       ".animation {\n",
       "    display: inline-block;\n",
       "    text-align: center;\n",
       "}\n",
       "input[type=range].anim-slider {\n",
       "    width: 374px;\n",
       "    margin-left: auto;\n",
       "    margin-right: auto;\n",
       "}\n",
       ".anim-buttons {\n",
       "    margin: 8px 0px;\n",
       "}\n",
       ".anim-buttons button {\n",
       "    padding: 0;\n",
       "    width: 36px;\n",
       "}\n",
       ".anim-state label {\n",
       "    margin-right: 8px;\n",
       "}\n",
       ".anim-state input {\n",
       "    margin: 0;\n",
       "    vertical-align: middle;\n",
       "}\n",
       "</style>\n",
       "\n",
       "<div class=\"animation\">\n",
       "  <img id=\"_anim_img8b62625906cd4b8f8d77bf75e14fadf9\">\n",
       "  <div class=\"anim-controls\">\n",
       "    <input id=\"_anim_slider8b62625906cd4b8f8d77bf75e14fadf9\" type=\"range\" class=\"anim-slider\"\n",
       "           name=\"points\" min=\"0\" max=\"1\" step=\"1\" value=\"0\"\n",
       "           oninput=\"anim8b62625906cd4b8f8d77bf75e14fadf9.set_frame(parseInt(this.value));\"></input>\n",
       "    <div class=\"anim-buttons\">\n",
       "      <button title=\"Decrease speed\" onclick=\"anim8b62625906cd4b8f8d77bf75e14fadf9.slower()\">\n",
       "          <i class=\"fa fa-minus\"></i></button>\n",
       "      <button title=\"First frame\" onclick=\"anim8b62625906cd4b8f8d77bf75e14fadf9.first_frame()\">\n",
       "        <i class=\"fa fa-fast-backward\"></i></button>\n",
       "      <button title=\"Previous frame\" onclick=\"anim8b62625906cd4b8f8d77bf75e14fadf9.previous_frame()\">\n",
       "          <i class=\"fa fa-step-backward\"></i></button>\n",
       "      <button title=\"Play backwards\" onclick=\"anim8b62625906cd4b8f8d77bf75e14fadf9.reverse_animation()\">\n",
       "          <i class=\"fa fa-play fa-flip-horizontal\"></i></button>\n",
       "      <button title=\"Pause\" onclick=\"anim8b62625906cd4b8f8d77bf75e14fadf9.pause_animation()\">\n",
       "          <i class=\"fa fa-pause\"></i></button>\n",
       "      <button title=\"Play\" onclick=\"anim8b62625906cd4b8f8d77bf75e14fadf9.play_animation()\">\n",
       "          <i class=\"fa fa-play\"></i></button>\n",
       "      <button title=\"Next frame\" onclick=\"anim8b62625906cd4b8f8d77bf75e14fadf9.next_frame()\">\n",
       "          <i class=\"fa fa-step-forward\"></i></button>\n",
       "      <button title=\"Last frame\" onclick=\"anim8b62625906cd4b8f8d77bf75e14fadf9.last_frame()\">\n",
       "          <i class=\"fa fa-fast-forward\"></i></button>\n",
       "      <button title=\"Increase speed\" onclick=\"anim8b62625906cd4b8f8d77bf75e14fadf9.faster()\">\n",
       "          <i class=\"fa fa-plus\"></i></button>\n",
       "    </div>\n",
       "    <form title=\"Repetition mode\" action=\"#n\" name=\"_anim_loop_select8b62625906cd4b8f8d77bf75e14fadf9\"\n",
       "          class=\"anim-state\">\n",
       "      <input type=\"radio\" name=\"state\" value=\"once\" id=\"_anim_radio1_8b62625906cd4b8f8d77bf75e14fadf9\"\n",
       "             checked>\n",
       "      <label for=\"_anim_radio1_8b62625906cd4b8f8d77bf75e14fadf9\">Once</label>\n",
       "      <input type=\"radio\" name=\"state\" value=\"loop\" id=\"_anim_radio2_8b62625906cd4b8f8d77bf75e14fadf9\"\n",
       "             >\n",
       "      <label for=\"_anim_radio2_8b62625906cd4b8f8d77bf75e14fadf9\">Loop</label>\n",
       "      <input type=\"radio\" name=\"state\" value=\"reflect\" id=\"_anim_radio3_8b62625906cd4b8f8d77bf75e14fadf9\"\n",
       "             >\n",
       "      <label for=\"_anim_radio3_8b62625906cd4b8f8d77bf75e14fadf9\">Reflect</label>\n",
       "    </form>\n",
       "  </div>\n",
       "</div>\n",
       "\n",
       "\n",
       "<script language=\"javascript\">\n",
       "  /* Instantiate the Animation class. */\n",
       "  /* The IDs given should match those used in the template above. */\n",
       "  (function() {\n",
       "    var img_id = \"_anim_img8b62625906cd4b8f8d77bf75e14fadf9\";\n",
       "    var slider_id = \"_anim_slider8b62625906cd4b8f8d77bf75e14fadf9\";\n",
       "    var loop_select_id = \"_anim_loop_select8b62625906cd4b8f8d77bf75e14fadf9\";\n",
       "    var frames = new Array(10);\n",
       "    \n",
       "  frames[0] = \"data:image/png;base64,iVBORw0KGgoAAAANSUhEUgAAAbAAAAEgCAYAAADVKCZpAAAAOXRFWHRTb2Z0d2FyZQBNYXRwbG90\\\n",
       "bGliIHZlcnNpb24zLjMuNCwgaHR0cHM6Ly9tYXRwbG90bGliLm9yZy8QVMy6AAAACXBIWXMAAAsT\\\n",
       "AAALEwEAmpwYAABGIUlEQVR4nO3deXxU1fn48c8h+wLJZCGEkJCw72EJKLiQIOKGkqK0Wv1W0YoL\\\n",
       "LsVWi/prIX6rpVqxat1wobZuX62YUqgKWoIiIIR9D0sCIRvZQ/ZMcn5/3JnLTBaIAskMed6vV14z\\\n",
       "c++dmSfS8vCc89xzlNYaIYQQwt106+wAhBBCiB9DEpgQQgi3JAlMCCGEW5IEJoQQwi1JAhNCCOGW\\\n",
       "JIEJIYRwS5LAhBBCuCVJYEIIIdySJDAhhBBuSRKYEEIItyQJTAghhFuSBCaEEMItSQITQgjhliSB\\\n",
       "CSGEcEuSwIQQQrglSWBCCCHckiQwIYQQbkkSmBBCCLckCUwIIYRbkgQmhBDCLUkCE0II4ZYkgQkh\\\n",
       "hHBLksCEEEK4JUlgQggh3JIkMCGEEG5JEpgQQgi3JAlMCCGEW5IEJoQQwi1JAhNCCOGWJIEJIYRw\\\n",
       "S5LAhBBCuCVJYEIIIdySJDAhhBBuSRKYEEIIt+TZ2QGcL2FhYTo2NrazwxBCCLeyZcuWIq11eGfH\\\n",
       "0R4XbAKLjY0lPT29s8MQQgi3opQ62tkxtJcMIQohhHBLksCEEEK4JUlgQggh3JIkMCGEEG5JEpgQ\\\n",
       "Qgi3JAlMCCGEW5IEJoQ4a9UV5Wxe/inVFeWdHYroQiSBCSHO2p60r/jm/aXsSfuqs0MRXcgFeyOz\\\n",
       "EKLjDE+cCkC/cRexefmnDE+cin+PoE6OSlzopAITQpw1/x5BjL/hRo5s+V4qMdFhpAITQpwz9krM\\\n",
       "/ijE+SQVmBB2VcXw3YvGozij1ho37JWYDB+KjiAJTAi77e/B6t8bj47ak9i6YPKTxg3R2WQIUQi7\\\n",
       "0bc5P9rZExvAJQ+3/t72XOMGqivK2ZP2VZtNGI7nHYcLi4uLCQ0NbXF9W8eFOBdcqgJTSvkqpTYp\\\n",
       "pXYopfYopVJsx0OUUquVUgdtj5bOjlVcgAJCjeQT0Owv3NG3wZVPGY9tVVqO14DbVmSnq6qqK8r5\\\n",
       "4tUXzPP24cJnF7/AqFGjyMjIcLr2n6+9zMiRI1m4cGEH/gaiK3GpBAbUAVO01vHAaOBqpdTFwHzg\\\n",
       "a631QOBr22shzs6Zkoz9fHXJqWNtDTMGhFI85LZTyW/TG8Z1m96guLi45We6aGIbnjiVi2+6hYba\\\n",
       "WqoryqmuKOe7T95n/cfvs+3LFWRuSyduTIJZfS1cuJCUlBRyc3NJSkoyk9h/3v87d/36UfLy8khJ\\\n",
       "SeHuW37qNFcmNz6Lc8GlhhC11hqotL30sv1oYAaQaDv+LpAG/LaDwxMXmjMN+9nPZ62Dg6uMY/YK\\\n",
       "a9C1RiIabSSthQsX8uabb7JmzRoGDRoEKAAyNv+XpFtf5u459xiViIsNNdqHBHsPHs76j98jPK4f\\\n",
       "3t4+bPj0Q7x8fWmorWXjpx8CMPHGWxh3/UwKM49Qc/Ikzy5+gZSUFPOz7ElsyZIlPJjyNBU1dea5\\\n",
       "tz76hCarlbc/WWZWcpnbjA1nx99wY8f+0uKC4VIJDEAp5QFsAQYAr2itv1dKRWit8wC01nlKqZ6d\\\n",
       "GqS4MDSf86oqNhKM/XV9FUyeDyNugthLzWTFJQ/Dmj/C2kVQX83CtXXmX+RJSUlGEpswh4wta0l6\\\n",
       "ahW5J7Vxvr6ahVdaYPJvW86zdRL7kKFvQCC1VZUc272dhOkzufzW2QxPnMq2L1cA0CM8goa6Ogqz\\\n",
       "jnBs93ZWvP4Sb77zvtNnJZNMWm4a06dPJ5hgkkkmlVTz/GdfrmZhVib5O7eSuS2dmJHx1NcZlZ50\\\n",
       "LYofw9WGENFaN2qtRwN9gAlKqRHtfa9Sao5SKl0plV5YWHjeYhQXiOZzXo7Dg5vegLV/AjSEDzQS\\\n",
       "zvb3HIb+NAAL31zeahWyMm0jSYt3kHtSm+dS/vgcC1MWgndAy3m2TjI8cSpxYxKorao0j3n5+JhV\\\n",
       "kdIQM2I0FYUFpK9YRnhcP+LGJDD93of4z7+XE2YxpqOTSeZhHuYFXiCWWF7gBR7mYZJJBqCHnw9z\\\n",
       "Lh1H/s6tDE+cyuW3zqb34GFs/OeHbc63yRCjOBOXq8DstNZlSqk04GqgQCkVaau+IoETbbxnCbAE\\\n",
       "ICEhQbd2jRAt2CuvQdcar0ffBuv+YjyvrzEemw/9TbiH4hp488WnnD7qTFXIm3v8eDD6WlwjfRn3\\\n",
       "bV19/zzWf/IBmdvTiRudwOirpwOw/YsVbPj0Q+KnXUdjo5XGBitVJcUUH89m8/JPOVl8grsuHsUb\\\n",
       "32wmrSqNGcwglliWshSALLJII43IyEie/+0j9I2MNLsbx99wI9UV5Xj7+LZ607O9MgQZYhRtc6kE\\\n",
       "ppQKBxpsycsPmAr8CVgO3A4ssj3+q/OiFC7NcRiwvVVOa/NSDTXOj6NvM4YU66uN7wgIJfTaJ1jz\\\n",
       "fDZJv3qD3JParEJmMIMUUljAAmKJBSCVVHr37s2aNWsIjRl47n7fc8C/RxB+PXpQcaKA0rwcwKiA\\\n",
       "cjL2AVCcfZScfbsByD+0H4A9aasBGDR4CDNPVvHOunRSSDGTF0AKKZRRxntvvsd1113X6ve2lZxk\\\n",
       "RQ/RHq42hBgJrFFK7QQ2A6u11iswEteVSqmDwJW210K01FaX4Ok0b4EvPAh7PrU932M0awCgjHmv\\\n",
       "TUuMl1XFDIoIYM0DA+kdEkAaaWSRZVYhscSaVYg9eRkNHg46sSvRcZhO2cYrju3azsqXnmXblys4\\\n",
       "tms7cWMS6NX/VMyBIaF4+fkDEBASQmltPf/adZBgglnAAqfPX8ACggnm7rvvdmqxb/7drZEVPUR7\\\n",
       "uFQC01rv1FqP0VqP0lqP0Fo/ZTterLW+Qms90PZYcqbPEl1U82TkqK1k0XwubNUTUFMC/mHQc7it\\\n",
       "HX4JVNveV54Dq34Hb1wOm99kkHc+S24fQRllpJDi9NH2KmTJkiUtkldpbSlL1zxG6dcLjc/vgETm\\\n",
       "mDgc7/kaffV0IvoZleGxXTuoqaggYfpMGq0NRA+PJ2bkaHoNGEJlSTG+AQEAZB09xlPvfkBxeTmJ\\\n",
       "JJoJezazzUSeSCJ5eXlOLfYgq3iIc8OlhhCFOGv2ZOTIPqxYX2VrzOD0LezTnoHGeogYhVmaZH0L\\\n",
       "5ceN58e+g5Ij5uUZld2Z8/e9bVYh85jHnLt/yZrn72TQDY8YMVYVk7rmMRYXb4K4McxuqDaqO6B0\\\n",
       "3C9IPZRK8oBkLL7n9p59x7klx2G6mpMnKTp+zLyuNDcHDy9Pju3aQW7GAax1tcSMHA3AyaJCqurq\\\n",
       "eS1to9kqb5/nSyONMsqYxzwSSTSP25tbdu7cSWhoqAwRinPCpSowIc4L+03FDTUtqzPHqqyqGNY8\\\n",
       "A7v/CaEDYMNLkLkOQvrD0e+g7KhRlV39HIy/GwJ7kVHhS9JbheQWnzxtFZKbl0/SPX8kY/liM6bk\\\n",
       "rct4hBCSM7eBlx9c+RSlQ6fz5NrHWLxlMal7PzjrX735UJ29A7DfuIvMJaEA/vXnP9BYXweqGwEh\\\n",
       "oYy77ieE9InBJyAQa10tPXpGYImMIsBiVKkBPt5cFBfj9F2ppNLkV8OdlyaguludmlcA7vjF/5jL\\\n",
       "SskQoTgXpAITXYBxUzFe/qcqr9aqMjj1PLiv8Zi3zXiMmgBVBUYSy9kMwdEUn8gl6a0qs1X+jFXI\\\n",
       "SU3Sr99h57RHCEVhaWpidmMAXPYoTLgHAkJJ3b2Ub/M3cll1NcmVp1rbf4zWbhi2J47Nyz81K7H6\\\n",
       "ulpKc4/jG9iD2soKqkqKWf3WX6ksLqTXwCHkH9yPbmpix6qV5md7evtwzejhBARbSF2/CYAgfz/u\\\n",
       "nTyB8O6BRIaF8vKXaWaFduWwgYzygfUfv8/oq6dL4hLnhFRg4sI3YY5ReU2Yc+qY2XmojJuV66sg\\\n",
       "fDj4hRjnB14Jnr6nrvf0MpIXQEMVVBUROmAcd491uAYjifl3L2fFLX74h7asQu6+9SajCpkwB/ol\\\n",
       "GcOR9TXmPWbJA5J5ZOS9PD18DpZxv2zzVyqtLWXp7qWU1pa2ec2etK9aLP1k57hkVE1FBQBBPXvi\\\n",
       "4eUNQGVxIX2GjqDP4GGAMWwYM2I0vQYOAcBaX0eTtYFL+4Rz1cjB9PDz4d7JE4i0VVgWb0/uS7yY\\\n",
       "4AB/bk++gatGDOL4vt1s+PTUfV9yr5c4W1KBiQtfa/Nijqtw2JNZ2ECjecPLH0beDFpB+pvGXJh9\\\n",
       "/qvPeNi/0pwDW5joBTSSsrYegOAgD9b8ehyDGvezZthwkp7daFZoCyZ7s3Bk9qmYoifAkTVQsBM2\\\n",
       "pAFgueRhZo+de8ZfKfVQKou3GMORs0fMbvUax3km/x5BLVaa9/bx5Zv3l5pzWwVHDgGgPDzQjY1o\\\n",
       "YPyMG/Hy8aGiuIic/btJuv1e8g7vJ3PrZvP6K4cOYFK/GAL9/LDW1+Hh5U1QRCRR3QPZ9OzLRMXE\\\n",
       "sPKlZzm2awcxI+PNuOzzcdl7d3H1/fOkKhM/mCQw0XVUFdta4LUxZGdPaqNvg7JsIzF5+EBDNXxw\\\n",
       "k5HQxt8Nh782qi8vf0AZyUt5gG4EYGGiLzU9erNk7TFW/cKfQRdNg8IYBlUWsuZ2f5Lerebui4JZ\\\n",
       "eEmjUenZ7iNjwj3GqhyDroWM/1A6dDqpu5e2q3kjeUCy02Nrmt9n1fzmYHsi6TfuIvavX0tDXR3e\\\n",
       "3j5Un6xgx6qVhEX3ZU/aVwy+ZDIf/f5RaitP8vmrf2b24tcB54QX4OONbmoEFI0N9TQ21NN/7ASi\\\n",
       "YmLw7xHEdQ891mKbluGJU8neu4vMbensSftKblgWP5gy1s+98CQkJOj09PTODkO4ku9ePHXDcr9E\\\n",
       "uPEdsyOQVyZAdZFxzsvfSGJgNG1UFxnDidZaCIiAugqw2m5w7hEFlliwxFGctZvQoACIGgvrX4Y+\\\n",
       "E+D4Joqrmwjt4W+8H2DgNEh+vcWN1q9uf5XXdrzGHcPvIMQ35Jx2IVZXlLNp+acUZh5hyp33EhrV\\\n",
       "p8V5x6aOPWlfUV9Xy8Z/fkhwr96U5eea10YNHcGVdz/AF6/9hfyD+x0+RQEapRRhMXEUHj3C5bfO\\\n",
       "NhNTa3uNtfa9be1FJjqGUmqL1jqhs+NoD5kDE13H6Nug7yXG8yNpxtBh4UFYepWRpHyDjaQz6x8Q\\\n",
       "c4nRyFFdZHQh+tj+Qq0qOJW8AAJ6Gh2K298jtGy78VwrI0mFDQYgtLufkbz6XmLMex1cBdvfI7M8\\\n",
       "k/u/up/M8kwAcz5r24ltRhfioVTza0prS3l53ctklme2mPty3K6lrXmlPWlfseXfyzi2eztHtnzf\\\n",
       "4j+NvTrb/sUK9qR9Rb9xFwEQMzLeTF7dPL0AyNm3mwPfrcXD89QAjjF3pvH08UVrTeHRIy3m3lq7\\\n",
       "98uxG1HuDRM/lAwhiq4jIBRiLzOSTL8kI6Gl3gtFB43mjZ5DjXOFe+DO/xiVWeq9p7ZSAWMOTCvI\\\n",
       "2QR9J0GjFYBSL19S/b1I9gzH4u1nvKdfku09CcbnRo0zqrvoCZQOnc7D/32YzIpMGhobmBQ1iX2F\\\n",
       "u4zrG608Mu4Rc3iwtLaUaXOmsf3f2/n2+W/Z57GPGmsN94++n4yMDJKSkrj77rtZuHBhq2sIVleU\\\n",
       "U19XS/y06yjNyzGTk6PhiVNpqK0lJ2Mfx3ZtJ2vnNo7tMlamrzhRSFlBLk3WBlS3buimJrSCyP6D\\\n",
       "zCWmhlwymdCoPsa2LJ+8R8++/Rg/w7lN/kz3fsm9YeKHkgQmupYJc8Db/9RaidOegdJMI4kd/c4Y\\\n",
       "WrTvvLz9PeN88SFj3ssvBGa8Brs/MRJYz+GQ8QUAqT1jWOxdC0N+zuwRdxqdhbnplI69nVTrCZIv\\\n",
       "/RUWDx/jZuUrn+LDY1+SWZFJTGAMsUGxLN6ymHgfY5egMY3dnBoz7njkDtL/YQyHf/HbL+j1m14Q\\\n",
       "j5m8cnNzzRXxH3tkHkCLymfjPz8kbkwCx3YZFVjzIUT/HkF4+fqay0eFRsVwbNd2vHx8SP7t7805\\\n",
       "MN3UhE9AAEMmTQbgUPpGyvJz6R4WZibMWf/vD63+pz/d2oftOS9Ec5LARNfSvCMxfCD87EP48KdG\\\n",
       "kmqsh7Q/wsHVUJYFVUWUDrqS1Mz/kFyYg+XTu42W+j4TjKaPk8bwWnLeIYifTnL8L8HXAkX74eh6\\\n",
       "UuvzWOzbCN4BzE56llIPD1L9PKmxDUNe1//UIrde3SO5zz+Ka8bP4/n059lVtIvcZbmsfnO1ec3J\\\n",
       "opN4LPYgdFAoSQ8YycvOnsQWLlzo9Cs7NmtEDxvJ8MSprc5HNa+A/IOC6DfuIg58t5bBky5n/7o0\\\n",
       "6qqrqKuqYu0/3iKi/0DK8nPpM3QEuQf2kXNgP7kH9sgclugwksCEyPiPkbzCBsLR9caPXf5OUou3\\\n",
       "sDjEAt0DmJ2/reX7fbpjqTvJ7B7DjOQFMP4eyNlK8vhfQ/Yqkn2Niic1pCeLtyzmPssYHhl5L8lD\\\n",
       "bqGsroyVR1aSXrSD8fH3kVa8nb/t+RvWSiuHPjnk9FXJJJN2Io2bZ97c+nYtb77Jgw8+SLeAbny4\\\n",
       "39hJ+ZYht5iVjb3ycryR2X7OsQKyz6Ed+G4tG2w7MidMn0n+4QwqigvJ3JZOr34DufzW2WTt3Mqx\\\n",
       "Xds5WVxEae5xp88U4nySBCYuTKfbVqX5Ofs9YYOuhc9/YzR4BMfCsOthzO0k71sG3epIZhPExkLZ\\\n",
       "EWO+LG8npbnppEZEkxwzDcuIm4xOx9G3weY3oLoIy77lzI691Oh+9AshedwvIGsdyVuXQfBwUg+l\\\n",
       "UmOt4dhJYx3C0tpStlVs4yf9f0JGWQYej3tw4I8HsJZZ279dS2goS3cv5bUdrwGwu2g3T1/6tFNH\\\n",
       "Y/Nqq3lFZp9Lu/imW5h44y1oBWOumm4ejxkx2nx/v3EX8d93XsevRxC6sYneg4efjz9RIVqQBCYu\\\n",
       "TK3t8dXWOXsS2/QG9BoF0Rcbc2W2xGcJ/y2zAS7FefPLrX8ntSGfxR6VUHWE2bv/acxx1VdTmjif\\\n",
       "1KZikhPnYwmOpbSxllQ/TxLryqD3WPDtQ2rpbhZnbue++Pu4L/4+aqw1fJH5BfnV+YzrOY4Q3xBU\\\n",
       "hGLIE0M4+uxR0ora3jSy+XYtyQOSqbHWsO3ENr7N+ZbUQ6lO82qnu0dseOJU6utqmXjjLYy+anqr\\\n",
       "jRj1dbVs+OeHePn6Mv6GG+k9ZCgb/2lUat9/9hEz5y88+z9DIc5AEpi4MDmutNGec9vfO7UO4pVP\\\n",
       "naramldr9uS37R9QdJDkbt2gewDJPSMB+z2VmtTSnSxuKqSm8Hso/J5tNYfYmLmRz44azRub/aN5\\\n",
       "9MD3MDqZxLhrSMtOAyC/Oh+A3KpcxoSPwdfDl9qetYTcFsLRvxxte9PIJe85bddi8bVw/+j7Ka0t\\\n",
       "NVe2P51+4y4ia+c2qsvL2fblCjb+80Muv3V2i7mstnZTti/aHxzRm8n/0/YSWEKcS3IjsxBgW6Xj\\\n",
       "DUDBiJuMebFB1xp7gx1cdermYzjVWh/SH0oOG8cm/9ZYWcOW7DKtFTyzPoWGiuNsqS0AIK5HHJkV\\\n",
       "mcR5BZHZUM7FDYoxA6+nJiCEv+35GwkRCQwIHsC6nHUcrzxuhtajvAdbFm7Br9SPF3jBHDYEowKb\\\n",
       "xzx8In244+U7KO5ezBMXPUGwT7DTHFhrN0Q7Dhs6VmAJ02dSnHOMyf/zyxbdim0pzjnO2n+89YPe\\\n",
       "I1yTO93ILBWYEGBUV0lPGM/tK3ZkrTuVqA6uMpahSnrcSGT2YcTd/8S+NFWpRzdSg3qQ7NGNtMw0\\\n",
       "Np7YAkCMZw8m9b8WX09frs4N5pqdK3kmMoqNXpqNWcu5OPJiANIL0hnfazzX97/enL+qy69j67Nb\\\n",
       "qSut4xquMbdrcZwDSySR1LxUnv/l88TNj8Ormxfje40/7RwYtD5sqLRxm1vmtnSih41sdzI6suX7\\\n",
       "H/weIc6WJDAhmnNs6oi9FKoKjaWh7EOEjq34SY+bb0vdvdRcYDd5QDI11cWsP/I5O+pO0LPsEOkF\\\n",
       "6dw39HY+Bxoaq6Aigyi/nkT6RxIZEEleVR411hruHHEnqYdSyS7IJnNRJtYy42bpM23XYi2zkvNc\\\n",
       "Dr/c/EviIuNOOwcGLRf7vWTWrQAthgfbQ25CFp3BpYYQlVLRwN+BXkATsERr/aJSKgT4PyAWyAJ+\\\n",
       "qrVuex8JZAhRnEOO82DQZnej43yTvdqZ/cVs0gvSiQ+P54qYK6ix1piVUUz3GLP70O7mwTdj8bXw\\\n",
       "2aHPyK/KpzC1kILUAqdrPIM9mfjQRDa8tMFMbnY33HcDf1v8N/P7W4tJiNNxpyFEV1sL0Qr8Wms9\\\n",
       "FLgYmKuUGgbMB77WWg8Evra9FqJj2CsuxyaO7e+1uMzia2H2iNlOyUPbqrYxPccwe8Rsrom7hosj\\\n",
       "L+aO4XcwJWYKAL38e5mf8dnBz3htx2vkV+UTFRDFHfPuIO6mOPO8X6gf0xZNo3pANXHz4/C2eJvn\\\n",
       "rr3nWo5cdIQn1z1prpXYPKbzTfb4Eh3JpRKY1jpPa73V9vwksA+IAmYA79ouexdI7pQAhRh9m9Gl\\\n",
       "2Fp3YzOph1LZUrCFy6IuY+bAmby6/VWe2vAUG/M2sqvIWPfwvvj7SIxONN9T11SHr4exSWYTTazM\\\n",
       "XEnA9ADCZ4TjGezJ+IXjOeZ7jLqmOvx6+dH3t33xDPYkfEY41917HZdFXWYOGTpqzwaY54IsyCs6\\\n",
       "ksvOgSmlYoExwPdAhNY6D4wkp5Tq2ZmxiS7MVo2V1paece8uxz27Ug+lmkOHAFsKtpjJLSowyjzu\\\n",
       "oTx4cPSD/N+B/+NY5anhxYifRBA5LZKSgBLzWBNNTB4zmds+uY2wsDCuibsGgBFhI1q0zbdnA8xz\\\n",
       "QebCREdyyQSmlAoEPgV+pbWuUEq1931zgDkAMTEx5y9A0eWdKSHY554SoxPNx/U569mYv5H48Hg8\\\n",
       "u3miUHyb863ZhQjQqBv56/a/UtNorJXopbxo0A0ANAU0GfeFNRr7isV0j+GJi54gLsgYYrSvvvHI\\\n",
       "uEdaJNX2bIB5LsiCvKIjuVwCU0p5YSSv97XWy2yHC5RSkbbqKxI40dp7tdZLgCVgNHF0SMCiSzpT\\\n",
       "QrAnuM35m/k251sAnp38LB/u/5BtJ7axMW8j98Xfx+V9LicxOpFlB5ex7cQ2jpQd4WTDSXy6+VDX\\\n",
       "VGcmLzCqs9rGWi7udTFWbSW9IJ3PMz83b1guqS1hXM9xlNSWUFpb6pTE7HNhQlxIXCqBKaPUehvY\\\n",
       "p7Ve7HBqOXA7sMj2+K9OCE8I05kSgj2xJUYnMr7XePO1PXldHHkx18Rdw+eZn/N55uf4efqxo3AH\\\n",
       "43qOY8uJLdQ11ZmfFeEfQUF1AY26kbgecTxx8RN8nvk56QXprM9Zz+b8zWg0WwqM+862nNhCiG+I\\\n",
       "JCxxwXOpBAZcAvwPsEsptd127AmMxPWxUuou4Bgwq3PCE6J9HBOc4xDfxryNgNGVmJadZs6L2ddD\\\n",
       "LK0txaqtnKg+QV5VHjHdY5jUexIfHfiImO4xZFZkkpadxi1DbmFbwTY25m80v/PiyIsZEjIEP0+/\\\n",
       "8z5UKIQrcKkEprVeB7Q14XVFR8YixA/Rnvut7AvsgrG8E0CNtcb82V+83ykh2Zeeus73OnOxX6fk\\\n",
       "ZPt/Sp/APkztO5U7R9yJxdci936JLsOl2uiFcFf2Oa/m7euOLL4WbhlyC36efubr+0ffT4ivsRbi\\\n",
       "xvyN5j1i98Xfx4tTXuSRcY+Y7/nbnr/h5+mHxddC6qFUNuZtxOJj4cmLniTENwQwEumT6548YyxC\\\n",
       "XAhcqgITwl2drqnDsSJy7F60v06MTnSqzByrJvvwY/PPTx6QzGcHPyOzIpNnNz9LZkWm+Z5vc77l\\\n",
       "sqjLZBhRXPAkgQlxDpyuqaN50rI/Oh6/ZcgtZ6zeZo+Ybd6QnDwgmRenvMhzm5/jnlH3sPXEVqeE\\\n",
       "JcOHoiuQBCbEeeaYtBwTXVvJzJ6o7NVZWnaa+d7m17069VUAYnrEmFWedB+KrkISmBDnWVvVWVvJ\\\n",
       "DFq/j2z2iNlmI0iNtcbpXq/WbqyWZg5xoZMEJoQLaJ7k2rqPzOJrwc/Tj8VbFuPn6ddmAoSOWz5K\\\n",
       "iM7iUtupnEuynYpwFW1VQj+2Qmrv+6QCEz+GbKcihDC11WLfntb71rR3i5SO3kpFiI4mQ4hCnGdt\\\n",
       "tdh31AK7QlyoZAhRCCGESYYQhRBCiPNMEpgQQgi3JAlMCCGEW5IEJoQQwi1JAhNCCOGWJIEJIYRw\\\n",
       "S5LAhBBCuCVJYEIIIdySSyUwpdQ7SqkTSqndDsdClFKrlVIHbY+yLo4QQgjXSmDA34Crmx2bD3yt\\\n",
       "tR4IfG17LYQQootzqQSmtf4GKGl2eAbwru35u0ByR8YkhBDCNblUAmtDhNY6D8D22LOT4xFCCOEC\\\n",
       "3CGBtZtSao5SKl0plV5YWNjZ4QghhDiP3CGBFSilIgFsjyfaulBrvURrnaC1TggPD++wAIUQQnQ8\\\n",
       "d0hgy4Hbbc9vB/7VibEIIYRwES6VwJRSHwIbgMFKqeNKqbuARcCVSqmDwJW210IIIbo4l9qRWWt9\\\n",
       "SxunrujQQIQQQrg8l6rAhBBCiPaSBCaEEMItSQITQgjhliSBCSGEcEuSwIQQQrglSWBCCCHckiQw\\\n",
       "IYQQbkkSmBBCCLckCUwIIYRbkgQmhBDCLUkCE0II4ZYkgQkhhHBLksCEEEK4JUlgQggh3JIkMCGE\\\n",
       "EG5JEpgQQgi3JAnsAlZTWc/WVUepqazv7FCEEOKckwR2Adu3Po8Nyw6zb31eZ4cihBDnnGdnB9Be\\\n",
       "SqmrgRcBD+AtrfWiTg7J5Q2dFOn0KIQQFxK3qMCUUh7AK8A1wDDgFqXUsM6N6vw72yFAv0Bvxk7r\\\n",
       "i1+g9zmOTAghOp9bJDBgAnBIa31Ea10PfATM6OSYzrvTDQHak1tpQZXMcwkhuiR3GUKMArIdXh8H\\\n",
       "LuqkWDrM6YYA7cktJ6OUY7tLABg7rW+7P7umsp596/MYOilSKjQhhFtylwSmWjmmW1yk1BxgDkBM\\\n",
       "TMz5jum8OlOCiYsPIyejlJGJfWi0NlFzst6swnatOY4GRiX1afHe4uJiQkND2bnmOOkrs2ioa+Si\\\n",
       "6/uZx4UQwl24yxDicSDa4XUfILf5RVrrJVrrBK11Qnh4eIcFdz6cqYMwc0cRx3aXsCvtODn7y9i+\\\n",
       "Opt96/PYtz6PzSuzSF+Z1eK9CxcuZNSoUezctpv8w+WA8S+DjIwMRo0axcKFC8/zbyWEEOeOu1Rg\\\n",
       "m4GBSqk4IAe4Gfh554Z0ftmHDePiw9i66ihx8WFk7igyKzLH83sjcynKriQuPgzfAC+sdY1oh/cO\\\n",
       "nRTJn/78DCkpKQBMvXIq9079E+Mvjce3TzVJSVeRm5trnm+eyGS4UQjhitwigWmtrUqpB4AvMdro\\\n",
       "39Fa7+nksM4rewfh1lVHjUrsu1zKCmoAzM5C+5yXX3dvju8vJXNHEWOn9WXC9f0AzPe+8Y8XWPLe\\\n",
       "i+ZnFxYX8Prq3zL6pte5ZvpccnNPFbMpKSk01DdyY+IvzYRlrwbt3y2EEK7AXYYQ0Vr/R2s9SGvd\\\n",
       "X2v9dGfH01GGTookZkQIZQU1xIwIMSsvxxb7uPgwYkaEENI7gH//dTulBVWAUYEFRmr+ufwDp89M\\\n",
       "JpmGkjpunPUTqnOrSSbZ6fybS95k9QdbzSHIoZMimTizv9xPJoRwKW5RgXUFpQVVrPvkIJfOGogl\\\n",
       "IsA87hfozdQ7hrUYwnOsigCO7S6hrKCaisJa1loPkPyrsWTuKKIyTzH3muf46+ePUlpRSDLJPMzD\\\n",
       "zGAGKaSwgAXEEgtAKqn07t2bz1d8Se1xfxrqGqmprHeq9oQQwlW4TQV2oVv3yUGO7S5h3ScHgTPf\\\n",
       "xGyviuLiw6g+WU/kgCB8/L0ACI/uTt6RMvZ8k4Nfdy8igqN56r7XCfIPJY00ssgilliWspRYYski\\\n",
       "izTS6BURyZo1axg1ZgSePh6tNoIIIYSrkArMRVw6ayDrMCowMFrhN6/MwlrXiKePR4s5KL9Ab+Li\\\n",
       "w1j5152UF9aYn9Mj3BdrfSMrX9lJXZXVPNZ74BDm3vw7nnnnV6SQwlKWmu9JIYUyynh+zp8ZNGgQ\\\n",
       "IMtQCSFcnyQwF2GJCOD6B0abr+03udXXNwKQcF0sQydFUlNZz841x1HAsb3FTskrKNyP8sIadq81\\\n",
       "mjI8PBU+/p5UFNZy8OBmXvn3/xJMMAtY4PTdC1jAPOax6JUnmX7bZWYSE0IIVyZDiC6gtWWhRiX1\\\n",
       "YeLM/nh7e7B5ZRZgzHvZb0DevDKL0vxq8zN6DwwidnQYEf16AODt341Gq6a6ooGCsmxe+vevKa8u\\\n",
       "JpFEc9hwNrPN4cREEiksKSApKYmMjIxW70OT7VmEEK5EKjAX0NayUGOn9aWmsh5PHw+sdY1sWHaY\\\n",
       "8dfFMmJybw6mnzCHCCMHBNEztgfbV2cT0a87APXVTUQOCKKyuoyFHz9GeXUxYDRqAKSRRhllzGMe\\\n",
       "iSSax3Nzc0lKSuL79emMvy7WqZFD2umFEK5EKjAXYG/IuHTWQKd2dccbiEfaKrKRSX2oKK6lrsqK\\\n",
       "p1c3hk/uzTX3jsTL2wOAsnxjSLFHuC9BPX05mau4fupPnb4vlVS0vwe/vvk5vMN9zeRlN33KLEJD\\\n",
       "Q2mobyR9ZRZbvzzqFKfMiwkhXIEkMBdgb1O3RAQ4bX/iOIznuDXKyMQ+KAXWhiZKcqrwC/SmZ1wP\\\n",
       "unko6qqtePt7UFFYS/a+UgCmDP45j/36cfP7gvxD+fVNLxAXNJYHr/szQf6n1kBMvuxORgXcwL71\\\n",
       "eRRlVwKYj7I9ixDClUgCc1E1lfXUnKwnakgwcfFhlBZUkfqXrXz36UG2f3UMbevysDYYTR5rPzhA\\\n",
       "U6PGw1Nh6WXcR6aUoke4L+WFNVwa+1Nmz3qAIP9QHrr+eUL8ogCw+ETy0PXPY+kexjXjfsHUYbcS\\\n",
       "NSSYoZMiufyWQUQNCSYsOlDmvYQQLkfmwM6zH7uO4L71eWxfbewgk7mjiJyMUnL2l5Gzv4zIgUF4\\\n",
       "+XajobaJbt0UNZX11NUYCcYnwJPw6EDK8qupLKljxOQoju0t5tjuEn7xk7lcMvgGmiq9iR4Rgp+/\\\n",
       "FyW5VcTHRtN/2EdU5hqL/vfuH4xfoDd+gd7EDAtlw7LD+HWXm5mFEK5FEth59mMbH+Liw8jaVQTa\\\n",
       "eB4XH8aa2v1UltaRd7Cc3gODyD1YDkqx6q09NNRofAI88OvubbbRA5w4Vk5FYS0Ah9NPUFvlATTi\\\n",
       "5+/F8f2llBXU0HdkGDfcczHffJhBWHQgI5P6mO+X+8GEEK5KEth51loCaE9VlrmjiLyDxpYne9bl\\\n",
       "4t/dm6jBFtJXZhE1JBhLhD9VZfUUHKkAoNeAHpwsqqP4eJX5GQEWb6rLGwDw8OpGbZUVL18PGmob\\\n",
       "ydxRSFVZA0HhfmYcM341xikGWYVeCOHKZA7sPGut8eFMe32BUXUFhfsBUJxdyYZlh1HAxJn96d0/\\\n",
       "mN1rcykvrME/yIveA4PophRVZXUAKNufalVpPZUldfj4e+LtYxz08jYe62uNubO40WH4BXq3eo+X\\\n",
       "Y5xyD5gQwtVIBdYJ2jMsl7mjiPJCYwX6S2cNNPcCA9i55jjdQ305WVxLdXkD1eXlDJ/cm7KCaqor\\\n",
       "GvD186SmykpgqA8BQT5mlQYQYPGhuqKBhtomYkaEMPYq416zr/621+ketOZxyj1gQghXIwmsE7Rn\\\n",
       "dXfH5OEX6I1lmtFZuHXVUdJXZjH6ymjyDpdTnFuJtbYJL28PQnoHUl1RSk2VleAIP8oKaujWzWjM\\\n",
       "6B7qS/+xxi7VhUcr6TPEwtQ7huEX6M3WVUc5trvEabuW5nHKXJgQwtVIAnNRbSU5x52Ys3YWYa1t\\\n",
       "AsDL24MJN8RxsriW6GEWRk2JNle4jxoSTO/+wWZzhl93b6d5rbj4MHIySrl01sA257pkSxUhhKuR\\\n",
       "BOZmHHdqLiuowcffk+AIPwZOiDCHHf1zvPnmwwzip0YDEBIZwOaVWWjAy8eDuPgwp+aMzB1FHNtd\\\n",
       "QuagIrPSE0IIVycJzE0NnRRprp1YkHmSg5sK0ECfIRaO7zdW4CgrrKayuI7uob5MnNnfXE/R/r6G\\\n",
       "uka8fDyIHBBEzIgQ4uLDOveXEkKIH8BlEphSahawEBgKTNBapzucexy4C2gEHtJaf9kpQboQ+07N\\\n",
       "u9YcR2Nsv5K+MouE62IJiw6kKLuShvpGKovrKC+oIfGWIebCwHHxYWQOKjITWsyIEKnAhBBux2US\\\n",
       "GLAbmAm84XhQKTUMuBkYDvQGvlJKDdJaN3Z8iK7B8f6sCdf3M4/ZhwczdxQx7ZfDqa1qYN0npzbJ\\\n",
       "dJzHskwLMBNa5IAgAKnAhBBuxWXuA9Na79NaH2jl1AzgI611ndY6EzgETOjY6FxLa/eR2ZNT5o4i\\\n",
       "85x9k0xLROtVlf09eYfKjQpsR1FH/QpCCHHWXKkCa0sUsNHh9XHbsS7rdC3tP6bdXVrkhRDuqEMT\\\n",
       "mFLqK6BXK6ee1Fr/q623tXJMt/H5c4A5ADExMT8qRlfT2nJOp2tp/zHt7tIiL4RwRx2awLTWU3/E\\\n",
       "244D0Q6v+wC5rV2otV4CLAFISEhoNcm5G1kBQwghWucOQ4jLgQ+UUosxmjgGAps6N6SOI8N7QgjR\\\n",
       "Opdp4lBK/UQpdRyYCKxUSn0JoLXeA3wM7AW+AOZ2pQ5E2QVZCCFa5zIVmNb6M+CzNs49DTzdsREJ\\\n",
       "IYRwZS5TgQkhhDuzlpZS/PbbWEtLOzuULkMSmBBCnAPly5Zx4rk/U75sWWeH0mVIAhNCiLNkLS3F\\\n",
       "WlKC/6SJBE6Z0ur54rffpi4zU6q0c0gSmBBCtFNbw4Tly5ZR8vY7VK/fQMWKFS2usVdnBYsWkbHo\\\n",
       "T61WacXFxW1+hwxPts5lmjiEEMLV2RMRQOhdd5nHg2bOpKm6BmONBdXimqCZMwF4YedO3i4q5OtR\\\n",
       "owh1+NyMjAySkpK4++67eTA6usX72/re1lhLSylftoygmTPxtFjO9ld2aZLAhBDiNBwTgj0R2R/t\\\n",
       "PC0Wwh98wLy+m7+f0zWeFgsvZ2fz9EsvAXDFtGl8vWoVw8aPN5NXbm4uKSkpWB96iHmP/sbp/W19\\\n",
       "b2t+SLJze1rrC/Jn3LhxWgghzlbRW2/pvYOH6KNz5uiGkpJWr2koKdFFb73ldN7x2IIFC+y7Hpk/\\\n",
       "vYKC9IoVK3TvyMgW5xYsWPCj420tlh8CSNcu8Hd4e35kDkwIIU4jcMoUvPrFUbX2G7JuvZW6zEzq\\\n",
       "MjM5OvtOCp591qzQmncg2o8dfuMN3njxRafPTCaZ2nLF9OnTqc6rIZlkp/NvLllizon9UJ4WC6F3\\\n",
       "3XXBDx+CDCEKIcRpVf73vzQcyaRbiIWGI5kULFqErm+gesMGqjdsoJufHwGXXYZXvzj8xo0zE1rg\\\n",
       "lCk0VVdTvXUb71hCuBPILysjmWQe5mFmMIMUUljAAmKJBSCVVHp6erJs7lxCQ0NPG5eQLkQhhDit\\\n",
       "oJkz6fnob4h+9VUCJl9OxPz5+A4d4nCFoui112g4kknRa6+ZlVf23LlYy8qo3rCBYZMn8/WqVfSO\\\n",
       "jCSNNLLIIpZYlrKUWGLJIos00ugdGcnyhQsZd//9nfb7uhNJYEII0Q7effsS88YbeAQH083Pn+Cf\\\n",
       "/xz/iRPpMf06IubPx3/iRHz698dv3DizWqtctw4A36FDidi5k0VTplBGGSmkOH12CimUUcafZ81i\\\n",
       "3P33d4nhv3NBhhCFEOI0HLv6AqdMIXvuXBqOZBIw+XKqN2wg73e/Ny5UipJ3llK7fz9NJaV0Cw7G\\\n",
       "8rObKX7rTeqys9n6+uv8Juc4wQSzgAVO37GABcxjHr969VX69ezJRU8+2SKOrtQe315SgQkhxGkE\\\n",
       "TplCwOTLCZwyhYJFi2g4kolXvzgi5s8nYPLl1KSnGz+bN+PVNwbvuDgAmsrKKHrpJZpKStmzejV3\\\n",
       "ZB/jRH09iSSaw4azmW0OJyaSyAmrlZmvvEJGRgbgfAOzLFXVklRgQghxGpX//S9Va7+hALDceiv1\\\n",
       "2dn0fuYZAJqqa/AeMoSGnBz0yZM0HD2G5/Rg/CdNpHr9BnRtLWWNjdyRlckJqxUwGjUA0kijjDLm\\\n",
       "MY9EEs3juXl5JCUlsXPnTkhNdar+qjZtarFUVVeuzCSBCSHEaQTNnEnVpk1Urf0G3dBAw5FMTq5a\\\n",
       "xcm0NBqOZJrX+YwYQWNZGdayMnr97ndUrFhJfX4epP6Lm4KCeNWhLT6VVCJ8fHgtrA8LS4pJrUl1\\\n",
       "+s7ZN91EaGgoVocbmMuXLaNq7TdUTpiAj8MNyl3qxuVmJIEJIYSD5hWNp8VCxPz5FABeffpQvX4D\\\n",
       "tfv2G631wcF49oqgfv8BGstKsR7Poez9D6hct47ASy+l6vvvobGRB8LCwdOLVwvyAejp7cPS3lEM\\\n",
       "HDKYvvsPMDs/j4KaGgDuDw1lTm0tcOqeLmh7NY4fskrHhUbmwIQQXVrzhXKbzzXVZWaSPXcuVWu/\\\n",
       "AcArJgbPyEj8J06kqawMXW0kHo9gCx6RkaiAAKxHj1H2/gc0Hs8xv+eB4GDuDw2lp6cnf4uKYugl\\\n",
       "k4h+5RUmPPkEy+bOpaenJ/eHhvJgdAxh993X7vi70o3LzUkFJoTo0poPwTWvaPKf+l8ajmSifH2p\\\n",
       "3b2HhmPHaDh2DP+JE825Lq9+cdTt3n3G73ogsjf/M2AgQWVlKE8vfOLi8LnrLiaUlpLm74/nd+ux\\\n",
       "Hj9O4Ysv0ev3v6Pyv/81K8HS996j6JVXaaquJvzBB8/ffxA34jIVmFLqOaXUfqXUTqXUZ0qpYIdz\\\n",
       "jyulDimlDiilrurEMIUQFxjHLkNoWdHYb1rWtbUob298x4xG9ehB9YYN+I8Za9zk/MorBN/6czyj\\\n",
       "ovAID2/7yxoa6NmnD1794gh/+CHAqPBy58+n3x130GPalQBUb9hAwaJFzboOVbNH4UoV2Grgca21\\\n",
       "VSn1J+Bx4LdKqWHAzcBwoDfwlVJqkNa6sRNjFUJcIOxdhs2bI+xzYcGzZgFQu28/vX7/O2MpqYoK\\\n",
       "vPrFYbntVgBK33uPyrXfYM3JoVtEhPEBHh7QaPw11S0khKaSEgAaS0qw5uZycvVqarZs4WRaGjWb\\\n",
       "08lvaMB/zFgA/CdOJGL+fConTDArQcttt7ZY5b6rc5kEprVe5fByI3CT7fkM4COtdR2QqZQ6BEwA\\\n",
       "NnRwiEKIC1BbTRCOQ4sRjz1mJjT7/FTE/Pl4WiwUvvwyRa+8ar7Pu1cvagsK6JE8g6r160Frmqqq\\\n",
       "jZMeHlhzcwGo3beP6vUb8B0z2nhfXJxTkvK0WJwSqmNDhzC4TAJr5k7g/2zPozASmt1x2zEhhDhr\\\n",
       "bSWG5onNntD8J07Ef+wYPIKDAWiqqTXf4z1kMNbCQnzj4+nm60tjXr55Tvn5oW2dhl59Y+j1O2OO\\\n",
       "y1pcQu227XgGB0uS+oE6NIEppb4CerVy6kmt9b9s1zwJWIH37W9r5XrdxufPAeYAxMTEnHW8Qoiu\\\n",
       "q3kyCZwyhdJPPzVXoQfo5u/v9DdUQ2YWuq4Oa24uytsLAI+ICFCKwEsmoXx8qc/MpNfvf2c2cFhL\\\n",
       "S/EMDWlRAXblG5Tbq0MTmNZ66unOK6VuB6YDV9g2VgOj4op2uKwPkNvG5y8BlgAkJCS0muSEEOLH\\\n",
       "sG+rYq/AQHHiuT8TNvd+wubOpXrbVqrXn5rZ8Bs5CuXpZSa78k+XETD5cqIWP++UkFqruqylpeTO\\\n",
       "n2+27ktV1jqXGUJUSl0N/BaYrLWudji1HPhAKbUYo4ljILCpE0IUQnRhzYcUi99807Ya/XR84uKM\\\n",
       "+8neeouanTvxGzWK4JtuMhf69ejVC69evaha+w2l7713xjZ4+6obAZMvl6aN03CZBAb8FfABViul\\\n",
       "ADZqre/VWu9RSn0M7MUYWpwrHYhCiI7mWCkVv/02Je8sBYzKzMfWdh/x6KPm0F/FipXUpKcDYLlx\\\n",
       "JqCo3b6d9rTBOyZLGT5smzo1UndhSUhI0Om2//EIIcTZspaWUvre+4Cmx/TpVKxYASgst93qlGSK\\\n",
       "337bHFo0ktXpr3c1SqktWuuEzo6jPVypAhNCCJdVvmwZRa+8AhjNG20NAwbNnElTdTWOyar47bcp\\\n",
       "euVVej76G5dOXu5GEpgQQrSDkZhqAH3aeSlPi4Vu/v7GKhqf/4foV15xGhKU7sJzx2WWkhJCCFfm\\\n",
       "abEQ/uADhD/44BkTT9DMmXj1i6PhSCYFixY5LU8lG1OeO1KBCSHEOeZpsRD9yisULFpExPz5Tue6\\\n",
       "8vYn55o0cQghxDlwoQwNulMThwwhCiHEOSBDgx1PhhCFEOIckKHBjicV2HlWUlXPG2sPU1JV7/Rc\\\n",
       "CHFhsO/oDHTZnZE7i1Rg59kn6dn88fP95mv783sm9++skIQQ51DzHZ1Fx5EEdp7NSoh2emz+XAjh\\\n",
       "3jpz6PBCaRz5sSSBnWchAd5O1ZZUXkJcWDpzD6+uXv1JAhNCCDfV1RtHJIEJIYSb6uo7OEsX4jnQ\\\n",
       "0d2F0s0ohBCSwM4Je6fhJ+nZLc79kGRTXFzc6vXFxcXt/j4hhOgqJIGdA7MSonn8miGtdhe2N9ks\\\n",
       "XLiQUaNG8dfPvnG6PiMjgxEjRzH9jofMpHa67xNCiK5CEtgP0FY1FRLgzayEaD5Jz25xbuqwCJIG\\\n",
       "hzN1WESLzztcWMnspZt46NEnSElJITc3l9ceu507R/gwKyGajIwMkpKSyM/LZeW7L/OLub8xv++e\\\n",
       "yf0JCfA+f7+sEEK4OElgP8Dpqqm2zn21t4A1Bwr5w4q9HC6sdFqVY87f0/ns7b/w8p//aF6fn2ck\\\n",
       "sQ1pq0lKSiI3N9c8t/Ldl1m4cOF5+/2EEMKduEwXolLqf4EZQBNwArhDa51rO/c4cBfQCDyktf6y\\\n",
       "M2Js7abk050rqaqnur6RS/qHsuZAIbDX9gjV9Y1kHMujZtcqp89JJpm0vDSmT59OMMEkk0wqqeb5\\\n",
       "N998kwcffJDQ0FDAqOL+sGIv/2/6MPqHB57LX1cIIVyaK1Vgz2mtR2mtRwMrgN8DKKWGATcDw4Gr\\\n",
       "gVeVUh6dEWBrQ3f2YUXAPFdSVc8Lqw/w0IfbePHrgwyPCmJsTDAZBSf5xcS+tiSn8fDrwSN/eY/u\\\n",
       "IT0BI3k9zMO8wAvEEssLvMDDPEwyyQD0iuzNmjVrzOQF8IcVe80KTwghuhKXqcC01hUOLwMA+0Zl\\\n",
       "M4CPtNZ1QKZS6hAwAdjQwSECRsL6JD3brLR+/fF2s6qyr7LxSXo2L359CICxMcF8viuP7NIaAJZv\\\n",
       "z8Xi78XkQT3ZeKSEAzVNJNy/mG/+8hBplWnMYAaxxLKUpQBkkUUaaXgEhjDxwRcJi4p1iuf/TR8G\\\n",
       "7LU9CiFE1+FKFRhKqaeVUtnArdgqMCAKcJxYOm471ikc57o+Sc9mzYFCLh0QRnW91WzgmDosgmiL\\\n",
       "H2AM8dmTl4+HoqymgRe/PsSiz/fxfWYJW4+VcaQhmJCrH6SMMlJIcfq+FFIoo4zEu55ka7lfizm2\\\n",
       "/uGBLJ09QYYPhRBdTocmMKXUV0qp3a38zADQWj+ptY4G3gcesL+tlY9qdRtppdQcpVS6Uiq9sLDw\\\n",
       "vPwOsxKiefiKgVTXW5k6LIKHrxgAaF78+hC//ni7OSdlT1rlNVY8bL+Bj5cHEd19AKi1NjE2JphA\\\n",
       "Hw8aSnIo+eJlgglmAQucvm8BCwgmmD0fP8+dI3yYOixCbmIWQgg6eAhRaz21nZd+AKwEFmBUXI5d\\\n",
       "E32A3NbepLVeAiwBSEhIaDXJna2QAG/8vT344+f78ff2xN/bk3WHign282LNgUKq63fxfWYJY2OC\\\n",
       "KaioJaeslkZbJBW1Vrr7Gv/Ji07WkVteS0NJDgUfPk5jZQmJJBNLLFlkkUIKC1hALLEkkkhqXiqv\\\n",
       "PvoLtme/xNZyo7qzD1k6DmtKa70QoqtwmTkwpdRArfVB28sbAPsmWsuBD5RSi4HewEBgUyeEaHLs\\\n",
       "OCytrufj9GwOF1bZzhrZyt/bk5yyWgAuirNQXWdlV+5Jgnw90UG+5JbX0lhTYSYvwOw2TCONMsqY\\\n",
       "xzwjedmOF+TnsfyZe5j1zEdO3Y6Oe47JavdCiK7CZRIYsEgpNRijjf4ocC+A1nqPUupjYC9gBeZq\\\n",
       "rRs7IqC2KhvHLVI+sSWvi+IseHl48MiVg9icVcL42BAaGhtpaNTE9wmm1trErtyT7M2vND/Hw68H\\\n",
       "gfFXUf7dh+axVFLxCAyhz3ULOfH5y6RWpDrFNGLKTP5w80SneE7X3i+EEBcql0lgWusbT3PuaeDp\\\n",
       "DgwHcK5sZiVE8+76LEBz+6Q4M4HMSoimur6R9KwS1h0qYlzfYEDxpy/2831mKQBbj5VxUVyI02cr\\\n",
       "jFot+NJb6e7ryfGv/wGAR2AIEbf8EY+QKMJ+9gylHz9JTXkRANfd/iC7e13FV3sLsCR4OyVXqbyE\\\n",
       "EF2NyyQwV+RY2by7PosXvzZGOP29Pblncn+zQqtpaOS7w8VcOiAMUOZ1ANEWP1tDh+an4/rw5d58\\\n",
       "ymuseHaDhibjGo+EnzHM14vsDSsYOefP5OgQ/Ly6MSZ+GJWRL7Fm8QMMnpzMpJ/eR1BOOVOHRZjJ\\\n",
       "deORYp7/6WgAmQcTQnQpksBOw7myMea2LukfaiY2exK5pL9xY/G4vsHcPimWmoZGdmSXEd8niKtH\\\n",
       "RPLIx9v5PrOUgoo6W/JSNDQ595hUjZhJUP+pnPQJgVorNQ1NBPh4MXLMCPbf+VdGDOvLkm+OAMby\\\n",
       "VLMSotl4pJg1BwrN1nqZBxNCdCWSwJppa97r9klx+Ht7Oh23J7KpwyLMpBIS4I2fVze+zyzBs5sC\\\n",
       "FFnF1QDE9wmioKKWGnvpZdMz0Bsvz27kYHQq2q07VMSwyH78v5kTmDosguXbcwFtfo/9JuapwyKw\\\n",
       "+DvHJIQQFzqXupHZFbS1KG9ry0jZV6H/v83ZfJNRSGm1/d4s48av7w4XszevHIC+If5kl9ZQ09BE\\\n",
       "kJ/x74ZRUT0I8vPkRGU9OWW1XBQXwtiYYAB6B/kC4OftwT2T+2PxN9r3Heff7AsFf7W3QFaoF0J0\\\n",
       "OVKBNdOejr6SqnqzoQOUObT36CfbuWp4JDeM7m27UjN5UE/yyndwuLCKXrakNCM+iiiLH98eLKS8\\\n",
       "5lTF1TfEn8hgP7YeK2N6fG9CbQkSWm+Vl+5DIURXJgmsmfZ09BlrHRqNGg9fMcBs1Cg8WW8mmXlX\\\n",
       "DgLgjbWHOVxYRUiAF7ddFIOXh8LXy4NZCdFMHRbBgn/tZsfxMk7WNrLhSDHXjIjk0gGh/Gx8tNPy\\\n",
       "UK0lK+k+FEJ0ZUrr87JgRadLSEjQ6enp5+WzHSuw2yfFUVpdzx9W7OXBKQPZnFXiNE92uLCSWa+v\\\n",
       "p6Sqgf7hAeYNz5cOCGVcXws3jI7i3e+y+OZgIZcPCufvG44CEBvqz7Thvbi3lWFBWXlDCHG+KKW2\\\n",
       "aK0TOjuO9pAEdh6VVNWbq9X3Dw/guZviWZtRyJajJaw7VAxA0uBw1hwo5PFrhpjt+su2HjfXUuwf\\\n",
       "HsCSXyQ4VWNvrD3MHz/fz+PXDJEKTAhxTrlTApMhxLNkVGOZgOL2SbHAqfux7KvVJw0O5/mfjiYk\\\n",
       "wJuxfS1OFdwNo6O4uN+pDsZ5Vw6ipr6RJd8eIcjPk8OFVcx6fT2f3DvJTGIy9yWEEJLAzprj3l+A\\\n",
       "udAvnFqlo/ni+fZEZdd/svNWKD+bEM3evAp6B/myel8BJVUN/GHFXpbOnmC+XyovIURXJ230Z2lW\\\n",
       "QrR5I7P9Hq2HrxhgS1xGQnvx60Mt2vLtOznbt0VxfP3V3gLWHSri4y3HmTWuD0mDw2XDSiGEaEYq\\\n",
       "sLMUEuDNyz8f69RU4e/tadtuxaPN4b7mbfH218WV9ezNq+AXF/fFEuDldN+XEEKIUySBnQPNh/Sm\\\n",
       "Dovg24OFFFfWO9zc7Kx5YrM/fnuwkHWHivHyUDyVPOE8Ry6EEO5LEthZaq2l3RgCLGbdoWJW7c0n\\\n",
       "q7ia6vpGp3mv5knP/nrqsAj+sGKvDBkKIcQZSAI7S22tkFFdb2XL0VKzXb55I0db+ocHms0aQggh\\\n",
       "2iYJ7Cy1tULGvCsHt7jhWQghxLkjNzILIYQwudONzNJGL4QQwi25XAJTSv1GKaWVUmEOxx5XSh1S\\\n",
       "Sh1QSl3VmfEJIYRwDS6VwJRS0cCVwDGHY8OAm4HhwNXAq0opj86JsGM1v9lZCCHEKS6VwIAXgMdw\\\n",
       "btmbAXykta7TWmcCh4Au0abX1uaaQgghXKgLUSl1A5Cjtd6hlHI8FQVsdHh93HbsgieL9gohRNs6\\\n",
       "NIEppb4CerVy6kngCWBaa29r5VirrZNKqTnAHICYmJgfGaXrkEV7hRCibR2awLTWU1s7rpQaCcQB\\\n",
       "9uqrD7BVKTUBo+JyLEH6ALltfP4SYAkYbfTnLnIhhBCuxiXmwLTWu7TWPbXWsVrrWIykNVZrnQ8s\\\n",
       "B25WSvkopeKAgcCmTgxXCCGEC3CZObC2aK33KKU+BvYCVmCu1rqxk8MSQgjRyVwygdmqMMfXTwNP\\\n",
       "d040QgghXJFLDCEKIYQQP5QkMCGEEG5JEpgQQgi3dMGuRq+UKgSOtnIqDCjq4HDaS2L74Vw1LpDY\\\n",
       "fixXjc1V44JzG1tfrXX4Ofqs8+qCTWBtUUqlu+pWARLbD+eqcYHE9mO5amyuGhe4dmznkwwhCiGE\\\n",
       "cEuSwIQQQrilrpjAlnR2AKchsf1wrhoXSGw/lqvG5qpxgWvHdt50uTkwIYQQF4auWIEJIYS4AHS5\\\n",
       "BKaU+o1SSiulwhyOPa6UOqSUOqCUuqoTYvpfpdROpdR2pdQqpVRvV4hNKfWcUmq/LbbPlFLBrhCX\\\n",
       "7ftnKaX2KKWalFIJzc51amy2GK62ff8hpdT8zojBIZZ3lFInlFK7HY6FKKVWK6UO2h4tnRBXtFJq\\\n",
       "jVJqn+3P8mEXis1XKbVJKbXDFluKq8Rmi8NDKbVNKbXCleLqcFrrLvODsS3Llxj3h4XZjg0DdgA+\\\n",
       "GFu6HAY8OjiuHg7PHwJed4XYMPZn87Q9/xPwJ1eIyxbDUGAwkAYkOBx3hdg8bN/bD/C2xTOsI2No\\\n",
       "Fs/lwFhgt8OxZ4H5tufz7X+2HRxXJMauEwDdgQzbn58rxKaAQNtzL+B74GJXiM323Y8AHwArXOXP\\\n",
       "szN+uloF9gLwGM4bYs4APtJa12mtM4FDwISODEprXeHwMsAhvk6NTWu9Smtttb3ciLEXW6fHZYtt\\\n",
       "n9b6QCunOj022/cd0lof0VrXAx/Z4uoUWutvgJJmh2cA79qevwskd2RMAFrrPK31Vtvzk8A+jN3W\\\n",
       "XSE2rbWutL30sv1oV4hNKdUHuA54y+Fwp8fVGbpMAlNK3QDkaK13NDsVBWQ7vD5uO9ahlFJPK6Wy\\\n",
       "gVuB37tSbDZ3Ap/bnrtSXM25QmyuEMOZRGit88BIJEDPzgxGKRULjMGodFwiNtsw3XbgBLBaa+0q\\\n",
       "sf0F4x/iTQ7HXCGuDueS26n8WEqpr4BerZx6EngCY0isxdtaOXbOWzNPF5vW+l9a6yeBJ5VSjwMP\\\n",
       "AAs6IrYzxWW75kmMvdjet7/tfMfV3thae1srxzq61dYVYnAbSqlA4FPgV1rrCtuu7J1OG/sOjrbN\\\n",
       "/X6mlBrRySGhlJoOnNBab1FKJXZyOJ3ugkpgWuuprR1XSo3EmA/ZYfs/Rx9gq1JqAsa/jqMdLu8D\\\n",
       "5HZUbK34AFiJkcDOe2xnikspdTswHbhC2wbYOyKu9sTWhg6JzQ1iOJMCpVSk1jpPKRWJUWV0OKWU\\\n",
       "F0byel9rvcyVYrPTWpcppdKAq10gtkuAG5RS1wK+QA+l1HsuEFen6BJDiFrrXVrrnlrrWG1slnkc\\\n",
       "Y/I4H1gO3KyU8lFKxQEDgU0dGZ9SaqDDyxuA/bbnnRqbUupq4LfADVrraodTnf7f7DRcIbbNwECl\\\n",
       "VJxSyhu42RaXK1kO3G57fjvQVkV73ijjX5NvA/u01otdLLZwe9etUsoPmIrx/8tOjU1r/bjWuo/t\\\n",
       "77Gbgf9qrW/r7Lg6TWd3kXTGD5CFrQvR9vpJjK6xA8A1nRDPp8BuYCfwbyDKFWLDaIDIBrbbfl53\\\n",
       "hbhs3/8TjH+I1AEFwJeuEpsthmsxuuoOYwx5dngMDrF8COQBDbb/ZncBocDXwEHbY0gnxHUpxtDq\\\n",
       "Tof/jV3rIrGNArbZYtsN/N52vNNjc4gxkVNdiC4TV0f+yEocQggh3FKXGEIUQghx4ZEEJoQQwi1J\\\n",
       "AhNCCOGWJIEJIYRwS5LAhBBCuCVJYEIIIdySJDAhhBBuSRKYEEIItyQJTAghhFuSBCaEEMItSQIT\\\n",
       "QgjhliSBCSGEcEuSwIQQQrglSWBCCCHckiQwIYQQbkkSmBBCCLckCUwIIYRbkgQmhBDCLUkCE0II\\\n",
       "4ZYkgQkhhHBL/x973VcwiuN3JQAAAABJRU5ErkJggg==\\\n",
       "\"\n",
       "  frames[1] = \"data:image/png;base64,iVBORw0KGgoAAAANSUhEUgAAAbAAAAEgCAYAAADVKCZpAAAAOXRFWHRTb2Z0d2FyZQBNYXRwbG90\\\n",
       "bGliIHZlcnNpb24zLjMuNCwgaHR0cHM6Ly9tYXRwbG90bGliLm9yZy8QVMy6AAAACXBIWXMAAAsT\\\n",
       "AAALEwEAmpwYAAAjDUlEQVR4nO3df3hV1Z3v8fdXwo8EhIQjYg4/DKWcqUgjttFr7Q+TqoVWRlKm\\\n",
       "PtXWuY46STvqPGg7vYN1bpN0htvesSO3t61tE5V6R6tjRxop6BTUE2urVoNiCkUOCKnQIOIhAUMg\\\n",
       "EFj3j/PDcyCBAEn23snn9TznOXuvtffJlzzKh7X22vuYcw4REZGgOcPrAkRERE6FAkxERAJJASYi\\\n",
       "IoGkABMRkUBSgImISCApwEREJJAUYCIiEkgKMBERCSQFmIiIBJICTEREAkkBJiIigaQAExGRQFKA\\\n",
       "iYhIICnAREQkkBRgIiISSAowEREJJAWYiIgEkgJMREQCSQEmIiKBpAATEZFAUoCJiEggKcBERCSQ\\\n",
       "FGAiIhJICjAREQkkBZiIiASSAkxERAJJASYiIoGkABMRkUBSgImISCApwEREJJAUYCIiEkgKMBER\\\n",
       "CSQFmIiIBJICTEREAinH6wL6y1lnneWKioq8LkNEJFDWrFnzrnNugtd19MagDbCioiIaGxu9LkNE\\\n",
       "JFDM7E9e19BbmkIUkT4Vj8dPql3kVPkqwMxslJm9bGavm9l6M6tJto83s9Vmtin5XuB1rSJyrOrq\\\n",
       "aoqLi4nFYlntsViM4uJiqqurvSlMBiVfBRjQCXzaOXcBMBuYa2aXAIuAZ5xzM4Bnkvsi4iPV1dXU\\\n",
       "1NTQ0tJCWVlZOsRisRhlZWW0tLRQU1OjEJM+46sAcwntyd3hyZcD5gMPJtsfBMoHvjqRbJoqe18q\\\n",
       "vFJSIbZy5cp0eKUoxKSv+CrAAMxsmJmtBd4BVjvnfg9MdM7tAEi+n+1hiSKaKssQj8epq6vLaiun\\\n",
       "nI6WDubNm0dHSwflR/2bs66ubkgGvfQx55wvX0A+EAVmAW1H9bX2cE4l0Ag0Tp061Yn0h6qqKkdi\\\n",
       "ZsCFw2G3ceNG55xzGzdudOFwON1XVVXlbaEDKPPPXk65ixJ1S1nqiihyS1nqokRdOeXH/M7Ef4BG\\\n",
       "54MM6M3LdyOwFOdcG9AAzAV2mlkhQPL9nR7OqXXOlTjnSiZMCMRtDBIwmio7VsfePex54w88+avl\\\n",
       "hMNhGmigmWaKKGIpSymiiGaaaaCBcDhMNBolEol4XbYMAr4KMDObYGb5ye1c4ArgDWA5cEPysBuA\\\n",
       "JzwpUIY0TZV1b33D0/zm4aUc3N5MbW0tbbRRQ03WMTXU0EYbtbW1Ci/pM74KMKAQiJpZE/AKiWtg\\\n",
       "K4DvAlea2SbgyuS+yIAKhUJEo1HC4TCQCK+FLGQJSyiiiCUsYSEL0yGWGm2EQiEPq+5/55dewae+\\\n",
       "fCMjJhdRWVlJPvlUUZV1TBVV5JNPZWXlMdcNRU6VrwLMOdfknLvQOVfsnJvlnPt2sj3unLvcOTcj\\\n",
       "+b7b61plaIpEIukQ01RZQt7YcYz70If53F9eTUtLC6WUpn8XN3Jj+ndUSukxS+xFToclrtkNPiUl\\\n",
       "JU6PkpL+snLlSubNm5cOr5TUX9grVqzgqquu8rDC/tWxdw8vL3+cXVu3MPvzX6R0ztys63/llNNA\\\n",
       "A220kU8+pZRST326PxwO09TUNOhHp0FkZmuccyVe19Ebg/ZZiCKnbV8c1j4Es69P7Ce3Y3+OH3eq\\\n",
       "7A7uoLKyclCOwLa8uoYnf/iv5Awfwb62VgD27NrJRyadnRVg9dQzYfx4bppZwq/+uIX63fVZn1NR\\\n",
       "UaHwktPmqylEEV/YF4fffR9e/ims/lYiuNY+BKu/RWz5PenVhkNxquypH32Pzn370uEFsGfnDkqn\\\n",
       "TeLKmTPSbYWFhaxevYqvfmMRq1evSl83BKiqqhoSqzOl/2kKUYa2zFHW6OSI4HffTwTX+A/A9Msh\\\n",
       "bzzMuob4K7+g+Obv0/L2+3dxDJWpstSU4fpnV3FgX3u3x5idwZ/GncMj//k4q1ev4oKPfDTdl3qc\\\n",
       "VEVFhcLL54I0hagRmAxtyZEVax96v2329TBuCuzeAhufguf+N6z6JqHLvkLFZ2ZlnV5PPXln7mHF\\\n",
       "v1aQF87LCi8YPFNl6xueZs2vlvUYXgDOHeHSwvHc9smPsm/zG1l9kUiEpqYmhZf0KQWYDG2zr4cr\\\n",
       "v514T00dduyGzvcS/e+9DWedB5tWwY8/RvWsbVRdNiJ9erjwHKI/vZOrbvlO1hJ7CPZUWcfePbyy\\\n",
       "/HE69u4BEkvlx4w/64TnOWD0yBE4O7ZvMAS5+IsWccjQNjoEH1+Y2I5+B577LmxYAQfaEm2uC97d\\\n",
       "kNhu3wlAdekoGHEmdX8YRvTfbiJy9ddgdIhIJHGfWNCnyuJ/3s4T3/sXWlu2A4nwWt/wNGNCIdp3\\\n",
       "v9vtOZ+6/mZwR/jAR/8bW9b8nvNLrxjIkmWIUoCJpCWvB+9oOuGR1Zce4u8vn0xo4w9h7dnpEExN\\\n",
       "lQV5tPHcv99Ha8t28ieGOXTgAGv/awUvPv4IJfMWAEZ7/F2GjxzFvj27GT5qFPt272bb+tdZsKga\\\n",
       "gNCkyZ7WL0OHAkwk5eKvwPpl8O4mGDYKDh847uGh/Vuh8EI42JGYfgRY+xCh1LJ7n+vYu4fXfr2C\\\n",
       "rgOdHDrYSWvLn/n0TV/lsr/+WwDGT57Ki48/wtRZs7nkC9dx4Zx5XDb2pqzPiP95O8/9+33pc0QG\\\n",
       "kgJMJLUSMfI5iHwWxk6C0n+ClV+Dnd2Pxrbm5HB3KJ9v7PoD03a8Bi/XgTucmHps/i2U/+T9VY0+\\\n",
       "tb7haV76z0ey2p779/tYsKiaBYuq6di7h93b32Lra40UXXAheWPHHfMZuWeeyZSZHyb3zDMHqmyR\\\n",
       "NAWYSGolYvNvE4s1rvw2hD4Ao8f3eMrdoXyez8vjEMalBw5Q/l4rBUeOJDo3rYLHb4LPfg9iT2Yv\\\n",
       "0T9F8Xi822nJntp70rF3D+sbnub80is4v/QKDnYeyBqBZY6k8saOY+4td6SP707qQb4AF139Vyf5\\\n",
       "pxI5PQowkdSUX+RzUPSJxP7ah2BLA0y+CDriEC6BdY+lT/lGvA2A6QcPcc/4Al4YNZILOw9y3d72\\\n",
       "RJBtaYCnvkFr83PUb3mC8qvqKBg//ZTKq66upq6u7pgne5zKvVVHB87Hr/nycY/PGzvuuMGUCjYt\\\n",
       "2hAv6EZmke4cfYPzvjg0fCcxujqnGN6MwqF2Ws84g7smhHg+LxeAT3Z0sHhX4lnTj3zoU7y2/21e\\\n",
       "ooOvhS7mxnn3n3QZmd8/lvmA4FR4pR7f1Nsl+5kjsO6mBEV0I7NI0KWW16em/kaHIH8KtP0JplwE\\\n",
       "tzfBsJEUHDnC4l1x/m7vfi7p2M/zeXnccU4h14Qn8uP9W3iJDsbaCFrGhWk90Hr8n3mU/vjyzNSI\\\n",
       "SuElg4ECTKS3Mm96Hh2CL/4ccnIpOHKEW6bM4Zvth5l28CBrRg5j5/Dh6dP2uoM8uqWee5/8yvur\\\n",
       "FU/gVL48s7a2lh/89gcnHZQiQaUAE+mto0dlkSvgjvWJULvy2zRc/g9sHTGCjxbMpJsHUfDYnvXc\\\n",
       "8eQNzP3PuSx+aTFb92xl6bql6ffM4DnZL88cd9Y4Kn5cQe2btdRvru/f34OIT+gamEgfaT3QSv3m\\\n",
       "eso/WM7vo9/iG28/C2f0/G/EscPHsvfQXi4pvISXdrzEJyd9ksWfWEzBqIL0MalrXR0tHenwSmmm\\\n",
       "mTu4g/b8dqYtmsbtc24nNyeX8g+WZ32GyMkI0jUwBZhIf9gX5/UX/41FrY3EO3aynyM9Hjp93HR2\\\n",
       "7d/F3oN7+Zvz/4bxo8anQ6j1QCs1D9Tw/Vu/3+OXZ/7d//07Zn1yFtd96DoFl5w2BZgPKMDED5au\\\n",
       "W8o9a+5hBHCwF8dPzJvIzo6dFI4uJDwmzOjW0dTeUsuYtjE9jsByC3NpaGgYdF+eKd4IUoDpGphI\\\n",
       "Pyr/YDlf++jXWPAX1/bq+J0diQcG79i3gxdef4H7br2Prrau43555o4dOwbll2eKnIhGYCIDoPVA\\\n",
       "Kw+se4A3dr/BzPEzWbp+KY6e/9/rau/izf/5JodaD6XbhsqXZ4q3NAITkSwFowr4esnXqftMHfmj\\\n",
       "8nE4Ckb2fL0qZ0wOE0onZLXVU09eOI8VK1YM6i/PFOktXwWYmU0xs6iZbTCz9Wa2MNk+3sxWm9mm\\\n",
       "5LuuVEtgpaYV5xTNOe5xofkhJsx/P8TGThhLNBrlqquuIhqNUlhYmO4L8pdnipwqXwUY0AV83Tl3\\\n",
       "HnAJcKuZzQQWAc8452YAzyT3RQKpYFQBN866kVtm30LJxJ5nahyOWV+axfRrppOTn8PtdbenF2pE\\\n",
       "IhEaGhoIh8MKLxmyfPUwX+fcDmBHcvs9M9sATALmA6XJwx4EGoB/9KBEkT5TMKqAi865iMadjYRG\\\n",
       "hYgfiHMGZ3AkY8l9Z1cnuVfl8tfX/jW3z7k96/zB8OWZIqfDVwGWycyKgAuB3wMTk+GGc26HmZ3t\\\n",
       "ZW0ifeW6D11Hbk4uuw/s5mfrf8b86fNZu2stX5jxBe5bdx/fvPib7OjY0ePNyQovGcp8GWBmNgZ4\\\n",
       "HLjdObfXrLsH83R7XiVQCTB16tT+K1Ckj6SmE1sPtGbdwLx03VJaO1vZsncLuTm5tHW2pZ/yoZuV\\\n",
       "RRJ8F2BmNpxEeD3snFuWbN5pZoXJ0Vch8E535zrnaoFaSCyjH5CCRfpAKshSyj9YDsD+rv3cs+Ye\\\n",
       "Xnn7FZ7/8/MAWceJDGW+CjBLDLXuBzY45+7J6FoO3AB8N/n+hAfliQyYzJFZbk4upVNKueici9LB\\\n",
       "JiI+u5HZzD4BPA/8AdJXsr9J4jrYY8BU4C3gGufc7uN9lm5kFhE5eUG6kdlXIzDn3G+h22+iALh8\\\n",
       "IGsRERF/89t9YCIiIr2iABMRkUBSgImISCApwEREJJAUYCIiEkgKMBERCSQFmIiIBJICTEREAkkB\\\n",
       "JiIigaQAExGRQFKAiYhIICnAREQkkBRgIiISSAowEREJJAWYiIgEkgJMREQCSQEmIiKBpAATEZFA\\\n",
       "UoCJiEggKcBERCSQFGAiIhJICjAREQkkXwWYmT1gZu+Y2bqMtvFmttrMNiXfC7ysUURE/MFXAQb8\\\n",
       "DJh7VNsi4Bnn3AzgmeS+iIgMcb4KMOfcb4DdRzXPBx5Mbj8IlA9kTSIi4k++CrAeTHTO7QBIvp/t\\\n",
       "cT0iIuIDQQiwXjOzSjNrNLPGXbt2eV2OiIj0oyAE2E4zKwRIvr/T04HOuVrnXIlzrmTChAkDVqCI\\\n",
       "iAy8IATYcuCG5PYNwBMe1iIiIj7hqwAzs0eAF4G/MLPtZnYz8F3gSjPbBFyZ3BcRkSEux+sCMjnn\\\n",
       "ruuh6/IBLURERHzPVyMwERGR3lKAiYhIICnAREQkkBRgIiISSAowEREJJAWYiIgEkgJMREQCSQEm\\\n",
       "IiKBpAATEZFAUoCJiEggKcBERCSQFGAiIhJICjAREQkkBZiIiASSAkxERAJJASYiIoGkABMRkUBS\\\n",
       "gImISCApwEREJJAUYCIiEkgKMBERCSQFmIiIBFJgAszM5prZRjPbbGaLvK5HRES8FYgAM7NhwI+A\\\n",
       "zwIzgevMbKa3VYmIiJcCEWDAxcBm59wW59xB4FFgvsc1iYiIh4ISYJOAbRn725NtIiIyRAUlwKyb\\\n",
       "NnfMQWaVZtZoZo27du0agLJERMQrQQmw7cCUjP3JQMvRBznnap1zJc65kgkTJgxYcV6Ix+Mn1S4i\\\n",
       "MtgEJcBeAWaY2TQzGwFcCyz3uCbPVFdXU1xcTCwWy2qPxWIUFxdTXV3tTWEiIgMoEAHmnOsCbgN+\\\n",
       "DWwAHnPOrfe2Km9UV1dTU1NDS0sLZWVl6RCLxWKUlZXR0tJCTU2NQkxEBr1ABBiAc+5J51zEOTfd\\\n",
       "ObfY63q8kAqvlFSIrVy5Mh1eKQoxERnsAhNgQ108Hqeuri6rrZxyOlo6mDdvHh0tHZRTntVfV1en\\\n",
       "a2IiMmgpwAIiFAoRjUYJh8NAIrwWspAlLKGIIpawhIUsTIdYOBwmGo0SCoU8rFpEpP8owAIkEomk\\\n",
       "Q6yBBppppogilrKUIopoppkGGtLhFYlEvC5ZRKTfKMB8bH/7QV5d9Sf2tx9Mt0UiEWpra2mjjRpq\\\n",
       "so6voYY22qitrVV4icigpwDzsQ0v7ODFZW+y4YUd6bZYLEZlZSX55FNFVdbxVVSRTz6VlZXHLLEX\\\n",
       "ERlsFGA+kTnaSm1Pu+AsPrZgOuddWghkL5UvpTQ9bXgjN6anE0spPWaJvYjIYGTOHfNEpkGhpKTE\\\n",
       "NTY2el3GCe1vP8iGF3bQ1XmYV1Y2M3XWeAoKR/P66m3MvnIKDohva2fWnBCfuuJjWUvlyymngQba\\\n",
       "aCOffEoppZ76dH84HKapqUkLOUSk18xsjXOuxOs6ekMjMI+lpgk72g8yakwOb63bzVvrEkvf1z69\\\n",
       "jddXb2P7G6003LeVi6fPzTq3nnrywnmsWLGCvHBeVngBVFRUKLxEZNDK8bqAoe68Sws51HmYTS/v\\\n",
       "5EB7F3njRtC6oyPRmTE4PrDvMFfM/DI4R/1vlwJkrTaMRqNZNzNXVVXpRmYRGdQUYB7LHTOC4SOH\\\n",
       "sWfXfsZOGEV7a+dxj//inK/Quf8wv9/8VNZS+cwQq6ioUHiJyKCna2ADLHXN67xLC8kdMwKA1p37\\\n",
       "+M0jMQ51drFz63vHPb9wxjiGjxzGzMvHM/28qcf0x+NxTRuKyCkL0jUwjcAGWOqaF8BHPnMuAFtf\\\n",
       "f5ftb7Se8Ny8cSMou/5DFEwc3eMxCi8RGSoUYAMstSQ+9Z7a7uo8zMGDhzFga9Mu9uw8kHVe7pk5\\\n",
       "zP3KrOOGl4jIUKJViAMsd8wIPvKZc9PTh6m2D5dNJu/MEXxkzrnM/PikdN/I0cOY+IGx7H+vi8Yn\\\n",
       "mz2oWETEnzQC84nMqcXUiMwBxWWTObDvEL/9xSY+cc0Mb4sUEfERBZhPZE4t5o4ZwcV/+YF0X+6Y\\\n",
       "EfzlbbM9qkxExJ8UYD6RmloUEZHe0TUwEREJJAWYiIgEkgJMREQCSQEmIiKBpAATEZFA8k2Amdk1\\\n",
       "ZrbezI6YWclRfXea2WYz22hmc7yqUURE/MNPy+jXAQuAn2Y2mtlM4FrgfCAMPG1mEefc4YEvUURE\\\n",
       "/MI3IzDn3Abn3MZuuuYDjzrnOp1zW4HNwMUDW52IiPiNbwLsOCYB2zL2tyfbRERkCBvQKUQzexo4\\\n",
       "p5uuu5xzT/R0Wjdt3X6JmZlVApUAU6ce+11ZIiIyeAxogDnnrjiF07YDUzL2JwMtPXx+LVALiS+0\\\n",
       "PIWfJSIiARGEKcTlwLVmNtLMpgEzgJc9rklERDzmmwAzs8+b2XbgY8BKM/s1gHNuPfAY8Efgv4Bb\\\n",
       "tQJRRER8s4zeOfdL4Jc99C0GFg9sRSIi4me+GYGJiIicDAWYiIgEkgJMREQCSQEmIiKBpAATEZFA\\\n",
       "UoCJiEggKcBERHwqHo+fVPtQowATEfGh6upqiouLicViWe2xWIzi4mKqq6u9KcxHFGAiIj5TXV1N\\\n",
       "TU0NLS0tlJWVpUMsFotRVlZGS0sLNTU1Qz7EFGAiIj6SCq+UVIitXLkyHV4pQz3EFGAiIj4Rj8ep\\\n",
       "q6vLaiunnI6WDubNm0dHSwfllGf119XVDdlrYgowERGfCIVCRKNRwuEwkAivhSxkCUsoooglLGEh\\\n",
       "C9MhFg6HiUajhEIhD6v2jgJMRMRHIpFIOsQaaKCZZoooYilLKaKIZpppoCEdXpFIxOuSPaMAExHx\\\n",
       "mUgkQm1tLW20UUNNVl8NNbTRRm1tLZFIhK7WVuL3309Xa6tH1XpHASYi4jOxWIzKykryyaeKqqy+\\\n",
       "KqrIJ5/KykpisRh7li3jnbu/x55lyzyq1jsKMBERj3S1trLrBz9g1w9+SOfWrcTvv58/vvJKerVh\\\n",
       "KaXpacMbuTE9nVhKaXp14s7iYs7+xj8wbsECr/84A86cc17X0C9KSkpcY2Oj12WIiByjq7WV1oce\\\n",
       "ouPV1+h48UUARs2ezdtr1vD5t3ews709fWw55TTQQBtt5JNPKaXUU5/uD4fDNDU19dlCDjNb45wr\\\n",
       "6ZMP62cagYmIDLDWhx7m3R/dmw4vgANr15I/bBh/NWpU1rH11DMqH5549FHywnlZ4QVQUVGhVYgi\\\n",
       "ItL/ulpb6Xjt1R77bwudxS0ZgXTOuHE8UDCej7e3Zy2xB6iqqhrSNzLneF2AiMhQ0NXayp5lyzjS\\\n",
       "sZ+OF16E4cPh0KFuj73trAkALDt8mGdWrWJiUxPjFiwgVFBANBqlrKyMioqKIR1eoGtgIiIDIn7/\\\n",
       "/bxz9/c469ZbOCMvj133/hi3b1+Px+d/+Uuc8aUvMXH69GM/Kx7vt2nDIF0D0whMRGQApFYJpt73\\\n",
       "PPUUnevWH3OcnXkm7r33GBEOE+omvIAhe83raL65BmZmd5vZG2bWZGa/NLP8jL47zWyzmW00szke\\\n",
       "likickpyCgoI3XwzOQUFtD70MJ3r1pNbUsLI885LHzPqgguY9th/DNll8SfLNwEGrAZmOeeKgRhw\\\n",
       "J4CZzQSuBc4H5gL3mtkwz6oUETltiUs3ucUfZlhBPgA5507lwOuv0/7ss+mgk+PzzRSic25Vxu5L\\\n",
       "wBeS2/OBR51zncBWM9sMXAy8iIhIABVcfz1n5OWlF3SMvuxTTFy0iPZnn9XI6yT4JsCOchPwH8nt\\\n",
       "SSQCLWV7sk1EJJBS04ldra2ckZfLuAULyCkoYOTNN3tdWqAMaICZ2dPAOd103eWceyJ5zF1AF/Bw\\\n",
       "6rRuju926aSZVQKVAFOnTj3tekVE+lMqyOTUDGiAOeeuOF6/md0AzAMud++v798OTMk4bDLQcvS5\\\n",
       "yc+vBWohsYz+tAsWERHf8s0iDjObC/wjcLVzriOjazlwrZmNNLNpwAzgZS9qFBER//DTNbAfAiOB\\\n",
       "1WYG8JJz7qvOufVm9hjwRxJTi7c65w57WKeIiPiAbwLMOffB4/QtBhYPYDkiIuJzvplCFBERORkK\\\n",
       "MBERCSQFmIiIBJICTEREAkkBJiIyiHS1thK//366Wlu9LqXfKcBERAaRPcuW8c7d32PPsmVel9Lv\\\n",
       "fLOMXkRETt/R3zs2mCnAREQGkaH0fEVNIYqISCApwEREJJAUYCIiEkgKMBERCSQFmIiIBJICTERE\\\n",
       "AkkBJiIigaQAExGRQFKAiYhIICnAREQkkBRgfSQej59Uu4iInB4FWB+orq6muLiYWCyW1R6LxSgu\\\n",
       "Lqa6utqbwkREBjEF2Gmqrq6mpqaGlpYWysrK0iEWi8UoKyujpaWFmpoahZiISB9TgJ2GVHilpEJs\\\n",
       "5cqV6fBKUYiJiPQtBdgpisfj1NXVZbWVU05HSwfz5s2jo6WDcsqz+uvq6nRNTESkj/gmwMzsn82s\\\n",
       "yczWmtkqMwtn9N1pZpvNbKOZzfGyzpRQKEQ0GiUcTpRZTjkLWcgSllBEEUtYwkIWpkMsHA4TjUYJ\\\n",
       "hUIeVi0iMnj4JsCAu51zxc652cAK4FsAZjYTuBY4H5gL3GtmwzyrMkMkEkmHWAMNNNNMEUUsZSlF\\\n",
       "FNFMMw00pMMrEol4XbKIyKDhmwBzzu3N2B0NuOT2fOBR51ync24rsBm4eKDr60kkEqG2tpY22qih\\\n",
       "JquvhhraaKO2tlbhJSLSx3wTYABmttjMtgFfJjkCAyYB2zIO255s84VYLEZlZSX55FNFVVZfFVXk\\\n",
       "k09lZeUxS+xFROT0DGiAmdnTZraum9d8AOfcXc65KcDDwG2p07r5KNdNG2ZWaWaNZta4a9euPq19\\\n",
       "976D/PS5N9m972C6LRaLcVlpYrVhKaXpacMbuTE9nVhK6TFL7EVE5PSZc91mgafM7FxgpXNulpnd\\\n",
       "CeCc+06y79dAtXPuxeN9RklJiWtsbDzlGnbvO8gvGrdxTckUAP72wVd49a02zhw5jM9fOIn//pGz\\\n",
       "uOxjJVlL5cspp4EG2mgjn3xKKaWe+nR/OBymqalJCzlExLfMbI1zrsTrOnrDN1OIZjYjY/dq4I3k\\\n",
       "9nLgWjMbaWbTgBnAy/1dzy8at/Gdp97gwRea+fufv8qrb7UB8F7nYf7fS28x9yevMnZ29oLIeurJ\\\n",
       "C+exYsUK8sJ5WeEFUFFRofASEekjOV4XkOG7ZvYXwBHgT8BXAZxz683sMeCPQBdwq3PucH8Xkxp5\\\n",
       "/bm1g9+9eey9W11HoOvDf0XovU7iz/8cIGu1YTQazbqZuaqqSjcyi4j0IV9OIfaFU51CPHrqcMG9\\\n",
       "v6M53nHcc440PsbhDU8fs1Q+9TipiooKhZeIBEKQphD9NALzhdTUIUDHwcMnDC+AkgUV1H3xnmOm\\\n",
       "ByORiK55iYj0EwXYUVIjr2tKpvCThs0nPP6csSO5+5rZhEJjuu1XeImI9A/fLOLwi/GjR/CVy6Yz\\\n",
       "fvQIcke8n+/j8xLbI3OMnIzf2rmhPKZP6D68RESk/2gEdhw3XFpE4pYz4/lNu9j9VhuzpxTwvxZ8\\\n",
       "mL954GW2te7ngskFHlcpIjI0aRFHL725q51/WfFH/mneTKZPGJO12GP86BF99nNERLwUpEUcCjAR\\\n",
       "EUkLUoDpGpiIiASSAuw0dPd8RBERGRgKsNOQumfsF43bTnywiIj0Ka1CPA2Z94yJiMjAUoCdhtQ9\\\n",
       "YyIiMvA0hSgiIoGkABMRkUBSgImISCApwEREJJAUYCIiEkgKMBERCSQFmIiIBNKgfZivme0C/jSA\\\n",
       "P/Is4N0B/HmnQ7X2D9XaP1Rr/+mu3nOdcxO8KOZkDdoAG2hm1hiUJzir1v6hWvuHau0/Qav3aJpC\\\n",
       "FBGRQFKAiYhIICnA+k6t1wWcBNXaP1Rr/1Ct/Sdo9WbRNTAREQkkjcBERCSQFGCnwcz+2cyazGyt\\\n",
       "ma0ys3BG351mttnMNprZHC/rTNZzt5m9kaz3l2aWn9Hnt1qvMbP1ZnbEzEqO6vNVrQBmNjdZz2Yz\\\n",
       "W+R1PUczswfM7B0zW5fRNt7MVpvZpuR7gZc1ppjZFDOLmtmG5H8DC5PtvqvXzEaZ2ctm9nqy1hq/\\\n",
       "1ppiZsPM7DUzW5Hc922tvaEAOz13O+eKnXOzgRXAtwDMbCZwLXA+MBe418yGeVZlwmpglnOuGIgB\\\n",
       "d4Jva10HLAB+k9nox1qTP/9HwGeBmcB1yTr95Gckfl+ZFgHPOOdmAM8k9/2gC/i6c+484BLg1uTv\\\n",
       "04/1dgKfds5dAMwG5prZJfiz1pSFwIaMfT/XekIKsNPgnNubsTsaSF1QnA886pzrdM5tBTYDFw90\\\n",
       "fZmcc6ucc13J3ZeAycltP9a6wTm3sZsu39Wa/PmbnXNbnHMHgUdJ1OkbzrnfALuPap4PPJjcfhAo\\\n",
       "H8iaeuKc2+GcezW5/R6Jv2wn4cN6XUJ7cnd48uXwYa0AZjYZuAq4L6PZl7X2lgLsNJnZYjPbBnyZ\\\n",
       "5AiMxP9w2zIO255s84ubgKeS236vNZMfa/VjTb0x0Tm3AxKhAZztcT3HMLMi4ELg9/i03uSU3Frg\\\n",
       "HWC1c863tQL/B/gfwJGMNr/W2isKsBMws6fNbF03r/kAzrm7nHNTgIeB21KndfNR/b7c80S1Jo+5\\\n",
       "i8Q0zcN+r7W707pp83oZrR9rCjwzGwM8Dtx+1EyHrzjnDicvIUwGLjazWR6X1C0zmwe845xb43Ut\\\n",
       "fSnH6wL8zjl3RS8P/TmwEqgi8a/wKRl9k4GWPi7tGCeq1cxuAOYBl7v375/wZa098KTWE/BjTb2x\\\n",
       "08wKnXM7zKyQxAjCF8xsOInwetg5tyzZ7Nt6AZxzbWbWQOJaox9r/ThwtZl9DhgFjDWzh/Bnrb2m\\\n",
       "EdhpMLMZGbtXA28kt5cD15rZSDObBswAXh7o+jKZ2VzgH4GrnXMdGV2+q/U4/FjrK8AMM5tmZiNI\\\n",
       "LDJZ7nFNvbEcuCG5fQPwhIe1pJmZAfcDG5xz92R0+a5eM5uQWs1rZrnAFST+DvBdrc65O51zk51z\\\n",
       "RST+G33WOXc9Pqz1pDjn9DrFF4l/Ja4DmoBfAZMy+u4C3gQ2Ap/1Qa2bSVyrWZt8/cTHtX6exMim\\\n",
       "E9gJ/NqvtSZr+hyJlZ1vAnd5XU839T0C7AAOJX+vNwMhEqvONiXfx3tdZ7LWT5CYgm3K+G/1c36s\\\n",
       "FygGXkvWug74VrLdd7UeVXcpsCIItZ7opSdxiIhIIGkKUUREAkkBJiIigaQAExGRQFKAiYhIICnA\\\n",
       "REQkkBRgIiISSAowEREJJAWYiIgEkgJMREQCSQEmIiKBpAATEZFAUoCJiEggKcBERCSQFGAiIhJI\\\n",
       "CjAREQkkBZiIiASSAkxERAJJASYiIoGkABMRkUBSgImISCD9fxoHRF9mX9wVAAAAAElFTkSuQmCC\\\n",
       "\"\n",
       "  frames[2] = \"data:image/png;base64,iVBORw0KGgoAAAANSUhEUgAAAbAAAAEgCAYAAADVKCZpAAAAOXRFWHRTb2Z0d2FyZQBNYXRwbG90\\\n",
       "bGliIHZlcnNpb24zLjMuNCwgaHR0cHM6Ly9tYXRwbG90bGliLm9yZy8QVMy6AAAACXBIWXMAAAsT\\\n",
       "AAALEwEAmpwYAAAZbElEQVR4nO3df5Dcd33f8efbNjhR+HH2WYDXP3LuoAVs9wrJ4XGngdwFU0yk\\\n",
       "wZemTJ1hOorC3JWOcZXAH9h1h9uFcWpgJvqHULiboPoPEpcZguxKSfGP3AUyA9jn1JxlZK0VrMTq\\\n",
       "eWyx+KBUjanRp3/c3npXdyedZGm/38/d8zGzs9/9fHbXr9Fo/NL38/3sbqSUkCQpN+cVHUCSpDNh\\\n",
       "gUmSsmSBSZKyZIFJkrJkgUmSsmSBSZKyZIFJkrJkgUmSsmSBSZKyZIFJkrJkgUmSsmSBSZKyZIFJ\\\n",
       "krJkgUmSsmSBSZKyZIFJkrJkgUmSsmSBSZKyZIFJkrJkgUmSsmSBSZKyZIFJkrJkgUmSsmSBSZKy\\\n",
       "ZIFJkrJkgUmSsmSBSZKyZIFJkrJkgUmSsmSBSZKyZIFJkrJkgUmSsmSBSZKyZIFJkrJ0QdEBzpVL\\\n",
       "LrkkDQwMFB1DkrLy6KOP/jCltLnoHGuxbgtsYGCA2dnZomNIUlYi4u+LzrBWLiFKOueazeZpjUtr\\\n",
       "UaoCi4hfiIiHI+J7EfFERNRb4xdHxAMR8VTr/qKis0pam1qtxuDgII1Go2u80WgwODhIrVYrJpiy\\\n",
       "V6oCA14EfiOl9M+AtwM3RsT1wG3AQymlLcBDrceSSq5Wq1Gv15mfn2dkZKRdYo1Gg5GREebn56nX\\\n",
       "65aYzkipCiwt+mnr4atatwTcBNzdGr8bGO19Omk5l8ZWt1ReS5ZKbN++fe3yWmKJ6UyUqsAAIuL8\\\n",
       "iHgMeB54IKX0XeCNKaVnAVr3bygwogS4NHYyzWaTqamprrFRRjk2f4xt27ZxbP4Yoyf8O3Rqasri\\\n",
       "1+lJKZXyBvQB08C1wMIJcy+s8ppxYBaYvfLKK5N0rkxMTCQWVwdSpVJJBw8eTCmldPDgwVSpVNpz\\\n",
       "ExMTxQYtUOefxSijaZrptJvdaYCBtJvdaZrpNMrosj9DFQuYTSXogLXcSncGtiSltADMADcCz0XE\\\n",
       "pQCt++dXec1kSmkopTS0eXMWH2NQhlwaW5tqtcr09DSVSoUZZjjMYQYYYDe7GWCAwxxmhhkqlQrT\\\n",
       "09NUq9WiIyszpSqwiNgcEX2t418EbgCeBO4Dtreeth24t5CA2vBcGjs91WqVyclJFligTr1rrk6d\\\n",
       "BRaYnJy0vHRGSlVgwKXAdETMAY+weA1sL3AX8N6IeAp4b+ux1HP9/f3tswpYLK+d7GQXuxhggF3s\\\n",
       "Yic72yW2dHbR399fYOriNBoNxsfH6aOPCSa65iaYoI8+xsfHl11HlNaiVAWWUppLKb0jpTSYUro2\\\n",
       "pfSp1ngzpfSelNKW1v2Pis6qjculsbXp3Co/zHD7z2YHO9p/ZsMML9tiL61VLF6zW3+GhoaSXyWl\\\n",
       "c2nfvn1s27atXV5Llv4HvXfvXrZu3VpgwuI0m00GBwe7rgeOMsoMMyywQB99DDPMHva05yuVCnNz\\\n",
       "cxv2bLUsIuLRlNJQ0TnWolRnYFIuXBo7uf7+fsbGxrrG9rCHTZVN7N27l02VTV3lBTA2NmZ56bRY\\\n",
       "YNJpcmlsbWq1GhMTL5f70pLq1q1bu64jAkxMTGzY3Zo6cy4hSqfBpbGVHfvJj/kvYx9qP/74f9vb\\\n",
       "Pq7VakxNTS27Hrj0D4GxsTHLq0RcQpTWKZfGljv2kx+z57OfXnW+VqsxNze3bDNLtVplbm7O8tIZ\\\n",
       "s8Ck0+TSWLcnZh7k2aeePOlzVivw9VzsOvfW7Q9aSufSUimduDS2tMV+Iy2NXTN8Az8++jyHv/e3\\\n",
       "vP+Wj3PZW95adCRtEF4Dk16BZrO54lnEauNS2XkNTNogXBqTimOBSWei8SB86k1Qez1Mf7boNNKG\\\n",
       "ZIFJZ2LPv4Pj/3fx+K/vhE9thn94pNhM0gZjgUlnYvRL3Y+P/wy+fMPiGVnjwXP2n/UXoKWXWWDS\\\n",
       "majeAO/8yMpzf/rbi0U29+dn9T/pL0BL3Sww6Uxt/QzUfgyvG1g29cJ55/GFv9rJF77wT3nhH194\\\n",
       "xf+ppR/RPPHrqTq/1moj/3imNia30Utny6fe1L4utvv1r+WPLr5ocfw4cB5c9dqr+NK7Ps+Rbz/C\\\n",
       "NcM3sOl1r1/T237iP32Cz97ZvVGkUqkwOTnJ+Ph419dawcb48LTOnZy20Vtg0tlWu5gXzku8+4oK\\\n",
       "nNe9yHHND17HO5+8iHd/aAfv/MBvn/Ktms0mb776zSw8v9Ae87sXdS7lVGAuIUpnW+1HXPTJF9h6\\\n",
       "Xj8cP754azl0+U955K0v8O+f+xRfO/g1XvjHF9i9fzdP//hpdu/fvWy5sb+/n/sfvJ++N/QB/gK0\\\n",
       "1MkzMOkc+/W7r+NHx/8PcN6yfzJeeN6FvHj8Ra6/9Hq+8+x3+Nivfowd1+5Y9h5L17qOzR9rl9eS\\\n",
       "wxzmD/gDNlU2behfgNbZ4RmYpLa/3v4wj+94gqtee9WyuRePvwjAxRdezLsuexfDVwyv+B7VapXJ\\\n",
       "yUkWWKBOvWuuTp0FFpicnLS8tKFYYFKP3Pev7+Px7Y+zdWDrsrn9P9zPt/7Xt5h5ZmbF1/oL0NJy\\\n",
       "FpjUY3f9+l08vv1xvvlvvsnvXvO7XH/p9fzhu/6Qj/3qxxh98+iy5/sL0NLKvAYmlZi/AK1e8xqY\\\n",
       "pLPCX4CWVleqAouIKyJiOiIORMQTEbGzNX5xRDwQEU+17i8qOqvUK/4CtLSyUhUY8BLw8ZTS24Dr\\\n",
       "gVsi4mrgNuChlNIW4KHWY2nDWCqxpfI68RegK5WK5aUNp9TXwCLiXuDzrdtwSunZiLgUmEkpveVk\\\n",
       "r/UamNYjfwFa55rXwM6CiBgA3gF8F3hjSulZgNb9GwqMJhXGX4CWXlbKAouI1wBfA34/pfST03jd\\\n",
       "eETMRsTs0aNHz11ASVLhSldgEfEqFsvrKymlpR9Ueq61dEjr/vmVXptSmkwpDaWUhjZv3tybwJKk\\\n",
       "QpSqwCIigD8BDqSU/qhj6j5ge+t4O3Bvr7NJksrlgqIDnOBfAP8WeDwiHmuN/UfgLuCrEfFh4B+A\\\n",
       "DxYTT5JUFqUqsJTS3wCxyvR7eplFklRupVpClCRprSwwSVKWLDBJUpYsMElSliwwSVKWLDBJUpYs\\\n",
       "MElSliwwSVKWLDBJUpYsMElSliwwSVKWLDBJUpYsMElSliwwSVKWLDBJUpYsMElSliwwSVKWLDBJ\\\n",
       "UpYsMElSliwwSVKWLDBJUpYsMElSliwwSVKWLDBJUpZKVWAR8eWIeD4i9neMXRwRD0TEU637i4rM\\\n",
       "KEkqh1IVGPBfgRtPGLsNeCiltAV4qPVYkrTBlarAUkrfBH50wvBNwN2t47uB0V5mkiSVU6kKbBVv\\\n",
       "TCk9C9C6f0PBeSRJJZBDga1ZRIxHxGxEzB49erToOJKkcyiHAnsuIi4FaN0/v9oTU0qTKaWhlNLQ\\\n",
       "5s2bexZQktR7ORTYfcD21vF24N4Cs0iSSqJUBRYRfwZ8G3hLRByJiA8DdwHvjYingPe2HkuSNrgL\\\n",
       "ig7QKaX0O6tMvaenQSRJpVeqMzBJktbKApMkZckCkyRlyQKTJGXJApMkZckCkyRlyQKTJGXJApMk\\\n",
       "ZckCkyRlyQKTJGXJApMkZckCkyRlyQKTJGXJApMkZckCkyRlyQKTJGXJApMkZckCkyRlyQKTJGXJ\\\n",
       "ApMkZckCkyRlyQKTJGXJApMkZSmbAouIGyPiYEQciojbis4jSSpWFgUWEecDfwy8H7ga+J2IuLrY\\\n",
       "VJKkImVRYMB1wKGU0g9SSj8D7gFuKjiTJKlAuRTYZcAzHY+PtMYkSRtULgUWK4ylZU+KGI+I2YiY\\\n",
       "PXr0aA9iSZKKkkuBHQGu6Hh8OTB/4pNSSpMppaGU0tDmzZt7Fk6S1Hu5FNgjwJaIuCoiXg3cDNxX\\\n",
       "cKaeaTabpzUuSRtBFgWWUnoJ+CjwDeAA8NWU0hPFpuqNWq3G4OAgjUaja7zRaDA4OEitVismmCQV\\\n",
       "7IKiA6xVSukvgL8oOkcv1Wo16vU6ACMjI0xPT1OtVmk0GoyMjDA/P9+et8gkbTRZnIFtRJ3lBTA/\\\n",
       "P8/IyAj79u1rl9eSer1ugUnacCywEmo2m0xNTXWNjTLKsfljbNu2jWPzxxhltGt+amrKa2KSNhQL\\\n",
       "rIT6+/uZnp6mUqkAi+W1k53sYhcDDLCLXexkZ7vEKpUK09PT9Pf3F5haknrLAiuparXaLrEZZjjM\\\n",
       "YQYYYDe7GWCAwxxmhpl2eVWr1aIjS1JPWWAlVq1WmZycZIEF6tS75urUWWCByclJy0vShmSBlVij\\\n",
       "0WB8fJw++phgomtuggn66GN8fHzZFntJ2ggssJLq3Co/zHB72XAHO9rLicMMt3cnWmKSNppIadlX\\\n",
       "Cq4LQ0NDaXZ2tugYZ6TZbDI4ONi1VX6UUWaYYYEF+uhjmGH2sKc9X6lUmJubcyOHpFckIh5NKQ0V\\\n",
       "nWMtPAMrof7+fsbGxrrG9rCHTZVN7N27l02VTV3lBTA2NmZ5SdpQsvkmjvXsjz/yV+3jW774G8DL\\\n",
       "36yx9GHmzt2G09PTXR9mnpiY8IPMkjYcC6zElkppamqqa6t8Z4mNjY1ZXpI2JAus5Gq1Grfeeuuy\\\n",
       "5cFqteo1L0kbmgVWAkvLhqtZraQsL0kbmZs4JElZssAkSVmywCRJWbLAJElZssAkSVmywCRJWbLA\\\n",
       "JElZssAkSVmywCRJWbLAJElZssAkSVkqTYFFxAcj4omIOB4RQyfM3R4RhyLiYES8r6iMkqTyKNOX\\\n",
       "+e4H/hXwpc7BiLgauBm4BqgAD0ZENaX0895HlCSVRWnOwFJKB1JKB1eYugm4J6X0YkrpaeAQcF1v\\\n",
       "00mSyqY0BXYSlwHPdDw+0hqTJG1gPV1CjIgHgTetMHVHSune1V62wlha5f3HgXGAK6+88owySpLy\\\n",
       "0NMCSyndcAYvOwJc0fH4cmB+lfefBCYBhoaGViw5SdL6kMMS4n3AzRFxYURcBWwBHi44kySpYKUp\\\n",
       "sIj4rYg4AvxzYF9EfAMgpfQE8FXg+8D/AG5xB6IkqTTb6FNKXwe+vsrcncCdvU0kSSqz0pyBSZJ0\\\n",
       "OiwwSVKWLDBJUpYsMElSliwwSVKWLDBJUpYsMElaB5rN5mmNrwcWmCRlrlarMTg4SKPR6BpvNBoM\\\n",
       "Dg5Sq9WKCXaOWWCSlLFarUa9Xmd+fp6RkZF2iTUaDUZGRpifn6der6/LErPAJClTS+W1ZKnE9u3b\\\n",
       "1y6vJeuxxCwwScpQs9lkamqqa2yUUY7NH2Pbtm0cmz/GKKNd81NTU+vqmpgFJkkZ6u/vZ3p6mkql\\\n",
       "AiyW1052sotdDDDALnaxk53tEqtUKkxPT9Pf319g6rPLApOkTFWr1XaJzTDDYQ4zwAC72c0AAxzm\\\n",
       "MDPMtMurWq0WHfmsssAkKWPVapXJyUkWWKBOvWuuTp0FFpicnFx35QUWmCRlrdFoMD4+Th99TDDR\\\n",
       "NTfBBH30MT4+vmyL/XpggUlSpjq3yg8z3F423MGO9nLiMMPLttivF5FSKjrDOTE0NJRmZ2eLjiFJ\\\n",
       "50Sz2WRwcLBrq/woo8wwwwIL9NHHMMPsYU97vlKpMDc3d9KNHBHxaEpp6FxmP1s8A5OkDPX39zM2\\\n",
       "NtY1toc9bKpsYu/evWyqbOoqL4CxsTF3IUqSiler1ZiYePm619Juw61bt3ZtsQeYmJhYdx9kvqDo\\\n",
       "AJKkUzvwa++CH/6w/fhtTx4AaJfS1NRU11b5pS32IyMjjI2NrbvyAq+BSVIWDrz1bV2PlwpsSbPZ\\\n",
       "XHF5cLXx1XgNTJJ0dl1yyUmnVyup9XTN60QuIUpSBt72N98qOkLplOYMLCI+FxFPRsRcRHw9Ivo6\\\n",
       "5m6PiEMRcTAi3ldgTElSSZSmwIAHgGtTSoNAA7gdICKuBm4GrgFuBL4QEecXllKSVAqlKbCU0v0p\\\n",
       "pZdaD78DXN46vgm4J6X0YkrpaeAQcF0RGSVJ5VGaAjvB7wF/2Tq+DHimY+5Ia0yStIH1dBNHRDwI\\\n",
       "vGmFqTtSSve2nnMH8BLwlaWXrfD8Fff+R8Q4MA5w5ZVXvuK8kqTy6mmBpZRuONl8RGwHtgHvSS9/\\\n",
       "QO0IcEXH0y4H5k98bev9J4FJWPwc2CsOLEkqrdIsIUbEjcAngA+klI51TN0H3BwRF0bEVcAW4OEi\\\n",
       "MkqSyqNMnwP7PHAh8EBEAHwnpfSRlNITEfFV4PssLi3eklL6eYE5JUklUJoCSym9+SRzdwJ39jCO\\\n",
       "JKnkSrOEKEnS6bDAJElZssAkSVmywCRJWbLAJElZssAkSVmywCRJWbLAJElZssAkSVmywCRJWbLA\\\n",
       "JElZssAkSVmywCRJWbLAJElZssAkSVmywCRJWbLAJElZssAkSVmywCRJWbLATkOz2TytcUnSuWOB\\\n",
       "rVGtVmNwcJBGo9E13mg0GBwcpFarFRNMkjYoC2wNarUa9Xqd+fl5RkZG2iXWaDQYGRlhfn6eer1u\\\n",
       "iUlSD1lgp7BUXkuWSmzfvn3t8lpiiUlS71hgJ9FsNpmamuoaG2WUY/PH2LZtG8fmjzHKaNf81NSU\\\n",
       "18QkqQdKU2AR8emImIuIxyLi/oiodMzdHhGHIuJgRLyvV5n6+/uZnp6mUlmMMsooO9nJLnYxwAC7\\\n",
       "2MVOdrZLrFKpMD09TX9/f68iStKGVZoCAz6XUhpMKb0d2At8EiAirgZuBq4BbgS+EBHn9ypUtVpt\\\n",
       "l9gMMxzmMAMMsJvdDDDAYQ4zw0y7vKrVaq+iSdKGVpoCSyn9pOPhLwGpdXwTcE9K6cWU0tPAIeC6\\\n",
       "XmarVqtMTk6ywAJ16l1zdeossMDk5KTlJUk9VJoCA4iIOyPiGeBDtM7AgMuAZzqedqQ11jONRoPx\\\n",
       "8XH66GOCia65CSboo4/x8fFlW+wlSedOTwssIh6MiP0r3G4CSCndkVK6AvgK8NGll63wVmmFMSJi\\\n",
       "PCJmI2L26NGjZyVz51b5YYbby4Y72NFeThxmeNkWe0nSuRUprdgFhYqIXwb2pZSujYjbAVJK/7k1\\\n",
       "9w2gllL69sneY2hoKM3Ozr6iHM1mk8HBwa6t8qOMMsMMCyzQRx/DDLOHPe35SqXC3NycGzkkZSki\\\n",
       "Hk0pDRWdYy1Ks4QYEVs6Hn4AeLJ1fB9wc0RcGBFXAVuAh3uRqb+/n7Gxsa6xPexhU2UTe/fuZVNl\\\n",
       "U1d5AYyNjVlektQDFxQdoMNdEfEW4Djw98BHAFJKT0TEV4HvAy8Bt6SUft6rUEsfTF76MHPnbsPp\\\n",
       "6emuDzNPTEz4QWZJ6pFSLiGeDWe6hDhw27728eG7traPa7UaU1NTy7bKL10jGxsbs7wkZS+nJcQy\\\n",
       "nYGVWq1W49Zbb122PFitVr3mJUkFKM01sBysVlKWlyT1nmdgJ+hcNpQklZdnYJKkLFlgkqQsWWCS\\\n",
       "pCxZYJKkLFlgkqQsWWCSpCxZYJKkLK3br5KKiKMsfqfi2XQJ8MOz/J69kGPuHDODuXstx9xlz/zL\\\n",
       "KaXNRYdYi3VbYOdCRMzm8h1hnXLMnWNmMHev5Zg7x8xl5RKiJClLFpgkKUsW2OmZLDrAGcoxd46Z\\\n",
       "wdy9lmPuHDOXktfAJElZ8gxMkpQlC+wUIuLTETEXEY9FxP0RUemYuz0iDkXEwYh4X5E5TxQRn4uI\\\n",
       "J1vZvx4RfR1zZc79wYh4IiKOR8TQCXOlzQ0QETe2sh2KiNuKzrOaiPhyRDwfEfs7xi6OiAci4qnW\\\n",
       "/UVFZjxRRFwREdMRcaD192Nna7zsuX8hIh6OiO+1ctdb46XOnY2UkreT3IDXdRz/B+CLreOrge8B\\\n",
       "FwJXAX8HnF903o6s/xK4oHX8GeAzmeR+G/AWYAYY6hgve+7zW5n+CfDqVtari861StZ3A78C7O8Y\\\n",
       "+yxwW+v4tqW/L2W5AZcCv9I6fi3QaP2dKHvuAF7TOn4V8F3g+rLnzuXmGdgppJR+0vHwl4Cli4Y3\\\n",
       "AfeklF5MKT0NHAKu63W+1aSU7k8pvdR6+B3g8tZx2XMfSCkdXGGq1LlZzHIopfSDlNLPgHtYzFw6\\\n",
       "KaVvAj86Yfgm4O7W8d3AaC8znUpK6dmU0t+2jv83cAC4jPLnTimln7Yevqp1S5Q8dy4ssDWIiDsj\\\n",
       "4hngQ8AnW8OXAc90PO1Ia6yMfg/4y9ZxTrk7lT132fOdyhtTSs/CYlkAbyg4z6oiYgB4B4tnM6XP\\\n",
       "HRHnR8RjwPPAAymlLHLnwAIDIuLBiNi/wu0mgJTSHSmlK4CvAB9detkKb9XTLZ2nyt16zh3ASyxm\\\n",
       "h0xyr/SyFcbKtIW27PnWhYh4DfA14PdPWB0prZTSz1NKb2dxFeS6iLi24EjrxgVFByiDlNINa3zq\\\n",
       "nwL7gAkW/4V9Rcfc5cD8WY52UqfKHRHbgW3Ae1JrsZ0Mcq+i8NynUPZ8p/JcRFyaUno2Ii5l8Wyh\\\n",
       "VCLiVSyW11dSSn/eGi597iUppYWImAFuJKPcZeYZ2ClExJaOhx8Anmwd3wfcHBEXRsRVwBbg4V7n\\\n",
       "W01E3Ah8AvhASulYx1Spc59E2XM/AmyJiKsi4tXAzSxmzsV9wPbW8Xbg3gKzLBMRAfwJcCCl9Ecd\\\n",
       "U2XPvXlpB3BE/CJwA4v/Dyl17mwUvYuk7DcW/8W3H5gD/jtwWcfcHSzuPDsIvL/orCfkPsTiNZnH\\\n",
       "WrcvZpL7t1g8m3kReA74Rg65W/l+k8XdcX8H3FF0npPk/DPgWeD/tf6sPwz0Aw8BT7XuLy465wmZ\\\n",
       "f43FJdm5jr/Tv5lB7kHgf7Zy7wc+2Rovde5cbn4ThyQpSy4hSpKyZIFJkrJkgUmSsmSBSZKyZIFJ\\\n",
       "krJkgUmSsmSBSZKyZIFJkrJkgUmSsmSBSZKyZIFJkrJkgUmSsmSBSZKyZIFJkrJkgUmSsmSBSZKy\\\n",
       "ZIFJkrJkgUmSsmSBSZKyZIFJkrL0/wFNJc3Qp5HVhwAAAABJRU5ErkJggg==\\\n",
       "\"\n",
       "  frames[3] = \"data:image/png;base64,iVBORw0KGgoAAAANSUhEUgAAAbAAAAEgCAYAAADVKCZpAAAAOXRFWHRTb2Z0d2FyZQBNYXRwbG90\\\n",
       "bGliIHZlcnNpb24zLjMuNCwgaHR0cHM6Ly9tYXRwbG90bGliLm9yZy8QVMy6AAAACXBIWXMAAAsT\\\n",
       "AAALEwEAmpwYAAAXnklEQVR4nO3df2zc933f8ed7tuNWTTvGjJz6/KN0EZ0XJ+WSgjMybBjIJlnc\\\n",
       "WojZAcFcFIPhBiQCJJ4C9I/YMxDerTDmLlj1T1OkJFrNf7j1ArSRPalt4ngkugFNHHpzODu2zmqj\\\n",
       "zgINWz2PSwMBbp289weP9JEiZUqW7vv9kM8HcLjvfT53hxcEQS99P9/P3UVmIklSaf5B1QEkSboY\\\n",
       "FpgkqUgWmCSpSBaYJKlIFpgkqUgWmCSpSBaYJKlIFpgkqUgWmCSpSBaYJKlIFpgkqUgWmCSpSBaY\\\n",
       "JKlIFpgkqUgWmCSpSBaYJKlIFpgkqUgWmCSpSBaYJKlIFpgkqUgWmCSpSBaYJKlIFpgkqUgWmCSp\\\n",
       "SBaYJKlIFpgkqUgWmCSpSBaYJKlIFpgkqUgWmCSpSBaYJKlIFpgkqUgWmCSpSBaYJKlIV1Yd4HJ5\\\n",
       "97vfnSMjI1XHkKSiPP3003+TmfurzrETu7bARkZGWFxcrDqGJBUlIv666gw75RKipMuu2+1e0Li0\\\n",
       "E7UqsIj4sYh4KiK+ExHPRUS7N35NRDwRES/27t9VdVZJO9NqtRgdHaXT6WwY73Q6jI6O0mq1qgmm\\\n",
       "4tWqwIDXgV/IzH8MfBC4PSI+DNwHPJmZB4Ane48l1Vyr1aLdbrO8vMzExMR6iXU6HSYmJlheXqbd\\\n",
       "bltiuii1KrBc9YPew6t6twTuBB7ujT8MTA4+nXQul8a2t1Zea9ZK7Pjx4+vltcYS08WoVYEBRMQV\\\n",
       "EfEM8CrwRGZ+C3hPZr4M0Lu/tsKIEuDS2Pl0u13m5uY2jE0yydnlsxw8eJCzy2eZ3PT/0Lm5OYtf\\\n",
       "FyYza3kDhoB54APAyqa5/7vNa6aBRWDxpptuSulymZmZSVZXB7LRaOSJEycyM/PEiRPZaDTW52Zm\\\n",
       "ZqoNWqH+P4tJJnOe+TzCkRxhJI9wJOeZz0kmz/kzVLWAxaxBB+zkVrszsDWZuQIsALcDr0TEdQC9\\\n",
       "+1e3ec1sZo5l5tj+/UV8jEEFcmlsZ5rNJvPz8zQaDRZY4BSnGGGEIxxhhBFOcYoFFmg0GszPz9Ns\\\n",
       "NquOrMLUqsAiYn9EDPWOfxz4KPAC8Dhwd+9pdwOPVRJQe55LYxem2WwyOzvLCiu0aW+Ya9NmhRVm\\\n",
       "Z2ctL12UWhUYcB0wHxFLwLdZvQZ2DHgI+FhEvAh8rPdYGrjh4eH1swpYLa9DHOIwhxlhhMMc5hCH\\\n",
       "1kts7exieHi4wtTV6XQ6TE9PM8QQM8xsmJthhiGGmJ6ePuc6orQTtSqwzFzKzA9l5mhmfiAz/31v\\\n",
       "vJuZH8nMA73716rOqr3LpbGd6d8qP874+p/NPdyz/mc2zvg5W+ylnYrVa3a7z9jYWPpVUrqcjh8/\\\n",
       "zsGDB9fLa83aP9DHjh3jjjvuqDBhdbrdLqOjoxuuB04yyQILrLDCEEOMM85Rjq7PNxoNlpaW9uzZ\\\n",
       "al1ExNOZOVZ1jp2o1RmYVAqXxs5veHiYqampDWNHOcq+xj6OHTvGvsa+DeUFMDU1ZXnpglhg0gVy\\\n",
       "aWxnWq0WMzNvlvvakuodd9yx4ToiwMzMzJ7dramL5xKidAFcGtvef/rXB9ePf/2/HFs/brVazM3N\\\n",
       "nXM9cO0/AlNTU5ZXjbiEKO1SLo1duFarxdLS0jmbWZrNJktLS5aXLpoFJl0gl8Yu3HYFvpeLXW+f\\\n",
       "S4jSRXJpTLtRSUuIFpj0NnS73S3PIrYbl+qupAJzCVF6G1wak6pjgUmSimSBSZKKZIFJBfEXoKU3\\\n",
       "WWBSIfwFaGkjC0y6HB68AVr/cPV2/PNv++3WfkRz89dT9X+t1V7+8UztTRaYdDn8/d8CMDa0n7u+\\\n",
       "9d8Z+92f4+e+dPNFvZW/AC1tzQKTLoerfhKA9752Lf/kxDW8d/mnYN++C34bfwFa2p4FJl0OD5wG\\\n",
       "4OQ1r/LtW17j5A0/uKi38Regpe1ZYNLl0vp/LH7uJC/fcgWvv+NHXPOOay7qbfwFaGlrfpWUVAh/\\\n",
       "AVqD4FdJSbqk/AVo6VwWmFRz/gK0tDWXEKUa8xegNWguIUq6JPwFaGl7tSqwiLgxIuYj4vmIeC4i\\\n",
       "DvXGr4mIJyLixd79u6rOKg2KvwAtba1WBQa8Afx6Zr4P+DDwmYi4FbgPeDIzDwBP9h5Le8ZaiW3e\\\n",
       "Kt+/xd7y0l5T62tgEfEY8Nu923hmvhwR1wELmXnL+V7rNTDtRv4CtC43r4FdAhExAnwI+Bbwnsx8\\\n",
       "GaB3f22F0aTK+AvQ0ptqWWAR8U7gj4DPZeb3L+B10xGxGBGLZ86cuXwBJUmVq12BRcRVrJbXI5n5\\\n",
       "x73hV3pLh/TuX93qtZk5m5ljmTm2f//+wQSWJFWiVgUWEQH8HvB8Zv5W39TjwN2947uBxwadTZJU\\\n",
       "L1dWHWCTfwb8G+B/R8QzvbF/BzwEfCUiPgX8H+CT1cSTJNVFrQosM/8HENtMf2SQWSRJ9VarJURJ\\\n",
       "knbKApMkFckCkyQVyQKTJBXJApMkFckCkyQVyQKTJBXJApMkFckCkyQVyQKTJBXJApMkFckCkyQV\\\n",
       "yQKTJBXJApMkFckCkyQVyQKTJBXJApMkFckCkyQVyQKTJBXJApMkFckCkyQVyQKTJBXJApMkFckC\\\n",
       "kyQVqVYFFhG/HxGvRsSzfWPXRMQTEfFi7/5dVWaUJNVDrQoM+M/A7ZvG7gOezMwDwJO9x5KkPa5W\\\n",
       "BZaZfw68tmn4TuDh3vHDwOQgM0mS6qlWBbaN92TmywC9+2srziNJqoESCmzHImI6IhYjYvHMmTNV\\\n",
       "x5EkXUYlFNgrEXEdQO/+1e2emJmzmTmWmWP79+8fWEBJ0uCVUGCPA3f3ju8GHqswiySpJmpVYBHx\\\n",
       "h8BfALdExOmI+BTwEPCxiHgR+FjvsSRpj7uy6gD9MvNXtpn6yECDSJJqr1ZnYJIk7ZQFJkkqkgUm\\\n",
       "SSqSBSZJKpIFJkkqkgUmSSqSBSZJKpIFJkkqkgUmSSqSBSZJKpIFJkkqkgUmSSqSBSZJKpIFJkkq\\\n",
       "kgUmSSqSBSZJKpIFJkkqkgUmSSqSBSZJKpIFJkkqkgUmSSqSBSZJKpIFJkkqUjEFFhG3R8SJiDgZ\\\n",
       "EfdVnUeSVK0iCiwirgC+BPwicCvwKxFxa7WpJElVKqLAgNuAk5n5V5n5d8CjwJ0VZ5IkVaiUArse\\\n",
       "eKnv8enemCRpjyqlwGKLsTznSRHTEbEYEYtnzpwZQCxJUlVKKbDTwI19j28Aljc/KTNnM3MsM8f2\\\n",
       "798/sHCSpMErpcC+DRyIiJsj4h3AXcDjFWcamG63e0HjkrQXFFFgmfkG8Fnga8DzwFcy87lqUw1G\\\n",
       "q9VidHSUTqezYbzT6TA6Okqr1aommCRV7MqqA+xUZv4J8CdV5xikVqtFu90GYGJigvn5eZrNJp1O\\\n",
       "h4mJCZaXl9fnLTJJe00RZ2B7UX95ASwvLzMxMcHx48fXy2tNu922wCTtORZYDXW7Xebm5jaMTTLJ\\\n",
       "2eWzHDx4kLPLZ5lkcsP83Nyc18Qk7SkWWA0NDw8zPz9Po9EAVsvrEIc4zGFGGOEwhznEofUSazQa\\\n",
       "zM/PMzw8XGFqSRosC6ymms3meoktsMApTjHCCEc4wggjnOIUCyysl1ez2aw6siQNlAVWY81mk9nZ\\\n",
       "WVZYoU17w1ybNiusMDs7a3lJ2pMssBrrdDpMT08zxBAzzGyYm2GGIYaYnp4+Z4u9JO0FFlhN9W+V\\\n",
       "H2d8fdnwHu5ZX04cZ3x9d6IlJmmvicxzvlJwVxgbG8vFxcWqY1yUbrfL6Ojohq3yk0yywAIrrDDE\\\n",
       "EOOMc5Sj6/ONRoOlpSU3ckh6WyLi6cwcqzrHTngGVkPDw8NMTU1tGDvKUfY19nHs2DH2NfZtKC+A\\\n",
       "qakpy0vSnlLMN3HsZl/69H9bP/7Ml38BePObNdY+zNy/23B+fn7Dh5lnZmb8ILOkPccCq7G1Upqb\\\n",
       "m9uwVb6/xKampiwvSXuSBVZzrVaLe++995zlwWaz6TUvSXuaBVYDa8uG29mupCwvSXuZmzgkSUWy\\\n",
       "wCRJRbLAJElFssAkSUWywCRJRbLAJElFssAkSUWywCRJRbLAJElFssAkSUWywCRJRapNgUXEJyPi\\\n",
       "uYj4UUSMbZq7PyJORsSJiPh4VRklSfVRpy/zfRb4V8Dv9g9GxK3AXcD7gQbwjYhoZuYPBx9RklQX\\\n",
       "tTkDy8znM/PEFlN3Ao9m5uuZ+T3gJHDbYNNJkuqmNgV2HtcDL/U9Pt0bkyTtYQNdQoyIbwA/vcXU\\\n",
       "A5n52HYv22Ist3n/aWAa4KabbrqojJKkMgy0wDLzoxfxstPAjX2PbwCWt3n/WWAWYGxsbMuSkyTt\\\n",
       "DiUsIT4O3BURV0fEzcAB4KmKM0mSKlabAouIX46I08A/BY5HxNcAMvM54CvAd4E/Az7jDkRJUm22\\\n",
       "0WfmV4GvbjP3IPDgYBNJkuqsNmdgkiRdCAtMklQkC0ySVCQLTJJUJAtMklQkC0ySVCQLTJJ2gW63\\\n",
       "e0Hju4EFJkmFa7VajI6O0ul0Nox3Oh1GR0dptVrVBLvMLDBJKlir1aLdbrO8vMzExMR6iXU6HSYm\\\n",
       "JlheXqbdbu/KErPAJKlQa+W1Zq3Ejh8/vl5ea3ZjiVlgklSgbrfL3NzchrFJJjm7fJaDBw9ydvks\\\n",
       "k0xumJ+bm9tV18QsMEkq0PDwMPPz8zQaDWC1vA5xiMMcZoQRDnOYQxxaL7FGo8H8/DzDw8MVpr60\\\n",
       "LDBJKlSz2VwvsQUWOMUpRhjhCEcYYYRTnGKBhfXyajabVUe+pCwwSSpYs9lkdnaWFVZo094w16bN\\\n",
       "CivMzs7uuvICC0ySitbpdJienmaIIWaY2TA3wwxDDDE9PX3OFvvdwAKTpEL1b5UfZ3x92fAe7llf\\\n",
       "Thxn/Jwt9rtFZGbVGS6LsbGxXFxcrDqGJF0W3W6X0dHRDVvlJ5lkgQVWWGGIIcYZ5yhH1+cbjQZL\\\n",
       "S0vn3cgREU9n5tjlzH6peAYmSQUaHh5mampqw9hRjrKvsY9jx46xr7FvQ3kBTE1NuQtRklS9VqvF\\\n",
       "zMyb173WdhvecccdG7bYA8zMzOy6DzJfWXUASdLOPP+P3rd+/L4XngdYL6W5ubkNW+XXtthPTEww\\\n",
       "NTW168oLvAYmScXYqsDWdLvdLZcHtxvfjtfAJEkDtV1J7aZrXpu5hChJhdh81rXX1eYMLCK+GBEv\\\n",
       "RMRSRHw1Iob65u6PiJMRcSIiPl5hTElSTdSmwIAngA9k5ijQAe4HiIhbgbuA9wO3A78TEVdUllKS\\\n",
       "VAu1KbDM/HpmvtF7+E3ght7xncCjmfl6Zn4POAncVkVGSVJ91KbANvk14E97x9cDL/XNne6NSZL2\\\n",
       "sIFu4oiIbwA/vcXUA5n5WO85DwBvAI+svWyL52+59z8ipoFpgJtuuult55Uk1ddACywzP3q++Yi4\\\n",
       "GzgIfCTf/IDaaeDGvqfdACxvfm3v/WeBWVj9HNjbDixJqq3aLCFGxO3A54FPZObZvqnHgbsi4uqI\\\n",
       "uBk4ADxVRUZJUn3U6XNgvw1cDTwREQDfzMxPZ+ZzEfEV4LusLi1+JjN/WGFOSVIN1KbAMvO955l7\\\n",
       "EHhwgHEkSTVXmyVESZIuhAUmSSqSBSZJKpIFJkkqkgUmSSqSBSZJKpIFJkkqkgUmSSqSBSZJKpIF\\\n",
       "JkkqkgUmSSqSBSZJKpIFJkkqkgUmSSqSBSZJKpIFJkkqkgUmSSqSBSZJKpIFJkkqkgV2Abrd7gWN\\\n",
       "S5IuHwtsh1qtFqOjo3Q6nQ3jnU6H0dFRWq1WNcEkaY+ywHag1WrRbrdZXl5mYmJivcQ6nQ4TExMs\\\n",
       "Ly/TbrctMUkaIAvsLayV15q1Ejt+/Ph6ea2xxCRpcCyw8+h2u8zNzW0Ym2SSs8tnOXjwIGeXzzLJ\\\n",
       "5Ib5ubk5r4lJ0gDUpsAi4jciYikinomIr0dEo2/u/og4GREnIuLjg8o0PDzM/Pw8jcZqlEkmOcQh\\\n",
       "DnOYEUY4zGEOcWi9xBqNBvPz8wwPDw8qoiTtWbUpMOCLmTmamR8EjgFfAIiIW4G7gPcDtwO/ExFX\\\n",
       "DCpUs9lcL7EFFjjFKUYY4QhHGGGEU5xigYX18mo2m4OKJkl7Wm0KLDO/3/fwJ4DsHd8JPJqZr2fm\\\n",
       "94CTwG2DzNZsNpmdnWWFFdq0N8y1abPCCrOzs5aXJA1QbQoMICIejIiXgF+ldwYGXA+81Pe0072x\\\n",
       "gel0OkxPTzPEEDPMbJibYYYhhpienj5ni70k6fIZaIFFxDci4tktbncCZOYDmXkj8Ajw2bWXbfFW\\\n",
       "ucUYETEdEYsRsXjmzJlLkrl/q/w44+vLhvdwz/py4jjj52yxlyRdXpG5ZRdUKiJ+BjiemR+IiPsB\\\n",
       "MvM/9Oa+BrQy8y/O9x5jY2O5uLj4tnJ0u11GR0c3bJWfZJIFFlhhhSGGGGecoxxdn280GiwtLbmR\\\n",
       "Q1KRIuLpzByrOsdO1GYJMSIO9D38BPBC7/hx4K6IuDoibgYOAE8NItPw8DBTU1Mbxo5ylH2NfRw7\\\n",
       "dox9jX0bygtgamrK8pKkAbiy6gB9HoqIW4AfAX8NfBogM5+LiK8A3wXeAD6TmT8cVKi1DyavfZi5\\\n",
       "f7fh/Pz8hg8zz8zM+EFmSRqQWi4hXgoXu4Q4ct/x9eNTD92xftxqtZibmztnq/zaNbKpqSnLS1Lx\\\n",
       "SlpCrNMZWK21Wi3uvffec5YHm82m17wkqQK1uQZWgu1KyvKSpMHzDGyT/mVDSVJ9eQYmSSqSBSZJ\\\n",
       "KpIFJkkqkgUmSSqSBSZJKpIFJkkqkgUmSSrSrv0qqYg4w+p3Kl5K7wb+5hK/5yCUmLvEzGDuQSsx\\\n",
       "d90z/0xm7q86xE7s2gK7HCJisZTvCOtXYu4SM4O5B63E3CVmriuXECVJRbLAJElFssAuzGzVAS5S\\\n",
       "iblLzAzmHrQSc5eYuZa8BiZJKpJnYJKkIllgbyEifiMiliLimYj4ekQ0+ubuj4iTEXEiIj5eZc7N\\\n",
       "IuKLEfFCL/tXI2Kob67OuT8ZEc9FxI8iYmzTXJ1z397LdTIi7qs6z/lExO9HxKsR8Wzf2DUR8URE\\\n",
       "vNi7f1eVGTeLiBsjYj4inu/9/TjUG6977h+LiKci4ju93O3eeK1zFyMzvZ3nBvxU3/G/Bb7cO74V\\\n",
       "+A5wNXAz8JfAFVXn7cv6L4Ere8e/CfxmIbnfB9wCLABjfeO1zQ1c0cvzs8A7ejlvrTrXefL+C+Dn\\\n",
       "gWf7xv4jcF/v+L61vy91uQHXAT/fO/5JoNP7O1H33AG8s3d8FfAt4MN1z13KzTOwt5CZ3+97+BPA\\\n",
       "2kXDO4FHM/P1zPwecBK4bdD5tpOZX8/MN3oPvwnc0Duue+7nM/PEFlN1zn0bcDIz/yoz/w54lNW8\\\n",
       "tZSZfw68tmn4TuDh3vHDwOQgM72VzHw5M/9n7/hvgeeB66l/7szMH/QeXtW7JTXPXQoLbAci4sGI\\\n",
       "eAn4VeALveHrgZf6nna6N1ZHvwb8ae+4pNz96py7ztl26j2Z+TKslgVwbcV5thURI8CHWD2bqX3u\\\n",
       "iLgiIp4BXgWeyMwicpfAAgMi4hsR8ewWtzsBMvOBzLwReAT47NrLtnirgW7pfKvcvec8ALzBanYo\\\n",
       "JPdWL9tirC5baOucbVeJiHcCfwR8btPqSG1l5g8z84OsroLcFhEfqDjSrnFl1QHqIDM/usOn/gFw\\\n",
       "HJhh9X/ZN/bN3QAsX+Jo5/VWuSPibuAg8JHsLbZTQO5tVJ77POqcbadeiYjrMvPliLiO1bOFWomI\\\n",
       "q1gtr0cy8497w7XPvSYzVyJiAbidgnLXmWdgbyEiDvQ9/ATwQu/4ceCuiLg6Im4GDgBPDTrfdiLi\\\n",
       "duDzwCcy82zfVK1zn0edc38bOBARN0fEO4C7WM1bkseBu3vHdwOPVZjlHBERwO8Bz2fmb/VN1T33\\\n",
       "/rUdwBHx48BHWf03pNa5i1H1LpK631j9H9+zwBLwX4Hr++YeYHX32QngF6vOuin3SVavyzzTu325\\\n",
       "kNy/zOoZzevAK8DXCsn9S6zujPtL4IGq87xF1j8EXgb+vvdn/SlgGHgSeLF3f03VOTdl/uesLssu\\\n",
       "9f2d/qUCco8C/6uX+1ngC73xWucu5eY3cUiSiuQSoiSpSBaYJKlIFpgkqUgWmCSpSBaYJKlIFpgk\\\n",
       "qUgWmCSpSBaYJKlIFpgkqUgWmCSpSBaYJKlIFpgkqUgWmCSpSBaYJKlIFpgkqUgWmCSpSBaYJKlI\\\n",
       "FpgkqUgWmCSpSBaYJKlI/x9fIVhYbIQWdQAAAABJRU5ErkJggg==\\\n",
       "\"\n",
       "  frames[4] = \"data:image/png;base64,iVBORw0KGgoAAAANSUhEUgAAAbAAAAEgCAYAAADVKCZpAAAAOXRFWHRTb2Z0d2FyZQBNYXRwbG90\\\n",
       "bGliIHZlcnNpb24zLjMuNCwgaHR0cHM6Ly9tYXRwbG90bGliLm9yZy8QVMy6AAAACXBIWXMAAAsT\\\n",
       "AAALEwEAmpwYAAAXlUlEQVR4nO3df2zc933f8ed7duJWzQbGjJL6/KP0EF0WJ+CSgjOyHxjIJlnc\\\n",
       "WojZAcFcFIPhBiQCJJ5a9I/aMxDerTCWLljVP9oiI9Fq/iOrF6CN7EntEscjUQxo4tCbw9mxdVYb\\\n",
       "dTZoxOp5RFYIcOfkvT94dz5KpEzJ0n2/H/L5AA73vc/njniBEPTi9/P93F1kJpIkleZvVR1AkqTL\\\n",
       "YYFJkopkgUmSimSBSZKKZIFJkopkgUmSimSBSZKKZIFJkopkgUmSimSBSZKKZIFJkopkgUmSimSB\\\n",
       "SZKKZIFJkopkgUmSimSBSZKKZIFJkopkgUmSimSBSZKKZIFJkopkgUmSimSBSZKKZIFJkopkgUmS\\\n",
       "imSBSZKKZIFJkopkgUmSimSBSZKKZIFJkopkgUmSimSBSZKKZIFJkopkgUmSimSBSZKKdG3VAa6W\\\n",
       "d73rXTkxMVF1DEkqylNPPfVXmXmw6hy7sWcLbGJigtXV1apjSFJRIuIvq86wWy4hSrrqut3uJY1L\\\n",
       "u1GrAouIH4uIJyPiOxHxbES0e+PXR8TjEfFC7/6dVWeVtDutVovJyUk6nc6W8U6nw+TkJK1Wq5pg\\\n",
       "Kl6tCgx4DfiZzPz7wIeAOyLiI8D9wBOZeQh4ovdYUs21Wi3a7Tbr6+vMzMwMSqzT6TAzM8P6+jrt\\\n",
       "dtsS02WpVYHlpr/uPXxb75bAXcDDvfGHgdnRp5Mu5NLYzvrl1dcvsZMnTw7Kq88S0+WoVYEBRMQ1\\\n",
       "EfE08ArweGZ+C3hPZr4M0Lt/d4URJcClsYvpdrssLS1tGZtllnPr5zh8+DDn1s8xe97foUtLSxa/\\\n",
       "Lk1m1vIGjAHLwAeBjfPm/s8Or5kHVoHVW265JaWrZWFhIdlcHchGo5GnTp3KzMxTp05lo9EYzC0s\\\n",
       "LFQbtELDv4tZZnOZ5TzGsZxgIo9xLJdZzllmL/gdqlrAatagA3Zzq90ZWF9mbgArwB3A9yPiBoDe\\\n",
       "/Ss7vGYxM6cyc+rgwSLexqACuTS2O81mk+XlZRqNBiuscIYzTDDBMY4xwQRnOMMKKzQaDZaXl2k2\\\n",
       "m1VHVmFqVWARcTAixnrHPw58DHgeeAy4p/e0e4BHKwmofc+lsUvTbDZZXFxkgw3atLfMtWmzwQaL\\\n",
       "i4uWly5LrQoMuAFYjog14NtsXgM7AXwB+HhEvAB8vPdYGrnx8fHBWQVsltcRjnCUo0wwwVGOcoQj\\\n",
       "gxLrn12Mj49XmLo6nU6H+fl5xhhjgYUtcwssMMYY8/PzF1xHlHajVgWWmWuZ+eHMnMzMD2bmv+mN\\\n",
       "dzPzo5l5qHf/atVZtX+5NLY7w1vlp5ke/G7u5d7B72ya6Qu22Eu7FZvX7Paeqamp9KOkdDWdPHmS\\\n",
       "w4cPD8qrr/8f9IkTJ7jzzjsrTFidbrfL5OTkluuBs8yywgobbDDGGNNMc5zjg/lGo8Ha2tq+PVut\\\n",
       "i4h4KjOnqs6xG7U6A5NK4dLYxY2PjzM3N7dl7DjHOdA4wIkTJzjQOLClvADm5uYsL10SC0y6RC6N\\\n",
       "7U6r1WJh4Y1y7y+p3nnnnVuuIwIsLCzs292aunwuIUqXwKWxnf37f3F4cPyr//nE4LjVarG0tHTB\\\n",
       "9cD+HwJzc3OWV424hCjtUS6NXbpWq8Xa2toFm1mazSZra2uWly6bBSZdIpfGLt1OBb6fi11vnUuI\\\n",
       "0mVyaUx7UUlLiBaY9BZ0u91tzyJ2GpfqrqQCcwlRegtcGpOqY4FJkopkgUmSimSBSQXxG6ClN1hg\\\n",
       "UiH8BmhpKwtMKkD/SzTP/3iq4Y+12s9fnqn9yQKTrqKp33ovd3/+HzH1W++97J/hN0BL27PApKvo\\\n",
       "va++m39w6nre++q7L+v1fgO0tDMLTLqKTl//Ct9+36ucvv6Vy3q93wAt7cxP4pAK0L/WdW793KC8\\\n",
       "+s5whl/hVzjQOLCvvwFaV4afxCHpimo2mywuLrLBBm3aW+batNlgg8XFRctL+4oFJhXAb4CWLmSB\\\n",
       "STXnN0BL2/MamFRjfgO0Rs1rYJKuCL8BWtpZrQosIm6OiOWIeC4ino2II73x6yPi8Yh4oXf/zqqz\\\n",
       "SqPiN0BL26tVgQGvA7+ame8HPgJ8NiJuA+4HnsjMQ8ATvcfSvtEvsX559XcbNpvNQYlZXtpvan0N\\\n",
       "LCIeBX67d5vOzJcj4gZgJTPfd7HXeg1Me5HfAK2rzWtgV0BETAAfBr4FvCczXwbo3V/e5/JIhfMb\\\n",
       "oKU31LLAIuIdwB8Cv5yZP7iE181HxGpErJ49e/bqBZQkVa52BRYRb2OzvL6cmX/UG/5+b+mQ3v22\\\n",
       "HyyXmYuZOZWZUwcPHhxNYElSJWpVYBERwO8Bz2Xmbw5NPQbc0zu+B3h01NkkSfVybdUBzvOPgX8J\\\n",
       "/K+IeLo39q+BLwBfiYhPA/8b+FQ18SRJdVGrAsvM/w7EDtMfHWUWSVK91WoJUZKk3bLAJElFssAk\\\n",
       "SUWywCRJRbLAJElFssAkSUWywCRJRbLAJElFssAkSUWywCRJRbLAJElFssAkSUWywCRJRbLAJElF\\\n",
       "ssAkSUWywCRJRbLAJElFssAkSUWywCRJRbLAJElFssAkSUWywCRJRbLAJElFssAkSUWqVYFFxO9H\\\n",
       "xCsR8czQ2PUR8XhEvNC7f2eVGSVJ9VCrAgP+I3DHeWP3A09k5iHgid5jSdI+V6sCy8w/BV49b/gu\\\n",
       "4OHe8cPA7CgzSZLqqVYFtoP3ZObLAL37d1ecR5JUAyUU2K5FxHxErEbE6tmzZ6uOI0m6ikoosO9H\\\n",
       "xA0AvftXdnpiZi5m5lRmTh08eHBkASVJo1dCgT0G3NM7vgd4tMIskqSaqFWBRcQfAH8GvC8iXoqI\\\n",
       "TwNfAD4eES8AH+89liTtc9dWHWBYZv7CDlMfHWkQSVLt1eoMTJKk3bLAJElFssAkSUWywCRJRbLA\\\n",
       "JElFssAkSUWywCRJRbLAJElFssAkSUWywCRJRbLAJElFssAkSUWywCRJRbLAJElFssAkSUWywCRJ\\\n",
       "RbLAJElFssAkSUWywCRJRbLAJElFssAkSUWywCRJRbLAJElFKqbAIuKOiDgVEacj4v6q80iSqlVE\\\n",
       "gUXENcDvAD8L3Ab8QkTcVm0qSVKViigw4HbgdGb+RWb+DfAIcFfFmSRJFSqlwG4EXhx6/FJvTJK0\\\n",
       "T5VSYLHNWF7wpIj5iFiNiNWzZ8+OIJYkqSqlFNhLwM1Dj28C1s9/UmYuZuZUZk4dPHhwZOEkSaNX\\\n",
       "SoF9GzgUEbdGxNuBu4HHKs40Mt1u95LGJWk/KKLAMvN14HPA14DngK9k5rPVphqNVqvF5OQknU5n\\\n",
       "y3in02FycpJWq1VNMEmq2LVVB9itzPxj4I+rzjFKrVaLdrsNwMzMDMvLyzSbTTqdDjMzM6yvrw/m\\\n",
       "LTJJ+00RZ2D70XB5AayvrzMzM8PJkycH5dXXbrctMEn7jgVWQ91ul6WlpS1js8xybv0chw8f5tz6\\\n",
       "OWaZ3TK/tLTkNTFJ+4oFVkPj4+MsLy/TaDSAzfI6whGOcpQJJjjKUY5wZFBijUaD5eVlxsfHK0wt\\\n",
       "SaNlgdVUs9kclNgKK5zhDBNMcIxjTDDBGc6wwsqgvJrNZtWRJWmkLLAaazabLC4ussEGbdpb5tq0\\\n",
       "2WCDxcVFy0vSvmSB1Vin02F+fp4xxlhgYcvcAguMMcb8/PwFW+wlaT+wwGpqeKv8NNODZcN7uXew\\\n",
       "nDjN9GB3oiUmab+JzAs+UnBPmJqaytXV1apjXJZut8vk5OSWrfKzzLLCChtsMMYY00xznOOD+Uaj\\\n",
       "wdramhs5JL0lEfFUZk5VnWM3PAOrofHxcebm5raMHec4BxoHOHHiBAcaB7aUF8Dc3JzlJWlfKeaT\\\n",
       "OPay3/nMfxscf/ZLPwO88cka/TczD+82XF5e3vJm5oWFBd/ILGnfscBqrF9KS0tLW7bKD5fY3Nyc\\\n",
       "5SVpX7LAaq7VanHfffddsDzYbDa95iVpX7PAaqC/bLiTnUrK8pK0n7mJQ5JUJAtMklQkC0ySVCQL\\\n",
       "TJJUJAtMklQkC0ySVCQLTJJUJAtMklQkC0ySVCQLTJJUJAtMklSk2hRYRHwqIp6NiB9FxNR5cw9E\\\n",
       "xOmIOBURn6gqoySpPur0Yb7PAP8c+A/DgxFxG3A38AGgAXwjIpqZ+cPRR5Qk1UVtzsAy87nMPLXN\\\n",
       "1F3AI5n5WmZ+DzgN3D7adJKkuqlNgV3EjcCLQ49f6o1JkvaxkS4hRsQ3gJ/cZurBzHx0p5dtM5Y7\\\n",
       "/Px5YB7glltuuayMkqQyjLTAMvNjl/Gyl4Cbhx7fBKzv8PMXgUWAqampbUtOkrQ3lLCE+Bhwd0Rc\\\n",
       "FxG3AoeAJyvOJEmqWG0KLCJ+PiJeAv4hcDIivgaQmc8CXwG+C/xX4LPuQJQk1WYbfWZ+FfjqDnMP\\\n",
       "AQ+NNpEkqc5qcwYmSdKlsMAkSUWywCRJRbLAJElFssAkSUWywCRJRbLAJGkP6Ha7lzS+F1hgklS4\\\n",
       "VqvF5OQknU5ny3in02FycpJWq1VNsKvMApOkgrVaLdrtNuvr68zMzAxKrNPpMDMzw/r6Ou12e0+W\\\n",
       "mAUmSYXql1dfv8ROnjw5KK++vVhiFpgkFajb7bK0tLRlbJZZzq2f4/Dhw5xbP8css1vml5aW9tQ1\\\n",
       "MQtMkgo0Pj7O8vIyjUYD2CyvIxzhKEeZYIKjHOUIRwYl1mg0WF5eZnx8vMLUV5YFJkmFajabgxJb\\\n",
       "YYUznGGCCY5xjAkmOMMZVlgZlFez2aw68hVlgUlSwZrNJouLi2ywQZv2lrk2bTbYYHFxcc+VF1hg\\\n",
       "klS0TqfD/Pw8Y4yxwMKWuQUWGGOM+fn5C7bY7wUWmCQVanir/DTTg2XDe7l3sJw4zfQFW+z3isjM\\\n",
       "qjNcFVNTU7m6ulp1DEm6KrrdLpOTk1u2ys8yyworbLDBGGNMM81xjg/mG40Ga2trF93IERFPZebU\\\n",
       "1cx+pXgGJkkFGh8fZ25ubsvYcY5zoHGAEydOcKBxYEt5AczNzbkLUZJUvVarxcLCG9e9+rsN77zz\\\n",
       "zi1b7AEWFhb23BuZr606gCRpd577e+8fHL//+ecABqW0tLS0Zat8f4v9zMwMc3Nze668wGtgklSM\\\n",
       "7Qqsr9vtbrs8uNP4TrwGJkkaqZ1Kai9d8zqfS4iSVIjzz7r2u9qcgUXEFyPi+YhYi4ivRsTY0NwD\\\n",
       "EXE6Ik5FxCcqjClJqonaFBjwOPDBzJwEOsADABFxG3A38AHgDuB3I+KaylJKkmqhNgWWmV/PzNd7\\\n",
       "D78J3NQ7vgt4JDNfy8zvAaeB26vIKEmqj9oU2Hl+CfiT3vGNwItDcy/1xiRJ+9hIN3FExDeAn9xm\\\n",
       "6sHMfLT3nAeB14Ev91+2zfO33fsfEfPAPMAtt9zylvNKkuprpAWWmR+72HxE3AMcBj6ab7xB7SXg\\\n",
       "5qGn3QSsn//a3s9fBBZh831gbzmwJKm2arOEGBF3AL8GfDIzzw1NPQbcHRHXRcStwCHgySoySpLq\\\n",
       "o07vA/tt4Drg8YgA+GZmfiYzn42IrwDfZXNp8bOZ+cMKc0qSaqA2BZaZ773I3EPAQyOMI0mqudos\\\n",
       "IUqSdCksMElSkSwwSVKRLDBJUpEsMElSkSwwSVKRLDBJUpEsMElSkSwwSVKRLDBJUpEsMElSkSww\\\n",
       "SVKRLDBJUpEsMElSkSwwSVKRLDBJUpEsMElSkSwwSVKRLDBJUpEssEvQ7XYvaVySdPVYYLvUarWY\\\n",
       "nJyk0+lsGe90OkxOTtJqtaoJJkn7lAW2C61Wi3a7zfr6OjMzM4MS63Q6zMzMsL6+TrvdtsQkaYQs\\\n",
       "sDfRL6++fomdPHlyUF59lpgkjY4FdhHdbpelpaUtY7PMcm79HIcPH+bc+jlmmd0yv7S05DUxSRqB\\\n",
       "2hRYRPx6RKxFxNMR8fWIaAzNPRARpyPiVER8YlSZxsfHWV5eptHYjDLLLEc4wlGOMsEERznKEY4M\\\n",
       "SqzRaLC8vMz4+PioIkrSvlWbAgO+mJmTmfkh4ATweYCIuA24G/gAcAfwuxFxzahCNZvNQYmtsMIZ\\\n",
       "zjDBBMc4xgQTnOEMK6wMyqvZbI4qmiTta7UpsMz8wdDDnwCyd3wX8EhmvpaZ3wNOA7ePMluz2WRx\\\n",
       "cZENNmjT3jLXps0GGywuLlpekjRCtSkwgIh4KCJeBH6R3hkYcCPw4tDTXuqNjUyn02F+fp4xxlhg\\\n",
       "YcvcAguMMcb8/PwFW+wlSVfPSAssIr4REc9sc7sLIDMfzMybgS8Dn+u/bJsflduMERHzEbEaEatn\\\n",
       "z569IpmHt8pPMz1YNryXewfLidNMX7DFXpJ0dUXmtl1QqYj4KeBkZn4wIh4AyMx/25v7GtDKzD+7\\\n",
       "2M+YmprK1dXVt5Sj2+0yOTm5Zav8LLOssMIGG4wxxjTTHOf4YL7RaLC2tuZGDklFioinMnOq6hy7\\\n",
       "UZslxIg4NPTwk8DzvePHgLsj4rqIuBU4BDw5ikzj4+PMzc1tGTvOcQ40DnDixAkONA5sKS+Aubk5\\\n",
       "y0uSRuDaqgMM+UJEvA/4EfCXwGcAMvPZiPgK8F3gdeCzmfnDUYXqvzG5/2bm4d2Gy8vLW97MvLCw\\\n",
       "4BuZJWlEarmEeCVc7hLixP0nB8dnvnDn4LjVarG0tHTBVvn+NbK5uTnLS1LxSlpCrNMZWK21Wi3u\\\n",
       "u+++C5YHm82m17wkqQK1uQZWgp1KyvKSpNHzDOw8w8uGkqT68gxMklQkC0ySVCQLTJJUJAtMklQk\\\n",
       "C0ySVCQLTJJUJAtMklSkPftRUhFxls3PVLyS3gX81RX+maNQYu4SM4O5R63E3HXP/FOZebDqELux\\\n",
       "ZwvsaoiI1VI+I2xYiblLzAzmHrUSc5eYua5cQpQkFckCkyQVyQK7NItVB7hMJeYuMTOYe9RKzF1i\\\n",
       "5lryGpgkqUiegUmSimSBvYmI+PWIWIuIpyPi6xHRGJp7ICJOR8SpiPhElTnPFxFfjIjne9m/GhFj\\\n",
       "Q3N1zv2piHg2In4UEVPnzdU59x29XKcj4v6q81xMRPx+RLwSEc8MjV0fEY9HxAu9+3dWmfF8EXFz\\\n",
       "RCxHxHO9fx9HeuN1z/1jEfFkRHynl7vdG6917mJkpreL3IC/M3T8r4Av9Y5vA74DXAfcCvw5cE3V\\\n",
       "eYey/jPg2t7xbwC/UUju9wPvA1aAqaHx2uYGrunl+bvA23s5b6s610Xy/lPgp4Fnhsb+HXB/7/j+\\\n",
       "/r+XutyAG4Cf7h3/baDT+zdR99wBvKN3/DbgW8BH6p67lJtnYG8iM38w9PAngP5Fw7uARzLztcz8\\\n",
       "HnAauH3U+XaSmV/PzNd7D78J3NQ7rnvu5zLz1DZTdc59O3A6M/8iM/8GeITNvLWUmX8KvHre8F3A\\\n",
       "w73jh4HZUWZ6M5n5cmb+j97x/wWeA26k/rkzM/+69/BtvVtS89ylsMB2ISIeiogXgV8EPt8bvhF4\\\n",
       "cehpL/XG6uiXgD/pHZeUe1idc9c52269JzNfhs2yAN5dcZ4dRcQE8GE2z2ZqnzsiromIp4FXgMcz\\\n",
       "s4jcJbDAgIj4RkQ8s83tLoDMfDAzbwa+DHyu/7JtftRIt3S+We7ecx4EXmczOxSSe7uXbTNWly20\\\n",
       "dc62p0TEO4A/BH75vNWR2srMH2bmh9hcBbk9Ij5YcaQ949qqA9RBZn5sl0/9T8BJYIHNv7JvHpq7\\\n",
       "CVi/wtEu6s1yR8Q9wGHgo9lbbKeA3DuoPPdF1Dnbbn0/Im7IzJcj4gY2zxZqJSLexmZ5fTkz/6g3\\\n",
       "XPvcfZm5ERErwB0UlLvOPAN7ExFxaOjhJ4Hne8ePAXdHxHURcStwCHhy1Pl2EhF3AL8GfDIzzw1N\\\n",
       "1Tr3RdQ597eBQxFxa0S8HbibzbwleQy4p3d8D/BohVkuEBEB/B7wXGb+5tBU3XMf7O8AjogfBz7G\\\n",
       "5v8htc5djKp3kdT9xuZffM8Aa8B/AW4cmnuQzd1np4CfrTrreblPs3ld5une7UuF5P55Ns9oXgO+\\\n",
       "D3ytkNw/x+bOuD8HHqw6z5tk/QPgZeD/9X7XnwbGgSeAF3r311ed87zM/4TNZdm1oX/TP1dA7kng\\\n",
       "f/ZyPwN8vjde69yl3PwkDklSkVxClCQVyQKTJBXJApMkFckCkyQVyQKTJBXJApMkFckCkyQVyQKT\\\n",
       "JBXJApMkFckCkyQVyQKTJBXJApMkFckCkyQVyQKTJBXJApMkFckCkyQVyQKTJBXJApMkFckCkyQV\\\n",
       "yQKTJBXp/wNKgEkHOYOHywAAAABJRU5ErkJggg==\\\n",
       "\"\n",
       "  frames[5] = \"data:image/png;base64,iVBORw0KGgoAAAANSUhEUgAAAbAAAAEgCAYAAADVKCZpAAAAOXRFWHRTb2Z0d2FyZQBNYXRwbG90\\\n",
       "bGliIHZlcnNpb24zLjMuNCwgaHR0cHM6Ly9tYXRwbG90bGliLm9yZy8QVMy6AAAACXBIWXMAAAsT\\\n",
       "AAALEwEAmpwYAAAXlUlEQVR4nO3df2zc933f8ed7duJWzQbGjJL6/KP0EF0WJ+CSgjOyHxjIJlnc\\\n",
       "WojZAcFcFIPhBiQCJJ5a9I/aMxDerTCWLljVP9oiI9Fq/iOrF6CN7EntEscjUQxo4tCbw9mxdVYb\\\n",
       "dTZoxOp5RFYIcOfkvT94dz5KpEzJ0n2/H/L5AA73vc/njniBEPTi9/P93F1kJpIkleZvVR1AkqTL\\\n",
       "YYFJkopkgUmSimSBSZKKZIFJkopkgUmSimSBSZKKZIFJkopkgUmSimSBSZKKZIFJkopkgUmSimSB\\\n",
       "SZKKZIFJkopkgUmSimSBSZKKZIFJkopkgUmSimSBSZKKZIFJkopkgUmSimSBSZKKZIFJkopkgUmS\\\n",
       "imSBSZKKZIFJkopkgUmSimSBSZKKZIFJkopkgUmSimSBSZKKZIFJkopkgUmSimSBSZKKdG3VAa6W\\\n",
       "d73rXTkxMVF1DEkqylNPPfVXmXmw6hy7sWcLbGJigtXV1apjSFJRIuIvq86wWy4hSrrqut3uJY1L\\\n",
       "u1GrAouIH4uIJyPiOxHxbES0e+PXR8TjEfFC7/6dVWeVtDutVovJyUk6nc6W8U6nw+TkJK1Wq5pg\\\n",
       "Kl6tCgx4DfiZzPz7wIeAOyLiI8D9wBOZeQh4ovdYUs21Wi3a7Tbr6+vMzMwMSqzT6TAzM8P6+jrt\\\n",
       "dtsS02WpVYHlpr/uPXxb75bAXcDDvfGHgdnRp5Mu5NLYzvrl1dcvsZMnTw7Kq88S0+WoVYEBRMQ1\\\n",
       "EfE08ArweGZ+C3hPZr4M0Lt/d4URJcClsYvpdrssLS1tGZtllnPr5zh8+DDn1s8xe97foUtLSxa/\\\n",
       "Lk1m1vIGjAHLwAeBjfPm/s8Or5kHVoHVW265JaWrZWFhIdlcHchGo5GnTp3KzMxTp05lo9EYzC0s\\\n",
       "LFQbtELDv4tZZnOZ5TzGsZxgIo9xLJdZzllmL/gdqlrAatagA3Zzq90ZWF9mbgArwB3A9yPiBoDe\\\n",
       "/Ss7vGYxM6cyc+rgwSLexqACuTS2O81mk+XlZRqNBiuscIYzTDDBMY4xwQRnOMMKKzQaDZaXl2k2\\\n",
       "m1VHVmFqVWARcTAixnrHPw58DHgeeAy4p/e0e4BHKwmofc+lsUvTbDZZXFxkgw3atLfMtWmzwQaL\\\n",
       "i4uWly5LrQoMuAFYjog14NtsXgM7AXwB+HhEvAB8vPdYGrnx8fHBWQVsltcRjnCUo0wwwVGOcoQj\\\n",
       "gxLrn12Mj49XmLo6nU6H+fl5xhhjgYUtcwssMMYY8/PzF1xHlHajVgWWmWuZ+eHMnMzMD2bmv+mN\\\n",
       "dzPzo5l5qHf/atVZtX+5NLY7w1vlp5ke/G7u5d7B72ya6Qu22Eu7FZvX7Paeqamp9KOkdDWdPHmS\\\n",
       "w4cPD8qrr/8f9IkTJ7jzzjsrTFidbrfL5OTkluuBs8yywgobbDDGGNNMc5zjg/lGo8Ha2tq+PVut\\\n",
       "i4h4KjOnqs6xG7U6A5NK4dLYxY2PjzM3N7dl7DjHOdA4wIkTJzjQOLClvADm5uYsL10SC0y6RC6N\\\n",
       "7U6r1WJh4Y1y7y+p3nnnnVuuIwIsLCzs292aunwuIUqXwKWxnf37f3F4cPyr//nE4LjVarG0tHTB\\\n",
       "9cD+HwJzc3OWV424hCjtUS6NXbpWq8Xa2toFm1mazSZra2uWly6bBSZdIpfGLt1OBb6fi11vnUuI\\\n",
       "0mVyaUx7UUlLiBaY9BZ0u91tzyJ2GpfqrqQCcwlRegtcGpOqY4FJkopkgUmSimSBSQXxG6ClN1hg\\\n",
       "UiH8BmhpKwtMKkD/SzTP/3iq4Y+12s9fnqn9yQKTrqKp33ovd3/+HzH1W++97J/hN0BL27PApKvo\\\n",
       "va++m39w6nre++q7L+v1fgO0tDMLTLqKTl//Ct9+36ucvv6Vy3q93wAt7cxP4pAK0L/WdW793KC8\\\n",
       "+s5whl/hVzjQOLCvvwFaV4afxCHpimo2mywuLrLBBm3aW+batNlgg8XFRctL+4oFJhXAb4CWLmSB\\\n",
       "STXnN0BL2/MamFRjfgO0Rs1rYJKuCL8BWtpZrQosIm6OiOWIeC4ino2II73x6yPi8Yh4oXf/zqqz\\\n",
       "SqPiN0BL26tVgQGvA7+ame8HPgJ8NiJuA+4HnsjMQ8ATvcfSvtEvsX559XcbNpvNQYlZXtpvan0N\\\n",
       "LCIeBX67d5vOzJcj4gZgJTPfd7HXeg1Me5HfAK2rzWtgV0BETAAfBr4FvCczXwbo3V/e5/JIhfMb\\\n",
       "oKU31LLAIuIdwB8Cv5yZP7iE181HxGpErJ49e/bqBZQkVa52BRYRb2OzvL6cmX/UG/5+b+mQ3v22\\\n",
       "HyyXmYuZOZWZUwcPHhxNYElSJWpVYBERwO8Bz2Xmbw5NPQbc0zu+B3h01NkkSfVybdUBzvOPgX8J\\\n",
       "/K+IeLo39q+BLwBfiYhPA/8b+FQ18SRJdVGrAsvM/w7EDtMfHWUWSVK91WoJUZKk3bLAJElFssAk\\\n",
       "SUWywCRJRbLAJElFssAkSUWywCRJRbLAJElFssAkSUWywCRJRbLAJElFssAkSUWywCRJRbLAJElF\\\n",
       "ssAkSUWywCRJRbLAJElFssAkSUWywCRJRbLAJElFssAkSUWywCRJRbLAJElFssAkSUWqVYFFxO9H\\\n",
       "xCsR8czQ2PUR8XhEvNC7f2eVGSVJ9VCrAgP+I3DHeWP3A09k5iHgid5jSdI+V6sCy8w/BV49b/gu\\\n",
       "4OHe8cPA7CgzSZLqqVYFtoP3ZObLAL37d1ecR5JUAyUU2K5FxHxErEbE6tmzZ6uOI0m6ikoosO9H\\\n",
       "xA0AvftXdnpiZi5m5lRmTh08eHBkASVJo1dCgT0G3NM7vgd4tMIskqSaqFWBRcQfAH8GvC8iXoqI\\\n",
       "TwNfAD4eES8AH+89liTtc9dWHWBYZv7CDlMfHWkQSVLt1eoMTJKk3bLAJElFssAkSUWywCRJRbLA\\\n",
       "JElFssAkSUWywCRJRbLAJElFssAkSUWywCRJRbLAJElFssAkSUWywCRJRbLAJElFssAkSUWywCRJ\\\n",
       "RbLAJElFssAkSUWywCRJRbLAJElFssAkSUWywCRJRbLAJElFKqbAIuKOiDgVEacj4v6q80iSqlVE\\\n",
       "gUXENcDvAD8L3Ab8QkTcVm0qSVKViigw4HbgdGb+RWb+DfAIcFfFmSRJFSqlwG4EXhx6/FJvTJK0\\\n",
       "T5VSYLHNWF7wpIj5iFiNiNWzZ8+OIJYkqSqlFNhLwM1Dj28C1s9/UmYuZuZUZk4dPHhwZOEkSaNX\\\n",
       "SoF9GzgUEbdGxNuBu4HHKs40Mt1u95LGJWk/KKLAMvN14HPA14DngK9k5rPVphqNVqvF5OQknU5n\\\n",
       "y3in02FycpJWq1VNMEmq2LVVB9itzPxj4I+rzjFKrVaLdrsNwMzMDMvLyzSbTTqdDjMzM6yvrw/m\\\n",
       "LTJJ+00RZ2D70XB5AayvrzMzM8PJkycH5dXXbrctMEn7jgVWQ91ul6WlpS1js8xybv0chw8f5tz6\\\n",
       "OWaZ3TK/tLTkNTFJ+4oFVkPj4+MsLy/TaDSAzfI6whGOcpQJJjjKUY5wZFBijUaD5eVlxsfHK0wt\\\n",
       "SaNlgdVUs9kclNgKK5zhDBNMcIxjTDDBGc6wwsqgvJrNZtWRJWmkLLAaazabLC4ussEGbdpb5tq0\\\n",
       "2WCDxcVFy0vSvmSB1Vin02F+fp4xxlhgYcvcAguMMcb8/PwFW+wlaT+wwGpqeKv8NNODZcN7uXew\\\n",
       "nDjN9GB3oiUmab+JzAs+UnBPmJqaytXV1apjXJZut8vk5OSWrfKzzLLCChtsMMYY00xznOOD+Uaj\\\n",
       "wdramhs5JL0lEfFUZk5VnWM3PAOrofHxcebm5raMHec4BxoHOHHiBAcaB7aUF8Dc3JzlJWlfKeaT\\\n",
       "OPay3/nMfxscf/ZLPwO88cka/TczD+82XF5e3vJm5oWFBd/ILGnfscBqrF9KS0tLW7bKD5fY3Nyc\\\n",
       "5SVpX7LAaq7VanHfffddsDzYbDa95iVpX7PAaqC/bLiTnUrK8pK0n7mJQ5JUJAtMklQkC0ySVCQL\\\n",
       "TJJUJAtMklQkC0ySVCQLTJJUJAtMklQkC0ySVCQLTJJUJAtMklSk2hRYRHwqIp6NiB9FxNR5cw9E\\\n",
       "xOmIOBURn6gqoySpPur0Yb7PAP8c+A/DgxFxG3A38AGgAXwjIpqZ+cPRR5Qk1UVtzsAy87nMPLXN\\\n",
       "1F3AI5n5WmZ+DzgN3D7adJKkuqlNgV3EjcCLQ49f6o1JkvaxkS4hRsQ3gJ/cZurBzHx0p5dtM5Y7\\\n",
       "/Px5YB7glltuuayMkqQyjLTAMvNjl/Gyl4Cbhx7fBKzv8PMXgUWAqampbUtOkrQ3lLCE+Bhwd0Rc\\\n",
       "FxG3AoeAJyvOJEmqWG0KLCJ+PiJeAv4hcDIivgaQmc8CXwG+C/xX4LPuQJQk1WYbfWZ+FfjqDnMP\\\n",
       "AQ+NNpEkqc5qcwYmSdKlsMAkSUWywCRJRbLAJElFssAkSUWywCRJRbLAJGkP6Ha7lzS+F1hgklS4\\\n",
       "VqvF5OQknU5ny3in02FycpJWq1VNsKvMApOkgrVaLdrtNuvr68zMzAxKrNPpMDMzw/r6Ou12e0+W\\\n",
       "mAUmSYXql1dfv8ROnjw5KK++vVhiFpgkFajb7bK0tLRlbJZZzq2f4/Dhw5xbP8css1vml5aW9tQ1\\\n",
       "MQtMkgo0Pj7O8vIyjUYD2CyvIxzhKEeZYIKjHOUIRwYl1mg0WF5eZnx8vMLUV5YFJkmFajabgxJb\\\n",
       "YYUznGGCCY5xjAkmOMMZVlgZlFez2aw68hVlgUlSwZrNJouLi2ywQZv2lrk2bTbYYHFxcc+VF1hg\\\n",
       "klS0TqfD/Pw8Y4yxwMKWuQUWGGOM+fn5C7bY7wUWmCQVanir/DTTg2XDe7l3sJw4zfQFW+z3isjM\\\n",
       "qjNcFVNTU7m6ulp1DEm6KrrdLpOTk1u2ys8yyworbLDBGGNMM81xjg/mG40Ga2trF93IERFPZebU\\\n",
       "1cx+pXgGJkkFGh8fZ25ubsvYcY5zoHGAEydOcKBxYEt5AczNzbkLUZJUvVarxcLCG9e9+rsN77zz\\\n",
       "zi1b7AEWFhb23BuZr606gCRpd577e+8fHL//+ecABqW0tLS0Zat8f4v9zMwMc3Nze668wGtgklSM\\\n",
       "7Qqsr9vtbrs8uNP4TrwGJkkaqZ1Kai9d8zqfS4iSVIjzz7r2u9qcgUXEFyPi+YhYi4ivRsTY0NwD\\\n",
       "EXE6Ik5FxCcqjClJqonaFBjwOPDBzJwEOsADABFxG3A38AHgDuB3I+KaylJKkmqhNgWWmV/PzNd7\\\n",
       "D78J3NQ7vgt4JDNfy8zvAaeB26vIKEmqj9oU2Hl+CfiT3vGNwItDcy/1xiRJ+9hIN3FExDeAn9xm\\\n",
       "6sHMfLT3nAeB14Ev91+2zfO33fsfEfPAPMAtt9zylvNKkuprpAWWmR+72HxE3AMcBj6ab7xB7SXg\\\n",
       "5qGn3QSsn//a3s9fBBZh831gbzmwJKm2arOEGBF3AL8GfDIzzw1NPQbcHRHXRcStwCHgySoySpLq\\\n",
       "o07vA/tt4Drg8YgA+GZmfiYzn42IrwDfZXNp8bOZ+cMKc0qSaqA2BZaZ773I3EPAQyOMI0mqudos\\\n",
       "IUqSdCksMElSkSwwSVKRLDBJUpEsMElSkSwwSVKRLDBJUpEsMElSkSwwSVKRLDBJUpEsMElSkSww\\\n",
       "SVKRLDBJUpEsMElSkSwwSVKRLDBJUpEsMElSkSwwSVKRLDBJUpEssEvQ7XYvaVySdPVYYLvUarWY\\\n",
       "nJyk0+lsGe90OkxOTtJqtaoJJkn7lAW2C61Wi3a7zfr6OjMzM4MS63Q6zMzMsL6+TrvdtsQkaYQs\\\n",
       "sDfRL6++fomdPHlyUF59lpgkjY4FdhHdbpelpaUtY7PMcm79HIcPH+bc+jlmmd0yv7S05DUxSRqB\\\n",
       "2hRYRPx6RKxFxNMR8fWIaAzNPRARpyPiVER8YlSZxsfHWV5eptHYjDLLLEc4wlGOMsEERznKEY4M\\\n",
       "SqzRaLC8vMz4+PioIkrSvlWbAgO+mJmTmfkh4ATweYCIuA24G/gAcAfwuxFxzahCNZvNQYmtsMIZ\\\n",
       "zjDBBMc4xgQTnOEMK6wMyqvZbI4qmiTta7UpsMz8wdDDnwCyd3wX8EhmvpaZ3wNOA7ePMluz2WRx\\\n",
       "cZENNmjT3jLXps0GGywuLlpekjRCtSkwgIh4KCJeBH6R3hkYcCPw4tDTXuqNjUyn02F+fp4xxlhg\\\n",
       "YcvcAguMMcb8/PwFW+wlSVfPSAssIr4REc9sc7sLIDMfzMybgS8Dn+u/bJsflduMERHzEbEaEatn\\\n",
       "z569IpmHt8pPMz1YNryXewfLidNMX7DFXpJ0dUXmtl1QqYj4KeBkZn4wIh4AyMx/25v7GtDKzD+7\\\n",
       "2M+YmprK1dXVt5Sj2+0yOTm5Zav8LLOssMIGG4wxxjTTHOf4YL7RaLC2tuZGDklFioinMnOq6hy7\\\n",
       "UZslxIg4NPTwk8DzvePHgLsj4rqIuBU4BDw5ikzj4+PMzc1tGTvOcQ40DnDixAkONA5sKS+Aubk5\\\n",
       "y0uSRuDaqgMM+UJEvA/4EfCXwGcAMvPZiPgK8F3gdeCzmfnDUYXqvzG5/2bm4d2Gy8vLW97MvLCw\\\n",
       "4BuZJWlEarmEeCVc7hLixP0nB8dnvnDn4LjVarG0tHTBVvn+NbK5uTnLS1LxSlpCrNMZWK21Wi3u\\\n",
       "u+++C5YHm82m17wkqQK1uQZWgp1KyvKSpNHzDOw8w8uGkqT68gxMklQkC0ySVCQLTJJUJAtMklQk\\\n",
       "C0ySVCQLTJJUJAtMklSkPftRUhFxls3PVLyS3gX81RX+maNQYu4SM4O5R63E3HXP/FOZebDqELux\\\n",
       "ZwvsaoiI1VI+I2xYiblLzAzmHrUSc5eYua5cQpQkFckCkyQVyQK7NItVB7hMJeYuMTOYe9RKzF1i\\\n",
       "5lryGpgkqUiegUmSimSBvYmI+PWIWIuIpyPi6xHRGJp7ICJOR8SpiPhElTnPFxFfjIjne9m/GhFj\\\n",
       "Q3N1zv2piHg2In4UEVPnzdU59x29XKcj4v6q81xMRPx+RLwSEc8MjV0fEY9HxAu9+3dWmfF8EXFz\\\n",
       "RCxHxHO9fx9HeuN1z/1jEfFkRHynl7vdG6917mJkpreL3IC/M3T8r4Av9Y5vA74DXAfcCvw5cE3V\\\n",
       "eYey/jPg2t7xbwC/UUju9wPvA1aAqaHx2uYGrunl+bvA23s5b6s610Xy/lPgp4Fnhsb+HXB/7/j+\\\n",
       "/r+XutyAG4Cf7h3/baDT+zdR99wBvKN3/DbgW8BH6p67lJtnYG8iM38w9PAngP5Fw7uARzLztcz8\\\n",
       "HnAauH3U+XaSmV/PzNd7D78J3NQ7rnvu5zLz1DZTdc59O3A6M/8iM/8GeITNvLWUmX8KvHre8F3A\\\n",
       "w73jh4HZUWZ6M5n5cmb+j97x/wWeA26k/rkzM/+69/BtvVtS89ylsMB2ISIeiogXgV8EPt8bvhF4\\\n",
       "cehpL/XG6uiXgD/pHZeUe1idc9c52269JzNfhs2yAN5dcZ4dRcQE8GE2z2ZqnzsiromIp4FXgMcz\\\n",
       "s4jcJbDAgIj4RkQ8s83tLoDMfDAzbwa+DHyu/7JtftRIt3S+We7ecx4EXmczOxSSe7uXbTNWly20\\\n",
       "dc62p0TEO4A/BH75vNWR2srMH2bmh9hcBbk9Ij5YcaQ949qqA9RBZn5sl0/9T8BJYIHNv7JvHpq7\\\n",
       "CVi/wtEu6s1yR8Q9wGHgo9lbbKeA3DuoPPdF1Dnbbn0/Im7IzJcj4gY2zxZqJSLexmZ5fTkz/6g3\\\n",
       "XPvcfZm5ERErwB0UlLvOPAN7ExFxaOjhJ4Hne8ePAXdHxHURcStwCHhy1Pl2EhF3AL8GfDIzzw1N\\\n",
       "1Tr3RdQ597eBQxFxa0S8HbibzbwleQy4p3d8D/BohVkuEBEB/B7wXGb+5tBU3XMf7O8AjogfBz7G\\\n",
       "5v8htc5djKp3kdT9xuZffM8Aa8B/AW4cmnuQzd1np4CfrTrreblPs3ld5une7UuF5P55Ns9oXgO+\\\n",
       "D3ytkNw/x+bOuD8HHqw6z5tk/QPgZeD/9X7XnwbGgSeAF3r311ed87zM/4TNZdm1oX/TP1dA7kng\\\n",
       "f/ZyPwN8vjde69yl3PwkDklSkVxClCQVyQKTJBXJApMkFckCkyQVyQKTJBXJApMkFckCkyQVyQKT\\\n",
       "JBXJApMkFckCkyQVyQKTJBXJApMkFckCkyQVyQKTJBXJApMkFckCkyQVyQKTJBXJApMkFckCkyQV\\\n",
       "yQKTJBXp/wNKgEkHOYOHywAAAABJRU5ErkJggg==\\\n",
       "\"\n",
       "  frames[6] = \"data:image/png;base64,iVBORw0KGgoAAAANSUhEUgAAAbAAAAEgCAYAAADVKCZpAAAAOXRFWHRTb2Z0d2FyZQBNYXRwbG90\\\n",
       "bGliIHZlcnNpb24zLjMuNCwgaHR0cHM6Ly9tYXRwbG90bGliLm9yZy8QVMy6AAAACXBIWXMAAAsT\\\n",
       "AAALEwEAmpwYAAAXlUlEQVR4nO3df2zc933f8ed7duJWzQbGjJL6/KP0EF0WJ+CSgjOyHxjIJlnc\\\n",
       "WojZAcFcFIPhBiQCJJ5a9I/aMxDerTCWLljVP9oiI9Fq/iOrF6CN7EntEscjUQxo4tCbw9mxdVYb\\\n",
       "dTZoxOp5RFYIcOfkvT94dz5KpEzJ0n2/H/L5AA73vc/njniBEPTi9/P93F1kJpIkleZvVR1AkqTL\\\n",
       "YYFJkopkgUmSimSBSZKKZIFJkopkgUmSimSBSZKKZIFJkopkgUmSimSBSZKKZIFJkopkgUmSimSB\\\n",
       "SZKKZIFJkopkgUmSimSBSZKKZIFJkopkgUmSimSBSZKKZIFJkopkgUmSimSBSZKKZIFJkopkgUmS\\\n",
       "imSBSZKKZIFJkopkgUmSimSBSZKKZIFJkopkgUmSimSBSZKKZIFJkopkgUmSimSBSZKKdG3VAa6W\\\n",
       "d73rXTkxMVF1DEkqylNPPfVXmXmw6hy7sWcLbGJigtXV1apjSFJRIuIvq86wWy4hSrrqut3uJY1L\\\n",
       "u1GrAouIH4uIJyPiOxHxbES0e+PXR8TjEfFC7/6dVWeVtDutVovJyUk6nc6W8U6nw+TkJK1Wq5pg\\\n",
       "Kl6tCgx4DfiZzPz7wIeAOyLiI8D9wBOZeQh4ovdYUs21Wi3a7Tbr6+vMzMwMSqzT6TAzM8P6+jrt\\\n",
       "dtsS02WpVYHlpr/uPXxb75bAXcDDvfGHgdnRp5Mu5NLYzvrl1dcvsZMnTw7Kq88S0+WoVYEBRMQ1\\\n",
       "EfE08ArweGZ+C3hPZr4M0Lt/d4URJcClsYvpdrssLS1tGZtllnPr5zh8+DDn1s8xe97foUtLSxa/\\\n",
       "Lk1m1vIGjAHLwAeBjfPm/s8Or5kHVoHVW265JaWrZWFhIdlcHchGo5GnTp3KzMxTp05lo9EYzC0s\\\n",
       "LFQbtELDv4tZZnOZ5TzGsZxgIo9xLJdZzllmL/gdqlrAatagA3Zzq90ZWF9mbgArwB3A9yPiBoDe\\\n",
       "/Ss7vGYxM6cyc+rgwSLexqACuTS2O81mk+XlZRqNBiuscIYzTDDBMY4xwQRnOMMKKzQaDZaXl2k2\\\n",
       "m1VHVmFqVWARcTAixnrHPw58DHgeeAy4p/e0e4BHKwmofc+lsUvTbDZZXFxkgw3atLfMtWmzwQaL\\\n",
       "i4uWly5LrQoMuAFYjog14NtsXgM7AXwB+HhEvAB8vPdYGrnx8fHBWQVsltcRjnCUo0wwwVGOcoQj\\\n",
       "gxLrn12Mj49XmLo6nU6H+fl5xhhjgYUtcwssMMYY8/PzF1xHlHajVgWWmWuZ+eHMnMzMD2bmv+mN\\\n",
       "dzPzo5l5qHf/atVZtX+5NLY7w1vlp5ke/G7u5d7B72ya6Qu22Eu7FZvX7Paeqamp9KOkdDWdPHmS\\\n",
       "w4cPD8qrr/8f9IkTJ7jzzjsrTFidbrfL5OTkluuBs8yywgobbDDGGNNMc5zjg/lGo8Ha2tq+PVut\\\n",
       "i4h4KjOnqs6xG7U6A5NK4dLYxY2PjzM3N7dl7DjHOdA4wIkTJzjQOLClvADm5uYsL10SC0y6RC6N\\\n",
       "7U6r1WJh4Y1y7y+p3nnnnVuuIwIsLCzs292aunwuIUqXwKWxnf37f3F4cPyr//nE4LjVarG0tHTB\\\n",
       "9cD+HwJzc3OWV424hCjtUS6NXbpWq8Xa2toFm1mazSZra2uWly6bBSZdIpfGLt1OBb6fi11vnUuI\\\n",
       "0mVyaUx7UUlLiBaY9BZ0u91tzyJ2GpfqrqQCcwlRegtcGpOqY4FJkopkgUmSimSBSQXxG6ClN1hg\\\n",
       "UiH8BmhpKwtMKkD/SzTP/3iq4Y+12s9fnqn9yQKTrqKp33ovd3/+HzH1W++97J/hN0BL27PApKvo\\\n",
       "va++m39w6nre++q7L+v1fgO0tDMLTLqKTl//Ct9+36ucvv6Vy3q93wAt7cxP4pAK0L/WdW793KC8\\\n",
       "+s5whl/hVzjQOLCvvwFaV4afxCHpimo2mywuLrLBBm3aW+batNlgg8XFRctL+4oFJhXAb4CWLmSB\\\n",
       "STXnN0BL2/MamFRjfgO0Rs1rYJKuCL8BWtpZrQosIm6OiOWIeC4ino2II73x6yPi8Yh4oXf/zqqz\\\n",
       "SqPiN0BL26tVgQGvA7+ame8HPgJ8NiJuA+4HnsjMQ8ATvcfSvtEvsX559XcbNpvNQYlZXtpvan0N\\\n",
       "LCIeBX67d5vOzJcj4gZgJTPfd7HXeg1Me5HfAK2rzWtgV0BETAAfBr4FvCczXwbo3V/e5/JIhfMb\\\n",
       "oKU31LLAIuIdwB8Cv5yZP7iE181HxGpErJ49e/bqBZQkVa52BRYRb2OzvL6cmX/UG/5+b+mQ3v22\\\n",
       "HyyXmYuZOZWZUwcPHhxNYElSJWpVYBERwO8Bz2Xmbw5NPQbc0zu+B3h01NkkSfVybdUBzvOPgX8J\\\n",
       "/K+IeLo39q+BLwBfiYhPA/8b+FQ18SRJdVGrAsvM/w7EDtMfHWUWSVK91WoJUZKk3bLAJElFssAk\\\n",
       "SUWywCRJRbLAJElFssAkSUWywCRJRbLAJElFssAkSUWywCRJRbLAJElFssAkSUWywCRJRbLAJElF\\\n",
       "ssAkSUWywCRJRbLAJElFssAkSUWywCRJRbLAJElFssAkSUWywCRJRbLAJElFssAkSUWqVYFFxO9H\\\n",
       "xCsR8czQ2PUR8XhEvNC7f2eVGSVJ9VCrAgP+I3DHeWP3A09k5iHgid5jSdI+V6sCy8w/BV49b/gu\\\n",
       "4OHe8cPA7CgzSZLqqVYFtoP3ZObLAL37d1ecR5JUAyUU2K5FxHxErEbE6tmzZ6uOI0m6ikoosO9H\\\n",
       "xA0AvftXdnpiZi5m5lRmTh08eHBkASVJo1dCgT0G3NM7vgd4tMIskqSaqFWBRcQfAH8GvC8iXoqI\\\n",
       "TwNfAD4eES8AH+89liTtc9dWHWBYZv7CDlMfHWkQSVLt1eoMTJKk3bLAJElFssAkSUWywCRJRbLA\\\n",
       "JElFssAkSUWywCRJRbLAJElFssAkSUWywCRJRbLAJElFssAkSUWywCRJRbLAJElFssAkSUWywCRJ\\\n",
       "RbLAJElFssAkSUWywCRJRbLAJElFssAkSUWywCRJRbLAJElFKqbAIuKOiDgVEacj4v6q80iSqlVE\\\n",
       "gUXENcDvAD8L3Ab8QkTcVm0qSVKViigw4HbgdGb+RWb+DfAIcFfFmSRJFSqlwG4EXhx6/FJvTJK0\\\n",
       "T5VSYLHNWF7wpIj5iFiNiNWzZ8+OIJYkqSqlFNhLwM1Dj28C1s9/UmYuZuZUZk4dPHhwZOEkSaNX\\\n",
       "SoF9GzgUEbdGxNuBu4HHKs40Mt1u95LGJWk/KKLAMvN14HPA14DngK9k5rPVphqNVqvF5OQknU5n\\\n",
       "y3in02FycpJWq1VNMEmq2LVVB9itzPxj4I+rzjFKrVaLdrsNwMzMDMvLyzSbTTqdDjMzM6yvrw/m\\\n",
       "LTJJ+00RZ2D70XB5AayvrzMzM8PJkycH5dXXbrctMEn7jgVWQ91ul6WlpS1js8xybv0chw8f5tz6\\\n",
       "OWaZ3TK/tLTkNTFJ+4oFVkPj4+MsLy/TaDSAzfI6whGOcpQJJjjKUY5wZFBijUaD5eVlxsfHK0wt\\\n",
       "SaNlgdVUs9kclNgKK5zhDBNMcIxjTDDBGc6wwsqgvJrNZtWRJWmkLLAaazabLC4ussEGbdpb5tq0\\\n",
       "2WCDxcVFy0vSvmSB1Vin02F+fp4xxlhgYcvcAguMMcb8/PwFW+wlaT+wwGpqeKv8NNODZcN7uXew\\\n",
       "nDjN9GB3oiUmab+JzAs+UnBPmJqaytXV1apjXJZut8vk5OSWrfKzzLLCChtsMMYY00xznOOD+Uaj\\\n",
       "wdramhs5JL0lEfFUZk5VnWM3PAOrofHxcebm5raMHec4BxoHOHHiBAcaB7aUF8Dc3JzlJWlfKeaT\\\n",
       "OPay3/nMfxscf/ZLPwO88cka/TczD+82XF5e3vJm5oWFBd/ILGnfscBqrF9KS0tLW7bKD5fY3Nyc\\\n",
       "5SVpX7LAaq7VanHfffddsDzYbDa95iVpX7PAaqC/bLiTnUrK8pK0n7mJQ5JUJAtMklQkC0ySVCQL\\\n",
       "TJJUJAtMklQkC0ySVCQLTJJUJAtMklQkC0ySVCQLTJJUJAtMklSk2hRYRHwqIp6NiB9FxNR5cw9E\\\n",
       "xOmIOBURn6gqoySpPur0Yb7PAP8c+A/DgxFxG3A38AGgAXwjIpqZ+cPRR5Qk1UVtzsAy87nMPLXN\\\n",
       "1F3AI5n5WmZ+DzgN3D7adJKkuqlNgV3EjcCLQ49f6o1JkvaxkS4hRsQ3gJ/cZurBzHx0p5dtM5Y7\\\n",
       "/Px5YB7glltuuayMkqQyjLTAMvNjl/Gyl4Cbhx7fBKzv8PMXgUWAqampbUtOkrQ3lLCE+Bhwd0Rc\\\n",
       "FxG3AoeAJyvOJEmqWG0KLCJ+PiJeAv4hcDIivgaQmc8CXwG+C/xX4LPuQJQk1WYbfWZ+FfjqDnMP\\\n",
       "AQ+NNpEkqc5qcwYmSdKlsMAkSUWywCRJRbLAJElFssAkSUWywCRJRbLAJGkP6Ha7lzS+F1hgklS4\\\n",
       "VqvF5OQknU5ny3in02FycpJWq1VNsKvMApOkgrVaLdrtNuvr68zMzAxKrNPpMDMzw/r6Ou12e0+W\\\n",
       "mAUmSYXql1dfv8ROnjw5KK++vVhiFpgkFajb7bK0tLRlbJZZzq2f4/Dhw5xbP8css1vml5aW9tQ1\\\n",
       "MQtMkgo0Pj7O8vIyjUYD2CyvIxzhKEeZYIKjHOUIRwYl1mg0WF5eZnx8vMLUV5YFJkmFajabgxJb\\\n",
       "YYUznGGCCY5xjAkmOMMZVlgZlFez2aw68hVlgUlSwZrNJouLi2ywQZv2lrk2bTbYYHFxcc+VF1hg\\\n",
       "klS0TqfD/Pw8Y4yxwMKWuQUWGGOM+fn5C7bY7wUWmCQVanir/DTTg2XDe7l3sJw4zfQFW+z3isjM\\\n",
       "qjNcFVNTU7m6ulp1DEm6KrrdLpOTk1u2ys8yyworbLDBGGNMM81xjg/mG40Ga2trF93IERFPZebU\\\n",
       "1cx+pXgGJkkFGh8fZ25ubsvYcY5zoHGAEydOcKBxYEt5AczNzbkLUZJUvVarxcLCG9e9+rsN77zz\\\n",
       "zi1b7AEWFhb23BuZr606gCRpd577e+8fHL//+ecABqW0tLS0Zat8f4v9zMwMc3Nze668wGtgklSM\\\n",
       "7Qqsr9vtbrs8uNP4TrwGJkkaqZ1Kai9d8zqfS4iSVIjzz7r2u9qcgUXEFyPi+YhYi4ivRsTY0NwD\\\n",
       "EXE6Ik5FxCcqjClJqonaFBjwOPDBzJwEOsADABFxG3A38AHgDuB3I+KaylJKkmqhNgWWmV/PzNd7\\\n",
       "D78J3NQ7vgt4JDNfy8zvAaeB26vIKEmqj9oU2Hl+CfiT3vGNwItDcy/1xiRJ+9hIN3FExDeAn9xm\\\n",
       "6sHMfLT3nAeB14Ev91+2zfO33fsfEfPAPMAtt9zylvNKkuprpAWWmR+72HxE3AMcBj6ab7xB7SXg\\\n",
       "5qGn3QSsn//a3s9fBBZh831gbzmwJKm2arOEGBF3AL8GfDIzzw1NPQbcHRHXRcStwCHgySoySpLq\\\n",
       "o07vA/tt4Drg8YgA+GZmfiYzn42IrwDfZXNp8bOZ+cMKc0qSaqA2BZaZ773I3EPAQyOMI0mqudos\\\n",
       "IUqSdCksMElSkSwwSVKRLDBJUpEsMElSkSwwSVKRLDBJUpEsMElSkSwwSVKRLDBJUpEsMElSkSww\\\n",
       "SVKRLDBJUpEsMElSkSwwSVKRLDBJUpEsMElSkSwwSVKRLDBJUpEssEvQ7XYvaVySdPVYYLvUarWY\\\n",
       "nJyk0+lsGe90OkxOTtJqtaoJJkn7lAW2C61Wi3a7zfr6OjMzM4MS63Q6zMzMsL6+TrvdtsQkaYQs\\\n",
       "sDfRL6++fomdPHlyUF59lpgkjY4FdhHdbpelpaUtY7PMcm79HIcPH+bc+jlmmd0yv7S05DUxSRqB\\\n",
       "2hRYRPx6RKxFxNMR8fWIaAzNPRARpyPiVER8YlSZxsfHWV5eptHYjDLLLEc4wlGOMsEERznKEY4M\\\n",
       "SqzRaLC8vMz4+PioIkrSvlWbAgO+mJmTmfkh4ATweYCIuA24G/gAcAfwuxFxzahCNZvNQYmtsMIZ\\\n",
       "zjDBBMc4xgQTnOEMK6wMyqvZbI4qmiTta7UpsMz8wdDDnwCyd3wX8EhmvpaZ3wNOA7ePMluz2WRx\\\n",
       "cZENNmjT3jLXps0GGywuLlpekjRCtSkwgIh4KCJeBH6R3hkYcCPw4tDTXuqNjUyn02F+fp4xxlhg\\\n",
       "YcvcAguMMcb8/PwFW+wlSVfPSAssIr4REc9sc7sLIDMfzMybgS8Dn+u/bJsflduMERHzEbEaEatn\\\n",
       "z569IpmHt8pPMz1YNryXewfLidNMX7DFXpJ0dUXmtl1QqYj4KeBkZn4wIh4AyMx/25v7GtDKzD+7\\\n",
       "2M+YmprK1dXVt5Sj2+0yOTm5Zav8LLOssMIGG4wxxjTTHOf4YL7RaLC2tuZGDklFioinMnOq6hy7\\\n",
       "UZslxIg4NPTwk8DzvePHgLsj4rqIuBU4BDw5ikzj4+PMzc1tGTvOcQ40DnDixAkONA5sKS+Aubk5\\\n",
       "y0uSRuDaqgMM+UJEvA/4EfCXwGcAMvPZiPgK8F3gdeCzmfnDUYXqvzG5/2bm4d2Gy8vLW97MvLCw\\\n",
       "4BuZJWlEarmEeCVc7hLixP0nB8dnvnDn4LjVarG0tHTBVvn+NbK5uTnLS1LxSlpCrNMZWK21Wi3u\\\n",
       "u+++C5YHm82m17wkqQK1uQZWgp1KyvKSpNHzDOw8w8uGkqT68gxMklQkC0ySVCQLTJJUJAtMklQk\\\n",
       "C0ySVCQLTJJUJAtMklSkPftRUhFxls3PVLyS3gX81RX+maNQYu4SM4O5R63E3HXP/FOZebDqELux\\\n",
       "ZwvsaoiI1VI+I2xYiblLzAzmHrUSc5eYua5cQpQkFckCkyQVyQK7NItVB7hMJeYuMTOYe9RKzF1i\\\n",
       "5lryGpgkqUiegUmSimSBvYmI+PWIWIuIpyPi6xHRGJp7ICJOR8SpiPhElTnPFxFfjIjne9m/GhFj\\\n",
       "Q3N1zv2piHg2In4UEVPnzdU59x29XKcj4v6q81xMRPx+RLwSEc8MjV0fEY9HxAu9+3dWmfF8EXFz\\\n",
       "RCxHxHO9fx9HeuN1z/1jEfFkRHynl7vdG6917mJkpreL3IC/M3T8r4Av9Y5vA74DXAfcCvw5cE3V\\\n",
       "eYey/jPg2t7xbwC/UUju9wPvA1aAqaHx2uYGrunl+bvA23s5b6s610Xy/lPgp4Fnhsb+HXB/7/j+\\\n",
       "/r+XutyAG4Cf7h3/baDT+zdR99wBvKN3/DbgW8BH6p67lJtnYG8iM38w9PAngP5Fw7uARzLztcz8\\\n",
       "HnAauH3U+XaSmV/PzNd7D78J3NQ7rnvu5zLz1DZTdc59O3A6M/8iM/8GeITNvLWUmX8KvHre8F3A\\\n",
       "w73jh4HZUWZ6M5n5cmb+j97x/wWeA26k/rkzM/+69/BtvVtS89ylsMB2ISIeiogXgV8EPt8bvhF4\\\n",
       "cehpL/XG6uiXgD/pHZeUe1idc9c52269JzNfhs2yAN5dcZ4dRcQE8GE2z2ZqnzsiromIp4FXgMcz\\\n",
       "s4jcJbDAgIj4RkQ8s83tLoDMfDAzbwa+DHyu/7JtftRIt3S+We7ecx4EXmczOxSSe7uXbTNWly20\\\n",
       "dc62p0TEO4A/BH75vNWR2srMH2bmh9hcBbk9Ij5YcaQ949qqA9RBZn5sl0/9T8BJYIHNv7JvHpq7\\\n",
       "CVi/wtEu6s1yR8Q9wGHgo9lbbKeA3DuoPPdF1Dnbbn0/Im7IzJcj4gY2zxZqJSLexmZ5fTkz/6g3\\\n",
       "XPvcfZm5ERErwB0UlLvOPAN7ExFxaOjhJ4Hne8ePAXdHxHURcStwCHhy1Pl2EhF3AL8GfDIzzw1N\\\n",
       "1Tr3RdQ597eBQxFxa0S8HbibzbwleQy4p3d8D/BohVkuEBEB/B7wXGb+5tBU3XMf7O8AjogfBz7G\\\n",
       "5v8htc5djKp3kdT9xuZffM8Aa8B/AW4cmnuQzd1np4CfrTrreblPs3ld5une7UuF5P55Ns9oXgO+\\\n",
       "D3ytkNw/x+bOuD8HHqw6z5tk/QPgZeD/9X7XnwbGgSeAF3r311ed87zM/4TNZdm1oX/TP1dA7kng\\\n",
       "f/ZyPwN8vjde69yl3PwkDklSkVxClCQVyQKTJBXJApMkFckCkyQVyQKTJBXJApMkFckCkyQVyQKT\\\n",
       "JBXJApMkFckCkyQVyQKTJBXJApMkFckCkyQVyQKTJBXJApMkFckCkyQVyQKTJBXJApMkFckCkyQV\\\n",
       "yQKTJBXp/wNKgEkHOYOHywAAAABJRU5ErkJggg==\\\n",
       "\"\n",
       "  frames[7] = \"data:image/png;base64,iVBORw0KGgoAAAANSUhEUgAAAbAAAAEgCAYAAADVKCZpAAAAOXRFWHRTb2Z0d2FyZQBNYXRwbG90\\\n",
       "bGliIHZlcnNpb24zLjMuNCwgaHR0cHM6Ly9tYXRwbG90bGliLm9yZy8QVMy6AAAACXBIWXMAAAsT\\\n",
       "AAALEwEAmpwYAAAXlUlEQVR4nO3df2zc933f8ed7duJWzQbGjJL6/KP0EF0WJ+CSgjOyHxjIJlnc\\\n",
       "WojZAcFcFIPhBiQCJJ5a9I/aMxDerTCWLljVP9oiI9Fq/iOrF6CN7EntEscjUQxo4tCbw9mxdVYb\\\n",
       "dTZoxOp5RFYIcOfkvT94dz5KpEzJ0n2/H/L5AA73vc/njniBEPTi9/P93F1kJpIkleZvVR1AkqTL\\\n",
       "YYFJkopkgUmSimSBSZKKZIFJkopkgUmSimSBSZKKZIFJkopkgUmSimSBSZKKZIFJkopkgUmSimSB\\\n",
       "SZKKZIFJkopkgUmSimSBSZKKZIFJkopkgUmSimSBSZKKZIFJkopkgUmSimSBSZKKZIFJkopkgUmS\\\n",
       "imSBSZKKZIFJkopkgUmSimSBSZKKZIFJkopkgUmSimSBSZKKZIFJkopkgUmSimSBSZKKdG3VAa6W\\\n",
       "d73rXTkxMVF1DEkqylNPPfVXmXmw6hy7sWcLbGJigtXV1apjSFJRIuIvq86wWy4hSrrqut3uJY1L\\\n",
       "u1GrAouIH4uIJyPiOxHxbES0e+PXR8TjEfFC7/6dVWeVtDutVovJyUk6nc6W8U6nw+TkJK1Wq5pg\\\n",
       "Kl6tCgx4DfiZzPz7wIeAOyLiI8D9wBOZeQh4ovdYUs21Wi3a7Tbr6+vMzMwMSqzT6TAzM8P6+jrt\\\n",
       "dtsS02WpVYHlpr/uPXxb75bAXcDDvfGHgdnRp5Mu5NLYzvrl1dcvsZMnTw7Kq88S0+WoVYEBRMQ1\\\n",
       "EfE08ArweGZ+C3hPZr4M0Lt/d4URJcClsYvpdrssLS1tGZtllnPr5zh8+DDn1s8xe97foUtLSxa/\\\n",
       "Lk1m1vIGjAHLwAeBjfPm/s8Or5kHVoHVW265JaWrZWFhIdlcHchGo5GnTp3KzMxTp05lo9EYzC0s\\\n",
       "LFQbtELDv4tZZnOZ5TzGsZxgIo9xLJdZzllmL/gdqlrAatagA3Zzq90ZWF9mbgArwB3A9yPiBoDe\\\n",
       "/Ss7vGYxM6cyc+rgwSLexqACuTS2O81mk+XlZRqNBiuscIYzTDDBMY4xwQRnOMMKKzQaDZaXl2k2\\\n",
       "m1VHVmFqVWARcTAixnrHPw58DHgeeAy4p/e0e4BHKwmofc+lsUvTbDZZXFxkgw3atLfMtWmzwQaL\\\n",
       "i4uWly5LrQoMuAFYjog14NtsXgM7AXwB+HhEvAB8vPdYGrnx8fHBWQVsltcRjnCUo0wwwVGOcoQj\\\n",
       "gxLrn12Mj49XmLo6nU6H+fl5xhhjgYUtcwssMMYY8/PzF1xHlHajVgWWmWuZ+eHMnMzMD2bmv+mN\\\n",
       "dzPzo5l5qHf/atVZtX+5NLY7w1vlp5ke/G7u5d7B72ya6Qu22Eu7FZvX7Paeqamp9KOkdDWdPHmS\\\n",
       "w4cPD8qrr/8f9IkTJ7jzzjsrTFidbrfL5OTkluuBs8yywgobbDDGGNNMc5zjg/lGo8Ha2tq+PVut\\\n",
       "i4h4KjOnqs6xG7U6A5NK4dLYxY2PjzM3N7dl7DjHOdA4wIkTJzjQOLClvADm5uYsL10SC0y6RC6N\\\n",
       "7U6r1WJh4Y1y7y+p3nnnnVuuIwIsLCzs292aunwuIUqXwKWxnf37f3F4cPyr//nE4LjVarG0tHTB\\\n",
       "9cD+HwJzc3OWV424hCjtUS6NXbpWq8Xa2toFm1mazSZra2uWly6bBSZdIpfGLt1OBb6fi11vnUuI\\\n",
       "0mVyaUx7UUlLiBaY9BZ0u91tzyJ2GpfqrqQCcwlRegtcGpOqY4FJkopkgUmSimSBSQXxG6ClN1hg\\\n",
       "UiH8BmhpKwtMKkD/SzTP/3iq4Y+12s9fnqn9yQKTrqKp33ovd3/+HzH1W++97J/hN0BL27PApKvo\\\n",
       "va++m39w6nre++q7L+v1fgO0tDMLTLqKTl//Ct9+36ucvv6Vy3q93wAt7cxP4pAK0L/WdW793KC8\\\n",
       "+s5whl/hVzjQOLCvvwFaV4afxCHpimo2mywuLrLBBm3aW+batNlgg8XFRctL+4oFJhXAb4CWLmSB\\\n",
       "STXnN0BL2/MamFRjfgO0Rs1rYJKuCL8BWtpZrQosIm6OiOWIeC4ino2II73x6yPi8Yh4oXf/zqqz\\\n",
       "SqPiN0BL26tVgQGvA7+ame8HPgJ8NiJuA+4HnsjMQ8ATvcfSvtEvsX559XcbNpvNQYlZXtpvan0N\\\n",
       "LCIeBX67d5vOzJcj4gZgJTPfd7HXeg1Me5HfAK2rzWtgV0BETAAfBr4FvCczXwbo3V/e5/JIhfMb\\\n",
       "oKU31LLAIuIdwB8Cv5yZP7iE181HxGpErJ49e/bqBZQkVa52BRYRb2OzvL6cmX/UG/5+b+mQ3v22\\\n",
       "HyyXmYuZOZWZUwcPHhxNYElSJWpVYBERwO8Bz2Xmbw5NPQbc0zu+B3h01NkkSfVybdUBzvOPgX8J\\\n",
       "/K+IeLo39q+BLwBfiYhPA/8b+FQ18SRJdVGrAsvM/w7EDtMfHWUWSVK91WoJUZKk3bLAJElFssAk\\\n",
       "SUWywCRJRbLAJElFssAkSUWywCRJRbLAJElFssAkSUWywCRJRbLAJElFssAkSUWywCRJRbLAJElF\\\n",
       "ssAkSUWywCRJRbLAJElFssAkSUWywCRJRbLAJElFssAkSUWywCRJRbLAJElFssAkSUWqVYFFxO9H\\\n",
       "xCsR8czQ2PUR8XhEvNC7f2eVGSVJ9VCrAgP+I3DHeWP3A09k5iHgid5jSdI+V6sCy8w/BV49b/gu\\\n",
       "4OHe8cPA7CgzSZLqqVYFtoP3ZObLAL37d1ecR5JUAyUU2K5FxHxErEbE6tmzZ6uOI0m6ikoosO9H\\\n",
       "xA0AvftXdnpiZi5m5lRmTh08eHBkASVJo1dCgT0G3NM7vgd4tMIskqSaqFWBRcQfAH8GvC8iXoqI\\\n",
       "TwNfAD4eES8AH+89liTtc9dWHWBYZv7CDlMfHWkQSVLt1eoMTJKk3bLAJElFssAkSUWywCRJRbLA\\\n",
       "JElFssAkSUWywCRJRbLAJElFssAkSUWywCRJRbLAJElFssAkSUWywCRJRbLAJElFssAkSUWywCRJ\\\n",
       "RbLAJElFssAkSUWywCRJRbLAJElFssAkSUWywCRJRbLAJElFKqbAIuKOiDgVEacj4v6q80iSqlVE\\\n",
       "gUXENcDvAD8L3Ab8QkTcVm0qSVKViigw4HbgdGb+RWb+DfAIcFfFmSRJFSqlwG4EXhx6/FJvTJK0\\\n",
       "T5VSYLHNWF7wpIj5iFiNiNWzZ8+OIJYkqSqlFNhLwM1Dj28C1s9/UmYuZuZUZk4dPHhwZOEkSaNX\\\n",
       "SoF9GzgUEbdGxNuBu4HHKs40Mt1u95LGJWk/KKLAMvN14HPA14DngK9k5rPVphqNVqvF5OQknU5n\\\n",
       "y3in02FycpJWq1VNMEmq2LVVB9itzPxj4I+rzjFKrVaLdrsNwMzMDMvLyzSbTTqdDjMzM6yvrw/m\\\n",
       "LTJJ+00RZ2D70XB5AayvrzMzM8PJkycH5dXXbrctMEn7jgVWQ91ul6WlpS1js8xybv0chw8f5tz6\\\n",
       "OWaZ3TK/tLTkNTFJ+4oFVkPj4+MsLy/TaDSAzfI6whGOcpQJJjjKUY5wZFBijUaD5eVlxsfHK0wt\\\n",
       "SaNlgdVUs9kclNgKK5zhDBNMcIxjTDDBGc6wwsqgvJrNZtWRJWmkLLAaazabLC4ussEGbdpb5tq0\\\n",
       "2WCDxcVFy0vSvmSB1Vin02F+fp4xxlhgYcvcAguMMcb8/PwFW+wlaT+wwGpqeKv8NNODZcN7uXew\\\n",
       "nDjN9GB3oiUmab+JzAs+UnBPmJqaytXV1apjXJZut8vk5OSWrfKzzLLCChtsMMYY00xznOOD+Uaj\\\n",
       "wdramhs5JL0lEfFUZk5VnWM3PAOrofHxcebm5raMHec4BxoHOHHiBAcaB7aUF8Dc3JzlJWlfKeaT\\\n",
       "OPay3/nMfxscf/ZLPwO88cka/TczD+82XF5e3vJm5oWFBd/ILGnfscBqrF9KS0tLW7bKD5fY3Nyc\\\n",
       "5SVpX7LAaq7VanHfffddsDzYbDa95iVpX7PAaqC/bLiTnUrK8pK0n7mJQ5JUJAtMklQkC0ySVCQL\\\n",
       "TJJUJAtMklQkC0ySVCQLTJJUJAtMklQkC0ySVCQLTJJUJAtMklSk2hRYRHwqIp6NiB9FxNR5cw9E\\\n",
       "xOmIOBURn6gqoySpPur0Yb7PAP8c+A/DgxFxG3A38AGgAXwjIpqZ+cPRR5Qk1UVtzsAy87nMPLXN\\\n",
       "1F3AI5n5WmZ+DzgN3D7adJKkuqlNgV3EjcCLQ49f6o1JkvaxkS4hRsQ3gJ/cZurBzHx0p5dtM5Y7\\\n",
       "/Px5YB7glltuuayMkqQyjLTAMvNjl/Gyl4Cbhx7fBKzv8PMXgUWAqampbUtOkrQ3lLCE+Bhwd0Rc\\\n",
       "FxG3AoeAJyvOJEmqWG0KLCJ+PiJeAv4hcDIivgaQmc8CXwG+C/xX4LPuQJQk1WYbfWZ+FfjqDnMP\\\n",
       "AQ+NNpEkqc5qcwYmSdKlsMAkSUWywCRJRbLAJElFssAkSUWywCRJRbLAJGkP6Ha7lzS+F1hgklS4\\\n",
       "VqvF5OQknU5ny3in02FycpJWq1VNsKvMApOkgrVaLdrtNuvr68zMzAxKrNPpMDMzw/r6Ou12e0+W\\\n",
       "mAUmSYXql1dfv8ROnjw5KK++vVhiFpgkFajb7bK0tLRlbJZZzq2f4/Dhw5xbP8css1vml5aW9tQ1\\\n",
       "MQtMkgo0Pj7O8vIyjUYD2CyvIxzhKEeZYIKjHOUIRwYl1mg0WF5eZnx8vMLUV5YFJkmFajabgxJb\\\n",
       "YYUznGGCCY5xjAkmOMMZVlgZlFez2aw68hVlgUlSwZrNJouLi2ywQZv2lrk2bTbYYHFxcc+VF1hg\\\n",
       "klS0TqfD/Pw8Y4yxwMKWuQUWGGOM+fn5C7bY7wUWmCQVanir/DTTg2XDe7l3sJw4zfQFW+z3isjM\\\n",
       "qjNcFVNTU7m6ulp1DEm6KrrdLpOTk1u2ys8yyworbLDBGGNMM81xjg/mG40Ga2trF93IERFPZebU\\\n",
       "1cx+pXgGJkkFGh8fZ25ubsvYcY5zoHGAEydOcKBxYEt5AczNzbkLUZJUvVarxcLCG9e9+rsN77zz\\\n",
       "zi1b7AEWFhb23BuZr606gCRpd577e+8fHL//+ecABqW0tLS0Zat8f4v9zMwMc3Nze668wGtgklSM\\\n",
       "7Qqsr9vtbrs8uNP4TrwGJkkaqZ1Kai9d8zqfS4iSVIjzz7r2u9qcgUXEFyPi+YhYi4ivRsTY0NwD\\\n",
       "EXE6Ik5FxCcqjClJqonaFBjwOPDBzJwEOsADABFxG3A38AHgDuB3I+KaylJKkmqhNgWWmV/PzNd7\\\n",
       "D78J3NQ7vgt4JDNfy8zvAaeB26vIKEmqj9oU2Hl+CfiT3vGNwItDcy/1xiRJ+9hIN3FExDeAn9xm\\\n",
       "6sHMfLT3nAeB14Ev91+2zfO33fsfEfPAPMAtt9zylvNKkuprpAWWmR+72HxE3AMcBj6ab7xB7SXg\\\n",
       "5qGn3QSsn//a3s9fBBZh831gbzmwJKm2arOEGBF3AL8GfDIzzw1NPQbcHRHXRcStwCHgySoySpLq\\\n",
       "o07vA/tt4Drg8YgA+GZmfiYzn42IrwDfZXNp8bOZ+cMKc0qSaqA2BZaZ773I3EPAQyOMI0mqudos\\\n",
       "IUqSdCksMElSkSwwSVKRLDBJUpEsMElSkSwwSVKRLDBJUpEsMElSkSwwSVKRLDBJUpEsMElSkSww\\\n",
       "SVKRLDBJUpEsMElSkSwwSVKRLDBJUpEsMElSkSwwSVKRLDBJUpEssEvQ7XYvaVySdPVYYLvUarWY\\\n",
       "nJyk0+lsGe90OkxOTtJqtaoJJkn7lAW2C61Wi3a7zfr6OjMzM4MS63Q6zMzMsL6+TrvdtsQkaYQs\\\n",
       "sDfRL6++fomdPHlyUF59lpgkjY4FdhHdbpelpaUtY7PMcm79HIcPH+bc+jlmmd0yv7S05DUxSRqB\\\n",
       "2hRYRPx6RKxFxNMR8fWIaAzNPRARpyPiVER8YlSZxsfHWV5eptHYjDLLLEc4wlGOMsEERznKEY4M\\\n",
       "SqzRaLC8vMz4+PioIkrSvlWbAgO+mJmTmfkh4ATweYCIuA24G/gAcAfwuxFxzahCNZvNQYmtsMIZ\\\n",
       "zjDBBMc4xgQTnOEMK6wMyqvZbI4qmiTta7UpsMz8wdDDnwCyd3wX8EhmvpaZ3wNOA7ePMluz2WRx\\\n",
       "cZENNmjT3jLXps0GGywuLlpekjRCtSkwgIh4KCJeBH6R3hkYcCPw4tDTXuqNjUyn02F+fp4xxlhg\\\n",
       "YcvcAguMMcb8/PwFW+wlSVfPSAssIr4REc9sc7sLIDMfzMybgS8Dn+u/bJsflduMERHzEbEaEatn\\\n",
       "z569IpmHt8pPMz1YNryXewfLidNMX7DFXpJ0dUXmtl1QqYj4KeBkZn4wIh4AyMx/25v7GtDKzD+7\\\n",
       "2M+YmprK1dXVt5Sj2+0yOTm5Zav8LLOssMIGG4wxxjTTHOf4YL7RaLC2tuZGDklFioinMnOq6hy7\\\n",
       "UZslxIg4NPTwk8DzvePHgLsj4rqIuBU4BDw5ikzj4+PMzc1tGTvOcQ40DnDixAkONA5sKS+Aubk5\\\n",
       "y0uSRuDaqgMM+UJEvA/4EfCXwGcAMvPZiPgK8F3gdeCzmfnDUYXqvzG5/2bm4d2Gy8vLW97MvLCw\\\n",
       "4BuZJWlEarmEeCVc7hLixP0nB8dnvnDn4LjVarG0tHTBVvn+NbK5uTnLS1LxSlpCrNMZWK21Wi3u\\\n",
       "u+++C5YHm82m17wkqQK1uQZWgp1KyvKSpNHzDOw8w8uGkqT68gxMklQkC0ySVCQLTJJUJAtMklQk\\\n",
       "C0ySVCQLTJJUJAtMklSkPftRUhFxls3PVLyS3gX81RX+maNQYu4SM4O5R63E3HXP/FOZebDqELux\\\n",
       "ZwvsaoiI1VI+I2xYiblLzAzmHrUSc5eYua5cQpQkFckCkyQVyQK7NItVB7hMJeYuMTOYe9RKzF1i\\\n",
       "5lryGpgkqUiegUmSimSBvYmI+PWIWIuIpyPi6xHRGJp7ICJOR8SpiPhElTnPFxFfjIjne9m/GhFj\\\n",
       "Q3N1zv2piHg2In4UEVPnzdU59x29XKcj4v6q81xMRPx+RLwSEc8MjV0fEY9HxAu9+3dWmfF8EXFz\\\n",
       "RCxHxHO9fx9HeuN1z/1jEfFkRHynl7vdG6917mJkpreL3IC/M3T8r4Av9Y5vA74DXAfcCvw5cE3V\\\n",
       "eYey/jPg2t7xbwC/UUju9wPvA1aAqaHx2uYGrunl+bvA23s5b6s610Xy/lPgp4Fnhsb+HXB/7/j+\\\n",
       "/r+XutyAG4Cf7h3/baDT+zdR99wBvKN3/DbgW8BH6p67lJtnYG8iM38w9PAngP5Fw7uARzLztcz8\\\n",
       "HnAauH3U+XaSmV/PzNd7D78J3NQ7rnvu5zLz1DZTdc59O3A6M/8iM/8GeITNvLWUmX8KvHre8F3A\\\n",
       "w73jh4HZUWZ6M5n5cmb+j97x/wWeA26k/rkzM/+69/BtvVtS89ylsMB2ISIeiogXgV8EPt8bvhF4\\\n",
       "cehpL/XG6uiXgD/pHZeUe1idc9c52269JzNfhs2yAN5dcZ4dRcQE8GE2z2ZqnzsiromIp4FXgMcz\\\n",
       "s4jcJbDAgIj4RkQ8s83tLoDMfDAzbwa+DHyu/7JtftRIt3S+We7ecx4EXmczOxSSe7uXbTNWly20\\\n",
       "dc62p0TEO4A/BH75vNWR2srMH2bmh9hcBbk9Ij5YcaQ949qqA9RBZn5sl0/9T8BJYIHNv7JvHpq7\\\n",
       "CVi/wtEu6s1yR8Q9wGHgo9lbbKeA3DuoPPdF1Dnbbn0/Im7IzJcj4gY2zxZqJSLexmZ5fTkz/6g3\\\n",
       "XPvcfZm5ERErwB0UlLvOPAN7ExFxaOjhJ4Hne8ePAXdHxHURcStwCHhy1Pl2EhF3AL8GfDIzzw1N\\\n",
       "1Tr3RdQ597eBQxFxa0S8HbibzbwleQy4p3d8D/BohVkuEBEB/B7wXGb+5tBU3XMf7O8AjogfBz7G\\\n",
       "5v8htc5djKp3kdT9xuZffM8Aa8B/AW4cmnuQzd1np4CfrTrreblPs3ld5une7UuF5P55Ns9oXgO+\\\n",
       "D3ytkNw/x+bOuD8HHqw6z5tk/QPgZeD/9X7XnwbGgSeAF3r311ed87zM/4TNZdm1oX/TP1dA7kng\\\n",
       "f/ZyPwN8vjde69yl3PwkDklSkVxClCQVyQKTJBXJApMkFckCkyQVyQKTJBXJApMkFckCkyQVyQKT\\\n",
       "JBXJApMkFckCkyQVyQKTJBXJApMkFckCkyQVyQKTJBXJApMkFckCkyQVyQKTJBXJApMkFckCkyQV\\\n",
       "yQKTJBXp/wNKgEkHOYOHywAAAABJRU5ErkJggg==\\\n",
       "\"\n",
       "  frames[8] = \"data:image/png;base64,iVBORw0KGgoAAAANSUhEUgAAAbAAAAEgCAYAAADVKCZpAAAAOXRFWHRTb2Z0d2FyZQBNYXRwbG90\\\n",
       "bGliIHZlcnNpb24zLjMuNCwgaHR0cHM6Ly9tYXRwbG90bGliLm9yZy8QVMy6AAAACXBIWXMAAAsT\\\n",
       "AAALEwEAmpwYAAAXlUlEQVR4nO3df2zc933f8ed7duJWzQbGjJL6/KP0EF0WJ+CSgjOyHxjIJlnc\\\n",
       "WojZAcFcFIPhBiQCJJ5a9I/aMxDerTCWLljVP9oiI9Fq/iOrF6CN7EntEscjUQxo4tCbw9mxdVYb\\\n",
       "dTZoxOp5RFYIcOfkvT94dz5KpEzJ0n2/H/L5AA73vc/njniBEPTi9/P93F1kJpIkleZvVR1AkqTL\\\n",
       "YYFJkopkgUmSimSBSZKKZIFJkopkgUmSimSBSZKKZIFJkopkgUmSimSBSZKKZIFJkopkgUmSimSB\\\n",
       "SZKKZIFJkopkgUmSimSBSZKKZIFJkopkgUmSimSBSZKKZIFJkopkgUmSimSBSZKKZIFJkopkgUmS\\\n",
       "imSBSZKKZIFJkopkgUmSimSBSZKKZIFJkopkgUmSimSBSZKKZIFJkopkgUmSimSBSZKKdG3VAa6W\\\n",
       "d73rXTkxMVF1DEkqylNPPfVXmXmw6hy7sWcLbGJigtXV1apjSFJRIuIvq86wWy4hSrrqut3uJY1L\\\n",
       "u1GrAouIH4uIJyPiOxHxbES0e+PXR8TjEfFC7/6dVWeVtDutVovJyUk6nc6W8U6nw+TkJK1Wq5pg\\\n",
       "Kl6tCgx4DfiZzPz7wIeAOyLiI8D9wBOZeQh4ovdYUs21Wi3a7Tbr6+vMzMwMSqzT6TAzM8P6+jrt\\\n",
       "dtsS02WpVYHlpr/uPXxb75bAXcDDvfGHgdnRp5Mu5NLYzvrl1dcvsZMnTw7Kq88S0+WoVYEBRMQ1\\\n",
       "EfE08ArweGZ+C3hPZr4M0Lt/d4URJcClsYvpdrssLS1tGZtllnPr5zh8+DDn1s8xe97foUtLSxa/\\\n",
       "Lk1m1vIGjAHLwAeBjfPm/s8Or5kHVoHVW265JaWrZWFhIdlcHchGo5GnTp3KzMxTp05lo9EYzC0s\\\n",
       "LFQbtELDv4tZZnOZ5TzGsZxgIo9xLJdZzllmL/gdqlrAatagA3Zzq90ZWF9mbgArwB3A9yPiBoDe\\\n",
       "/Ss7vGYxM6cyc+rgwSLexqACuTS2O81mk+XlZRqNBiuscIYzTDDBMY4xwQRnOMMKKzQaDZaXl2k2\\\n",
       "m1VHVmFqVWARcTAixnrHPw58DHgeeAy4p/e0e4BHKwmofc+lsUvTbDZZXFxkgw3atLfMtWmzwQaL\\\n",
       "i4uWly5LrQoMuAFYjog14NtsXgM7AXwB+HhEvAB8vPdYGrnx8fHBWQVsltcRjnCUo0wwwVGOcoQj\\\n",
       "gxLrn12Mj49XmLo6nU6H+fl5xhhjgYUtcwssMMYY8/PzF1xHlHajVgWWmWuZ+eHMnMzMD2bmv+mN\\\n",
       "dzPzo5l5qHf/atVZtX+5NLY7w1vlp5ke/G7u5d7B72ya6Qu22Eu7FZvX7Paeqamp9KOkdDWdPHmS\\\n",
       "w4cPD8qrr/8f9IkTJ7jzzjsrTFidbrfL5OTkluuBs8yywgobbDDGGNNMc5zjg/lGo8Ha2tq+PVut\\\n",
       "i4h4KjOnqs6xG7U6A5NK4dLYxY2PjzM3N7dl7DjHOdA4wIkTJzjQOLClvADm5uYsL10SC0y6RC6N\\\n",
       "7U6r1WJh4Y1y7y+p3nnnnVuuIwIsLCzs292aunwuIUqXwKWxnf37f3F4cPyr//nE4LjVarG0tHTB\\\n",
       "9cD+HwJzc3OWV424hCjtUS6NXbpWq8Xa2toFm1mazSZra2uWly6bBSZdIpfGLt1OBb6fi11vnUuI\\\n",
       "0mVyaUx7UUlLiBaY9BZ0u91tzyJ2GpfqrqQCcwlRegtcGpOqY4FJkopkgUmSimSBSQXxG6ClN1hg\\\n",
       "UiH8BmhpKwtMKkD/SzTP/3iq4Y+12s9fnqn9yQKTrqKp33ovd3/+HzH1W++97J/hN0BL27PApKvo\\\n",
       "va++m39w6nre++q7L+v1fgO0tDMLTLqKTl//Ct9+36ucvv6Vy3q93wAt7cxP4pAK0L/WdW793KC8\\\n",
       "+s5whl/hVzjQOLCvvwFaV4afxCHpimo2mywuLrLBBm3aW+batNlgg8XFRctL+4oFJhXAb4CWLmSB\\\n",
       "STXnN0BL2/MamFRjfgO0Rs1rYJKuCL8BWtpZrQosIm6OiOWIeC4ino2II73x6yPi8Yh4oXf/zqqz\\\n",
       "SqPiN0BL26tVgQGvA7+ame8HPgJ8NiJuA+4HnsjMQ8ATvcfSvtEvsX559XcbNpvNQYlZXtpvan0N\\\n",
       "LCIeBX67d5vOzJcj4gZgJTPfd7HXeg1Me5HfAK2rzWtgV0BETAAfBr4FvCczXwbo3V/e5/JIhfMb\\\n",
       "oKU31LLAIuIdwB8Cv5yZP7iE181HxGpErJ49e/bqBZQkVa52BRYRb2OzvL6cmX/UG/5+b+mQ3v22\\\n",
       "HyyXmYuZOZWZUwcPHhxNYElSJWpVYBERwO8Bz2Xmbw5NPQbc0zu+B3h01NkkSfVybdUBzvOPgX8J\\\n",
       "/K+IeLo39q+BLwBfiYhPA/8b+FQ18SRJdVGrAsvM/w7EDtMfHWUWSVK91WoJUZKk3bLAJElFssAk\\\n",
       "SUWywCRJRbLAJElFssAkSUWywCRJRbLAJElFssAkSUWywCRJRbLAJElFssAkSUWywCRJRbLAJElF\\\n",
       "ssAkSUWywCRJRbLAJElFssAkSUWywCRJRbLAJElFssAkSUWywCRJRbLAJElFssAkSUWqVYFFxO9H\\\n",
       "xCsR8czQ2PUR8XhEvNC7f2eVGSVJ9VCrAgP+I3DHeWP3A09k5iHgid5jSdI+V6sCy8w/BV49b/gu\\\n",
       "4OHe8cPA7CgzSZLqqVYFtoP3ZObLAL37d1ecR5JUAyUU2K5FxHxErEbE6tmzZ6uOI0m6ikoosO9H\\\n",
       "xA0AvftXdnpiZi5m5lRmTh08eHBkASVJo1dCgT0G3NM7vgd4tMIskqSaqFWBRcQfAH8GvC8iXoqI\\\n",
       "TwNfAD4eES8AH+89liTtc9dWHWBYZv7CDlMfHWkQSVLt1eoMTJKk3bLAJElFssAkSUWywCRJRbLA\\\n",
       "JElFssAkSUWywCRJRbLAJElFssAkSUWywCRJRbLAJElFssAkSUWywCRJRbLAJElFssAkSUWywCRJ\\\n",
       "RbLAJElFssAkSUWywCRJRbLAJElFssAkSUWywCRJRbLAJElFKqbAIuKOiDgVEacj4v6q80iSqlVE\\\n",
       "gUXENcDvAD8L3Ab8QkTcVm0qSVKViigw4HbgdGb+RWb+DfAIcFfFmSRJFSqlwG4EXhx6/FJvTJK0\\\n",
       "T5VSYLHNWF7wpIj5iFiNiNWzZ8+OIJYkqSqlFNhLwM1Dj28C1s9/UmYuZuZUZk4dPHhwZOEkSaNX\\\n",
       "SoF9GzgUEbdGxNuBu4HHKs40Mt1u95LGJWk/KKLAMvN14HPA14DngK9k5rPVphqNVqvF5OQknU5n\\\n",
       "y3in02FycpJWq1VNMEmq2LVVB9itzPxj4I+rzjFKrVaLdrsNwMzMDMvLyzSbTTqdDjMzM6yvrw/m\\\n",
       "LTJJ+00RZ2D70XB5AayvrzMzM8PJkycH5dXXbrctMEn7jgVWQ91ul6WlpS1js8xybv0chw8f5tz6\\\n",
       "OWaZ3TK/tLTkNTFJ+4oFVkPj4+MsLy/TaDSAzfI6whGOcpQJJjjKUY5wZFBijUaD5eVlxsfHK0wt\\\n",
       "SaNlgdVUs9kclNgKK5zhDBNMcIxjTDDBGc6wwsqgvJrNZtWRJWmkLLAaazabLC4ussEGbdpb5tq0\\\n",
       "2WCDxcVFy0vSvmSB1Vin02F+fp4xxlhgYcvcAguMMcb8/PwFW+wlaT+wwGpqeKv8NNODZcN7uXew\\\n",
       "nDjN9GB3oiUmab+JzAs+UnBPmJqaytXV1apjXJZut8vk5OSWrfKzzLLCChtsMMYY00xznOOD+Uaj\\\n",
       "wdramhs5JL0lEfFUZk5VnWM3PAOrofHxcebm5raMHec4BxoHOHHiBAcaB7aUF8Dc3JzlJWlfKeaT\\\n",
       "OPay3/nMfxscf/ZLPwO88cka/TczD+82XF5e3vJm5oWFBd/ILGnfscBqrF9KS0tLW7bKD5fY3Nyc\\\n",
       "5SVpX7LAaq7VanHfffddsDzYbDa95iVpX7PAaqC/bLiTnUrK8pK0n7mJQ5JUJAtMklQkC0ySVCQL\\\n",
       "TJJUJAtMklQkC0ySVCQLTJJUJAtMklQkC0ySVCQLTJJUJAtMklSk2hRYRHwqIp6NiB9FxNR5cw9E\\\n",
       "xOmIOBURn6gqoySpPur0Yb7PAP8c+A/DgxFxG3A38AGgAXwjIpqZ+cPRR5Qk1UVtzsAy87nMPLXN\\\n",
       "1F3AI5n5WmZ+DzgN3D7adJKkuqlNgV3EjcCLQ49f6o1JkvaxkS4hRsQ3gJ/cZurBzHx0p5dtM5Y7\\\n",
       "/Px5YB7glltuuayMkqQyjLTAMvNjl/Gyl4Cbhx7fBKzv8PMXgUWAqampbUtOkrQ3lLCE+Bhwd0Rc\\\n",
       "FxG3AoeAJyvOJEmqWG0KLCJ+PiJeAv4hcDIivgaQmc8CXwG+C/xX4LPuQJQk1WYbfWZ+FfjqDnMP\\\n",
       "AQ+NNpEkqc5qcwYmSdKlsMAkSUWywCRJRbLAJElFssAkSUWywCRJRbLAJGkP6Ha7lzS+F1hgklS4\\\n",
       "VqvF5OQknU5ny3in02FycpJWq1VNsKvMApOkgrVaLdrtNuvr68zMzAxKrNPpMDMzw/r6Ou12e0+W\\\n",
       "mAUmSYXql1dfv8ROnjw5KK++vVhiFpgkFajb7bK0tLRlbJZZzq2f4/Dhw5xbP8css1vml5aW9tQ1\\\n",
       "MQtMkgo0Pj7O8vIyjUYD2CyvIxzhKEeZYIKjHOUIRwYl1mg0WF5eZnx8vMLUV5YFJkmFajabgxJb\\\n",
       "YYUznGGCCY5xjAkmOMMZVlgZlFez2aw68hVlgUlSwZrNJouLi2ywQZv2lrk2bTbYYHFxcc+VF1hg\\\n",
       "klS0TqfD/Pw8Y4yxwMKWuQUWGGOM+fn5C7bY7wUWmCQVanir/DTTg2XDe7l3sJw4zfQFW+z3isjM\\\n",
       "qjNcFVNTU7m6ulp1DEm6KrrdLpOTk1u2ys8yyworbLDBGGNMM81xjg/mG40Ga2trF93IERFPZebU\\\n",
       "1cx+pXgGJkkFGh8fZ25ubsvYcY5zoHGAEydOcKBxYEt5AczNzbkLUZJUvVarxcLCG9e9+rsN77zz\\\n",
       "zi1b7AEWFhb23BuZr606gCRpd577e+8fHL//+ecABqW0tLS0Zat8f4v9zMwMc3Nze668wGtgklSM\\\n",
       "7Qqsr9vtbrs8uNP4TrwGJkkaqZ1Kai9d8zqfS4iSVIjzz7r2u9qcgUXEFyPi+YhYi4ivRsTY0NwD\\\n",
       "EXE6Ik5FxCcqjClJqonaFBjwOPDBzJwEOsADABFxG3A38AHgDuB3I+KaylJKkmqhNgWWmV/PzNd7\\\n",
       "D78J3NQ7vgt4JDNfy8zvAaeB26vIKEmqj9oU2Hl+CfiT3vGNwItDcy/1xiRJ+9hIN3FExDeAn9xm\\\n",
       "6sHMfLT3nAeB14Ev91+2zfO33fsfEfPAPMAtt9zylvNKkuprpAWWmR+72HxE3AMcBj6ab7xB7SXg\\\n",
       "5qGn3QSsn//a3s9fBBZh831gbzmwJKm2arOEGBF3AL8GfDIzzw1NPQbcHRHXRcStwCHgySoySpLq\\\n",
       "o07vA/tt4Drg8YgA+GZmfiYzn42IrwDfZXNp8bOZ+cMKc0qSaqA2BZaZ773I3EPAQyOMI0mqudos\\\n",
       "IUqSdCksMElSkSwwSVKRLDBJUpEsMElSkSwwSVKRLDBJUpEsMElSkSwwSVKRLDBJUpEsMElSkSww\\\n",
       "SVKRLDBJUpEsMElSkSwwSVKRLDBJUpEsMElSkSwwSVKRLDBJUpEssEvQ7XYvaVySdPVYYLvUarWY\\\n",
       "nJyk0+lsGe90OkxOTtJqtaoJJkn7lAW2C61Wi3a7zfr6OjMzM4MS63Q6zMzMsL6+TrvdtsQkaYQs\\\n",
       "sDfRL6++fomdPHlyUF59lpgkjY4FdhHdbpelpaUtY7PMcm79HIcPH+bc+jlmmd0yv7S05DUxSRqB\\\n",
       "2hRYRPx6RKxFxNMR8fWIaAzNPRARpyPiVER8YlSZxsfHWV5eptHYjDLLLEc4wlGOMsEERznKEY4M\\\n",
       "SqzRaLC8vMz4+PioIkrSvlWbAgO+mJmTmfkh4ATweYCIuA24G/gAcAfwuxFxzahCNZvNQYmtsMIZ\\\n",
       "zjDBBMc4xgQTnOEMK6wMyqvZbI4qmiTta7UpsMz8wdDDnwCyd3wX8EhmvpaZ3wNOA7ePMluz2WRx\\\n",
       "cZENNmjT3jLXps0GGywuLlpekjRCtSkwgIh4KCJeBH6R3hkYcCPw4tDTXuqNjUyn02F+fp4xxlhg\\\n",
       "YcvcAguMMcb8/PwFW+wlSVfPSAssIr4REc9sc7sLIDMfzMybgS8Dn+u/bJsflduMERHzEbEaEatn\\\n",
       "z569IpmHt8pPMz1YNryXewfLidNMX7DFXpJ0dUXmtl1QqYj4KeBkZn4wIh4AyMx/25v7GtDKzD+7\\\n",
       "2M+YmprK1dXVt5Sj2+0yOTm5Zav8LLOssMIGG4wxxjTTHOf4YL7RaLC2tuZGDklFioinMnOq6hy7\\\n",
       "UZslxIg4NPTwk8DzvePHgLsj4rqIuBU4BDw5ikzj4+PMzc1tGTvOcQ40DnDixAkONA5sKS+Aubk5\\\n",
       "y0uSRuDaqgMM+UJEvA/4EfCXwGcAMvPZiPgK8F3gdeCzmfnDUYXqvzG5/2bm4d2Gy8vLW97MvLCw\\\n",
       "4BuZJWlEarmEeCVc7hLixP0nB8dnvnDn4LjVarG0tHTBVvn+NbK5uTnLS1LxSlpCrNMZWK21Wi3u\\\n",
       "u+++C5YHm82m17wkqQK1uQZWgp1KyvKSpNHzDOw8w8uGkqT68gxMklQkC0ySVCQLTJJUJAtMklQk\\\n",
       "C0ySVCQLTJJUJAtMklSkPftRUhFxls3PVLyS3gX81RX+maNQYu4SM4O5R63E3HXP/FOZebDqELux\\\n",
       "ZwvsaoiI1VI+I2xYiblLzAzmHrUSc5eYua5cQpQkFckCkyQVyQK7NItVB7hMJeYuMTOYe9RKzF1i\\\n",
       "5lryGpgkqUiegUmSimSBvYmI+PWIWIuIpyPi6xHRGJp7ICJOR8SpiPhElTnPFxFfjIjne9m/GhFj\\\n",
       "Q3N1zv2piHg2In4UEVPnzdU59x29XKcj4v6q81xMRPx+RLwSEc8MjV0fEY9HxAu9+3dWmfF8EXFz\\\n",
       "RCxHxHO9fx9HeuN1z/1jEfFkRHynl7vdG6917mJkpreL3IC/M3T8r4Av9Y5vA74DXAfcCvw5cE3V\\\n",
       "eYey/jPg2t7xbwC/UUju9wPvA1aAqaHx2uYGrunl+bvA23s5b6s610Xy/lPgp4Fnhsb+HXB/7/j+\\\n",
       "/r+XutyAG4Cf7h3/baDT+zdR99wBvKN3/DbgW8BH6p67lJtnYG8iM38w9PAngP5Fw7uARzLztcz8\\\n",
       "HnAauH3U+XaSmV/PzNd7D78J3NQ7rnvu5zLz1DZTdc59O3A6M/8iM/8GeITNvLWUmX8KvHre8F3A\\\n",
       "w73jh4HZUWZ6M5n5cmb+j97x/wWeA26k/rkzM/+69/BtvVtS89ylsMB2ISIeiogXgV8EPt8bvhF4\\\n",
       "cehpL/XG6uiXgD/pHZeUe1idc9c52269JzNfhs2yAN5dcZ4dRcQE8GE2z2ZqnzsiromIp4FXgMcz\\\n",
       "s4jcJbDAgIj4RkQ8s83tLoDMfDAzbwa+DHyu/7JtftRIt3S+We7ecx4EXmczOxSSe7uXbTNWly20\\\n",
       "dc62p0TEO4A/BH75vNWR2srMH2bmh9hcBbk9Ij5YcaQ949qqA9RBZn5sl0/9T8BJYIHNv7JvHpq7\\\n",
       "CVi/wtEu6s1yR8Q9wGHgo9lbbKeA3DuoPPdF1Dnbbn0/Im7IzJcj4gY2zxZqJSLexmZ5fTkz/6g3\\\n",
       "XPvcfZm5ERErwB0UlLvOPAN7ExFxaOjhJ4Hne8ePAXdHxHURcStwCHhy1Pl2EhF3AL8GfDIzzw1N\\\n",
       "1Tr3RdQ597eBQxFxa0S8HbibzbwleQy4p3d8D/BohVkuEBEB/B7wXGb+5tBU3XMf7O8AjogfBz7G\\\n",
       "5v8htc5djKp3kdT9xuZffM8Aa8B/AW4cmnuQzd1np4CfrTrreblPs3ld5une7UuF5P55Ns9oXgO+\\\n",
       "D3ytkNw/x+bOuD8HHqw6z5tk/QPgZeD/9X7XnwbGgSeAF3r311ed87zM/4TNZdm1oX/TP1dA7kng\\\n",
       "f/ZyPwN8vjde69yl3PwkDklSkVxClCQVyQKTJBXJApMkFckCkyQVyQKTJBXJApMkFckCkyQVyQKT\\\n",
       "JBXJApMkFckCkyQVyQKTJBXJApMkFckCkyQVyQKTJBXJApMkFckCkyQVyQKTJBXJApMkFckCkyQV\\\n",
       "yQKTJBXp/wNKgEkHOYOHywAAAABJRU5ErkJggg==\\\n",
       "\"\n",
       "  frames[9] = \"data:image/png;base64,iVBORw0KGgoAAAANSUhEUgAAAbAAAAEgCAYAAADVKCZpAAAAOXRFWHRTb2Z0d2FyZQBNYXRwbG90\\\n",
       "bGliIHZlcnNpb24zLjMuNCwgaHR0cHM6Ly9tYXRwbG90bGliLm9yZy8QVMy6AAAACXBIWXMAAAsT\\\n",
       "AAALEwEAmpwYAAAXlUlEQVR4nO3df2zc933f8ed7duJWzQbGjJL6/KP0EF0WJ+CSgjOyHxjIJlnc\\\n",
       "WojZAcFcFIPhBiQCJJ5a9I/aMxDerTCWLljVP9oiI9Fq/iOrF6CN7EntEscjUQxo4tCbw9mxdVYb\\\n",
       "dTZoxOp5RFYIcOfkvT94dz5KpEzJ0n2/H/L5AA73vc/njniBEPTi9/P93F1kJpIkleZvVR1AkqTL\\\n",
       "YYFJkopkgUmSimSBSZKKZIFJkopkgUmSimSBSZKKZIFJkopkgUmSimSBSZKKZIFJkopkgUmSimSB\\\n",
       "SZKKZIFJkopkgUmSimSBSZKKZIFJkopkgUmSimSBSZKKZIFJkopkgUmSimSBSZKKZIFJkopkgUmS\\\n",
       "imSBSZKKZIFJkopkgUmSimSBSZKKZIFJkopkgUmSimSBSZKKZIFJkopkgUmSimSBSZKKdG3VAa6W\\\n",
       "d73rXTkxMVF1DEkqylNPPfVXmXmw6hy7sWcLbGJigtXV1apjSFJRIuIvq86wWy4hSrrqut3uJY1L\\\n",
       "u1GrAouIH4uIJyPiOxHxbES0e+PXR8TjEfFC7/6dVWeVtDutVovJyUk6nc6W8U6nw+TkJK1Wq5pg\\\n",
       "Kl6tCgx4DfiZzPz7wIeAOyLiI8D9wBOZeQh4ovdYUs21Wi3a7Tbr6+vMzMwMSqzT6TAzM8P6+jrt\\\n",
       "dtsS02WpVYHlpr/uPXxb75bAXcDDvfGHgdnRp5Mu5NLYzvrl1dcvsZMnTw7Kq88S0+WoVYEBRMQ1\\\n",
       "EfE08ArweGZ+C3hPZr4M0Lt/d4URJcClsYvpdrssLS1tGZtllnPr5zh8+DDn1s8xe97foUtLSxa/\\\n",
       "Lk1m1vIGjAHLwAeBjfPm/s8Or5kHVoHVW265JaWrZWFhIdlcHchGo5GnTp3KzMxTp05lo9EYzC0s\\\n",
       "LFQbtELDv4tZZnOZ5TzGsZxgIo9xLJdZzllmL/gdqlrAatagA3Zzq90ZWF9mbgArwB3A9yPiBoDe\\\n",
       "/Ss7vGYxM6cyc+rgwSLexqACuTS2O81mk+XlZRqNBiuscIYzTDDBMY4xwQRnOMMKKzQaDZaXl2k2\\\n",
       "m1VHVmFqVWARcTAixnrHPw58DHgeeAy4p/e0e4BHKwmofc+lsUvTbDZZXFxkgw3atLfMtWmzwQaL\\\n",
       "i4uWly5LrQoMuAFYjog14NtsXgM7AXwB+HhEvAB8vPdYGrnx8fHBWQVsltcRjnCUo0wwwVGOcoQj\\\n",
       "gxLrn12Mj49XmLo6nU6H+fl5xhhjgYUtcwssMMYY8/PzF1xHlHajVgWWmWuZ+eHMnMzMD2bmv+mN\\\n",
       "dzPzo5l5qHf/atVZtX+5NLY7w1vlp5ke/G7u5d7B72ya6Qu22Eu7FZvX7Paeqamp9KOkdDWdPHmS\\\n",
       "w4cPD8qrr/8f9IkTJ7jzzjsrTFidbrfL5OTkluuBs8yywgobbDDGGNNMc5zjg/lGo8Ha2tq+PVut\\\n",
       "i4h4KjOnqs6xG7U6A5NK4dLYxY2PjzM3N7dl7DjHOdA4wIkTJzjQOLClvADm5uYsL10SC0y6RC6N\\\n",
       "7U6r1WJh4Y1y7y+p3nnnnVuuIwIsLCzs292aunwuIUqXwKWxnf37f3F4cPyr//nE4LjVarG0tHTB\\\n",
       "9cD+HwJzc3OWV424hCjtUS6NXbpWq8Xa2toFm1mazSZra2uWly6bBSZdIpfGLt1OBb6fi11vnUuI\\\n",
       "0mVyaUx7UUlLiBaY9BZ0u91tzyJ2GpfqrqQCcwlRegtcGpOqY4FJkopkgUmSimSBSQXxG6ClN1hg\\\n",
       "UiH8BmhpKwtMKkD/SzTP/3iq4Y+12s9fnqn9yQKTrqKp33ovd3/+HzH1W++97J/hN0BL27PApKvo\\\n",
       "va++m39w6nre++q7L+v1fgO0tDMLTLqKTl//Ct9+36ucvv6Vy3q93wAt7cxP4pAK0L/WdW793KC8\\\n",
       "+s5whl/hVzjQOLCvvwFaV4afxCHpimo2mywuLrLBBm3aW+batNlgg8XFRctL+4oFJhXAb4CWLmSB\\\n",
       "STXnN0BL2/MamFRjfgO0Rs1rYJKuCL8BWtpZrQosIm6OiOWIeC4ino2II73x6yPi8Yh4oXf/zqqz\\\n",
       "SqPiN0BL26tVgQGvA7+ame8HPgJ8NiJuA+4HnsjMQ8ATvcfSvtEvsX559XcbNpvNQYlZXtpvan0N\\\n",
       "LCIeBX67d5vOzJcj4gZgJTPfd7HXeg1Me5HfAK2rzWtgV0BETAAfBr4FvCczXwbo3V/e5/JIhfMb\\\n",
       "oKU31LLAIuIdwB8Cv5yZP7iE181HxGpErJ49e/bqBZQkVa52BRYRb2OzvL6cmX/UG/5+b+mQ3v22\\\n",
       "HyyXmYuZOZWZUwcPHhxNYElSJWpVYBERwO8Bz2Xmbw5NPQbc0zu+B3h01NkkSfVybdUBzvOPgX8J\\\n",
       "/K+IeLo39q+BLwBfiYhPA/8b+FQ18SRJdVGrAsvM/w7EDtMfHWUWSVK91WoJUZKk3bLAJElFssAk\\\n",
       "SUWywCRJRbLAJElFssAkSUWywCRJRbLAJElFssAkSUWywCRJRbLAJElFssAkSUWywCRJRbLAJElF\\\n",
       "ssAkSUWywCRJRbLAJElFssAkSUWywCRJRbLAJElFssAkSUWywCRJRbLAJElFssAkSUWqVYFFxO9H\\\n",
       "xCsR8czQ2PUR8XhEvNC7f2eVGSVJ9VCrAgP+I3DHeWP3A09k5iHgid5jSdI+V6sCy8w/BV49b/gu\\\n",
       "4OHe8cPA7CgzSZLqqVYFtoP3ZObLAL37d1ecR5JUAyUU2K5FxHxErEbE6tmzZ6uOI0m6ikoosO9H\\\n",
       "xA0AvftXdnpiZi5m5lRmTh08eHBkASVJo1dCgT0G3NM7vgd4tMIskqSaqFWBRcQfAH8GvC8iXoqI\\\n",
       "TwNfAD4eES8AH+89liTtc9dWHWBYZv7CDlMfHWkQSVLt1eoMTJKk3bLAJElFssAkSUWywCRJRbLA\\\n",
       "JElFssAkSUWywCRJRbLAJElFssAkSUWywCRJRbLAJElFssAkSUWywCRJRbLAJElFssAkSUWywCRJ\\\n",
       "RbLAJElFssAkSUWywCRJRbLAJElFssAkSUWywCRJRbLAJElFKqbAIuKOiDgVEacj4v6q80iSqlVE\\\n",
       "gUXENcDvAD8L3Ab8QkTcVm0qSVKViigw4HbgdGb+RWb+DfAIcFfFmSRJFSqlwG4EXhx6/FJvTJK0\\\n",
       "T5VSYLHNWF7wpIj5iFiNiNWzZ8+OIJYkqSqlFNhLwM1Dj28C1s9/UmYuZuZUZk4dPHhwZOEkSaNX\\\n",
       "SoF9GzgUEbdGxNuBu4HHKs40Mt1u95LGJWk/KKLAMvN14HPA14DngK9k5rPVphqNVqvF5OQknU5n\\\n",
       "y3in02FycpJWq1VNMEmq2LVVB9itzPxj4I+rzjFKrVaLdrsNwMzMDMvLyzSbTTqdDjMzM6yvrw/m\\\n",
       "LTJJ+00RZ2D70XB5AayvrzMzM8PJkycH5dXXbrctMEn7jgVWQ91ul6WlpS1js8xybv0chw8f5tz6\\\n",
       "OWaZ3TK/tLTkNTFJ+4oFVkPj4+MsLy/TaDSAzfI6whGOcpQJJjjKUY5wZFBijUaD5eVlxsfHK0wt\\\n",
       "SaNlgdVUs9kclNgKK5zhDBNMcIxjTDDBGc6wwsqgvJrNZtWRJWmkLLAaazabLC4ussEGbdpb5tq0\\\n",
       "2WCDxcVFy0vSvmSB1Vin02F+fp4xxlhgYcvcAguMMcb8/PwFW+wlaT+wwGpqeKv8NNODZcN7uXew\\\n",
       "nDjN9GB3oiUmab+JzAs+UnBPmJqaytXV1apjXJZut8vk5OSWrfKzzLLCChtsMMYY00xznOOD+Uaj\\\n",
       "wdramhs5JL0lEfFUZk5VnWM3PAOrofHxcebm5raMHec4BxoHOHHiBAcaB7aUF8Dc3JzlJWlfKeaT\\\n",
       "OPay3/nMfxscf/ZLPwO88cka/TczD+82XF5e3vJm5oWFBd/ILGnfscBqrF9KS0tLW7bKD5fY3Nyc\\\n",
       "5SVpX7LAaq7VanHfffddsDzYbDa95iVpX7PAaqC/bLiTnUrK8pK0n7mJQ5JUJAtMklQkC0ySVCQL\\\n",
       "TJJUJAtMklQkC0ySVCQLTJJUJAtMklQkC0ySVCQLTJJUJAtMklSk2hRYRHwqIp6NiB9FxNR5cw9E\\\n",
       "xOmIOBURn6gqoySpPur0Yb7PAP8c+A/DgxFxG3A38AGgAXwjIpqZ+cPRR5Qk1UVtzsAy87nMPLXN\\\n",
       "1F3AI5n5WmZ+DzgN3D7adJKkuqlNgV3EjcCLQ49f6o1JkvaxkS4hRsQ3gJ/cZurBzHx0p5dtM5Y7\\\n",
       "/Px5YB7glltuuayMkqQyjLTAMvNjl/Gyl4Cbhx7fBKzv8PMXgUWAqampbUtOkrQ3lLCE+Bhwd0Rc\\\n",
       "FxG3AoeAJyvOJEmqWG0KLCJ+PiJeAv4hcDIivgaQmc8CXwG+C/xX4LPuQJQk1WYbfWZ+FfjqDnMP\\\n",
       "AQ+NNpEkqc5qcwYmSdKlsMAkSUWywCRJRbLAJElFssAkSUWywCRJRbLAJGkP6Ha7lzS+F1hgklS4\\\n",
       "VqvF5OQknU5ny3in02FycpJWq1VNsKvMApOkgrVaLdrtNuvr68zMzAxKrNPpMDMzw/r6Ou12e0+W\\\n",
       "mAUmSYXql1dfv8ROnjw5KK++vVhiFpgkFajb7bK0tLRlbJZZzq2f4/Dhw5xbP8css1vml5aW9tQ1\\\n",
       "MQtMkgo0Pj7O8vIyjUYD2CyvIxzhKEeZYIKjHOUIRwYl1mg0WF5eZnx8vMLUV5YFJkmFajabgxJb\\\n",
       "YYUznGGCCY5xjAkmOMMZVlgZlFez2aw68hVlgUlSwZrNJouLi2ywQZv2lrk2bTbYYHFxcc+VF1hg\\\n",
       "klS0TqfD/Pw8Y4yxwMKWuQUWGGOM+fn5C7bY7wUWmCQVanir/DTTg2XDe7l3sJw4zfQFW+z3isjM\\\n",
       "qjNcFVNTU7m6ulp1DEm6KrrdLpOTk1u2ys8yyworbLDBGGNMM81xjg/mG40Ga2trF93IERFPZebU\\\n",
       "1cx+pXgGJkkFGh8fZ25ubsvYcY5zoHGAEydOcKBxYEt5AczNzbkLUZJUvVarxcLCG9e9+rsN77zz\\\n",
       "zi1b7AEWFhb23BuZr606gCRpd577e+8fHL//+ecABqW0tLS0Zat8f4v9zMwMc3Nze668wGtgklSM\\\n",
       "7Qqsr9vtbrs8uNP4TrwGJkkaqZ1Kai9d8zqfS4iSVIjzz7r2u9qcgUXEFyPi+YhYi4ivRsTY0NwD\\\n",
       "EXE6Ik5FxCcqjClJqonaFBjwOPDBzJwEOsADABFxG3A38AHgDuB3I+KaylJKkmqhNgWWmV/PzNd7\\\n",
       "D78J3NQ7vgt4JDNfy8zvAaeB26vIKEmqj9oU2Hl+CfiT3vGNwItDcy/1xiRJ+9hIN3FExDeAn9xm\\\n",
       "6sHMfLT3nAeB14Ev91+2zfO33fsfEfPAPMAtt9zylvNKkuprpAWWmR+72HxE3AMcBj6ab7xB7SXg\\\n",
       "5qGn3QSsn//a3s9fBBZh831gbzmwJKm2arOEGBF3AL8GfDIzzw1NPQbcHRHXRcStwCHgySoySpLq\\\n",
       "o07vA/tt4Drg8YgA+GZmfiYzn42IrwDfZXNp8bOZ+cMKc0qSaqA2BZaZ773I3EPAQyOMI0mqudos\\\n",
       "IUqSdCksMElSkSwwSVKRLDBJUpEsMElSkSwwSVKRLDBJUpEsMElSkSwwSVKRLDBJUpEsMElSkSww\\\n",
       "SVKRLDBJUpEsMElSkSwwSVKRLDBJUpEsMElSkSwwSVKRLDBJUpEssEvQ7XYvaVySdPVYYLvUarWY\\\n",
       "nJyk0+lsGe90OkxOTtJqtaoJJkn7lAW2C61Wi3a7zfr6OjMzM4MS63Q6zMzMsL6+TrvdtsQkaYQs\\\n",
       "sDfRL6++fomdPHlyUF59lpgkjY4FdhHdbpelpaUtY7PMcm79HIcPH+bc+jlmmd0yv7S05DUxSRqB\\\n",
       "2hRYRPx6RKxFxNMR8fWIaAzNPRARpyPiVER8YlSZxsfHWV5eptHYjDLLLEc4wlGOMsEERznKEY4M\\\n",
       "SqzRaLC8vMz4+PioIkrSvlWbAgO+mJmTmfkh4ATweYCIuA24G/gAcAfwuxFxzahCNZvNQYmtsMIZ\\\n",
       "zjDBBMc4xgQTnOEMK6wMyqvZbI4qmiTta7UpsMz8wdDDnwCyd3wX8EhmvpaZ3wNOA7ePMluz2WRx\\\n",
       "cZENNmjT3jLXps0GGywuLlpekjRCtSkwgIh4KCJeBH6R3hkYcCPw4tDTXuqNjUyn02F+fp4xxlhg\\\n",
       "YcvcAguMMcb8/PwFW+wlSVfPSAssIr4REc9sc7sLIDMfzMybgS8Dn+u/bJsflduMERHzEbEaEatn\\\n",
       "z569IpmHt8pPMz1YNryXewfLidNMX7DFXpJ0dUXmtl1QqYj4KeBkZn4wIh4AyMx/25v7GtDKzD+7\\\n",
       "2M+YmprK1dXVt5Sj2+0yOTm5Zav8LLOssMIGG4wxxjTTHOf4YL7RaLC2tuZGDklFioinMnOq6hy7\\\n",
       "UZslxIg4NPTwk8DzvePHgLsj4rqIuBU4BDw5ikzj4+PMzc1tGTvOcQ40DnDixAkONA5sKS+Aubk5\\\n",
       "y0uSRuDaqgMM+UJEvA/4EfCXwGcAMvPZiPgK8F3gdeCzmfnDUYXqvzG5/2bm4d2Gy8vLW97MvLCw\\\n",
       "4BuZJWlEarmEeCVc7hLixP0nB8dnvnDn4LjVarG0tHTBVvn+NbK5uTnLS1LxSlpCrNMZWK21Wi3u\\\n",
       "u+++C5YHm82m17wkqQK1uQZWgp1KyvKSpNHzDOw8w8uGkqT68gxMklQkC0ySVCQLTJJUJAtMklQk\\\n",
       "C0ySVCQLTJJUJAtMklSkPftRUhFxls3PVLyS3gX81RX+maNQYu4SM4O5R63E3HXP/FOZebDqELux\\\n",
       "ZwvsaoiI1VI+I2xYiblLzAzmHrUSc5eYua5cQpQkFckCkyQVyQK7NItVB7hMJeYuMTOYe9RKzF1i\\\n",
       "5lryGpgkqUiegUmSimSBvYmI+PWIWIuIpyPi6xHRGJp7ICJOR8SpiPhElTnPFxFfjIjne9m/GhFj\\\n",
       "Q3N1zv2piHg2In4UEVPnzdU59x29XKcj4v6q81xMRPx+RLwSEc8MjV0fEY9HxAu9+3dWmfF8EXFz\\\n",
       "RCxHxHO9fx9HeuN1z/1jEfFkRHynl7vdG6917mJkpreL3IC/M3T8r4Av9Y5vA74DXAfcCvw5cE3V\\\n",
       "eYey/jPg2t7xbwC/UUju9wPvA1aAqaHx2uYGrunl+bvA23s5b6s610Xy/lPgp4Fnhsb+HXB/7/j+\\\n",
       "/r+XutyAG4Cf7h3/baDT+zdR99wBvKN3/DbgW8BH6p67lJtnYG8iM38w9PAngP5Fw7uARzLztcz8\\\n",
       "HnAauH3U+XaSmV/PzNd7D78J3NQ7rnvu5zLz1DZTdc59O3A6M/8iM/8GeITNvLWUmX8KvHre8F3A\\\n",
       "w73jh4HZUWZ6M5n5cmb+j97x/wWeA26k/rkzM/+69/BtvVtS89ylsMB2ISIeiogXgV8EPt8bvhF4\\\n",
       "cehpL/XG6uiXgD/pHZeUe1idc9c52269JzNfhs2yAN5dcZ4dRcQE8GE2z2ZqnzsiromIp4FXgMcz\\\n",
       "s4jcJbDAgIj4RkQ8s83tLoDMfDAzbwa+DHyu/7JtftRIt3S+We7ecx4EXmczOxSSe7uXbTNWly20\\\n",
       "dc62p0TEO4A/BH75vNWR2srMH2bmh9hcBbk9Ij5YcaQ949qqA9RBZn5sl0/9T8BJYIHNv7JvHpq7\\\n",
       "CVi/wtEu6s1yR8Q9wGHgo9lbbKeA3DuoPPdF1Dnbbn0/Im7IzJcj4gY2zxZqJSLexmZ5fTkz/6g3\\\n",
       "XPvcfZm5ERErwB0UlLvOPAN7ExFxaOjhJ4Hne8ePAXdHxHURcStwCHhy1Pl2EhF3AL8GfDIzzw1N\\\n",
       "1Tr3RdQ597eBQxFxa0S8HbibzbwleQy4p3d8D/BohVkuEBEB/B7wXGb+5tBU3XMf7O8AjogfBz7G\\\n",
       "5v8htc5djKp3kdT9xuZffM8Aa8B/AW4cmnuQzd1np4CfrTrreblPs3ld5une7UuF5P55Ns9oXgO+\\\n",
       "D3ytkNw/x+bOuD8HHqw6z5tk/QPgZeD/9X7XnwbGgSeAF3r311ed87zM/4TNZdm1oX/TP1dA7kng\\\n",
       "f/ZyPwN8vjde69yl3PwkDklSkVxClCQVyQKTJBXJApMkFckCkyQVyQKTJBXJApMkFckCkyQVyQKT\\\n",
       "JBXJApMkFckCkyQVyQKTJBXJApMkFckCkyQVyQKTJBXJApMkFckCkyQVyQKTJBXJApMkFckCkyQV\\\n",
       "yQKTJBXp/wNKgEkHOYOHywAAAABJRU5ErkJggg==\\\n",
       "\"\n",
       "\n",
       "\n",
       "    /* set a timeout to make sure all the above elements are created before\n",
       "       the object is initialized. */\n",
       "    setTimeout(function() {\n",
       "        anim8b62625906cd4b8f8d77bf75e14fadf9 = new Animation(frames, img_id, slider_id, 500.0,\n",
       "                                 loop_select_id);\n",
       "    }, 0);\n",
       "  })()\n",
       "</script>\n"
      ],
      "text/plain": [
       "<IPython.core.display.HTML object>"
      ]
     },
     "execution_count": 97,
     "metadata": {},
     "output_type": "execute_result"
    }
   ],
   "source": [
    "X = data.clone()\n",
    "fig,ax = plt.subplots()\n",
    "ani = FuncAnimation(fig, do_one, frames=10, interval=500, repeat=False)\n",
    "plt.close()\n",
    "HTML(ani.to_jshtml())"
   ]
  },
  {
   "cell_type": "markdown",
   "id": "f4a47192",
   "metadata": {},
   "source": [
    "## GPU batched algorithm\n",
    "To truly accelerate the algorithm, we need to be performing updates on a batch of points per iteration, instead of just one as we were doing."
   ]
  },
  {
   "cell_type": "code",
   "execution_count": 98,
   "id": "977f2aa9",
   "metadata": {},
   "outputs": [
    {
     "data": {
      "text/plain": [
       "(torch.Size([5, 2]), torch.Size([1500, 2]))"
      ]
     },
     "execution_count": 98,
     "metadata": {},
     "output_type": "execute_result"
    }
   ],
   "source": [
    "bs = 5\n",
    "X=data.clone()\n",
    "x= X[:bs]\n",
    "x.shape,X.shape"
   ]
  },
  {
   "cell_type": "code",
   "execution_count": 99,
   "id": "18a69894",
   "metadata": {},
   "outputs": [],
   "source": [
    "def dist_b(a,b): return (((a[None]-b[:,None])**2).sum(2)).sqrt()"
   ]
  },
  {
   "cell_type": "code",
   "execution_count": 100,
   "id": "a494d808",
   "metadata": {},
   "outputs": [
    {
     "data": {
      "text/plain": [
       "tensor([[ 0.000,  2.571,  1.860,  ..., 74.547, 75.881, 77.647],\n",
       "        [ 2.571,  0.000,  1.443,  ..., 72.385, 73.813, 75.514],\n",
       "        [ 1.860,  1.443,  0.000,  ..., 72.688, 74.023, 75.787],\n",
       "        [ 3.306,  1.066,  1.644,  ..., 71.392, 72.797, 74.514],\n",
       "        [ 1.467,  1.123,  0.873,  ..., 73.233, 74.612, 76.347]])"
      ]
     },
     "execution_count": 100,
     "metadata": {},
     "output_type": "execute_result"
    }
   ],
   "source": [
    "dist_b(X, x)"
   ]
  },
  {
   "cell_type": "code",
   "execution_count": 101,
   "id": "d94627b8",
   "metadata": {},
   "outputs": [
    {
     "data": {
      "text/plain": [
       "torch.Size([5, 1500])"
      ]
     },
     "execution_count": 101,
     "metadata": {},
     "output_type": "execute_result"
    }
   ],
   "source": [
    "dist_b(X, x).shape"
   ]
  },
  {
   "cell_type": "code",
   "execution_count": 102,
   "id": "56f3c27e",
   "metadata": {},
   "outputs": [
    {
     "data": {
      "text/plain": [
       "(torch.Size([1500, 2]), torch.Size([5, 2]))"
      ]
     },
     "execution_count": 102,
     "metadata": {},
     "output_type": "execute_result"
    }
   ],
   "source": [
    "X.shape, x.shape"
   ]
  },
  {
   "cell_type": "code",
   "execution_count": 105,
   "id": "d1d47f1c",
   "metadata": {},
   "outputs": [
    {
     "data": {
      "text/plain": [
       "(torch.Size([1, 1500, 2]), torch.Size([5, 1, 2]), torch.Size([5, 1500, 2]))"
      ]
     },
     "execution_count": 105,
     "metadata": {},
     "output_type": "execute_result"
    }
   ],
   "source": [
    "X[None,:].shape, x[:,None].shape, (X[None,:]-x[:,None]).shape"
   ]
  },
  {
   "cell_type": "code",
   "execution_count": 106,
   "id": "717f7c15",
   "metadata": {},
   "outputs": [
    {
     "data": {
      "text/plain": [
       "<function __main__.gaussian(d, bw)>"
      ]
     },
     "execution_count": 106,
     "metadata": {},
     "output_type": "execute_result"
    }
   ],
   "source": [
    "gaussian"
   ]
  },
  {
   "cell_type": "code",
   "execution_count": 107,
   "id": "283c46c0",
   "metadata": {},
   "outputs": [
    {
     "data": {
      "text/plain": [
       "tensor([[0.199, 0.087, 0.129,  ..., 0.000, 0.000, 0.000],\n",
       "        [0.087, 0.199, 0.154,  ..., 0.000, 0.000, 0.000],\n",
       "        [0.129, 0.154, 0.199,  ..., 0.000, 0.000, 0.000],\n",
       "        [0.051, 0.173, 0.142,  ..., 0.000, 0.000, 0.000],\n",
       "        [0.152, 0.170, 0.181,  ..., 0.000, 0.000, 0.000]])"
      ]
     },
     "execution_count": 107,
     "metadata": {},
     "output_type": "execute_result"
    }
   ],
   "source": [
    "weight = gaussian(dist_b(X, x), 2)\n",
    "weight"
   ]
  },
  {
   "cell_type": "code",
   "execution_count": 108,
   "id": "25448a7c",
   "metadata": {},
   "outputs": [
    {
     "data": {
      "text/plain": [
       "(torch.Size([5, 1500]), torch.Size([1500, 2]))"
      ]
     },
     "execution_count": 108,
     "metadata": {},
     "output_type": "execute_result"
    }
   ],
   "source": [
    "weight.shape,X.shape"
   ]
  },
  {
   "cell_type": "code",
   "execution_count": 109,
   "id": "e93b2092",
   "metadata": {},
   "outputs": [
    {
     "data": {
      "text/plain": [
       "(torch.Size([5, 1500, 1]), torch.Size([1, 1500, 2]))"
      ]
     },
     "execution_count": 109,
     "metadata": {},
     "output_type": "execute_result"
    }
   ],
   "source": [
    "weight[...,None].shape, X[None].shape"
   ]
  },
  {
   "cell_type": "code",
   "execution_count": 110,
   "id": "8af1a465",
   "metadata": {},
   "outputs": [
    {
     "data": {
      "text/plain": [
       "torch.Size([5, 2])"
      ]
     },
     "execution_count": 110,
     "metadata": {},
     "output_type": "execute_result"
    }
   ],
   "source": [
    "num = (weight[...,None]*X[None]).sum(1)\n",
    "num.shape"
   ]
  },
  {
   "cell_type": "code",
   "execution_count": 111,
   "id": "657746b9",
   "metadata": {},
   "outputs": [
    {
     "data": {
      "text/plain": [
       "tensor([[-509.722, -511.659],\n",
       "        [-682.871, -705.906],\n",
       "        [-709.235, -708.995],\n",
       "        [-685.356, -699.927],\n",
       "        [-671.104, -682.932]])"
      ]
     },
     "execution_count": 111,
     "metadata": {},
     "output_type": "execute_result"
    }
   ],
   "source": [
    "num"
   ]
  },
  {
   "cell_type": "markdown",
   "id": "bf3b7c5e",
   "metadata": {},
   "source": [
    "**OR**"
   ]
  },
  {
   "cell_type": "code",
   "execution_count": 113,
   "id": "6c3c378f",
   "metadata": {},
   "outputs": [
    {
     "data": {
      "text/plain": [
       "tensor([[-509.722, -511.660],\n",
       "        [-682.870, -705.907],\n",
       "        [-709.235, -708.995],\n",
       "        [-685.356, -699.927],\n",
       "        [-671.104, -682.932]])"
      ]
     },
     "execution_count": 113,
     "metadata": {},
     "output_type": "execute_result"
    }
   ],
   "source": [
    "torch.einsum('ij,jk->ik', weight, X)"
   ]
  },
  {
   "cell_type": "markdown",
   "id": "446b55e8",
   "metadata": {},
   "source": [
    "**OR**"
   ]
  },
  {
   "cell_type": "code",
   "execution_count": 114,
   "id": "cdbcc3f6",
   "metadata": {},
   "outputs": [
    {
     "data": {
      "text/plain": [
       "tensor([[-509.722, -511.660],\n",
       "        [-682.870, -705.907],\n",
       "        [-709.235, -708.995],\n",
       "        [-685.356, -699.927],\n",
       "        [-671.104, -682.932]])"
      ]
     },
     "execution_count": 114,
     "metadata": {},
     "output_type": "execute_result"
    }
   ],
   "source": [
    "weight@X"
   ]
  },
  {
   "cell_type": "code",
   "execution_count": 117,
   "id": "1e574457",
   "metadata": {},
   "outputs": [
    {
     "data": {
      "text/plain": [
       "torch.Size([5, 1500])"
      ]
     },
     "execution_count": 117,
     "metadata": {},
     "output_type": "execute_result"
    }
   ],
   "source": [
    "weight.shape"
   ]
  },
  {
   "cell_type": "code",
   "execution_count": 115,
   "id": "8a850eec",
   "metadata": {},
   "outputs": [
    {
     "data": {
      "text/plain": [
       "tensor([[15.866],\n",
       "        [22.182],\n",
       "        [22.547],\n",
       "        [22.344],\n",
       "        [21.411]])"
      ]
     },
     "execution_count": 115,
     "metadata": {},
     "output_type": "execute_result"
    }
   ],
   "source": [
    "weight.sum(1, keepdim=True)"
   ]
  },
  {
   "cell_type": "code",
   "execution_count": 118,
   "id": "5d71ddee",
   "metadata": {},
   "outputs": [
    {
     "ename": "NameError",
     "evalue": "name 'div' is not defined",
     "output_type": "error",
     "traceback": [
      "\u001b[1;31m---------------------------------------------------------------------------\u001b[0m",
      "\u001b[1;31mNameError\u001b[0m                                 Traceback (most recent call last)",
      "\u001b[1;32m<ipython-input-118-2c94c5d89c38>\u001b[0m in \u001b[0;36m<module>\u001b[1;34m\u001b[0m\n\u001b[1;32m----> 1\u001b[1;33m \u001b[0mnum\u001b[0m\u001b[1;33m/\u001b[0m\u001b[0mdiv\u001b[0m\u001b[1;33m\u001b[0m\u001b[1;33m\u001b[0m\u001b[0m\n\u001b[0m",
      "\u001b[1;31mNameError\u001b[0m: name 'div' is not defined"
     ]
    }
   ],
   "source": [
    "num/div"
   ]
  },
  {
   "cell_type": "code",
   "execution_count": 119,
   "id": "06b66088",
   "metadata": {},
   "outputs": [],
   "source": [
    "def meanshift(data, bs=500):\n",
    "    n = len(data)\n",
    "    X = data.clone()\n",
    "    for it in range(5):\n",
    "        for i in range(0, n, bs):\n",
    "            s = slice(i, min(i+bs,n))\n",
    "            weight = gaussian(dist_b(X, X[s]), 2.5)\n",
    "#             weight = tri(dist_b(X, X[s]), 8)\n",
    "            div = weight.sum(1, keepdim=True)\n",
    "            X[s] = weight@X/div\n",
    "    return X"
   ]
  },
  {
   "cell_type": "code",
   "execution_count": 120,
   "id": "f5a61c4a",
   "metadata": {},
   "outputs": [],
   "source": [
    "data = data.to(device)"
   ]
  },
  {
   "cell_type": "code",
   "execution_count": 122,
   "id": "6f38af42",
   "metadata": {},
   "outputs": [
    {
     "data": {
      "text/plain": [
       "tensor([[-31.220, -31.546],\n",
       "        [-31.220, -31.546],\n",
       "        [-31.220, -31.546],\n",
       "        ...,\n",
       "        [ 14.013,  27.141],\n",
       "        [ 14.013,  27.141],\n",
       "        [ 14.013,  27.141]])"
      ]
     },
     "execution_count": 122,
     "metadata": {},
     "output_type": "execute_result"
    }
   ],
   "source": [
    "X=meanshift(data).cpu()\n",
    "X"
   ]
  },
  {
   "cell_type": "code",
   "execution_count": 125,
   "id": "ba88b417",
   "metadata": {},
   "outputs": [],
   "source": [
    "%timeit -n 5 _=meanshift(data, 1250).cpu()"
   ]
  },
  {
   "cell_type": "code",
   "execution_count": 124,
   "id": "49429a80",
   "metadata": {},
   "outputs": [
    {
     "data": {
      "image/png": "[encoded data removed]",
      "text/plain": [
       "<Figure size 432x288 with 1 Axes>"
      ]
     },
     "metadata": {
      "needs_background": "light"
     },
     "output_type": "display_data"
    }
   ],
   "source": [
    "plot_data(centroids+2, X, n_samples)"
   ]
  },
  {
   "cell_type": "code",
   "execution_count": null,
   "id": "56dc1474",
   "metadata": {},
   "outputs": [],
   "source": []
  }
 ],
 "metadata": {
  "kernelspec": {
   "display_name": "Python 3",
   "language": "python",
   "name": "python3"
  },
  "language_info": {
   "codemirror_mode": {
    "name": "ipython",
    "version": 3
   },
   "file_extension": ".py",
   "mimetype": "text/x-python",
   "name": "python",
   "nbconvert_exporter": "python",
   "pygments_lexer": "ipython3",
   "version": "3.8.8"
  }
 },
 "nbformat": 4,
 "nbformat_minor": 5
}

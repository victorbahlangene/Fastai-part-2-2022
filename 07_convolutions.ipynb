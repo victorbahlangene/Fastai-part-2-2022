{
 "cells": [
  {
   "cell_type": "markdown",
   "id": "90da308a",
   "metadata": {},
   "source": [
    "# Convolutions"
   ]
  },
  {
   "cell_type": "code",
   "execution_count": 1,
   "id": "9c3ae938",
   "metadata": {},
   "outputs": [],
   "source": [
    "import torch\n",
    "from torch import nn\n",
    "\n",
    "from torch.utils.data import default_collate\n",
    "from typing import Mapping\n",
    "\n",
    "from miniai.training import *\n",
    "from miniai.datasets import *"
   ]
  },
  {
   "cell_type": "code",
   "execution_count": 2,
   "id": "4febb220",
   "metadata": {},
   "outputs": [],
   "source": [
    "import pickle,gzip,math,os,time,shutil,torch,matplotlib as mpl, numpy as np\n",
    "import pandas as pd,matplotlib.pyplot as plt\n",
    "from pathlib import Path\n",
    "from torch import tensor\n",
    "\n",
    "from torch.utils.data import DataLoader\n",
    "from typing import Mapping"
   ]
  },
  {
   "cell_type": "code",
   "execution_count": 15,
   "id": "f3c42bee",
   "metadata": {},
   "outputs": [],
   "source": [
    "%matplotlib inline\n",
    "\n",
    "import matplotlib.pyplot as plt"
   ]
  },
  {
   "cell_type": "code",
   "execution_count": 3,
   "id": "07f6687b",
   "metadata": {},
   "outputs": [],
   "source": [
    "mpl.rcParams['image.cmap'] = 'gray'"
   ]
  },
  {
   "cell_type": "code",
   "execution_count": 4,
   "id": "86fea469",
   "metadata": {},
   "outputs": [],
   "source": [
    "path_data = Path('data')\n",
    "path_gz = path_data/'mnist.pkl.gz'\n",
    "with gzip.open(path_gz, 'rb') as f: ((x_train, y_train), (x_valid, y_valid), _) = pickle.load(f, encoding='latin-1')\n",
    "x_train, y_train, x_valid, y_valid = map(tensor, [x_train, y_train, x_valid, y_valid])"
   ]
  },
  {
   "cell_type": "code",
   "execution_count": 7,
   "id": "f40494fe",
   "metadata": {},
   "outputs": [
    {
     "data": {
      "text/plain": [
       "(torch.Size([50000, 28, 28]), torch.Size([10000, 28, 28]))"
      ]
     },
     "execution_count": 7,
     "metadata": {},
     "output_type": "execute_result"
    }
   ],
   "source": [
    "x_imgs = x_train.view(-1,28,28)\n",
    "xv_imgs = x_valid.view(-1,28,28)\n",
    "\n",
    "x_imgs.shape, xv_imgs.shape"
   ]
  },
  {
   "cell_type": "code",
   "execution_count": 8,
   "id": "49222a22",
   "metadata": {},
   "outputs": [],
   "source": [
    "mpl.rcParams[\"figure.dpi\"] = 30"
   ]
  },
  {
   "cell_type": "code",
   "execution_count": 17,
   "id": "67ef09a1",
   "metadata": {},
   "outputs": [
    {
     "data": {
      "image/png": "[encoded data removed]",
      "text/plain": [
       "<Figure size 432x288 with 1 Axes>"
      ]
     },
     "metadata": {},
     "output_type": "display_data"
    }
   ],
   "source": [
    "im3 = x_imgs[7]\n",
    "show_image(im3);"
   ]
  },
  {
   "cell_type": "code",
   "execution_count": 18,
   "id": "8f148654",
   "metadata": {},
   "outputs": [
    {
     "data": {
      "text/plain": [
       "tensor([[-1., -1., -1.],\n",
       "        [ 0.,  0.,  0.],\n",
       "        [ 1.,  1.,  1.]])"
      ]
     },
     "execution_count": 18,
     "metadata": {},
     "output_type": "execute_result"
    }
   ],
   "source": [
    "top_edge = tensor([[-1,-1,-1],\n",
    "                   [0,0,0],\n",
    "                   [1,1,1]]).float()\n",
    "\n",
    "top_edge"
   ]
  },
  {
   "cell_type": "code",
   "execution_count": 20,
   "id": "73742448",
   "metadata": {},
   "outputs": [
    {
     "data": {
      "image/png": "[encoded data removed]",
      "text/plain": [
       "<Figure size 432x288 with 1 Axes>"
      ]
     },
     "metadata": {},
     "output_type": "display_data"
    }
   ],
   "source": [
    "show_image(top_edge);"
   ]
  },
  {
   "cell_type": "code",
   "execution_count": 19,
   "id": "91c50585",
   "metadata": {},
   "outputs": [
    {
     "data": {
      "image/png": "[encoded data removed]",
      "text/plain": [
       "<Figure size 432x288 with 1 Axes>"
      ]
     },
     "metadata": {},
     "output_type": "display_data"
    }
   ],
   "source": [
    "show_image(top_edge, noframe=False);"
   ]
  },
  {
   "cell_type": "code",
   "execution_count": 21,
   "id": "4b784ce5",
   "metadata": {},
   "outputs": [
    {
     "data": {
      "text/html": [
       "<div>\n",
       "<style scoped>\n",
       "    .dataframe tbody tr th:only-of-type {\n",
       "        vertical-align: middle;\n",
       "    }\n",
       "\n",
       "    .dataframe tbody tr th {\n",
       "        vertical-align: top;\n",
       "    }\n",
       "\n",
       "    .dataframe thead th {\n",
       "        text-align: right;\n",
       "    }\n",
       "</style>\n",
       "<table border=\"1\" class=\"dataframe\">\n",
       "  <thead>\n",
       "    <tr style=\"text-align: right;\">\n",
       "      <th></th>\n",
       "      <th>0</th>\n",
       "      <th>1</th>\n",
       "      <th>2</th>\n",
       "      <th>3</th>\n",
       "      <th>4</th>\n",
       "      <th>5</th>\n",
       "      <th>6</th>\n",
       "      <th>7</th>\n",
       "      <th>8</th>\n",
       "      <th>9</th>\n",
       "      <th>...</th>\n",
       "      <th>13</th>\n",
       "      <th>14</th>\n",
       "      <th>15</th>\n",
       "      <th>16</th>\n",
       "      <th>17</th>\n",
       "      <th>18</th>\n",
       "      <th>19</th>\n",
       "      <th>20</th>\n",
       "      <th>21</th>\n",
       "      <th>22</th>\n",
       "    </tr>\n",
       "  </thead>\n",
       "  <tbody>\n",
       "    <tr>\n",
       "      <th>0</th>\n",
       "      <td>tensor(0.)</td>\n",
       "      <td>tensor(0.)</td>\n",
       "      <td>tensor(0.)</td>\n",
       "      <td>tensor(0.)</td>\n",
       "      <td>tensor(0.)</td>\n",
       "      <td>tensor(0.)</td>\n",
       "      <td>tensor(0.)</td>\n",
       "      <td>tensor(0.)</td>\n",
       "      <td>tensor(0.)</td>\n",
       "      <td>tensor(0.)</td>\n",
       "      <td>...</td>\n",
       "      <td>tensor(0.)</td>\n",
       "      <td>tensor(0.)</td>\n",
       "      <td>tensor(0.)</td>\n",
       "      <td>tensor(0.)</td>\n",
       "      <td>tensor(0.)</td>\n",
       "      <td>tensor(0.)</td>\n",
       "      <td>tensor(0.)</td>\n",
       "      <td>tensor(0.)</td>\n",
       "      <td>tensor(0.)</td>\n",
       "      <td>tensor(0.)</td>\n",
       "    </tr>\n",
       "    <tr>\n",
       "      <th>1</th>\n",
       "      <td>tensor(0.)</td>\n",
       "      <td>tensor(0.)</td>\n",
       "      <td>tensor(0.)</td>\n",
       "      <td>tensor(0.)</td>\n",
       "      <td>tensor(0.)</td>\n",
       "      <td>tensor(0.)</td>\n",
       "      <td>tensor(0.)</td>\n",
       "      <td>tensor(0.)</td>\n",
       "      <td>tensor(0.)</td>\n",
       "      <td>tensor(0.)</td>\n",
       "      <td>...</td>\n",
       "      <td>tensor(0.)</td>\n",
       "      <td>tensor(0.)</td>\n",
       "      <td>tensor(0.)</td>\n",
       "      <td>tensor(0.)</td>\n",
       "      <td>tensor(0.)</td>\n",
       "      <td>tensor(0.)</td>\n",
       "      <td>tensor(0.)</td>\n",
       "      <td>tensor(0.)</td>\n",
       "      <td>tensor(0.)</td>\n",
       "      <td>tensor(0.)</td>\n",
       "    </tr>\n",
       "    <tr>\n",
       "      <th>2</th>\n",
       "      <td>tensor(0.)</td>\n",
       "      <td>tensor(0.)</td>\n",
       "      <td>tensor(0.)</td>\n",
       "      <td>tensor(0.)</td>\n",
       "      <td>tensor(0.)</td>\n",
       "      <td>tensor(0.)</td>\n",
       "      <td>tensor(0.)</td>\n",
       "      <td>tensor(0.)</td>\n",
       "      <td>tensor(0.)</td>\n",
       "      <td>tensor(0.)</td>\n",
       "      <td>...</td>\n",
       "      <td>tensor(0.)</td>\n",
       "      <td>tensor(0.)</td>\n",
       "      <td>tensor(0.)</td>\n",
       "      <td>tensor(0.)</td>\n",
       "      <td>tensor(0.)</td>\n",
       "      <td>tensor(0.)</td>\n",
       "      <td>tensor(0.)</td>\n",
       "      <td>tensor(0.)</td>\n",
       "      <td>tensor(0.)</td>\n",
       "      <td>tensor(0.)</td>\n",
       "    </tr>\n",
       "    <tr>\n",
       "      <th>3</th>\n",
       "      <td>tensor(0.)</td>\n",
       "      <td>tensor(0.)</td>\n",
       "      <td>tensor(0.)</td>\n",
       "      <td>tensor(0.)</td>\n",
       "      <td>tensor(0.)</td>\n",
       "      <td>tensor(0.)</td>\n",
       "      <td>tensor(0.)</td>\n",
       "      <td>tensor(0.)</td>\n",
       "      <td>tensor(0.)</td>\n",
       "      <td>tensor(0.)</td>\n",
       "      <td>...</td>\n",
       "      <td>tensor(0.)</td>\n",
       "      <td>tensor(0.)</td>\n",
       "      <td>tensor(0.)</td>\n",
       "      <td>tensor(0.)</td>\n",
       "      <td>tensor(0.)</td>\n",
       "      <td>tensor(0.)</td>\n",
       "      <td>tensor(0.)</td>\n",
       "      <td>tensor(0.)</td>\n",
       "      <td>tensor(0.)</td>\n",
       "      <td>tensor(0.)</td>\n",
       "    </tr>\n",
       "    <tr>\n",
       "      <th>4</th>\n",
       "      <td>tensor(0.)</td>\n",
       "      <td>tensor(0.)</td>\n",
       "      <td>tensor(0.)</td>\n",
       "      <td>tensor(0.)</td>\n",
       "      <td>tensor(0.)</td>\n",
       "      <td>tensor(0.)</td>\n",
       "      <td>tensor(0.)</td>\n",
       "      <td>tensor(0.)</td>\n",
       "      <td>tensor(0.)</td>\n",
       "      <td>tensor(0.)</td>\n",
       "      <td>...</td>\n",
       "      <td>tensor(0.)</td>\n",
       "      <td>tensor(0.)</td>\n",
       "      <td>tensor(0.)</td>\n",
       "      <td>tensor(0.)</td>\n",
       "      <td>tensor(0.)</td>\n",
       "      <td>tensor(0.)</td>\n",
       "      <td>tensor(0.)</td>\n",
       "      <td>tensor(0.)</td>\n",
       "      <td>tensor(0.)</td>\n",
       "      <td>tensor(0.)</td>\n",
       "    </tr>\n",
       "    <tr>\n",
       "      <th>5</th>\n",
       "      <td>tensor(0.)</td>\n",
       "      <td>tensor(0.)</td>\n",
       "      <td>tensor(0.)</td>\n",
       "      <td>tensor(0.)</td>\n",
       "      <td>tensor(0.)</td>\n",
       "      <td>tensor(0.)</td>\n",
       "      <td>tensor(0.)</td>\n",
       "      <td>tensor(0.)</td>\n",
       "      <td>tensor(0.)</td>\n",
       "      <td>tensor(0.)</td>\n",
       "      <td>...</td>\n",
       "      <td>tensor(0.4102)</td>\n",
       "      <td>tensor(0.9961)</td>\n",
       "      <td>tensor(0.9883)</td>\n",
       "      <td>tensor(0.9883)</td>\n",
       "      <td>tensor(0.9883)</td>\n",
       "      <td>tensor(0.9883)</td>\n",
       "      <td>tensor(0.9883)</td>\n",
       "      <td>tensor(0.6797)</td>\n",
       "      <td>tensor(0.0234)</td>\n",
       "      <td>tensor(0.)</td>\n",
       "    </tr>\n",
       "    <tr>\n",
       "      <th>6</th>\n",
       "      <td>tensor(0.)</td>\n",
       "      <td>tensor(0.)</td>\n",
       "      <td>tensor(0.)</td>\n",
       "      <td>tensor(0.)</td>\n",
       "      <td>tensor(0.)</td>\n",
       "      <td>tensor(0.)</td>\n",
       "      <td>tensor(0.)</td>\n",
       "      <td>tensor(0.)</td>\n",
       "      <td>tensor(0.)</td>\n",
       "      <td>tensor(0.1680)</td>\n",
       "      <td>...</td>\n",
       "      <td>tensor(0.9844)</td>\n",
       "      <td>tensor(0.9883)</td>\n",
       "      <td>tensor(0.9844)</td>\n",
       "      <td>tensor(0.9844)</td>\n",
       "      <td>tensor(0.9844)</td>\n",
       "      <td>tensor(0.9844)</td>\n",
       "      <td>tensor(0.9844)</td>\n",
       "      <td>tensor(0.9844)</td>\n",
       "      <td>tensor(0.6172)</td>\n",
       "      <td>tensor(0.0547)</td>\n",
       "    </tr>\n",
       "    <tr>\n",
       "      <th>7</th>\n",
       "      <td>tensor(0.)</td>\n",
       "      <td>tensor(0.)</td>\n",
       "      <td>tensor(0.)</td>\n",
       "      <td>tensor(0.)</td>\n",
       "      <td>tensor(0.)</td>\n",
       "      <td>tensor(0.)</td>\n",
       "      <td>tensor(0.)</td>\n",
       "      <td>tensor(0.)</td>\n",
       "      <td>tensor(0.)</td>\n",
       "      <td>tensor(0.6953)</td>\n",
       "      <td>...</td>\n",
       "      <td>tensor(0.9844)</td>\n",
       "      <td>tensor(0.9883)</td>\n",
       "      <td>tensor(0.9844)</td>\n",
       "      <td>tensor(0.9844)</td>\n",
       "      <td>tensor(0.9844)</td>\n",
       "      <td>tensor(0.9844)</td>\n",
       "      <td>tensor(0.9844)</td>\n",
       "      <td>tensor(0.9844)</td>\n",
       "      <td>tensor(0.9844)</td>\n",
       "      <td>tensor(0.2305)</td>\n",
       "    </tr>\n",
       "    <tr>\n",
       "      <th>8</th>\n",
       "      <td>tensor(0.)</td>\n",
       "      <td>tensor(0.)</td>\n",
       "      <td>tensor(0.)</td>\n",
       "      <td>tensor(0.)</td>\n",
       "      <td>tensor(0.)</td>\n",
       "      <td>tensor(0.)</td>\n",
       "      <td>tensor(0.)</td>\n",
       "      <td>tensor(0.)</td>\n",
       "      <td>tensor(0.)</td>\n",
       "      <td>tensor(0.4258)</td>\n",
       "      <td>...</td>\n",
       "      <td>tensor(0.5156)</td>\n",
       "      <td>tensor(0.5195)</td>\n",
       "      <td>tensor(0.5156)</td>\n",
       "      <td>tensor(0.5156)</td>\n",
       "      <td>tensor(0.7383)</td>\n",
       "      <td>tensor(0.9844)</td>\n",
       "      <td>tensor(0.9844)</td>\n",
       "      <td>tensor(0.9844)</td>\n",
       "      <td>tensor(0.9844)</td>\n",
       "      <td>tensor(0.2305)</td>\n",
       "    </tr>\n",
       "    <tr>\n",
       "      <th>9</th>\n",
       "      <td>tensor(0.)</td>\n",
       "      <td>tensor(0.)</td>\n",
       "      <td>tensor(0.)</td>\n",
       "      <td>tensor(0.)</td>\n",
       "      <td>tensor(0.)</td>\n",
       "      <td>tensor(0.)</td>\n",
       "      <td>tensor(0.)</td>\n",
       "      <td>tensor(0.)</td>\n",
       "      <td>tensor(0.)</td>\n",
       "      <td>tensor(0.0156)</td>\n",
       "      <td>...</td>\n",
       "      <td>tensor(0.)</td>\n",
       "      <td>tensor(0.)</td>\n",
       "      <td>tensor(0.)</td>\n",
       "      <td>tensor(0.)</td>\n",
       "      <td>tensor(0.0547)</td>\n",
       "      <td>tensor(0.8828)</td>\n",
       "      <td>tensor(0.9844)</td>\n",
       "      <td>tensor(0.9844)</td>\n",
       "      <td>tensor(0.6719)</td>\n",
       "      <td>tensor(0.0273)</td>\n",
       "    </tr>\n",
       "    <tr>\n",
       "      <th>10</th>\n",
       "      <td>tensor(0.)</td>\n",
       "      <td>tensor(0.)</td>\n",
       "      <td>tensor(0.)</td>\n",
       "      <td>tensor(0.)</td>\n",
       "      <td>tensor(0.)</td>\n",
       "      <td>tensor(0.)</td>\n",
       "      <td>tensor(0.)</td>\n",
       "      <td>tensor(0.)</td>\n",
       "      <td>tensor(0.)</td>\n",
       "      <td>tensor(0.)</td>\n",
       "      <td>...</td>\n",
       "      <td>tensor(0.)</td>\n",
       "      <td>tensor(0.)</td>\n",
       "      <td>tensor(0.)</td>\n",
       "      <td>tensor(0.)</td>\n",
       "      <td>tensor(0.3320)</td>\n",
       "      <td>tensor(0.9492)</td>\n",
       "      <td>tensor(0.9844)</td>\n",
       "      <td>tensor(0.9844)</td>\n",
       "      <td>tensor(0.5625)</td>\n",
       "      <td>tensor(0.)</td>\n",
       "    </tr>\n",
       "    <tr>\n",
       "      <th>11</th>\n",
       "      <td>tensor(0.)</td>\n",
       "      <td>tensor(0.)</td>\n",
       "      <td>tensor(0.)</td>\n",
       "      <td>tensor(0.)</td>\n",
       "      <td>tensor(0.)</td>\n",
       "      <td>tensor(0.)</td>\n",
       "      <td>tensor(0.)</td>\n",
       "      <td>tensor(0.)</td>\n",
       "      <td>tensor(0.)</td>\n",
       "      <td>tensor(0.)</td>\n",
       "      <td>...</td>\n",
       "      <td>tensor(0.)</td>\n",
       "      <td>tensor(0.)</td>\n",
       "      <td>tensor(0.)</td>\n",
       "      <td>tensor(0.3438)</td>\n",
       "      <td>tensor(0.7383)</td>\n",
       "      <td>tensor(0.9844)</td>\n",
       "      <td>tensor(0.9844)</td>\n",
       "      <td>tensor(0.9844)</td>\n",
       "      <td>tensor(0.0547)</td>\n",
       "      <td>tensor(0.)</td>\n",
       "    </tr>\n",
       "    <tr>\n",
       "      <th>12</th>\n",
       "      <td>tensor(0.)</td>\n",
       "      <td>tensor(0.)</td>\n",
       "      <td>tensor(0.)</td>\n",
       "      <td>tensor(0.)</td>\n",
       "      <td>tensor(0.)</td>\n",
       "      <td>tensor(0.)</td>\n",
       "      <td>tensor(0.)</td>\n",
       "      <td>tensor(0.)</td>\n",
       "      <td>tensor(0.)</td>\n",
       "      <td>tensor(0.)</td>\n",
       "      <td>...</td>\n",
       "      <td>tensor(0.)</td>\n",
       "      <td>tensor(0.3555)</td>\n",
       "      <td>tensor(0.8281)</td>\n",
       "      <td>tensor(0.9648)</td>\n",
       "      <td>tensor(0.9844)</td>\n",
       "      <td>tensor(0.9844)</td>\n",
       "      <td>tensor(0.9844)</td>\n",
       "      <td>tensor(0.7969)</td>\n",
       "      <td>tensor(0.0352)</td>\n",
       "      <td>tensor(0.)</td>\n",
       "    </tr>\n",
       "  </tbody>\n",
       "</table>\n",
       "<p>13 rows × 23 columns</p>\n",
       "</div>"
      ],
      "text/plain": [
       "            0           1           2           3           4           5   \\\n",
       "0   tensor(0.)  tensor(0.)  tensor(0.)  tensor(0.)  tensor(0.)  tensor(0.)   \n",
       "1   tensor(0.)  tensor(0.)  tensor(0.)  tensor(0.)  tensor(0.)  tensor(0.)   \n",
       "2   tensor(0.)  tensor(0.)  tensor(0.)  tensor(0.)  tensor(0.)  tensor(0.)   \n",
       "3   tensor(0.)  tensor(0.)  tensor(0.)  tensor(0.)  tensor(0.)  tensor(0.)   \n",
       "4   tensor(0.)  tensor(0.)  tensor(0.)  tensor(0.)  tensor(0.)  tensor(0.)   \n",
       "5   tensor(0.)  tensor(0.)  tensor(0.)  tensor(0.)  tensor(0.)  tensor(0.)   \n",
       "6   tensor(0.)  tensor(0.)  tensor(0.)  tensor(0.)  tensor(0.)  tensor(0.)   \n",
       "7   tensor(0.)  tensor(0.)  tensor(0.)  tensor(0.)  tensor(0.)  tensor(0.)   \n",
       "8   tensor(0.)  tensor(0.)  tensor(0.)  tensor(0.)  tensor(0.)  tensor(0.)   \n",
       "9   tensor(0.)  tensor(0.)  tensor(0.)  tensor(0.)  tensor(0.)  tensor(0.)   \n",
       "10  tensor(0.)  tensor(0.)  tensor(0.)  tensor(0.)  tensor(0.)  tensor(0.)   \n",
       "11  tensor(0.)  tensor(0.)  tensor(0.)  tensor(0.)  tensor(0.)  tensor(0.)   \n",
       "12  tensor(0.)  tensor(0.)  tensor(0.)  tensor(0.)  tensor(0.)  tensor(0.)   \n",
       "\n",
       "            6           7           8               9   ...              13  \\\n",
       "0   tensor(0.)  tensor(0.)  tensor(0.)      tensor(0.)  ...      tensor(0.)   \n",
       "1   tensor(0.)  tensor(0.)  tensor(0.)      tensor(0.)  ...      tensor(0.)   \n",
       "2   tensor(0.)  tensor(0.)  tensor(0.)      tensor(0.)  ...      tensor(0.)   \n",
       "3   tensor(0.)  tensor(0.)  tensor(0.)      tensor(0.)  ...      tensor(0.)   \n",
       "4   tensor(0.)  tensor(0.)  tensor(0.)      tensor(0.)  ...      tensor(0.)   \n",
       "5   tensor(0.)  tensor(0.)  tensor(0.)      tensor(0.)  ...  tensor(0.4102)   \n",
       "6   tensor(0.)  tensor(0.)  tensor(0.)  tensor(0.1680)  ...  tensor(0.9844)   \n",
       "7   tensor(0.)  tensor(0.)  tensor(0.)  tensor(0.6953)  ...  tensor(0.9844)   \n",
       "8   tensor(0.)  tensor(0.)  tensor(0.)  tensor(0.4258)  ...  tensor(0.5156)   \n",
       "9   tensor(0.)  tensor(0.)  tensor(0.)  tensor(0.0156)  ...      tensor(0.)   \n",
       "10  tensor(0.)  tensor(0.)  tensor(0.)      tensor(0.)  ...      tensor(0.)   \n",
       "11  tensor(0.)  tensor(0.)  tensor(0.)      tensor(0.)  ...      tensor(0.)   \n",
       "12  tensor(0.)  tensor(0.)  tensor(0.)      tensor(0.)  ...      tensor(0.)   \n",
       "\n",
       "                14              15              16              17  \\\n",
       "0       tensor(0.)      tensor(0.)      tensor(0.)      tensor(0.)   \n",
       "1       tensor(0.)      tensor(0.)      tensor(0.)      tensor(0.)   \n",
       "2       tensor(0.)      tensor(0.)      tensor(0.)      tensor(0.)   \n",
       "3       tensor(0.)      tensor(0.)      tensor(0.)      tensor(0.)   \n",
       "4       tensor(0.)      tensor(0.)      tensor(0.)      tensor(0.)   \n",
       "5   tensor(0.9961)  tensor(0.9883)  tensor(0.9883)  tensor(0.9883)   \n",
       "6   tensor(0.9883)  tensor(0.9844)  tensor(0.9844)  tensor(0.9844)   \n",
       "7   tensor(0.9883)  tensor(0.9844)  tensor(0.9844)  tensor(0.9844)   \n",
       "8   tensor(0.5195)  tensor(0.5156)  tensor(0.5156)  tensor(0.7383)   \n",
       "9       tensor(0.)      tensor(0.)      tensor(0.)  tensor(0.0547)   \n",
       "10      tensor(0.)      tensor(0.)      tensor(0.)  tensor(0.3320)   \n",
       "11      tensor(0.)      tensor(0.)  tensor(0.3438)  tensor(0.7383)   \n",
       "12  tensor(0.3555)  tensor(0.8281)  tensor(0.9648)  tensor(0.9844)   \n",
       "\n",
       "                18              19              20              21  \\\n",
       "0       tensor(0.)      tensor(0.)      tensor(0.)      tensor(0.)   \n",
       "1       tensor(0.)      tensor(0.)      tensor(0.)      tensor(0.)   \n",
       "2       tensor(0.)      tensor(0.)      tensor(0.)      tensor(0.)   \n",
       "3       tensor(0.)      tensor(0.)      tensor(0.)      tensor(0.)   \n",
       "4       tensor(0.)      tensor(0.)      tensor(0.)      tensor(0.)   \n",
       "5   tensor(0.9883)  tensor(0.9883)  tensor(0.6797)  tensor(0.0234)   \n",
       "6   tensor(0.9844)  tensor(0.9844)  tensor(0.9844)  tensor(0.6172)   \n",
       "7   tensor(0.9844)  tensor(0.9844)  tensor(0.9844)  tensor(0.9844)   \n",
       "8   tensor(0.9844)  tensor(0.9844)  tensor(0.9844)  tensor(0.9844)   \n",
       "9   tensor(0.8828)  tensor(0.9844)  tensor(0.9844)  tensor(0.6719)   \n",
       "10  tensor(0.9492)  tensor(0.9844)  tensor(0.9844)  tensor(0.5625)   \n",
       "11  tensor(0.9844)  tensor(0.9844)  tensor(0.9844)  tensor(0.0547)   \n",
       "12  tensor(0.9844)  tensor(0.9844)  tensor(0.7969)  tensor(0.0352)   \n",
       "\n",
       "                22  \n",
       "0       tensor(0.)  \n",
       "1       tensor(0.)  \n",
       "2       tensor(0.)  \n",
       "3       tensor(0.)  \n",
       "4       tensor(0.)  \n",
       "5       tensor(0.)  \n",
       "6   tensor(0.0547)  \n",
       "7   tensor(0.2305)  \n",
       "8   tensor(0.2305)  \n",
       "9   tensor(0.0273)  \n",
       "10      tensor(0.)  \n",
       "11      tensor(0.)  \n",
       "12      tensor(0.)  \n",
       "\n",
       "[13 rows x 23 columns]"
      ]
     },
     "execution_count": 21,
     "metadata": {},
     "output_type": "execute_result"
    }
   ],
   "source": [
    "df = pd.DataFrame(im3[:13, :23])\n",
    "df"
   ]
  },
  {
   "cell_type": "code",
   "execution_count": null,
   "id": "5c48f9d3",
   "metadata": {},
   "outputs": [],
   "source": [
    "df = pd.DataFrame(np.random.randn(4, 2), columns=['a', 'b'])\n",
    ">>> df.style.format(\"{:.2%}\")\n",
    ">>> df['c'] = ['a', 'b', 'c', 'd']\n",
    ">>> df.style.format({'c': str.upper})"
   ]
  },
  {
   "cell_type": "code",
   "execution_count": 31,
   "id": "564051dc",
   "metadata": {},
   "outputs": [
    {
     "data": {
      "text/html": [
       "<style  type=\"text/css\" >\n",
       "#T_2316c_row0_col0,#T_2316c_row0_col1,#T_2316c_row0_col2,#T_2316c_row0_col3,#T_2316c_row0_col4,#T_2316c_row0_col5,#T_2316c_row0_col6,#T_2316c_row0_col7,#T_2316c_row0_col8,#T_2316c_row0_col9,#T_2316c_row0_col10,#T_2316c_row0_col11,#T_2316c_row0_col12,#T_2316c_row0_col13,#T_2316c_row0_col14,#T_2316c_row0_col15,#T_2316c_row0_col16,#T_2316c_row0_col17,#T_2316c_row0_col18,#T_2316c_row0_col19,#T_2316c_row0_col20,#T_2316c_row0_col21,#T_2316c_row0_col22,#T_2316c_row1_col0,#T_2316c_row1_col1,#T_2316c_row1_col2,#T_2316c_row1_col3,#T_2316c_row1_col4,#T_2316c_row1_col5,#T_2316c_row1_col6,#T_2316c_row1_col7,#T_2316c_row1_col8,#T_2316c_row1_col9,#T_2316c_row1_col10,#T_2316c_row1_col11,#T_2316c_row1_col12,#T_2316c_row1_col13,#T_2316c_row1_col14,#T_2316c_row1_col15,#T_2316c_row1_col16,#T_2316c_row1_col17,#T_2316c_row1_col18,#T_2316c_row1_col19,#T_2316c_row1_col20,#T_2316c_row1_col21,#T_2316c_row1_col22,#T_2316c_row2_col0,#T_2316c_row2_col1,#T_2316c_row2_col2,#T_2316c_row2_col3,#T_2316c_row2_col4,#T_2316c_row2_col5,#T_2316c_row2_col6,#T_2316c_row2_col7,#T_2316c_row2_col8,#T_2316c_row2_col9,#T_2316c_row2_col10,#T_2316c_row2_col11,#T_2316c_row2_col12,#T_2316c_row2_col13,#T_2316c_row2_col14,#T_2316c_row2_col15,#T_2316c_row2_col16,#T_2316c_row2_col17,#T_2316c_row2_col18,#T_2316c_row2_col19,#T_2316c_row2_col20,#T_2316c_row2_col21,#T_2316c_row2_col22,#T_2316c_row3_col0,#T_2316c_row3_col1,#T_2316c_row3_col2,#T_2316c_row3_col3,#T_2316c_row3_col4,#T_2316c_row3_col5,#T_2316c_row3_col6,#T_2316c_row3_col7,#T_2316c_row3_col8,#T_2316c_row3_col9,#T_2316c_row3_col10,#T_2316c_row3_col11,#T_2316c_row3_col12,#T_2316c_row3_col13,#T_2316c_row3_col14,#T_2316c_row3_col15,#T_2316c_row3_col16,#T_2316c_row3_col17,#T_2316c_row3_col18,#T_2316c_row3_col19,#T_2316c_row3_col20,#T_2316c_row3_col21,#T_2316c_row3_col22,#T_2316c_row4_col0,#T_2316c_row4_col1,#T_2316c_row4_col2,#T_2316c_row4_col3,#T_2316c_row4_col4,#T_2316c_row4_col5,#T_2316c_row4_col6,#T_2316c_row4_col7,#T_2316c_row4_col8,#T_2316c_row4_col9,#T_2316c_row4_col10,#T_2316c_row4_col11,#T_2316c_row4_col12,#T_2316c_row4_col13,#T_2316c_row4_col14,#T_2316c_row4_col15,#T_2316c_row4_col16,#T_2316c_row4_col17,#T_2316c_row4_col18,#T_2316c_row4_col19,#T_2316c_row4_col20,#T_2316c_row4_col21,#T_2316c_row4_col22,#T_2316c_row5_col0,#T_2316c_row5_col1,#T_2316c_row5_col2,#T_2316c_row5_col3,#T_2316c_row5_col4,#T_2316c_row5_col5,#T_2316c_row5_col6,#T_2316c_row5_col7,#T_2316c_row5_col8,#T_2316c_row5_col9,#T_2316c_row5_col10,#T_2316c_row5_col11,#T_2316c_row5_col12,#T_2316c_row5_col13,#T_2316c_row5_col14,#T_2316c_row5_col15,#T_2316c_row5_col16,#T_2316c_row5_col17,#T_2316c_row5_col18,#T_2316c_row5_col19,#T_2316c_row5_col20,#T_2316c_row5_col21,#T_2316c_row5_col22,#T_2316c_row6_col0,#T_2316c_row6_col1,#T_2316c_row6_col2,#T_2316c_row6_col3,#T_2316c_row6_col4,#T_2316c_row6_col5,#T_2316c_row6_col6,#T_2316c_row6_col7,#T_2316c_row6_col8,#T_2316c_row6_col9,#T_2316c_row6_col10,#T_2316c_row6_col11,#T_2316c_row6_col12,#T_2316c_row6_col13,#T_2316c_row6_col14,#T_2316c_row6_col15,#T_2316c_row6_col16,#T_2316c_row6_col17,#T_2316c_row6_col18,#T_2316c_row6_col19,#T_2316c_row6_col20,#T_2316c_row6_col21,#T_2316c_row6_col22,#T_2316c_row7_col0,#T_2316c_row7_col1,#T_2316c_row7_col2,#T_2316c_row7_col3,#T_2316c_row7_col4,#T_2316c_row7_col5,#T_2316c_row7_col6,#T_2316c_row7_col7,#T_2316c_row7_col8,#T_2316c_row7_col9,#T_2316c_row7_col10,#T_2316c_row7_col11,#T_2316c_row7_col12,#T_2316c_row7_col13,#T_2316c_row7_col14,#T_2316c_row7_col15,#T_2316c_row7_col16,#T_2316c_row7_col17,#T_2316c_row7_col18,#T_2316c_row7_col19,#T_2316c_row7_col20,#T_2316c_row7_col21,#T_2316c_row7_col22,#T_2316c_row8_col0,#T_2316c_row8_col1,#T_2316c_row8_col2,#T_2316c_row8_col3,#T_2316c_row8_col4,#T_2316c_row8_col5,#T_2316c_row8_col6,#T_2316c_row8_col7,#T_2316c_row8_col8,#T_2316c_row8_col9,#T_2316c_row8_col10,#T_2316c_row8_col11,#T_2316c_row8_col12,#T_2316c_row8_col13,#T_2316c_row8_col14,#T_2316c_row8_col15,#T_2316c_row8_col16,#T_2316c_row8_col17,#T_2316c_row8_col18,#T_2316c_row8_col19,#T_2316c_row8_col20,#T_2316c_row8_col21,#T_2316c_row8_col22,#T_2316c_row9_col0,#T_2316c_row9_col1,#T_2316c_row9_col2,#T_2316c_row9_col3,#T_2316c_row9_col4,#T_2316c_row9_col5,#T_2316c_row9_col6,#T_2316c_row9_col7,#T_2316c_row9_col8,#T_2316c_row9_col9,#T_2316c_row9_col10,#T_2316c_row9_col11,#T_2316c_row9_col12,#T_2316c_row9_col13,#T_2316c_row9_col14,#T_2316c_row9_col15,#T_2316c_row9_col16,#T_2316c_row9_col17,#T_2316c_row9_col18,#T_2316c_row9_col19,#T_2316c_row9_col20,#T_2316c_row9_col21,#T_2316c_row9_col22,#T_2316c_row10_col0,#T_2316c_row10_col1,#T_2316c_row10_col2,#T_2316c_row10_col3,#T_2316c_row10_col4,#T_2316c_row10_col5,#T_2316c_row10_col6,#T_2316c_row10_col7,#T_2316c_row10_col8,#T_2316c_row10_col9,#T_2316c_row10_col10,#T_2316c_row10_col11,#T_2316c_row10_col12,#T_2316c_row10_col13,#T_2316c_row10_col14,#T_2316c_row10_col15,#T_2316c_row10_col16,#T_2316c_row10_col17,#T_2316c_row10_col18,#T_2316c_row10_col19,#T_2316c_row10_col20,#T_2316c_row10_col21,#T_2316c_row10_col22,#T_2316c_row11_col0,#T_2316c_row11_col1,#T_2316c_row11_col2,#T_2316c_row11_col3,#T_2316c_row11_col4,#T_2316c_row11_col5,#T_2316c_row11_col6,#T_2316c_row11_col7,#T_2316c_row11_col8,#T_2316c_row11_col9,#T_2316c_row11_col10,#T_2316c_row11_col11,#T_2316c_row11_col12,#T_2316c_row11_col13,#T_2316c_row11_col14,#T_2316c_row11_col15,#T_2316c_row11_col16,#T_2316c_row11_col17,#T_2316c_row11_col18,#T_2316c_row11_col19,#T_2316c_row11_col20,#T_2316c_row11_col21,#T_2316c_row11_col22,#T_2316c_row12_col0,#T_2316c_row12_col1,#T_2316c_row12_col2,#T_2316c_row12_col3,#T_2316c_row12_col4,#T_2316c_row12_col5,#T_2316c_row12_col6,#T_2316c_row12_col7,#T_2316c_row12_col8,#T_2316c_row12_col9,#T_2316c_row12_col10,#T_2316c_row12_col11,#T_2316c_row12_col12,#T_2316c_row12_col13,#T_2316c_row12_col14,#T_2316c_row12_col15,#T_2316c_row12_col16,#T_2316c_row12_col17,#T_2316c_row12_col18,#T_2316c_row12_col19,#T_2316c_row12_col20,#T_2316c_row12_col21,#T_2316c_row12_col22{\n",
       "            font-size:  7pt;\n",
       "        }</style><table id=\"T_2316c_\" ><thead>    <tr>        <th class=\"blank level0\" ></th>        <th class=\"col_heading level0 col0\" >0</th>        <th class=\"col_heading level0 col1\" >1</th>        <th class=\"col_heading level0 col2\" >2</th>        <th class=\"col_heading level0 col3\" >3</th>        <th class=\"col_heading level0 col4\" >4</th>        <th class=\"col_heading level0 col5\" >5</th>        <th class=\"col_heading level0 col6\" >6</th>        <th class=\"col_heading level0 col7\" >7</th>        <th class=\"col_heading level0 col8\" >8</th>        <th class=\"col_heading level0 col9\" >9</th>        <th class=\"col_heading level0 col10\" >10</th>        <th class=\"col_heading level0 col11\" >11</th>        <th class=\"col_heading level0 col12\" >12</th>        <th class=\"col_heading level0 col13\" >13</th>        <th class=\"col_heading level0 col14\" >14</th>        <th class=\"col_heading level0 col15\" >15</th>        <th class=\"col_heading level0 col16\" >16</th>        <th class=\"col_heading level0 col17\" >17</th>        <th class=\"col_heading level0 col18\" >18</th>        <th class=\"col_heading level0 col19\" >19</th>        <th class=\"col_heading level0 col20\" >20</th>        <th class=\"col_heading level0 col21\" >21</th>        <th class=\"col_heading level0 col22\" >22</th>    </tr></thead><tbody>\n",
       "                <tr>\n",
       "                        <th id=\"T_2316c_level0_row0\" class=\"row_heading level0 row0\" >0</th>\n",
       "                        <td id=\"T_2316c_row0_col0\" class=\"data row0 col0\" >0.0</td>\n",
       "                        <td id=\"T_2316c_row0_col1\" class=\"data row0 col1\" >0.0</td>\n",
       "                        <td id=\"T_2316c_row0_col2\" class=\"data row0 col2\" >0.0</td>\n",
       "                        <td id=\"T_2316c_row0_col3\" class=\"data row0 col3\" >0.0</td>\n",
       "                        <td id=\"T_2316c_row0_col4\" class=\"data row0 col4\" >0.0</td>\n",
       "                        <td id=\"T_2316c_row0_col5\" class=\"data row0 col5\" >0.0</td>\n",
       "                        <td id=\"T_2316c_row0_col6\" class=\"data row0 col6\" >0.0</td>\n",
       "                        <td id=\"T_2316c_row0_col7\" class=\"data row0 col7\" >0.0</td>\n",
       "                        <td id=\"T_2316c_row0_col8\" class=\"data row0 col8\" >0.0</td>\n",
       "                        <td id=\"T_2316c_row0_col9\" class=\"data row0 col9\" >0.0</td>\n",
       "                        <td id=\"T_2316c_row0_col10\" class=\"data row0 col10\" >0.0</td>\n",
       "                        <td id=\"T_2316c_row0_col11\" class=\"data row0 col11\" >0.0</td>\n",
       "                        <td id=\"T_2316c_row0_col12\" class=\"data row0 col12\" >0.0</td>\n",
       "                        <td id=\"T_2316c_row0_col13\" class=\"data row0 col13\" >0.0</td>\n",
       "                        <td id=\"T_2316c_row0_col14\" class=\"data row0 col14\" >0.0</td>\n",
       "                        <td id=\"T_2316c_row0_col15\" class=\"data row0 col15\" >0.0</td>\n",
       "                        <td id=\"T_2316c_row0_col16\" class=\"data row0 col16\" >0.0</td>\n",
       "                        <td id=\"T_2316c_row0_col17\" class=\"data row0 col17\" >0.0</td>\n",
       "                        <td id=\"T_2316c_row0_col18\" class=\"data row0 col18\" >0.0</td>\n",
       "                        <td id=\"T_2316c_row0_col19\" class=\"data row0 col19\" >0.0</td>\n",
       "                        <td id=\"T_2316c_row0_col20\" class=\"data row0 col20\" >0.0</td>\n",
       "                        <td id=\"T_2316c_row0_col21\" class=\"data row0 col21\" >0.0</td>\n",
       "                        <td id=\"T_2316c_row0_col22\" class=\"data row0 col22\" >0.0</td>\n",
       "            </tr>\n",
       "            <tr>\n",
       "                        <th id=\"T_2316c_level0_row1\" class=\"row_heading level0 row1\" >1</th>\n",
       "                        <td id=\"T_2316c_row1_col0\" class=\"data row1 col0\" >0.0</td>\n",
       "                        <td id=\"T_2316c_row1_col1\" class=\"data row1 col1\" >0.0</td>\n",
       "                        <td id=\"T_2316c_row1_col2\" class=\"data row1 col2\" >0.0</td>\n",
       "                        <td id=\"T_2316c_row1_col3\" class=\"data row1 col3\" >0.0</td>\n",
       "                        <td id=\"T_2316c_row1_col4\" class=\"data row1 col4\" >0.0</td>\n",
       "                        <td id=\"T_2316c_row1_col5\" class=\"data row1 col5\" >0.0</td>\n",
       "                        <td id=\"T_2316c_row1_col6\" class=\"data row1 col6\" >0.0</td>\n",
       "                        <td id=\"T_2316c_row1_col7\" class=\"data row1 col7\" >0.0</td>\n",
       "                        <td id=\"T_2316c_row1_col8\" class=\"data row1 col8\" >0.0</td>\n",
       "                        <td id=\"T_2316c_row1_col9\" class=\"data row1 col9\" >0.0</td>\n",
       "                        <td id=\"T_2316c_row1_col10\" class=\"data row1 col10\" >0.0</td>\n",
       "                        <td id=\"T_2316c_row1_col11\" class=\"data row1 col11\" >0.0</td>\n",
       "                        <td id=\"T_2316c_row1_col12\" class=\"data row1 col12\" >0.0</td>\n",
       "                        <td id=\"T_2316c_row1_col13\" class=\"data row1 col13\" >0.0</td>\n",
       "                        <td id=\"T_2316c_row1_col14\" class=\"data row1 col14\" >0.0</td>\n",
       "                        <td id=\"T_2316c_row1_col15\" class=\"data row1 col15\" >0.0</td>\n",
       "                        <td id=\"T_2316c_row1_col16\" class=\"data row1 col16\" >0.0</td>\n",
       "                        <td id=\"T_2316c_row1_col17\" class=\"data row1 col17\" >0.0</td>\n",
       "                        <td id=\"T_2316c_row1_col18\" class=\"data row1 col18\" >0.0</td>\n",
       "                        <td id=\"T_2316c_row1_col19\" class=\"data row1 col19\" >0.0</td>\n",
       "                        <td id=\"T_2316c_row1_col20\" class=\"data row1 col20\" >0.0</td>\n",
       "                        <td id=\"T_2316c_row1_col21\" class=\"data row1 col21\" >0.0</td>\n",
       "                        <td id=\"T_2316c_row1_col22\" class=\"data row1 col22\" >0.0</td>\n",
       "            </tr>\n",
       "            <tr>\n",
       "                        <th id=\"T_2316c_level0_row2\" class=\"row_heading level0 row2\" >2</th>\n",
       "                        <td id=\"T_2316c_row2_col0\" class=\"data row2 col0\" >0.0</td>\n",
       "                        <td id=\"T_2316c_row2_col1\" class=\"data row2 col1\" >0.0</td>\n",
       "                        <td id=\"T_2316c_row2_col2\" class=\"data row2 col2\" >0.0</td>\n",
       "                        <td id=\"T_2316c_row2_col3\" class=\"data row2 col3\" >0.0</td>\n",
       "                        <td id=\"T_2316c_row2_col4\" class=\"data row2 col4\" >0.0</td>\n",
       "                        <td id=\"T_2316c_row2_col5\" class=\"data row2 col5\" >0.0</td>\n",
       "                        <td id=\"T_2316c_row2_col6\" class=\"data row2 col6\" >0.0</td>\n",
       "                        <td id=\"T_2316c_row2_col7\" class=\"data row2 col7\" >0.0</td>\n",
       "                        <td id=\"T_2316c_row2_col8\" class=\"data row2 col8\" >0.0</td>\n",
       "                        <td id=\"T_2316c_row2_col9\" class=\"data row2 col9\" >0.0</td>\n",
       "                        <td id=\"T_2316c_row2_col10\" class=\"data row2 col10\" >0.0</td>\n",
       "                        <td id=\"T_2316c_row2_col11\" class=\"data row2 col11\" >0.0</td>\n",
       "                        <td id=\"T_2316c_row2_col12\" class=\"data row2 col12\" >0.0</td>\n",
       "                        <td id=\"T_2316c_row2_col13\" class=\"data row2 col13\" >0.0</td>\n",
       "                        <td id=\"T_2316c_row2_col14\" class=\"data row2 col14\" >0.0</td>\n",
       "                        <td id=\"T_2316c_row2_col15\" class=\"data row2 col15\" >0.0</td>\n",
       "                        <td id=\"T_2316c_row2_col16\" class=\"data row2 col16\" >0.0</td>\n",
       "                        <td id=\"T_2316c_row2_col17\" class=\"data row2 col17\" >0.0</td>\n",
       "                        <td id=\"T_2316c_row2_col18\" class=\"data row2 col18\" >0.0</td>\n",
       "                        <td id=\"T_2316c_row2_col19\" class=\"data row2 col19\" >0.0</td>\n",
       "                        <td id=\"T_2316c_row2_col20\" class=\"data row2 col20\" >0.0</td>\n",
       "                        <td id=\"T_2316c_row2_col21\" class=\"data row2 col21\" >0.0</td>\n",
       "                        <td id=\"T_2316c_row2_col22\" class=\"data row2 col22\" >0.0</td>\n",
       "            </tr>\n",
       "            <tr>\n",
       "                        <th id=\"T_2316c_level0_row3\" class=\"row_heading level0 row3\" >3</th>\n",
       "                        <td id=\"T_2316c_row3_col0\" class=\"data row3 col0\" >0.0</td>\n",
       "                        <td id=\"T_2316c_row3_col1\" class=\"data row3 col1\" >0.0</td>\n",
       "                        <td id=\"T_2316c_row3_col2\" class=\"data row3 col2\" >0.0</td>\n",
       "                        <td id=\"T_2316c_row3_col3\" class=\"data row3 col3\" >0.0</td>\n",
       "                        <td id=\"T_2316c_row3_col4\" class=\"data row3 col4\" >0.0</td>\n",
       "                        <td id=\"T_2316c_row3_col5\" class=\"data row3 col5\" >0.0</td>\n",
       "                        <td id=\"T_2316c_row3_col6\" class=\"data row3 col6\" >0.0</td>\n",
       "                        <td id=\"T_2316c_row3_col7\" class=\"data row3 col7\" >0.0</td>\n",
       "                        <td id=\"T_2316c_row3_col8\" class=\"data row3 col8\" >0.0</td>\n",
       "                        <td id=\"T_2316c_row3_col9\" class=\"data row3 col9\" >0.0</td>\n",
       "                        <td id=\"T_2316c_row3_col10\" class=\"data row3 col10\" >0.0</td>\n",
       "                        <td id=\"T_2316c_row3_col11\" class=\"data row3 col11\" >0.0</td>\n",
       "                        <td id=\"T_2316c_row3_col12\" class=\"data row3 col12\" >0.0</td>\n",
       "                        <td id=\"T_2316c_row3_col13\" class=\"data row3 col13\" >0.0</td>\n",
       "                        <td id=\"T_2316c_row3_col14\" class=\"data row3 col14\" >0.0</td>\n",
       "                        <td id=\"T_2316c_row3_col15\" class=\"data row3 col15\" >0.0</td>\n",
       "                        <td id=\"T_2316c_row3_col16\" class=\"data row3 col16\" >0.0</td>\n",
       "                        <td id=\"T_2316c_row3_col17\" class=\"data row3 col17\" >0.0</td>\n",
       "                        <td id=\"T_2316c_row3_col18\" class=\"data row3 col18\" >0.0</td>\n",
       "                        <td id=\"T_2316c_row3_col19\" class=\"data row3 col19\" >0.0</td>\n",
       "                        <td id=\"T_2316c_row3_col20\" class=\"data row3 col20\" >0.0</td>\n",
       "                        <td id=\"T_2316c_row3_col21\" class=\"data row3 col21\" >0.0</td>\n",
       "                        <td id=\"T_2316c_row3_col22\" class=\"data row3 col22\" >0.0</td>\n",
       "            </tr>\n",
       "            <tr>\n",
       "                        <th id=\"T_2316c_level0_row4\" class=\"row_heading level0 row4\" >4</th>\n",
       "                        <td id=\"T_2316c_row4_col0\" class=\"data row4 col0\" >0.0</td>\n",
       "                        <td id=\"T_2316c_row4_col1\" class=\"data row4 col1\" >0.0</td>\n",
       "                        <td id=\"T_2316c_row4_col2\" class=\"data row4 col2\" >0.0</td>\n",
       "                        <td id=\"T_2316c_row4_col3\" class=\"data row4 col3\" >0.0</td>\n",
       "                        <td id=\"T_2316c_row4_col4\" class=\"data row4 col4\" >0.0</td>\n",
       "                        <td id=\"T_2316c_row4_col5\" class=\"data row4 col5\" >0.0</td>\n",
       "                        <td id=\"T_2316c_row4_col6\" class=\"data row4 col6\" >0.0</td>\n",
       "                        <td id=\"T_2316c_row4_col7\" class=\"data row4 col7\" >0.0</td>\n",
       "                        <td id=\"T_2316c_row4_col8\" class=\"data row4 col8\" >0.0</td>\n",
       "                        <td id=\"T_2316c_row4_col9\" class=\"data row4 col9\" >0.0</td>\n",
       "                        <td id=\"T_2316c_row4_col10\" class=\"data row4 col10\" >0.0</td>\n",
       "                        <td id=\"T_2316c_row4_col11\" class=\"data row4 col11\" >0.0</td>\n",
       "                        <td id=\"T_2316c_row4_col12\" class=\"data row4 col12\" >0.0</td>\n",
       "                        <td id=\"T_2316c_row4_col13\" class=\"data row4 col13\" >0.0</td>\n",
       "                        <td id=\"T_2316c_row4_col14\" class=\"data row4 col14\" >0.0</td>\n",
       "                        <td id=\"T_2316c_row4_col15\" class=\"data row4 col15\" >0.0</td>\n",
       "                        <td id=\"T_2316c_row4_col16\" class=\"data row4 col16\" >0.0</td>\n",
       "                        <td id=\"T_2316c_row4_col17\" class=\"data row4 col17\" >0.0</td>\n",
       "                        <td id=\"T_2316c_row4_col18\" class=\"data row4 col18\" >0.0</td>\n",
       "                        <td id=\"T_2316c_row4_col19\" class=\"data row4 col19\" >0.0</td>\n",
       "                        <td id=\"T_2316c_row4_col20\" class=\"data row4 col20\" >0.0</td>\n",
       "                        <td id=\"T_2316c_row4_col21\" class=\"data row4 col21\" >0.0</td>\n",
       "                        <td id=\"T_2316c_row4_col22\" class=\"data row4 col22\" >0.0</td>\n",
       "            </tr>\n",
       "            <tr>\n",
       "                        <th id=\"T_2316c_level0_row5\" class=\"row_heading level0 row5\" >5</th>\n",
       "                        <td id=\"T_2316c_row5_col0\" class=\"data row5 col0\" >0.0</td>\n",
       "                        <td id=\"T_2316c_row5_col1\" class=\"data row5 col1\" >0.0</td>\n",
       "                        <td id=\"T_2316c_row5_col2\" class=\"data row5 col2\" >0.0</td>\n",
       "                        <td id=\"T_2316c_row5_col3\" class=\"data row5 col3\" >0.0</td>\n",
       "                        <td id=\"T_2316c_row5_col4\" class=\"data row5 col4\" >0.0</td>\n",
       "                        <td id=\"T_2316c_row5_col5\" class=\"data row5 col5\" >0.0</td>\n",
       "                        <td id=\"T_2316c_row5_col6\" class=\"data row5 col6\" >0.0</td>\n",
       "                        <td id=\"T_2316c_row5_col7\" class=\"data row5 col7\" >0.0</td>\n",
       "                        <td id=\"T_2316c_row5_col8\" class=\"data row5 col8\" >0.0</td>\n",
       "                        <td id=\"T_2316c_row5_col9\" class=\"data row5 col9\" >0.0</td>\n",
       "                        <td id=\"T_2316c_row5_col10\" class=\"data row5 col10\" >0.0</td>\n",
       "                        <td id=\"T_2316c_row5_col11\" class=\"data row5 col11\" >0.15</td>\n",
       "                        <td id=\"T_2316c_row5_col12\" class=\"data row5 col12\" >0.17</td>\n",
       "                        <td id=\"T_2316c_row5_col13\" class=\"data row5 col13\" >0.41</td>\n",
       "                        <td id=\"T_2316c_row5_col14\" class=\"data row5 col14\" >1.0</td>\n",
       "                        <td id=\"T_2316c_row5_col15\" class=\"data row5 col15\" >0.99</td>\n",
       "                        <td id=\"T_2316c_row5_col16\" class=\"data row5 col16\" >0.99</td>\n",
       "                        <td id=\"T_2316c_row5_col17\" class=\"data row5 col17\" >0.99</td>\n",
       "                        <td id=\"T_2316c_row5_col18\" class=\"data row5 col18\" >0.99</td>\n",
       "                        <td id=\"T_2316c_row5_col19\" class=\"data row5 col19\" >0.99</td>\n",
       "                        <td id=\"T_2316c_row5_col20\" class=\"data row5 col20\" >0.68</td>\n",
       "                        <td id=\"T_2316c_row5_col21\" class=\"data row5 col21\" >0.023</td>\n",
       "                        <td id=\"T_2316c_row5_col22\" class=\"data row5 col22\" >0.0</td>\n",
       "            </tr>\n",
       "            <tr>\n",
       "                        <th id=\"T_2316c_level0_row6\" class=\"row_heading level0 row6\" >6</th>\n",
       "                        <td id=\"T_2316c_row6_col0\" class=\"data row6 col0\" >0.0</td>\n",
       "                        <td id=\"T_2316c_row6_col1\" class=\"data row6 col1\" >0.0</td>\n",
       "                        <td id=\"T_2316c_row6_col2\" class=\"data row6 col2\" >0.0</td>\n",
       "                        <td id=\"T_2316c_row6_col3\" class=\"data row6 col3\" >0.0</td>\n",
       "                        <td id=\"T_2316c_row6_col4\" class=\"data row6 col4\" >0.0</td>\n",
       "                        <td id=\"T_2316c_row6_col5\" class=\"data row6 col5\" >0.0</td>\n",
       "                        <td id=\"T_2316c_row6_col6\" class=\"data row6 col6\" >0.0</td>\n",
       "                        <td id=\"T_2316c_row6_col7\" class=\"data row6 col7\" >0.0</td>\n",
       "                        <td id=\"T_2316c_row6_col8\" class=\"data row6 col8\" >0.0</td>\n",
       "                        <td id=\"T_2316c_row6_col9\" class=\"data row6 col9\" >0.17</td>\n",
       "                        <td id=\"T_2316c_row6_col10\" class=\"data row6 col10\" >0.54</td>\n",
       "                        <td id=\"T_2316c_row6_col11\" class=\"data row6 col11\" >0.88</td>\n",
       "                        <td id=\"T_2316c_row6_col12\" class=\"data row6 col12\" >0.88</td>\n",
       "                        <td id=\"T_2316c_row6_col13\" class=\"data row6 col13\" >0.98</td>\n",
       "                        <td id=\"T_2316c_row6_col14\" class=\"data row6 col14\" >0.99</td>\n",
       "                        <td id=\"T_2316c_row6_col15\" class=\"data row6 col15\" >0.98</td>\n",
       "                        <td id=\"T_2316c_row6_col16\" class=\"data row6 col16\" >0.98</td>\n",
       "                        <td id=\"T_2316c_row6_col17\" class=\"data row6 col17\" >0.98</td>\n",
       "                        <td id=\"T_2316c_row6_col18\" class=\"data row6 col18\" >0.98</td>\n",
       "                        <td id=\"T_2316c_row6_col19\" class=\"data row6 col19\" >0.98</td>\n",
       "                        <td id=\"T_2316c_row6_col20\" class=\"data row6 col20\" >0.98</td>\n",
       "                        <td id=\"T_2316c_row6_col21\" class=\"data row6 col21\" >0.62</td>\n",
       "                        <td id=\"T_2316c_row6_col22\" class=\"data row6 col22\" >0.055</td>\n",
       "            </tr>\n",
       "            <tr>\n",
       "                        <th id=\"T_2316c_level0_row7\" class=\"row_heading level0 row7\" >7</th>\n",
       "                        <td id=\"T_2316c_row7_col0\" class=\"data row7 col0\" >0.0</td>\n",
       "                        <td id=\"T_2316c_row7_col1\" class=\"data row7 col1\" >0.0</td>\n",
       "                        <td id=\"T_2316c_row7_col2\" class=\"data row7 col2\" >0.0</td>\n",
       "                        <td id=\"T_2316c_row7_col3\" class=\"data row7 col3\" >0.0</td>\n",
       "                        <td id=\"T_2316c_row7_col4\" class=\"data row7 col4\" >0.0</td>\n",
       "                        <td id=\"T_2316c_row7_col5\" class=\"data row7 col5\" >0.0</td>\n",
       "                        <td id=\"T_2316c_row7_col6\" class=\"data row7 col6\" >0.0</td>\n",
       "                        <td id=\"T_2316c_row7_col7\" class=\"data row7 col7\" >0.0</td>\n",
       "                        <td id=\"T_2316c_row7_col8\" class=\"data row7 col8\" >0.0</td>\n",
       "                        <td id=\"T_2316c_row7_col9\" class=\"data row7 col9\" >0.7</td>\n",
       "                        <td id=\"T_2316c_row7_col10\" class=\"data row7 col10\" >0.98</td>\n",
       "                        <td id=\"T_2316c_row7_col11\" class=\"data row7 col11\" >0.98</td>\n",
       "                        <td id=\"T_2316c_row7_col12\" class=\"data row7 col12\" >0.98</td>\n",
       "                        <td id=\"T_2316c_row7_col13\" class=\"data row7 col13\" >0.98</td>\n",
       "                        <td id=\"T_2316c_row7_col14\" class=\"data row7 col14\" >0.99</td>\n",
       "                        <td id=\"T_2316c_row7_col15\" class=\"data row7 col15\" >0.98</td>\n",
       "                        <td id=\"T_2316c_row7_col16\" class=\"data row7 col16\" >0.98</td>\n",
       "                        <td id=\"T_2316c_row7_col17\" class=\"data row7 col17\" >0.98</td>\n",
       "                        <td id=\"T_2316c_row7_col18\" class=\"data row7 col18\" >0.98</td>\n",
       "                        <td id=\"T_2316c_row7_col19\" class=\"data row7 col19\" >0.98</td>\n",
       "                        <td id=\"T_2316c_row7_col20\" class=\"data row7 col20\" >0.98</td>\n",
       "                        <td id=\"T_2316c_row7_col21\" class=\"data row7 col21\" >0.98</td>\n",
       "                        <td id=\"T_2316c_row7_col22\" class=\"data row7 col22\" >0.23</td>\n",
       "            </tr>\n",
       "            <tr>\n",
       "                        <th id=\"T_2316c_level0_row8\" class=\"row_heading level0 row8\" >8</th>\n",
       "                        <td id=\"T_2316c_row8_col0\" class=\"data row8 col0\" >0.0</td>\n",
       "                        <td id=\"T_2316c_row8_col1\" class=\"data row8 col1\" >0.0</td>\n",
       "                        <td id=\"T_2316c_row8_col2\" class=\"data row8 col2\" >0.0</td>\n",
       "                        <td id=\"T_2316c_row8_col3\" class=\"data row8 col3\" >0.0</td>\n",
       "                        <td id=\"T_2316c_row8_col4\" class=\"data row8 col4\" >0.0</td>\n",
       "                        <td id=\"T_2316c_row8_col5\" class=\"data row8 col5\" >0.0</td>\n",
       "                        <td id=\"T_2316c_row8_col6\" class=\"data row8 col6\" >0.0</td>\n",
       "                        <td id=\"T_2316c_row8_col7\" class=\"data row8 col7\" >0.0</td>\n",
       "                        <td id=\"T_2316c_row8_col8\" class=\"data row8 col8\" >0.0</td>\n",
       "                        <td id=\"T_2316c_row8_col9\" class=\"data row8 col9\" >0.43</td>\n",
       "                        <td id=\"T_2316c_row8_col10\" class=\"data row8 col10\" >0.98</td>\n",
       "                        <td id=\"T_2316c_row8_col11\" class=\"data row8 col11\" >0.98</td>\n",
       "                        <td id=\"T_2316c_row8_col12\" class=\"data row8 col12\" >0.9</td>\n",
       "                        <td id=\"T_2316c_row8_col13\" class=\"data row8 col13\" >0.52</td>\n",
       "                        <td id=\"T_2316c_row8_col14\" class=\"data row8 col14\" >0.52</td>\n",
       "                        <td id=\"T_2316c_row8_col15\" class=\"data row8 col15\" >0.52</td>\n",
       "                        <td id=\"T_2316c_row8_col16\" class=\"data row8 col16\" >0.52</td>\n",
       "                        <td id=\"T_2316c_row8_col17\" class=\"data row8 col17\" >0.74</td>\n",
       "                        <td id=\"T_2316c_row8_col18\" class=\"data row8 col18\" >0.98</td>\n",
       "                        <td id=\"T_2316c_row8_col19\" class=\"data row8 col19\" >0.98</td>\n",
       "                        <td id=\"T_2316c_row8_col20\" class=\"data row8 col20\" >0.98</td>\n",
       "                        <td id=\"T_2316c_row8_col21\" class=\"data row8 col21\" >0.98</td>\n",
       "                        <td id=\"T_2316c_row8_col22\" class=\"data row8 col22\" >0.23</td>\n",
       "            </tr>\n",
       "            <tr>\n",
       "                        <th id=\"T_2316c_level0_row9\" class=\"row_heading level0 row9\" >9</th>\n",
       "                        <td id=\"T_2316c_row9_col0\" class=\"data row9 col0\" >0.0</td>\n",
       "                        <td id=\"T_2316c_row9_col1\" class=\"data row9 col1\" >0.0</td>\n",
       "                        <td id=\"T_2316c_row9_col2\" class=\"data row9 col2\" >0.0</td>\n",
       "                        <td id=\"T_2316c_row9_col3\" class=\"data row9 col3\" >0.0</td>\n",
       "                        <td id=\"T_2316c_row9_col4\" class=\"data row9 col4\" >0.0</td>\n",
       "                        <td id=\"T_2316c_row9_col5\" class=\"data row9 col5\" >0.0</td>\n",
       "                        <td id=\"T_2316c_row9_col6\" class=\"data row9 col6\" >0.0</td>\n",
       "                        <td id=\"T_2316c_row9_col7\" class=\"data row9 col7\" >0.0</td>\n",
       "                        <td id=\"T_2316c_row9_col8\" class=\"data row9 col8\" >0.0</td>\n",
       "                        <td id=\"T_2316c_row9_col9\" class=\"data row9 col9\" >0.016</td>\n",
       "                        <td id=\"T_2316c_row9_col10\" class=\"data row9 col10\" >0.11</td>\n",
       "                        <td id=\"T_2316c_row9_col11\" class=\"data row9 col11\" >0.11</td>\n",
       "                        <td id=\"T_2316c_row9_col12\" class=\"data row9 col12\" >0.094</td>\n",
       "                        <td id=\"T_2316c_row9_col13\" class=\"data row9 col13\" >0.0</td>\n",
       "                        <td id=\"T_2316c_row9_col14\" class=\"data row9 col14\" >0.0</td>\n",
       "                        <td id=\"T_2316c_row9_col15\" class=\"data row9 col15\" >0.0</td>\n",
       "                        <td id=\"T_2316c_row9_col16\" class=\"data row9 col16\" >0.0</td>\n",
       "                        <td id=\"T_2316c_row9_col17\" class=\"data row9 col17\" >0.055</td>\n",
       "                        <td id=\"T_2316c_row9_col18\" class=\"data row9 col18\" >0.88</td>\n",
       "                        <td id=\"T_2316c_row9_col19\" class=\"data row9 col19\" >0.98</td>\n",
       "                        <td id=\"T_2316c_row9_col20\" class=\"data row9 col20\" >0.98</td>\n",
       "                        <td id=\"T_2316c_row9_col21\" class=\"data row9 col21\" >0.67</td>\n",
       "                        <td id=\"T_2316c_row9_col22\" class=\"data row9 col22\" >0.027</td>\n",
       "            </tr>\n",
       "            <tr>\n",
       "                        <th id=\"T_2316c_level0_row10\" class=\"row_heading level0 row10\" >10</th>\n",
       "                        <td id=\"T_2316c_row10_col0\" class=\"data row10 col0\" >0.0</td>\n",
       "                        <td id=\"T_2316c_row10_col1\" class=\"data row10 col1\" >0.0</td>\n",
       "                        <td id=\"T_2316c_row10_col2\" class=\"data row10 col2\" >0.0</td>\n",
       "                        <td id=\"T_2316c_row10_col3\" class=\"data row10 col3\" >0.0</td>\n",
       "                        <td id=\"T_2316c_row10_col4\" class=\"data row10 col4\" >0.0</td>\n",
       "                        <td id=\"T_2316c_row10_col5\" class=\"data row10 col5\" >0.0</td>\n",
       "                        <td id=\"T_2316c_row10_col6\" class=\"data row10 col6\" >0.0</td>\n",
       "                        <td id=\"T_2316c_row10_col7\" class=\"data row10 col7\" >0.0</td>\n",
       "                        <td id=\"T_2316c_row10_col8\" class=\"data row10 col8\" >0.0</td>\n",
       "                        <td id=\"T_2316c_row10_col9\" class=\"data row10 col9\" >0.0</td>\n",
       "                        <td id=\"T_2316c_row10_col10\" class=\"data row10 col10\" >0.0</td>\n",
       "                        <td id=\"T_2316c_row10_col11\" class=\"data row10 col11\" >0.0</td>\n",
       "                        <td id=\"T_2316c_row10_col12\" class=\"data row10 col12\" >0.0</td>\n",
       "                        <td id=\"T_2316c_row10_col13\" class=\"data row10 col13\" >0.0</td>\n",
       "                        <td id=\"T_2316c_row10_col14\" class=\"data row10 col14\" >0.0</td>\n",
       "                        <td id=\"T_2316c_row10_col15\" class=\"data row10 col15\" >0.0</td>\n",
       "                        <td id=\"T_2316c_row10_col16\" class=\"data row10 col16\" >0.0</td>\n",
       "                        <td id=\"T_2316c_row10_col17\" class=\"data row10 col17\" >0.33</td>\n",
       "                        <td id=\"T_2316c_row10_col18\" class=\"data row10 col18\" >0.95</td>\n",
       "                        <td id=\"T_2316c_row10_col19\" class=\"data row10 col19\" >0.98</td>\n",
       "                        <td id=\"T_2316c_row10_col20\" class=\"data row10 col20\" >0.98</td>\n",
       "                        <td id=\"T_2316c_row10_col21\" class=\"data row10 col21\" >0.56</td>\n",
       "                        <td id=\"T_2316c_row10_col22\" class=\"data row10 col22\" >0.0</td>\n",
       "            </tr>\n",
       "            <tr>\n",
       "                        <th id=\"T_2316c_level0_row11\" class=\"row_heading level0 row11\" >11</th>\n",
       "                        <td id=\"T_2316c_row11_col0\" class=\"data row11 col0\" >0.0</td>\n",
       "                        <td id=\"T_2316c_row11_col1\" class=\"data row11 col1\" >0.0</td>\n",
       "                        <td id=\"T_2316c_row11_col2\" class=\"data row11 col2\" >0.0</td>\n",
       "                        <td id=\"T_2316c_row11_col3\" class=\"data row11 col3\" >0.0</td>\n",
       "                        <td id=\"T_2316c_row11_col4\" class=\"data row11 col4\" >0.0</td>\n",
       "                        <td id=\"T_2316c_row11_col5\" class=\"data row11 col5\" >0.0</td>\n",
       "                        <td id=\"T_2316c_row11_col6\" class=\"data row11 col6\" >0.0</td>\n",
       "                        <td id=\"T_2316c_row11_col7\" class=\"data row11 col7\" >0.0</td>\n",
       "                        <td id=\"T_2316c_row11_col8\" class=\"data row11 col8\" >0.0</td>\n",
       "                        <td id=\"T_2316c_row11_col9\" class=\"data row11 col9\" >0.0</td>\n",
       "                        <td id=\"T_2316c_row11_col10\" class=\"data row11 col10\" >0.0</td>\n",
       "                        <td id=\"T_2316c_row11_col11\" class=\"data row11 col11\" >0.0</td>\n",
       "                        <td id=\"T_2316c_row11_col12\" class=\"data row11 col12\" >0.0</td>\n",
       "                        <td id=\"T_2316c_row11_col13\" class=\"data row11 col13\" >0.0</td>\n",
       "                        <td id=\"T_2316c_row11_col14\" class=\"data row11 col14\" >0.0</td>\n",
       "                        <td id=\"T_2316c_row11_col15\" class=\"data row11 col15\" >0.0</td>\n",
       "                        <td id=\"T_2316c_row11_col16\" class=\"data row11 col16\" >0.34</td>\n",
       "                        <td id=\"T_2316c_row11_col17\" class=\"data row11 col17\" >0.74</td>\n",
       "                        <td id=\"T_2316c_row11_col18\" class=\"data row11 col18\" >0.98</td>\n",
       "                        <td id=\"T_2316c_row11_col19\" class=\"data row11 col19\" >0.98</td>\n",
       "                        <td id=\"T_2316c_row11_col20\" class=\"data row11 col20\" >0.98</td>\n",
       "                        <td id=\"T_2316c_row11_col21\" class=\"data row11 col21\" >0.055</td>\n",
       "                        <td id=\"T_2316c_row11_col22\" class=\"data row11 col22\" >0.0</td>\n",
       "            </tr>\n",
       "            <tr>\n",
       "                        <th id=\"T_2316c_level0_row12\" class=\"row_heading level0 row12\" >12</th>\n",
       "                        <td id=\"T_2316c_row12_col0\" class=\"data row12 col0\" >0.0</td>\n",
       "                        <td id=\"T_2316c_row12_col1\" class=\"data row12 col1\" >0.0</td>\n",
       "                        <td id=\"T_2316c_row12_col2\" class=\"data row12 col2\" >0.0</td>\n",
       "                        <td id=\"T_2316c_row12_col3\" class=\"data row12 col3\" >0.0</td>\n",
       "                        <td id=\"T_2316c_row12_col4\" class=\"data row12 col4\" >0.0</td>\n",
       "                        <td id=\"T_2316c_row12_col5\" class=\"data row12 col5\" >0.0</td>\n",
       "                        <td id=\"T_2316c_row12_col6\" class=\"data row12 col6\" >0.0</td>\n",
       "                        <td id=\"T_2316c_row12_col7\" class=\"data row12 col7\" >0.0</td>\n",
       "                        <td id=\"T_2316c_row12_col8\" class=\"data row12 col8\" >0.0</td>\n",
       "                        <td id=\"T_2316c_row12_col9\" class=\"data row12 col9\" >0.0</td>\n",
       "                        <td id=\"T_2316c_row12_col10\" class=\"data row12 col10\" >0.0</td>\n",
       "                        <td id=\"T_2316c_row12_col11\" class=\"data row12 col11\" >0.0</td>\n",
       "                        <td id=\"T_2316c_row12_col12\" class=\"data row12 col12\" >0.0</td>\n",
       "                        <td id=\"T_2316c_row12_col13\" class=\"data row12 col13\" >0.0</td>\n",
       "                        <td id=\"T_2316c_row12_col14\" class=\"data row12 col14\" >0.36</td>\n",
       "                        <td id=\"T_2316c_row12_col15\" class=\"data row12 col15\" >0.83</td>\n",
       "                        <td id=\"T_2316c_row12_col16\" class=\"data row12 col16\" >0.96</td>\n",
       "                        <td id=\"T_2316c_row12_col17\" class=\"data row12 col17\" >0.98</td>\n",
       "                        <td id=\"T_2316c_row12_col18\" class=\"data row12 col18\" >0.98</td>\n",
       "                        <td id=\"T_2316c_row12_col19\" class=\"data row12 col19\" >0.98</td>\n",
       "                        <td id=\"T_2316c_row12_col20\" class=\"data row12 col20\" >0.8</td>\n",
       "                        <td id=\"T_2316c_row12_col21\" class=\"data row12 col21\" >0.035</td>\n",
       "                        <td id=\"T_2316c_row12_col22\" class=\"data row12 col22\" >0.0</td>\n",
       "            </tr>\n",
       "    </tbody></table>"
      ],
      "text/plain": [
       "<pandas.io.formats.style.Styler at 0xabd9f75850>"
      ]
     },
     "execution_count": 31,
     "metadata": {},
     "output_type": "execute_result"
    }
   ],
   "source": [
    "df = pd.DataFrame(im3[:13, :23])\n",
    "df.style.format(\"{:.2}\").set_properties(**{\"font-size\":\"7pt\"}).background_gradient(\"Greys\")\n",
    "# df.style.format(precision=2).set_properties(**{'font-size':'7pt'}).background_gradient('Greys')"
   ]
  },
  {
   "cell_type": "code",
   "execution_count": 32,
   "id": "5b57d9e6",
   "metadata": {},
   "outputs": [
    {
     "data": {
      "text/plain": [
       "tensor([[0.0000, 0.0000, 0.0000],\n",
       "        [0.0000, 0.0000, 0.0000],\n",
       "        [0.9961, 0.9883, 0.9883]])"
      ]
     },
     "execution_count": 32,
     "metadata": {},
     "output_type": "execute_result"
    }
   ],
   "source": [
    "im3[3:6,14:17]"
   ]
  },
  {
   "cell_type": "code",
   "execution_count": 33,
   "id": "ab042301",
   "metadata": {},
   "outputs": [
    {
     "data": {
      "text/plain": [
       "tensor([[-1., -1., -1.],\n",
       "        [ 0.,  0.,  0.],\n",
       "        [ 1.,  1.,  1.]])"
      ]
     },
     "execution_count": 33,
     "metadata": {},
     "output_type": "execute_result"
    }
   ],
   "source": [
    "top_edge"
   ]
  },
  {
   "cell_type": "code",
   "execution_count": 34,
   "id": "9086cacf",
   "metadata": {},
   "outputs": [
    {
     "data": {
      "text/plain": [
       "tensor([[-0.0000, -0.0000, -0.0000],\n",
       "        [0.0000, 0.0000, 0.0000],\n",
       "        [0.9961, 0.9883, 0.9883]])"
      ]
     },
     "execution_count": 34,
     "metadata": {},
     "output_type": "execute_result"
    }
   ],
   "source": [
    "im3[3:6,14:17] * top_edge"
   ]
  },
  {
   "cell_type": "code",
   "execution_count": 39,
   "id": "e7109725",
   "metadata": {},
   "outputs": [
    {
     "data": {
      "image/png": "[encoded data removed]",
      "text/plain": [
       "<Figure size 432x288 with 1 Axes>"
      ]
     },
     "metadata": {},
     "output_type": "display_data"
    }
   ],
   "source": [
    "show_image(im3[3:6,14:17] * top_edge, noframe=False);"
   ]
  },
  {
   "cell_type": "code",
   "execution_count": 35,
   "id": "5f16ef0d",
   "metadata": {},
   "outputs": [
    {
     "data": {
      "text/plain": [
       "tensor(2.9727)"
      ]
     },
     "execution_count": 35,
     "metadata": {},
     "output_type": "execute_result"
    }
   ],
   "source": [
    "(im3[3:6,14:17] * top_edge).sum()"
   ]
  },
  {
   "cell_type": "code",
   "execution_count": 36,
   "id": "e4ae3cd4",
   "metadata": {},
   "outputs": [
    {
     "data": {
      "text/plain": [
       "tensor([[0.9883, 0.9844, 0.9844],\n",
       "        [0.5195, 0.5156, 0.5156],\n",
       "        [0.0000, 0.0000, 0.0000]])"
      ]
     },
     "execution_count": 36,
     "metadata": {},
     "output_type": "execute_result"
    }
   ],
   "source": [
    "im3[7:10,14:17]"
   ]
  },
  {
   "cell_type": "code",
   "execution_count": 37,
   "id": "81f38fde",
   "metadata": {},
   "outputs": [
    {
     "data": {
      "text/plain": [
       "tensor(-2.9570)"
      ]
     },
     "execution_count": 37,
     "metadata": {},
     "output_type": "execute_result"
    }
   ],
   "source": [
    "(im3[7:10,14:17] * top_edge).sum()"
   ]
  },
  {
   "cell_type": "code",
   "execution_count": 40,
   "id": "67d6d57d",
   "metadata": {},
   "outputs": [
    {
     "data": {
      "image/png": "[encoded data removed]",
      "text/plain": [
       "<Figure size 432x288 with 1 Axes>"
      ]
     },
     "metadata": {},
     "output_type": "display_data"
    }
   ],
   "source": [
    "show_image(im3[7:10,14:17] * top_edge, noframe=False);"
   ]
  },
  {
   "cell_type": "code",
   "execution_count": 41,
   "id": "85a180d8",
   "metadata": {},
   "outputs": [],
   "source": [
    "def apply_kernel(row, col, kernel): return (im3[row-1:row+2,col-1:col+2] * kernel).sum()"
   ]
  },
  {
   "cell_type": "code",
   "execution_count": 42,
   "id": "d8809091",
   "metadata": {},
   "outputs": [
    {
     "data": {
      "text/plain": [
       "tensor(2.9727)"
      ]
     },
     "execution_count": 42,
     "metadata": {},
     "output_type": "execute_result"
    }
   ],
   "source": [
    "apply_kernel(4,15, top_edge)"
   ]
  },
  {
   "cell_type": "code",
   "execution_count": 43,
   "id": "afb3f189",
   "metadata": {},
   "outputs": [
    {
     "data": {
      "text/plain": [
       "[[(0, 0), (0, 1), (0, 2), (0, 3), (0, 4)],\n",
       " [(1, 0), (1, 1), (1, 2), (1, 3), (1, 4)],\n",
       " [(2, 0), (2, 1), (2, 2), (2, 3), (2, 4)],\n",
       " [(3, 0), (3, 1), (3, 2), (3, 3), (3, 4)],\n",
       " [(4, 0), (4, 1), (4, 2), (4, 3), (4, 4)]]"
      ]
     },
     "execution_count": 43,
     "metadata": {},
     "output_type": "execute_result"
    }
   ],
   "source": [
    "[[(i,j) for j in range(5)] for i in range(5)]"
   ]
  },
  {
   "cell_type": "code",
   "execution_count": 48,
   "id": "c11915e0",
   "metadata": {},
   "outputs": [
    {
     "data": {
      "image/png": "[encoded data removed]",
      "text/plain": [
       "<Figure size 432x288 with 1 Axes>"
      ]
     },
     "metadata": {},
     "output_type": "display_data"
    }
   ],
   "source": [
    "rng = range(1,27)\n",
    "top_edge3 = tensor([[apply_kernel(i,j,top_edge) for j in rng] for i in rng])\n",
    "show_image(top_edge3);"
   ]
  },
  {
   "cell_type": "code",
   "execution_count": 49,
   "id": "1c64d50e",
   "metadata": {},
   "outputs": [],
   "source": [
    "left_edge = tensor([[-1,0,1],\n",
    "                    [-1,0,1],\n",
    "                    [-1,0,1]]).float()"
   ]
  },
  {
   "cell_type": "code",
   "execution_count": 50,
   "id": "44a15d0d",
   "metadata": {},
   "outputs": [
    {
     "data": {
      "image/png": "[encoded data removed]",
      "text/plain": [
       "<Figure size 432x288 with 1 Axes>"
      ]
     },
     "metadata": {},
     "output_type": "display_data"
    }
   ],
   "source": [
    "show_image(left_edge, noframe=False);"
   ]
  },
  {
   "cell_type": "code",
   "execution_count": 51,
   "id": "aa7ab252",
   "metadata": {},
   "outputs": [
    {
     "data": {
      "image/png": "[encoded data removed]",
      "text/plain": [
       "<Figure size 432x288 with 1 Axes>"
      ]
     },
     "metadata": {},
     "output_type": "display_data"
    }
   ],
   "source": [
    "left_edge3 = tensor([[apply_kernel(i,j,left_edge) for j in rng] for i in rng])\n",
    "show_image(left_edge3);"
   ]
  },
  {
   "cell_type": "markdown",
   "id": "227c988a",
   "metadata": {},
   "source": [
    "## Convolutions in PyTorch"
   ]
  },
  {
   "cell_type": "code",
   "execution_count": 52,
   "id": "b53666be",
   "metadata": {},
   "outputs": [],
   "source": [
    "import torch.nn.functional as F\n",
    "import torch"
   ]
  },
  {
   "cell_type": "code",
   "execution_count": 53,
   "id": "b748c47d",
   "metadata": {},
   "outputs": [
    {
     "data": {
      "text/plain": [
       "torch.Size([28, 28])"
      ]
     },
     "execution_count": 53,
     "metadata": {},
     "output_type": "execute_result"
    }
   ],
   "source": [
    "im3.shape"
   ]
  },
  {
   "cell_type": "code",
   "execution_count": 54,
   "id": "c25e064b",
   "metadata": {},
   "outputs": [
    {
     "data": {
      "text/plain": [
       "torch.Size([1, 1, 28, 28])"
      ]
     },
     "execution_count": 54,
     "metadata": {},
     "output_type": "execute_result"
    }
   ],
   "source": [
    "im3[None,None,:,:].shape"
   ]
  },
  {
   "cell_type": "code",
   "execution_count": 56,
   "id": "e636d321",
   "metadata": {},
   "outputs": [
    {
     "data": {
      "text/plain": [
       "torch.Size([9, 676])"
      ]
     },
     "execution_count": 56,
     "metadata": {},
     "output_type": "execute_result"
    }
   ],
   "source": [
    "inp = im3[None,None,:,:].float()\n",
    "inp_unf = F.unfold(inp, (3,3))[0]\n",
    "inp_unf.shape"
   ]
  },
  {
   "cell_type": "code",
   "execution_count": 59,
   "id": "c82e6f51",
   "metadata": {},
   "outputs": [
    {
     "data": {
      "text/plain": [
       "tensor([[-1.,  0.,  1.],\n",
       "        [-1.,  0.,  1.],\n",
       "        [-1.,  0.,  1.]])"
      ]
     },
     "execution_count": 59,
     "metadata": {},
     "output_type": "execute_result"
    }
   ],
   "source": [
    "left_edge"
   ]
  },
  {
   "cell_type": "code",
   "execution_count": 60,
   "id": "c2211428",
   "metadata": {},
   "outputs": [
    {
     "data": {
      "text/plain": [
       "tensor([-1.,  0.,  1., -1.,  0.,  1., -1.,  0.,  1.])"
      ]
     },
     "execution_count": 60,
     "metadata": {},
     "output_type": "execute_result"
    }
   ],
   "source": [
    "left_edge.view(-1)"
   ]
  },
  {
   "cell_type": "code",
   "execution_count": 61,
   "id": "1da6fe09",
   "metadata": {},
   "outputs": [
    {
     "data": {
      "text/plain": [
       "torch.Size([9])"
      ]
     },
     "execution_count": 61,
     "metadata": {},
     "output_type": "execute_result"
    }
   ],
   "source": [
    "w = left_edge.view(-1)\n",
    "w.shape"
   ]
  },
  {
   "cell_type": "code",
   "execution_count": 63,
   "id": "fd961483",
   "metadata": {},
   "outputs": [
    {
     "data": {
      "text/plain": [
       "torch.Size([676])"
      ]
     },
     "execution_count": 63,
     "metadata": {},
     "output_type": "execute_result"
    }
   ],
   "source": [
    "out_unf = w@inp_unf\n",
    "out_unf.shape"
   ]
  },
  {
   "cell_type": "code",
   "execution_count": 64,
   "id": "0a1a0552",
   "metadata": {},
   "outputs": [
    {
     "data": {
      "text/plain": [
       "torch.Size([26, 26])"
      ]
     },
     "execution_count": 64,
     "metadata": {},
     "output_type": "execute_result"
    }
   ],
   "source": [
    "out_unf.view(26,26).shape"
   ]
  },
  {
   "cell_type": "code",
   "execution_count": 65,
   "id": "8744de5c",
   "metadata": {},
   "outputs": [
    {
     "data": {
      "image/png": "[encoded data removed]",
      "text/plain": [
       "<Figure size 432x288 with 1 Axes>"
      ]
     },
     "metadata": {},
     "output_type": "display_data"
    }
   ],
   "source": [
    "out = out_unf.view(26,26)\n",
    "show_image(out);"
   ]
  },
  {
   "cell_type": "code",
   "execution_count": 66,
   "id": "41516aaa",
   "metadata": {},
   "outputs": [
    {
     "name": "stdout",
     "output_type": "stream",
     "text": [
      "23.5 ms ± 3.94 ms per loop (mean ± std. dev. of 7 runs, 1 loop each)\n"
     ]
    }
   ],
   "source": [
    "%timeit -n 1 tensor([[apply_kernel(i,j,left_edge) for j in rng] for i in rng]);"
   ]
  },
  {
   "cell_type": "code",
   "execution_count": 71,
   "id": "3783b208",
   "metadata": {},
   "outputs": [
    {
     "name": "stdout",
     "output_type": "stream",
     "text": [
      "106 µs ± 15.9 µs per loop (mean ± std. dev. of 7 runs, 100 loops each)\n"
     ]
    }
   ],
   "source": [
    "%timeit -n 100 (w@F.unfold(inp, (3,3))[0]).view(26,26);"
   ]
  },
  {
   "cell_type": "code",
   "execution_count": 75,
   "id": "cf6ade03",
   "metadata": {},
   "outputs": [
    {
     "data": {
      "text/plain": [
       "221.69811320754718"
      ]
     },
     "execution_count": 75,
     "metadata": {},
     "output_type": "execute_result"
    }
   ],
   "source": [
    "(23.5*(10**-3)) / (106*(10**-6))"
   ]
  },
  {
   "cell_type": "markdown",
   "id": "cc8f39f9",
   "metadata": {},
   "source": [
    "221.6 faster with matrix multiplication"
   ]
  },
  {
   "cell_type": "code",
   "execution_count": 79,
   "id": "22306ad7",
   "metadata": {},
   "outputs": [
    {
     "data": {
      "text/plain": [
       "torch.Size([1, 1, 3, 3])"
      ]
     },
     "execution_count": 79,
     "metadata": {},
     "output_type": "execute_result"
    }
   ],
   "source": [
    "left_edge[None,None].shape"
   ]
  },
  {
   "cell_type": "code",
   "execution_count": 84,
   "id": "b536d557",
   "metadata": {},
   "outputs": [
    {
     "data": {
      "text/plain": [
       "torch.Size([1, 1, 26, 26])"
      ]
     },
     "execution_count": 84,
     "metadata": {},
     "output_type": "execute_result"
    }
   ],
   "source": [
    "conv2d = F.conv2d(inp, left_edge[None,None])\n",
    "conv2d.shape"
   ]
  },
  {
   "cell_type": "code",
   "execution_count": 85,
   "id": "5efb6b94",
   "metadata": {},
   "outputs": [
    {
     "data": {
      "text/plain": [
       "torch.Size([26, 26])"
      ]
     },
     "execution_count": 85,
     "metadata": {},
     "output_type": "execute_result"
    }
   ],
   "source": [
    "conv2d.squeeze().shape"
   ]
  },
  {
   "cell_type": "code",
   "execution_count": 86,
   "id": "b5efe8f9",
   "metadata": {},
   "outputs": [
    {
     "data": {
      "image/png": "[encoded data removed]",
      "text/plain": [
       "<Figure size 432x288 with 1 Axes>"
      ]
     },
     "metadata": {},
     "output_type": "display_data"
    }
   ],
   "source": [
    "show_image(conv2d.squeeze());"
   ]
  },
  {
   "cell_type": "code",
   "execution_count": 87,
   "id": "45b86884",
   "metadata": {},
   "outputs": [
    {
     "name": "stdout",
     "output_type": "stream",
     "text": [
      "65.6 µs ± 14.2 µs per loop (mean ± std. dev. of 7 runs, 100 loops each)\n"
     ]
    }
   ],
   "source": [
    "%timeit -n 100 F.conv2d(inp, left_edge[None,None])"
   ]
  },
  {
   "cell_type": "markdown",
   "id": "a8e76f1d",
   "metadata": {},
   "source": [
    "`F.conv2d` is about twice as fast a `w@F.unfold`"
   ]
  },
  {
   "cell_type": "code",
   "execution_count": 88,
   "id": "3fa6218b",
   "metadata": {},
   "outputs": [],
   "source": [
    "diag1_edge = tensor([[ 0,-1, 1],\n",
    "                     [-1, 1, 0],\n",
    "                     [ 1, 0, 0]]).float()"
   ]
  },
  {
   "cell_type": "code",
   "execution_count": 89,
   "id": "47184207",
   "metadata": {},
   "outputs": [
    {
     "data": {
      "image/png": "[encoded data removed]",
      "text/plain": [
       "<Figure size 432x288 with 1 Axes>"
      ]
     },
     "metadata": {},
     "output_type": "display_data"
    }
   ],
   "source": [
    "show_image(diag1_edge, noframe=False);"
   ]
  },
  {
   "cell_type": "code",
   "execution_count": 90,
   "id": "e2527427",
   "metadata": {},
   "outputs": [],
   "source": [
    "diag2_edge = tensor([[ 1,-1, 0],\n",
    "                     [ 0, 1,-1],\n",
    "                     [ 0, 0, 1]]).float()"
   ]
  },
  {
   "cell_type": "code",
   "execution_count": 91,
   "id": "edf7eb67",
   "metadata": {},
   "outputs": [
    {
     "data": {
      "image/png": "[encoded data removed]",
      "text/plain": [
       "<Figure size 432x288 with 1 Axes>"
      ]
     },
     "metadata": {},
     "output_type": "display_data"
    }
   ],
   "source": [
    "show_image(diag2_edge, noframe=False);"
   ]
  },
  {
   "cell_type": "code",
   "execution_count": 92,
   "id": "0f101b91",
   "metadata": {},
   "outputs": [
    {
     "data": {
      "text/plain": [
       "torch.Size([50000, 28, 28])"
      ]
     },
     "execution_count": 92,
     "metadata": {},
     "output_type": "execute_result"
    }
   ],
   "source": [
    "x_imgs.shape"
   ]
  },
  {
   "cell_type": "code",
   "execution_count": 95,
   "id": "6140e7ef",
   "metadata": {},
   "outputs": [
    {
     "data": {
      "text/plain": [
       "torch.Size([16, 1, 28, 28])"
      ]
     },
     "execution_count": 95,
     "metadata": {},
     "output_type": "execute_result"
    }
   ],
   "source": [
    "xb = x_imgs[:16][:,None]\n",
    "xb.shape"
   ]
  },
  {
   "cell_type": "code",
   "execution_count": 96,
   "id": "3c36ea84",
   "metadata": {},
   "outputs": [
    {
     "data": {
      "text/plain": [
       "(torch.Size([3, 3]),\n",
       " torch.Size([3, 3]),\n",
       " torch.Size([3, 3]),\n",
       " torch.Size([3, 3]))"
      ]
     },
     "execution_count": 96,
     "metadata": {},
     "output_type": "execute_result"
    }
   ],
   "source": [
    "left_edge.shape, top_edge.shape, diag1_edge.shape, diag2_edge.shape"
   ]
  },
  {
   "cell_type": "code",
   "execution_count": 97,
   "id": "6b56ec88",
   "metadata": {},
   "outputs": [
    {
     "data": {
      "text/plain": [
       "torch.Size([4, 3, 3])"
      ]
     },
     "execution_count": 97,
     "metadata": {},
     "output_type": "execute_result"
    }
   ],
   "source": [
    "# dim=0 by default #\n",
    "torch.stack([left_edge, top_edge, diag1_edge, diag2_edge]).shape"
   ]
  },
  {
   "cell_type": "code",
   "execution_count": 98,
   "id": "abc33b99",
   "metadata": {},
   "outputs": [
    {
     "data": {
      "text/plain": [
       "torch.Size([3, 4, 3])"
      ]
     },
     "execution_count": 98,
     "metadata": {},
     "output_type": "execute_result"
    }
   ],
   "source": [
    "torch.stack([left_edge, top_edge, diag1_edge, diag2_edge], dim=1).shape"
   ]
  },
  {
   "cell_type": "code",
   "execution_count": 99,
   "id": "f7e3ec02",
   "metadata": {},
   "outputs": [
    {
     "data": {
      "text/plain": [
       "torch.Size([4, 1, 3, 3])"
      ]
     },
     "execution_count": 99,
     "metadata": {},
     "output_type": "execute_result"
    }
   ],
   "source": [
    "edge_kernels = torch.stack([left_edge, top_edge, diag1_edge, diag2_edge])[:,None]\n",
    "edge_kernels.shape"
   ]
  },
  {
   "cell_type": "code",
   "execution_count": 100,
   "id": "9a0cd0d7",
   "metadata": {},
   "outputs": [
    {
     "data": {
      "text/plain": [
       "torch.Size([16, 1, 28, 28])"
      ]
     },
     "execution_count": 100,
     "metadata": {},
     "output_type": "execute_result"
    }
   ],
   "source": [
    "xb.shape"
   ]
  },
  {
   "cell_type": "code",
   "execution_count": 101,
   "id": "3cb910f9",
   "metadata": {},
   "outputs": [
    {
     "data": {
      "text/plain": [
       "torch.Size([16, 4, 26, 26])"
      ]
     },
     "execution_count": 101,
     "metadata": {},
     "output_type": "execute_result"
    }
   ],
   "source": [
    "batch_features = F.conv2d(xb, edge_kernels)\n",
    "batch_features.shape"
   ]
  },
  {
   "cell_type": "code",
   "execution_count": null,
   "id": "51dc9ce4",
   "metadata": {},
   "outputs": [],
   "source": []
  },
  {
   "cell_type": "markdown",
   "id": "e61c9cdc",
   "metadata": {},
   "source": [
    "The output shape shows we gave 64 images in the mini-batch, 4 kernels, and 26×26 edge maps (we started with 28×28 images, but lost one pixel from each side as discussed earlier). We can see we get the same results as when we did this manually:"
   ]
  },
  {
   "cell_type": "code",
   "execution_count": 102,
   "id": "985e7c7e",
   "metadata": {},
   "outputs": [
    {
     "data": {
      "image/png": "[encoded data removed]",
      "text/plain": [
       "<Figure size 432x288 with 1 Axes>"
      ]
     },
     "metadata": {},
     "output_type": "display_data"
    }
   ],
   "source": [
    "img0 = xb[1,0]\n",
    "show_image(img0);"
   ]
  },
  {
   "cell_type": "code",
   "execution_count": 103,
   "id": "7a2ab770",
   "metadata": {},
   "outputs": [
    {
     "data": {
      "image/png": "[encoded data removed]",
      "text/plain": [
       "<Figure size 432x432 with 4 Axes>"
      ]
     },
     "metadata": {},
     "output_type": "display_data"
    }
   ],
   "source": [
    "show_images([batch_features[1,i] for i in range(4)])"
   ]
  },
  {
   "cell_type": "markdown",
   "id": "48672ff4",
   "metadata": {},
   "source": [
    "## Strides and Padding"
   ]
  },
  {
   "cell_type": "markdown",
   "id": "e82e50c4",
   "metadata": {},
   "source": [
    "If we add a kernel of size `ks` by `ks` (with `ks` an odd number), the necessary padding on each side to keep the same shape is `ks//2`."
   ]
  },
  {
   "cell_type": "code",
   "execution_count": 104,
   "id": "ec7d4415",
   "metadata": {},
   "outputs": [
    {
     "data": {
      "text/plain": [
       "1.5"
      ]
     },
     "execution_count": 104,
     "metadata": {},
     "output_type": "execute_result"
    }
   ],
   "source": [
    "3/2"
   ]
  },
  {
   "cell_type": "code",
   "execution_count": 106,
   "id": "b3b37df7",
   "metadata": {},
   "outputs": [
    {
     "data": {
      "text/plain": [
       "1"
      ]
     },
     "execution_count": 106,
     "metadata": {},
     "output_type": "execute_result"
    }
   ],
   "source": [
    "# same as 3 modulus 2.ie. the remainder of 3 divided by 2 #\n",
    "3//2"
   ]
  },
  {
   "cell_type": "markdown",
   "id": "62fcb891",
   "metadata": {},
   "source": [
    "to get the same shape as the input, we apply padding=1: `(ks=3, ks//2)`"
   ]
  },
  {
   "cell_type": "code",
   "execution_count": 107,
   "id": "0c290576",
   "metadata": {},
   "outputs": [
    {
     "data": {
      "text/plain": [
       "(torch.Size([4, 1, 3, 3]), torch.Size([16, 1, 28, 28]))"
      ]
     },
     "execution_count": 107,
     "metadata": {},
     "output_type": "execute_result"
    }
   ],
   "source": [
    "edge_kernels.shape, xb.shape"
   ]
  },
  {
   "cell_type": "code",
   "execution_count": 108,
   "id": "1d4fbdf6",
   "metadata": {},
   "outputs": [
    {
     "data": {
      "text/plain": [
       "torch.Size([16, 4, 28, 28])"
      ]
     },
     "execution_count": 108,
     "metadata": {},
     "output_type": "execute_result"
    }
   ],
   "source": [
    "batch_features = F.conv2d(xb, edge_kernels, padding=1)\n",
    "batch_features.shape"
   ]
  },
  {
   "cell_type": "markdown",
   "id": "7d55d941",
   "metadata": {},
   "source": [
    "We could move over two pixels after each kernel application. This is known as a stride-2 convolution"
   ]
  },
  {
   "cell_type": "code",
   "execution_count": 109,
   "id": "e992b729",
   "metadata": {},
   "outputs": [
    {
     "data": {
      "text/plain": [
       "torch.Size([16, 4, 14, 14])"
      ]
     },
     "execution_count": 109,
     "metadata": {},
     "output_type": "execute_result"
    }
   ],
   "source": [
    "batch_features = F.conv2d(xb, edge_kernels, padding=1, stride=2)\n",
    "batch_features.shape"
   ]
  },
  {
   "cell_type": "code",
   "execution_count": 111,
   "id": "0b79fc29",
   "metadata": {},
   "outputs": [
    {
     "data": {
      "text/plain": [
       "torch.Size([16, 4, 10, 10])"
      ]
     },
     "execution_count": 111,
     "metadata": {},
     "output_type": "execute_result"
    }
   ],
   "source": [
    "batch_features = F.conv2d(xb, edge_kernels, padding=1, stride=3)\n",
    "batch_features.shape"
   ]
  },
  {
   "cell_type": "code",
   "execution_count": 118,
   "id": "04e16fd2",
   "metadata": {},
   "outputs": [
    {
     "data": {
      "text/plain": [
       "torch.Size([16, 4, 14, 14])"
      ]
     },
     "execution_count": 118,
     "metadata": {},
     "output_type": "execute_result"
    }
   ],
   "source": [
    "batch_features = F.conv2d(xb, edge_kernels, padding=1, stride=2)\n",
    "batch_features.shape"
   ]
  },
  {
   "cell_type": "code",
   "execution_count": null,
   "id": "21dc88a0",
   "metadata": {},
   "outputs": [],
   "source": []
  },
  {
   "cell_type": "markdown",
   "id": "f88d64a2",
   "metadata": {},
   "source": [
    "## Creating the CNN"
   ]
  },
  {
   "cell_type": "code",
   "execution_count": 114,
   "id": "91b62ebb",
   "metadata": {},
   "outputs": [
    {
     "name": "stdout",
     "output_type": "stream",
     "text": [
      "NumImages:50000 ; Inputs:784 ; HiddenLayers:50 ; Outputs:10\n"
     ]
    }
   ],
   "source": [
    "n,m = x_train.shape\n",
    "c = y_train.max()+1\n",
    "nh = 50\n",
    "\n",
    "print(f\"NumImages:{n} ; Inputs:{m} ; HiddenLayers:{nh} ; Outputs:{c}\")"
   ]
  },
  {
   "cell_type": "code",
   "execution_count": 115,
   "id": "fdd347e5",
   "metadata": {},
   "outputs": [
    {
     "data": {
      "text/plain": [
       "Sequential(\n",
       "  (0): Linear(in_features=784, out_features=50, bias=True)\n",
       "  (1): ReLU()\n",
       "  (2): Linear(in_features=50, out_features=10, bias=True)\n",
       ")"
      ]
     },
     "execution_count": 115,
     "metadata": {},
     "output_type": "execute_result"
    }
   ],
   "source": [
    "# Simple neural net # \n",
    "model = nn.Sequential(nn.Linear(m,nh), nn.ReLU(), nn.Linear(nh,10))\n",
    "model"
   ]
  },
  {
   "cell_type": "code",
   "execution_count": 123,
   "id": "2357fa19",
   "metadata": {
    "scrolled": true
   },
   "outputs": [
    {
     "data": {
      "text/plain": [
       "(torch.Size([16, 1, 28, 28]), torch.Size([4, 1, 3, 3]))"
      ]
     },
     "execution_count": 123,
     "metadata": {},
     "output_type": "execute_result"
    }
   ],
   "source": [
    "xb.shape, edge_kernels.shape"
   ]
  },
  {
   "cell_type": "code",
   "execution_count": 127,
   "id": "d6b92bea",
   "metadata": {},
   "outputs": [
    {
     "data": {
      "text/plain": [
       "torch.Size([16, 784])"
      ]
     },
     "execution_count": 127,
     "metadata": {},
     "output_type": "execute_result"
    }
   ],
   "source": [
    "xb.flatten(1).shape"
   ]
  },
  {
   "cell_type": "code",
   "execution_count": 128,
   "id": "2bc1ecac",
   "metadata": {},
   "outputs": [
    {
     "data": {
      "text/plain": [
       "torch.Size([16, 10])"
      ]
     },
     "execution_count": 128,
     "metadata": {},
     "output_type": "execute_result"
    }
   ],
   "source": [
    "model(xb.flatten(1)).shape"
   ]
  },
  {
   "cell_type": "code",
   "execution_count": 124,
   "id": "4555567f",
   "metadata": {},
   "outputs": [
    {
     "data": {
      "text/plain": [
       "torch.Size([16, 4, 28, 28])"
      ]
     },
     "execution_count": 124,
     "metadata": {},
     "output_type": "execute_result"
    }
   ],
   "source": [
    "batch_features = F.conv2d(xb, edge_kernels, padding=1, stride=1)\n",
    "batch_features.shape"
   ]
  },
  {
   "cell_type": "code",
   "execution_count": 132,
   "id": "978b3687",
   "metadata": {},
   "outputs": [
    {
     "data": {
      "text/plain": [
       "torch.Size([16, 10, 28, 28])"
      ]
     },
     "execution_count": 132,
     "metadata": {},
     "output_type": "execute_result"
    }
   ],
   "source": [
    "con2d_class = nn.Conv2d(in_channels=1, out_channels=10, kernel_size=3,padding=1)\n",
    "con2d_class(xb).shape"
   ]
  },
  {
   "cell_type": "markdown",
   "id": "c14ded3d",
   "metadata": {},
   "source": [
    "Messing with input channels: `in_channels`"
   ]
  },
  {
   "cell_type": "code",
   "execution_count": 139,
   "id": "6ea5ec6f",
   "metadata": {},
   "outputs": [
    {
     "name": "stdout",
     "output_type": "stream",
     "text": [
      "Conv2d(1, 1, kernel_size=(1, 1), stride=(1, 1), padding=(1, 1))\n"
     ]
    },
    {
     "data": {
      "text/plain": [
       "[Parameter containing:\n",
       " tensor([[[[-0.9995]]]], requires_grad=True),\n",
       " Parameter containing:\n",
       " tensor([-0.3608], requires_grad=True)]"
      ]
     },
     "execution_count": 139,
     "metadata": {},
     "output_type": "execute_result"
    }
   ],
   "source": [
    "con2d_in1 = nn.Conv2d(in_channels=1, out_channels=1, kernel_size=1,padding=1)\n",
    "\n",
    "print(con2d_in1)\n",
    "list(con2d_in1.parameters())"
   ]
  },
  {
   "cell_type": "code",
   "execution_count": 142,
   "id": "b77bfa04",
   "metadata": {},
   "outputs": [
    {
     "name": "stdout",
     "output_type": "stream",
     "text": [
      "Conv2d(2, 1, kernel_size=(1, 1), stride=(1, 1), padding=(1, 1))\n"
     ]
    },
    {
     "data": {
      "text/plain": [
       "[Parameter containing:\n",
       " tensor([[[[-0.6240]],\n",
       " \n",
       "          [[ 0.6133]]]], requires_grad=True),\n",
       " Parameter containing:\n",
       " tensor([0.6347], requires_grad=True)]"
      ]
     },
     "execution_count": 142,
     "metadata": {},
     "output_type": "execute_result"
    }
   ],
   "source": [
    "con2d_in2 = nn.Conv2d(in_channels=2, out_channels=1, kernel_size=1,padding=1)\n",
    "\n",
    "print(con2d_in2)\n",
    "list(con2d_in2.parameters())"
   ]
  },
  {
   "cell_type": "code",
   "execution_count": 145,
   "id": "a4d222a5",
   "metadata": {},
   "outputs": [
    {
     "name": "stdout",
     "output_type": "stream",
     "text": [
      "Conv2d(5, 1, kernel_size=(1, 1), stride=(1, 1), padding=(1, 1))\n"
     ]
    },
    {
     "data": {
      "text/plain": [
       "[Parameter containing:\n",
       " tensor([[[[-0.3993]],\n",
       " \n",
       "          [[ 0.0918]],\n",
       " \n",
       "          [[-0.4448]],\n",
       " \n",
       "          [[ 0.1193]],\n",
       " \n",
       "          [[-0.3755]]]], requires_grad=True),\n",
       " Parameter containing:\n",
       " tensor([-0.0543], requires_grad=True)]"
      ]
     },
     "execution_count": 145,
     "metadata": {},
     "output_type": "execute_result"
    }
   ],
   "source": [
    "con2d_in5 = nn.Conv2d(in_channels=5, out_channels=1, kernel_size=1,padding=1)\n",
    "\n",
    "print(con2d_in5)\n",
    "list(con2d_in5.parameters())"
   ]
  },
  {
   "cell_type": "markdown",
   "id": "28285058",
   "metadata": {},
   "source": [
    "Messing with output channels: `out_channels`"
   ]
  },
  {
   "cell_type": "code",
   "execution_count": 146,
   "id": "5587391d",
   "metadata": {},
   "outputs": [
    {
     "name": "stdout",
     "output_type": "stream",
     "text": [
      "Conv2d(1, 1, kernel_size=(1, 1), stride=(1, 1), padding=(1, 1))\n"
     ]
    },
    {
     "data": {
      "text/plain": [
       "[Parameter containing:\n",
       " tensor([[[[-0.5651]]]], requires_grad=True),\n",
       " Parameter containing:\n",
       " tensor([-0.0437], requires_grad=True)]"
      ]
     },
     "execution_count": 146,
     "metadata": {},
     "output_type": "execute_result"
    }
   ],
   "source": [
    "con2d_out1 = nn.Conv2d(in_channels=1, out_channels=1, kernel_size=1,padding=1)\n",
    "\n",
    "print(con2d_out1)\n",
    "list(con2d_out1.parameters())"
   ]
  },
  {
   "cell_type": "code",
   "execution_count": 147,
   "id": "d738d649",
   "metadata": {},
   "outputs": [
    {
     "name": "stdout",
     "output_type": "stream",
     "text": [
      "Conv2d(1, 2, kernel_size=(1, 1), stride=(1, 1), padding=(1, 1))\n"
     ]
    },
    {
     "data": {
      "text/plain": [
       "[Parameter containing:\n",
       " tensor([[[[ 0.9683]]],\n",
       " \n",
       " \n",
       "         [[[-0.8041]]]], requires_grad=True),\n",
       " Parameter containing:\n",
       " tensor([ 0.1851, -0.1165], requires_grad=True)]"
      ]
     },
     "execution_count": 147,
     "metadata": {},
     "output_type": "execute_result"
    }
   ],
   "source": [
    "con2d_out2 = nn.Conv2d(in_channels=1, out_channels=2, kernel_size=1,padding=1)\n",
    "\n",
    "print(con2d_out2)\n",
    "list(con2d_out2.parameters())"
   ]
  },
  {
   "cell_type": "code",
   "execution_count": 150,
   "id": "4c243766",
   "metadata": {},
   "outputs": [
    {
     "name": "stdout",
     "output_type": "stream",
     "text": [
      "Conv2d(1, 5, kernel_size=(1, 1), stride=(1, 1), padding=(1, 1))\n"
     ]
    },
    {
     "data": {
      "text/plain": [
       "[Parameter containing:\n",
       " tensor([[[[ 0.4650]]],\n",
       " \n",
       " \n",
       "         [[[ 0.3075]]],\n",
       " \n",
       " \n",
       "         [[[-0.4712]]],\n",
       " \n",
       " \n",
       "         [[[ 0.6590]]],\n",
       " \n",
       " \n",
       "         [[[ 0.9827]]]], requires_grad=True),\n",
       " Parameter containing:\n",
       " tensor([ 0.3537,  0.0617,  0.3004, -0.7868,  0.4154], requires_grad=True)]"
      ]
     },
     "execution_count": 150,
     "metadata": {},
     "output_type": "execute_result"
    }
   ],
   "source": [
    "con2d_out5 = nn.Conv2d(in_channels=1, out_channels=5, kernel_size=1,padding=1)\n",
    "\n",
    "print(con2d_out5)\n",
    "list(con2d_out5.parameters())"
   ]
  },
  {
   "cell_type": "markdown",
   "id": "5a5f524d",
   "metadata": {},
   "source": [
    "Messing with `kernel_size`"
   ]
  },
  {
   "cell_type": "code",
   "execution_count": 151,
   "id": "666eaae5",
   "metadata": {},
   "outputs": [
    {
     "name": "stdout",
     "output_type": "stream",
     "text": [
      "Conv2d(1, 1, kernel_size=(1, 1), stride=(1, 1), padding=(1, 1))\n"
     ]
    },
    {
     "data": {
      "text/plain": [
       "[Parameter containing:\n",
       " tensor([[[[-0.4963]]]], requires_grad=True),\n",
       " Parameter containing:\n",
       " tensor([-0.0382], requires_grad=True)]"
      ]
     },
     "execution_count": 151,
     "metadata": {},
     "output_type": "execute_result"
    }
   ],
   "source": [
    "con2d_kernel1 = nn.Conv2d(in_channels=1, out_channels=1, kernel_size=1,padding=1)\n",
    "\n",
    "print(con2d_kernel1)\n",
    "list(con2d_kernel1.parameters())"
   ]
  },
  {
   "cell_type": "code",
   "execution_count": 152,
   "id": "ab949fea",
   "metadata": {},
   "outputs": [
    {
     "name": "stdout",
     "output_type": "stream",
     "text": [
      "Conv2d(1, 1, kernel_size=(2, 2), stride=(1, 1), padding=(1, 1))\n"
     ]
    },
    {
     "data": {
      "text/plain": [
       "[Parameter containing:\n",
       " tensor([[[[ 0.2741,  0.4224],\n",
       "           [-0.3979, -0.1980]]]], requires_grad=True),\n",
       " Parameter containing:\n",
       " tensor([0.2612], requires_grad=True)]"
      ]
     },
     "execution_count": 152,
     "metadata": {},
     "output_type": "execute_result"
    }
   ],
   "source": [
    "con2d_kernel2 = nn.Conv2d(in_channels=1, out_channels=1, kernel_size=2,padding=1)\n",
    "\n",
    "print(con2d_kernel2)\n",
    "list(con2d_kernel2.parameters())"
   ]
  },
  {
   "cell_type": "code",
   "execution_count": 153,
   "id": "59f7f467",
   "metadata": {},
   "outputs": [
    {
     "name": "stdout",
     "output_type": "stream",
     "text": [
      "Conv2d(1, 1, kernel_size=(3, 3), stride=(1, 1), padding=(1, 1))\n"
     ]
    },
    {
     "data": {
      "text/plain": [
       "[Parameter containing:\n",
       " tensor([[[[-0.2563, -0.0473,  0.0364],\n",
       "           [-0.1919,  0.1936,  0.2567],\n",
       "           [-0.0108,  0.0637,  0.1537]]]], requires_grad=True),\n",
       " Parameter containing:\n",
       " tensor([0.2075], requires_grad=True)]"
      ]
     },
     "execution_count": 153,
     "metadata": {},
     "output_type": "execute_result"
    }
   ],
   "source": [
    "con2d_kernel3 = nn.Conv2d(in_channels=1, out_channels=1, kernel_size=3,padding=1)\n",
    "\n",
    "print(con2d_kernel3)\n",
    "list(con2d_kernel3.parameters())"
   ]
  },
  {
   "cell_type": "markdown",
   "id": "945fc335",
   "metadata": {},
   "source": [
    "input:1, output=5, kernal size=3"
   ]
  },
  {
   "cell_type": "code",
   "execution_count": 154,
   "id": "4673b97f",
   "metadata": {},
   "outputs": [
    {
     "name": "stdout",
     "output_type": "stream",
     "text": [
      "Conv2d(1, 5, kernel_size=(3, 3), stride=(1, 1), padding=(1, 1))\n"
     ]
    },
    {
     "data": {
      "text/plain": [
       "[Parameter containing:\n",
       " tensor([[[[ 0.2241,  0.2437, -0.3154],\n",
       "           [ 0.2407,  0.1092, -0.3015],\n",
       "           [ 0.1053, -0.3156, -0.2122]]],\n",
       " \n",
       " \n",
       "         [[[-0.1513, -0.0080, -0.1073],\n",
       "           [ 0.1416, -0.2294,  0.2691],\n",
       "           [ 0.2892,  0.3250, -0.0160]]],\n",
       " \n",
       " \n",
       "         [[[-0.1865,  0.1786,  0.0892],\n",
       "           [ 0.1467, -0.1850,  0.1242],\n",
       "           [-0.1304, -0.2910,  0.3272]]],\n",
       " \n",
       " \n",
       "         [[[-0.2089,  0.2714, -0.1249],\n",
       "           [ 0.2486, -0.0919,  0.3216],\n",
       "           [-0.1027, -0.0497,  0.2971]]],\n",
       " \n",
       " \n",
       "         [[[-0.0241,  0.0042, -0.2703],\n",
       "           [-0.3049,  0.1254, -0.2169],\n",
       "           [-0.0236,  0.1857,  0.3078]]]], requires_grad=True),\n",
       " Parameter containing:\n",
       " tensor([-0.2031,  0.1233, -0.2889,  0.2512,  0.0757], requires_grad=True)]"
      ]
     },
     "execution_count": 154,
     "metadata": {},
     "output_type": "execute_result"
    }
   ],
   "source": [
    "con2d_i1_o5_k3 = nn.Conv2d(in_channels=1, out_channels=5, kernel_size=3,padding=1)\n",
    "\n",
    "print(con2d_i1_o5_k3)\n",
    "list(con2d_i1_o5_k3.parameters())"
   ]
  },
  {
   "cell_type": "code",
   "execution_count": 221,
   "id": "b2fdd49a",
   "metadata": {},
   "outputs": [
    {
     "name": "stdout",
     "output_type": "stream",
     "text": [
      "Conv2d(2, 5, kernel_size=(3, 3), stride=(1, 1), padding=(1, 1))\n",
      "torch.Size([5, 2, 3, 3])\n"
     ]
    },
    {
     "data": {
      "text/plain": [
       "[Parameter containing:\n",
       " tensor([[[[ 4.4655e-02,  1.9793e-01,  2.2468e-01],\n",
       "           [-1.6245e-01, -2.3141e-01,  5.2867e-02],\n",
       "           [-1.2500e-01, -2.1740e-01, -1.4744e-01]],\n",
       " \n",
       "          [[ 1.5725e-01,  1.7965e-02,  2.9961e-02],\n",
       "           [ 3.6406e-02,  9.8333e-02,  6.7898e-02],\n",
       "           [-4.7162e-02,  7.7042e-02,  1.1485e-01]]],\n",
       " \n",
       " \n",
       "         [[[-1.4642e-01,  2.0376e-01, -2.0212e-01],\n",
       "           [-3.2925e-02, -3.4269e-02, -9.8652e-02],\n",
       "           [ 8.6257e-02,  1.4532e-01,  4.8450e-02]],\n",
       " \n",
       "          [[ 8.0446e-02, -2.7109e-02,  1.6744e-01],\n",
       "           [-2.0392e-01, -2.4937e-02,  1.1549e-01],\n",
       "           [ 3.8359e-02, -2.1064e-01, -1.2602e-01]]],\n",
       " \n",
       " \n",
       "         [[[ 1.5696e-01,  2.1521e-01,  1.7106e-01],\n",
       "           [ 2.4462e-02, -2.0545e-01,  2.2059e-02],\n",
       "           [ 1.9572e-01,  4.5236e-02,  2.2207e-01]],\n",
       " \n",
       "          [[ 1.6846e-01, -1.6003e-01,  4.3262e-02],\n",
       "           [ 1.2589e-01,  6.8751e-02,  8.0607e-02],\n",
       "           [ 6.3059e-02,  3.7168e-02,  1.9403e-01]]],\n",
       " \n",
       " \n",
       "         [[[-2.2169e-01, -1.8411e-01, -1.8123e-01],\n",
       "           [ 5.9857e-03,  3.3290e-02, -1.1015e-01],\n",
       "           [-2.0790e-01, -8.6426e-02, -1.8819e-01]],\n",
       " \n",
       "          [[-1.7291e-01,  1.5101e-01, -1.3044e-01],\n",
       "           [-1.1428e-01,  1.6917e-01,  2.0154e-02],\n",
       "           [-1.1782e-01, -1.6604e-01,  1.5238e-01]]],\n",
       " \n",
       " \n",
       "         [[[ 1.0992e-01,  4.2714e-02, -5.5382e-03],\n",
       "           [-5.4042e-02,  1.3129e-01,  2.0466e-01],\n",
       "           [ 1.9782e-01,  2.8188e-02, -1.4297e-01]],\n",
       " \n",
       "          [[-8.1874e-02,  2.1862e-01,  2.2870e-01],\n",
       "           [-2.1209e-01, -2.0655e-01, -2.1285e-01],\n",
       "           [ 1.6519e-01,  1.3680e-01, -3.7462e-05]]]], requires_grad=True),\n",
       " Parameter containing:\n",
       " tensor([ 0.0183,  0.0103,  0.0734,  0.1263, -0.1351], requires_grad=True)]"
      ]
     },
     "execution_count": 221,
     "metadata": {},
     "output_type": "execute_result"
    }
   ],
   "source": [
    "# input:2, output=5, kernal size=3 #\n",
    "con2d_i2_o5_k3 = nn.Conv2d(in_channels=2, out_channels=5, kernel_size=3,padding=1)\n",
    "\n",
    "print(con2d_i2_o5_k3)\n",
    "print(con2d_i2_o5_k3.weight.shape)\n",
    "list(con2d_i2_o5_k3.parameters())\n"
   ]
  },
  {
   "cell_type": "code",
   "execution_count": 156,
   "id": "d2bd7562",
   "metadata": {},
   "outputs": [],
   "source": [
    "def con2d_params(in_channels=1, out_channels=1, kernel_size=1, **kwargs):\n",
    "    out = nn.Conv2d(in_channels=in_channels, out_channels=out_channels, kernel_size=kernel_size)\n",
    "\n",
    "    print(out)\n",
    "    print(list(out.parameters()))"
   ]
  },
  {
   "cell_type": "code",
   "execution_count": 157,
   "id": "d0b970fc",
   "metadata": {},
   "outputs": [
    {
     "name": "stdout",
     "output_type": "stream",
     "text": [
      "Conv2d(1, 5, kernel_size=(3, 3), stride=(1, 1))\n",
      "[Parameter containing:\n",
      "tensor([[[[ 0.1576, -0.0662, -0.0428],\n",
      "          [-0.0492, -0.0476,  0.1463],\n",
      "          [-0.1440,  0.0049, -0.0061]]],\n",
      "\n",
      "\n",
      "        [[[ 0.2075, -0.0832,  0.1744],\n",
      "          [-0.3109, -0.1999, -0.2606],\n",
      "          [-0.0051,  0.0075,  0.2991]]],\n",
      "\n",
      "\n",
      "        [[[-0.0805, -0.1200,  0.2162],\n",
      "          [ 0.1532, -0.2622,  0.2999],\n",
      "          [-0.1374,  0.1973,  0.2695]]],\n",
      "\n",
      "\n",
      "        [[[ 0.2020,  0.3210, -0.1790],\n",
      "          [-0.2120,  0.2185, -0.2269],\n",
      "          [ 0.3325,  0.0033,  0.1968]]],\n",
      "\n",
      "\n",
      "        [[[-0.0107, -0.0893, -0.2542],\n",
      "          [-0.1497, -0.2868, -0.1826],\n",
      "          [-0.0451,  0.3084,  0.1300]]]], requires_grad=True), Parameter containing:\n",
      "tensor([ 0.2322,  0.1379, -0.1850, -0.2410,  0.0306], requires_grad=True)]\n"
     ]
    }
   ],
   "source": [
    "con2d_params(1,5, 3)"
   ]
  },
  {
   "cell_type": "code",
   "execution_count": 160,
   "id": "91ddcfa7",
   "metadata": {},
   "outputs": [
    {
     "data": {
      "text/plain": [
       "[Parameter containing:\n",
       " tensor([[[[-0.5368]]]], requires_grad=True),\n",
       " Parameter containing:\n",
       " tensor([-0.0971], requires_grad=True)]"
      ]
     },
     "execution_count": 160,
     "metadata": {},
     "output_type": "execute_result"
    }
   ],
   "source": [
    "con2d_t = nn.Conv2d(in_channels=1, out_channels=1, kernel_size=1,padding=1)\n",
    "\n",
    "list(con2d_t.parameters())"
   ]
  },
  {
   "cell_type": "code",
   "execution_count": 165,
   "id": "62f6a304",
   "metadata": {},
   "outputs": [
    {
     "data": {
      "text/plain": [
       "[('weight',\n",
       "  Parameter containing:\n",
       "  tensor([[[[-0.5368]]]], requires_grad=True)),\n",
       " ('bias',\n",
       "  Parameter containing:\n",
       "  tensor([-0.0971], requires_grad=True))]"
      ]
     },
     "execution_count": 165,
     "metadata": {},
     "output_type": "execute_result"
    }
   ],
   "source": [
    "list(con2d_t.named_parameters())"
   ]
  },
  {
   "cell_type": "code",
   "execution_count": null,
   "id": "754ed89d",
   "metadata": {},
   "outputs": [],
   "source": []
  },
  {
   "cell_type": "code",
   "execution_count": 166,
   "id": "097347ed",
   "metadata": {},
   "outputs": [],
   "source": [
    "broken_cnn = nn.Sequential(\n",
    "    nn.Conv2d(1,30, kernel_size=3, padding=1),\n",
    "    nn.ReLU(),\n",
    "    nn.Conv2d(30,10, kernel_size=3, padding=1)\n",
    ")"
   ]
  },
  {
   "cell_type": "code",
   "execution_count": 167,
   "id": "60ac50bf",
   "metadata": {},
   "outputs": [
    {
     "data": {
      "text/plain": [
       "Sequential(\n",
       "  (0): Conv2d(1, 30, kernel_size=(3, 3), stride=(1, 1), padding=(1, 1))\n",
       "  (1): ReLU()\n",
       "  (2): Conv2d(30, 10, kernel_size=(3, 3), stride=(1, 1), padding=(1, 1))\n",
       ")"
      ]
     },
     "execution_count": 167,
     "metadata": {},
     "output_type": "execute_result"
    }
   ],
   "source": [
    "broken_cnn"
   ]
  },
  {
   "cell_type": "code",
   "execution_count": 168,
   "id": "6b8a5281",
   "metadata": {},
   "outputs": [
    {
     "data": {
      "text/plain": [
       "torch.Size([16, 1, 28, 28])"
      ]
     },
     "execution_count": 168,
     "metadata": {},
     "output_type": "execute_result"
    }
   ],
   "source": [
    "xb.shape"
   ]
  },
  {
   "cell_type": "code",
   "execution_count": 169,
   "id": "447a322a",
   "metadata": {},
   "outputs": [
    {
     "data": {
      "text/plain": [
       "torch.Size([16, 10, 28, 28])"
      ]
     },
     "execution_count": 169,
     "metadata": {},
     "output_type": "execute_result"
    }
   ],
   "source": [
    "broken_cnn(xb).shape"
   ]
  },
  {
   "cell_type": "code",
   "execution_count": 178,
   "id": "b15cd145",
   "metadata": {},
   "outputs": [],
   "source": [
    "def conv(ni,nf, ks=3, stride=2, act=True):\n",
    "    res = nn.Conv2d(ni, nf, stride=stride, kernel_size=ks, padding=ks//2)\n",
    "    if act: res = nn.Sequential(res, nn.ReLU())\n",
    "    return res"
   ]
  },
  {
   "cell_type": "markdown",
   "id": "20d5c43a",
   "metadata": {},
   "source": [
    "Refactoring parts of your neural networks like this makes it much less likely you'll get errors due to inconsistencies in your architectures, and makes it more obvious to the reader which parts of your layers are actually changing."
   ]
  },
  {
   "cell_type": "code",
   "execution_count": 190,
   "id": "a245ee46",
   "metadata": {},
   "outputs": [
    {
     "data": {
      "text/plain": [
       "Sequential(\n",
       "  (0): Sequential(\n",
       "    (0): Conv2d(1, 4, kernel_size=(3, 3), stride=(2, 2), padding=(1, 1))\n",
       "    (1): ReLU()\n",
       "  )\n",
       "  (1): Sequential(\n",
       "    (0): Conv2d(4, 8, kernel_size=(3, 3), stride=(2, 2), padding=(1, 1))\n",
       "    (1): ReLU()\n",
       "  )\n",
       "  (2): Sequential(\n",
       "    (0): Conv2d(8, 16, kernel_size=(3, 3), stride=(2, 2), padding=(1, 1))\n",
       "    (1): ReLU()\n",
       "  )\n",
       "  (3): Sequential(\n",
       "    (0): Conv2d(16, 16, kernel_size=(3, 3), stride=(2, 2), padding=(1, 1))\n",
       "    (1): ReLU()\n",
       "  )\n",
       "  (4): Conv2d(16, 10, kernel_size=(3, 3), stride=(2, 2), padding=(1, 1))\n",
       "  (5): Flatten(start_dim=1, end_dim=-1)\n",
       ")"
      ]
     },
     "execution_count": 190,
     "metadata": {},
     "output_type": "execute_result"
    }
   ],
   "source": [
    "simple_cnn = nn.Sequential(\n",
    "    conv(1 ,4),            #14x14\n",
    "    conv(4 ,8),            #7x7\n",
    "    conv(8 ,16),           #4x4\n",
    "    conv(16,16),           #2x2\n",
    "    conv(16,10, act=False), #1x1\n",
    "    nn.Flatten(),\n",
    ")\n",
    "\n",
    "simple_cnn"
   ]
  },
  {
   "cell_type": "code",
   "execution_count": 191,
   "id": "cef78ec4",
   "metadata": {},
   "outputs": [
    {
     "data": {
      "text/plain": [
       "(torch.Size([16, 1, 28, 28]), torch.Size([16, 10]))"
      ]
     },
     "execution_count": 191,
     "metadata": {},
     "output_type": "execute_result"
    }
   ],
   "source": [
    "xb.shape, simple_cnn(xb).shape"
   ]
  },
  {
   "cell_type": "code",
   "execution_count": 202,
   "id": "91307d8f",
   "metadata": {},
   "outputs": [],
   "source": [
    "x_imgs = x_train.view(-1,1,28,28)\n",
    "xv_imgs = x_valid.view(-1,1,28,28)\n",
    "train_ds,valid_ds = Dataset(x_imgs, y_train), Dataset(xv_imgs, y_valid)"
   ]
  },
  {
   "cell_type": "code",
   "execution_count": 213,
   "id": "63840925",
   "metadata": {},
   "outputs": [],
   "source": [
    "# for apple silicone #\n",
    "# def_device = 'mps' if torch.backends.mps.is_available() else 'cuda' if torch.cuda.is_available() else 'cpu'\n",
    "\n",
    "def_device = 'cuda' if torch.cuda.is_available() else 'cpu'\n",
    "\n",
    "def to_device(x, device=def_device):\n",
    "    if isinstance(x, torch.Tensor): return x.to(device)\n",
    "    if isinstance(x, Mapping): return {k:v.to(device) for k,v in x.items()}\n",
    "    return type(x)(to_device(o, device) for o in x)\n",
    "\n",
    "def collate_device(b): return to_device(default_collate(b))"
   ]
  },
  {
   "cell_type": "code",
   "execution_count": 216,
   "id": "4559ee87",
   "metadata": {},
   "outputs": [],
   "source": [
    "from torch import optim\n",
    "\n",
    "bs = 64       # 256\n",
    "lr = 0.4\n",
    "\n",
    "train_dl,valid_dl = get_dls(train_ds, valid_ds, bs, collate_fn=collate_device)\n",
    "opt = optim.SGD(simple_cnn.parameters(), lr=lr)"
   ]
  },
  {
   "cell_type": "code",
   "execution_count": 217,
   "id": "f9b263b5",
   "metadata": {},
   "outputs": [
    {
     "name": "stdout",
     "output_type": "stream",
     "text": [
      "0 0.6545217317581177 0.8108\n",
      "1 0.18389222912788392 0.9445\n",
      "2 0.1362841035425663 0.9604\n",
      "3 0.9281607850074768 0.7391\n",
      "4 0.09954761102050542 0.9754\n"
     ]
    }
   ],
   "source": [
    "loss,acc = fit(5, simple_cnn.to(def_device), F.cross_entropy, opt, train_dl, valid_dl)"
   ]
  },
  {
   "cell_type": "code",
   "execution_count": 218,
   "id": "309a50af",
   "metadata": {},
   "outputs": [
    {
     "name": "stdout",
     "output_type": "stream",
     "text": [
      "0 0.07394927841536701 0.9802\n",
      "1 0.07200952671542764 0.9798\n",
      "2 0.07163704972676933 0.9807\n",
      "3 0.06970393598303198 0.9795\n",
      "4 0.07240419335849584 0.9804\n"
     ]
    }
   ],
   "source": [
    "opt = optim.SGD(simple_cnn.parameters(), lr=lr/4)\n",
    "loss,acc = fit(5, simple_cnn.to(def_device), F.cross_entropy, opt, train_dl, valid_dl)"
   ]
  },
  {
   "cell_type": "markdown",
   "id": "2d930fdf",
   "metadata": {},
   "source": [
    "## Understanding Convolution Arithmetic"
   ]
  },
  {
   "cell_type": "markdown",
   "id": "f7fe5279",
   "metadata": {},
   "source": [
    "We have 1 input channel, 4 output channels, and a 3×3 kernel."
   ]
  },
  {
   "cell_type": "code",
   "execution_count": 219,
   "id": "72e5a7ca",
   "metadata": {},
   "outputs": [
    {
     "data": {
      "text/plain": [
       "Conv2d(1, 4, kernel_size=(3, 3), stride=(2, 2), padding=(1, 1))"
      ]
     },
     "execution_count": 219,
     "metadata": {},
     "output_type": "execute_result"
    }
   ],
   "source": [
    "simple_cnn[0][0]"
   ]
  },
  {
   "cell_type": "code",
   "execution_count": 220,
   "id": "ca9fe053",
   "metadata": {},
   "outputs": [
    {
     "data": {
      "text/plain": [
       "torch.Size([4, 1, 3, 3])"
      ]
     },
     "execution_count": 220,
     "metadata": {},
     "output_type": "execute_result"
    }
   ],
   "source": [
    "conv1 = simple_cnn[0][0]\n",
    "conv1.weight.shape"
   ]
  },
  {
   "cell_type": "code",
   "execution_count": 223,
   "id": "4dca8bce",
   "metadata": {},
   "outputs": [
    {
     "data": {
      "text/plain": [
       "torch.Size([4])"
      ]
     },
     "execution_count": 223,
     "metadata": {},
     "output_type": "execute_result"
    }
   ],
   "source": [
    "conv1.bias.shape"
   ]
  },
  {
   "cell_type": "markdown",
   "id": "575c05a4",
   "metadata": {},
   "source": [
    "## Color Images\n",
    "A colour picture is a rank-3 tensor:"
   ]
  },
  {
   "cell_type": "code",
   "execution_count": 225,
   "id": "83393b76",
   "metadata": {},
   "outputs": [],
   "source": [
    "from torchvision.io import read_image"
   ]
  },
  {
   "cell_type": "code",
   "execution_count": 226,
   "id": "7ea5cd85",
   "metadata": {},
   "outputs": [
    {
     "data": {
      "text/plain": [
       "torch.Size([3, 1000, 846])"
      ]
     },
     "execution_count": 226,
     "metadata": {},
     "output_type": "execute_result"
    }
   ],
   "source": [
    "im = read_image(\"D:/local disk(source)/coding/DEEP LEARNING/Fastai 22 Stable Diffusion/v3/course22p2-master/nbs/images/grizzly.jpg\")\n",
    "im.shape"
   ]
  },
  {
   "cell_type": "code",
   "execution_count": 229,
   "id": "ed0b3bc5",
   "metadata": {},
   "outputs": [
    {
     "data": {
      "text/plain": [
       "torch.Size([1000, 846, 3])"
      ]
     },
     "execution_count": 229,
     "metadata": {},
     "output_type": "execute_result"
    }
   ],
   "source": [
    "im.permute(1,2,0).shape"
   ]
  },
  {
   "cell_type": "code",
   "execution_count": 231,
   "id": "71cf5879",
   "metadata": {},
   "outputs": [
    {
     "data": {
      "image/png": "[encoded data removed]",
      "text/plain": [
       "<Figure size 432x288 with 1 Axes>"
      ]
     },
     "metadata": {},
     "output_type": "display_data"
    }
   ],
   "source": [
    "show_image(im.permute(1,2,0));"
   ]
  },
  {
   "cell_type": "code",
   "execution_count": 232,
   "id": "cc4767c2",
   "metadata": {},
   "outputs": [
    {
     "data": {
      "image/png": "[encoded data removed]",
      "text/plain": [
       "<Figure size 432x288 with 3 Axes>"
      ]
     },
     "metadata": {},
     "output_type": "display_data"
    }
   ],
   "source": [
    "_,axs = plt.subplots(1,3)\n",
    "for bear,ax,color in zip(im,axs,('Reds','Greens','Blues')): show_image(255-bear, ax=ax, cmap=color)"
   ]
  },
  {
   "cell_type": "code",
   "execution_count": null,
   "id": "83d44f67",
   "metadata": {},
   "outputs": [],
   "source": []
  }
 ],
 "metadata": {
  "kernelspec": {
   "display_name": "Python 3",
   "language": "python",
   "name": "python3"
  },
  "language_info": {
   "codemirror_mode": {
    "name": "ipython",
    "version": 3
   },
   "file_extension": ".py",
   "mimetype": "text/x-python",
   "name": "python",
   "nbconvert_exporter": "python",
   "pygments_lexer": "ipython3",
   "version": "3.8.8"
  }
 },
 "nbformat": 4,
 "nbformat_minor": 5
}

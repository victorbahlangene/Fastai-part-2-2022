{
 "cells": [
  {
   "cell_type": "markdown",
   "id": "188c4455",
   "metadata": {},
   "source": [
    "# First-Class Funtions"
   ]
  },
  {
   "cell_type": "code",
   "execution_count": 1,
   "id": "e96cb85a",
   "metadata": {},
   "outputs": [
    {
     "name": "stdout",
     "output_type": "stream",
     "text": [
      "<function square at 0x000000563FA38C10>\n",
      "25\n"
     ]
    }
   ],
   "source": [
    "def square(x):\n",
    "    return x*x\n",
    "\n",
    "f = square(5)\n",
    "print(square)\n",
    "print(f)"
   ]
  },
  {
   "cell_type": "code",
   "execution_count": 2,
   "id": "7178cdac",
   "metadata": {},
   "outputs": [
    {
     "name": "stdout",
     "output_type": "stream",
     "text": [
      "<function square at 0x000000563FA38A60>\n",
      "<function square at 0x000000563FA38A60>\n"
     ]
    }
   ],
   "source": [
    "def square(x):\n",
    "    return x*x\n",
    "\n",
    "f = square\n",
    "print(square)\n",
    "print(f)"
   ]
  },
  {
   "cell_type": "code",
   "execution_count": 3,
   "id": "0b6b753a",
   "metadata": {},
   "outputs": [
    {
     "name": "stdout",
     "output_type": "stream",
     "text": [
      "<function square at 0x000000563FA38160>\n",
      "25\n"
     ]
    }
   ],
   "source": [
    "def square(x):\n",
    "    return x*x\n",
    "\n",
    "f = square\n",
    "\n",
    "print(square)\n",
    "print(f(5))"
   ]
  },
  {
   "cell_type": "code",
   "execution_count": 4,
   "id": "7b1a67ff",
   "metadata": {},
   "outputs": [
    {
     "data": {
      "text/plain": [
       "[1, 4, 9, 16, 25]"
      ]
     },
     "execution_count": 4,
     "metadata": {},
     "output_type": "execute_result"
    }
   ],
   "source": [
    "def my_map(func, arg_list):\n",
    "    result = []\n",
    "    for i in arg_list: result.append(func(i))\n",
    "    return result\n",
    "\n",
    "squares = my_map(square, [1,2,3,4,5])\n",
    "\n",
    "squares"
   ]
  },
  {
   "cell_type": "code",
   "execution_count": 5,
   "id": "50b9822c",
   "metadata": {},
   "outputs": [],
   "source": [
    "def cube(x): return x*x*x"
   ]
  },
  {
   "cell_type": "code",
   "execution_count": 6,
   "id": "64920327",
   "metadata": {},
   "outputs": [
    {
     "data": {
      "text/plain": [
       "[1, 8, 27, 64, 125]"
      ]
     },
     "execution_count": 6,
     "metadata": {},
     "output_type": "execute_result"
    }
   ],
   "source": [
    "my_map(cube, range(1,6))"
   ]
  },
  {
   "cell_type": "code",
   "execution_count": 7,
   "id": "497f50c3",
   "metadata": {},
   "outputs": [],
   "source": [
    "def logger(msg):\n",
    "    def log_message(): print(f\"Log: {msg}\")\n",
    "    return log_message"
   ]
  },
  {
   "cell_type": "code",
   "execution_count": 8,
   "id": "87595778",
   "metadata": {},
   "outputs": [
    {
     "data": {
      "text/plain": [
       "<function __main__.logger.<locals>.log_message()>"
      ]
     },
     "execution_count": 8,
     "metadata": {},
     "output_type": "execute_result"
    }
   ],
   "source": [
    "logger(\"Hi\")"
   ]
  },
  {
   "cell_type": "code",
   "execution_count": 9,
   "id": "769aed34",
   "metadata": {},
   "outputs": [
    {
     "name": "stdout",
     "output_type": "stream",
     "text": [
      "Log: Hi\n"
     ]
    }
   ],
   "source": [
    "log_hi = logger(\"Hi\")\n",
    "log_hi()"
   ]
  },
  {
   "cell_type": "code",
   "execution_count": 10,
   "id": "35bbce68",
   "metadata": {},
   "outputs": [],
   "source": [
    "def html_tag(tag):\n",
    "    def wrap_text(msg): print(\"<{0}>{1}<{0}>\".format(tag,msg))\n",
    "    return wrap_text"
   ]
  },
  {
   "cell_type": "code",
   "execution_count": 11,
   "id": "c3073fb6",
   "metadata": {},
   "outputs": [
    {
     "data": {
      "text/plain": [
       "<function __main__.html_tag.<locals>.wrap_text(msg)>"
      ]
     },
     "execution_count": 11,
     "metadata": {},
     "output_type": "execute_result"
    }
   ],
   "source": [
    "html_tag(\"h1\")"
   ]
  },
  {
   "cell_type": "code",
   "execution_count": 12,
   "id": "31896fbe",
   "metadata": {},
   "outputs": [
    {
     "data": {
      "text/plain": [
       "<function __main__.html_tag.<locals>.wrap_text(msg)>"
      ]
     },
     "execution_count": 12,
     "metadata": {},
     "output_type": "execute_result"
    }
   ],
   "source": [
    "print_h1 = html_tag(\"h1\")\n",
    "print_h1"
   ]
  },
  {
   "cell_type": "code",
   "execution_count": 13,
   "id": "6fb2a5ef",
   "metadata": {},
   "outputs": [
    {
     "name": "stdout",
     "output_type": "stream",
     "text": [
      "<h1>Test<h1>\n"
     ]
    }
   ],
   "source": [
    "print_h1(\"Test\")"
   ]
  },
  {
   "cell_type": "code",
   "execution_count": 14,
   "id": "c72b8e97",
   "metadata": {},
   "outputs": [
    {
     "name": "stdout",
     "output_type": "stream",
     "text": [
      "<h1>Another Headline!<h1>\n"
     ]
    }
   ],
   "source": [
    "print_h1(\"Another Headline!\")"
   ]
  },
  {
   "cell_type": "code",
   "execution_count": 15,
   "id": "71526899",
   "metadata": {},
   "outputs": [
    {
     "name": "stdout",
     "output_type": "stream",
     "text": [
      "<p>Test Paragraph!<p>\n"
     ]
    }
   ],
   "source": [
    "print_p = html_tag(\"p\")\n",
    "print_p(\"Test Paragraph!\")"
   ]
  },
  {
   "cell_type": "markdown",
   "id": "0790e48a",
   "metadata": {},
   "source": [
    "# Closures"
   ]
  },
  {
   "cell_type": "code",
   "execution_count": 16,
   "id": "f83f9a52",
   "metadata": {},
   "outputs": [],
   "source": [
    "def outer_func():\n",
    "    message = \"Hi\"\n",
    "    \n",
    "    def inner_func():\n",
    "        print(message)\n",
    "        \n",
    "    return inner_func()"
   ]
  },
  {
   "cell_type": "code",
   "execution_count": 17,
   "id": "ae383a14",
   "metadata": {},
   "outputs": [
    {
     "name": "stdout",
     "output_type": "stream",
     "text": [
      "Hi\n"
     ]
    }
   ],
   "source": [
    "outer_func()"
   ]
  },
  {
   "cell_type": "code",
   "execution_count": 18,
   "id": "a7c43850",
   "metadata": {},
   "outputs": [],
   "source": [
    "def outer_func():\n",
    "    message = \"Hi\"\n",
    "    \n",
    "    def inner_func():\n",
    "        print(message)\n",
    "        \n",
    "    return inner_func"
   ]
  },
  {
   "cell_type": "code",
   "execution_count": 19,
   "id": "d79f8198",
   "metadata": {},
   "outputs": [
    {
     "data": {
      "text/plain": [
       "<function __main__.outer_func.<locals>.inner_func()>"
      ]
     },
     "execution_count": 19,
     "metadata": {},
     "output_type": "execute_result"
    }
   ],
   "source": [
    "outer_func()"
   ]
  },
  {
   "cell_type": "code",
   "execution_count": 20,
   "id": "f3858373",
   "metadata": {},
   "outputs": [
    {
     "data": {
      "text/plain": [
       "<function __main__.outer_func.<locals>.inner_func()>"
      ]
     },
     "execution_count": 20,
     "metadata": {},
     "output_type": "execute_result"
    }
   ],
   "source": [
    "my_func = outer_func()\n",
    "my_func"
   ]
  },
  {
   "cell_type": "code",
   "execution_count": 21,
   "id": "7afc3082",
   "metadata": {},
   "outputs": [
    {
     "data": {
      "text/plain": [
       "'inner_func'"
      ]
     },
     "execution_count": 21,
     "metadata": {},
     "output_type": "execute_result"
    }
   ],
   "source": [
    "my_func.__name__"
   ]
  },
  {
   "cell_type": "code",
   "execution_count": 22,
   "id": "b347fa35",
   "metadata": {
    "scrolled": true
   },
   "outputs": [
    {
     "name": "stdout",
     "output_type": "stream",
     "text": [
      "Hi\n"
     ]
    }
   ],
   "source": [
    "my_func()"
   ]
  },
  {
   "cell_type": "code",
   "execution_count": 23,
   "id": "58abe952",
   "metadata": {},
   "outputs": [],
   "source": [
    "def outer_func(msg):\n",
    "    message = msg\n",
    "    \n",
    "    def inner_func():\n",
    "        print(message)\n",
    "        \n",
    "    return inner_func"
   ]
  },
  {
   "cell_type": "code",
   "execution_count": 24,
   "id": "f0aee6d0",
   "metadata": {},
   "outputs": [],
   "source": [
    "hi_func = outer_func(\"Hi\")\n",
    "hello_func = outer_func(\"Hello\")"
   ]
  },
  {
   "cell_type": "code",
   "execution_count": 25,
   "id": "30be7f23",
   "metadata": {},
   "outputs": [
    {
     "data": {
      "text/plain": [
       "'inner_func'"
      ]
     },
     "execution_count": 25,
     "metadata": {},
     "output_type": "execute_result"
    }
   ],
   "source": [
    "hi_func.__name__"
   ]
  },
  {
   "cell_type": "code",
   "execution_count": 26,
   "id": "bb532b28",
   "metadata": {},
   "outputs": [
    {
     "name": "stdout",
     "output_type": "stream",
     "text": [
      "Hi\n",
      "Hi\n",
      "Hi\n"
     ]
    }
   ],
   "source": [
    "hi_func()\n",
    "hi_func()\n",
    "hi_func()"
   ]
  },
  {
   "cell_type": "code",
   "execution_count": 27,
   "id": "a2f7e99d",
   "metadata": {},
   "outputs": [
    {
     "name": "stdout",
     "output_type": "stream",
     "text": [
      "Hello\n"
     ]
    }
   ],
   "source": [
    "hello_func()"
   ]
  },
  {
   "cell_type": "code",
   "execution_count": null,
   "id": "e5010ab1",
   "metadata": {},
   "outputs": [],
   "source": []
  },
  {
   "cell_type": "markdown",
   "id": "890f1e2a",
   "metadata": {},
   "source": [
    "# Decorators"
   ]
  },
  {
   "cell_type": "markdown",
   "id": "2c873baf",
   "metadata": {},
   "source": [
    "```python\n",
    "def decorator_function(message):\n",
    "    def wrapper_function():\n",
    "        print(message)\n",
    "    return wrapper_function\n",
    "```"
   ]
  },
  {
   "cell_type": "code",
   "execution_count": 28,
   "id": "5cc66086",
   "metadata": {},
   "outputs": [],
   "source": [
    "def decorator_function(original_function):\n",
    "    def wrapper_function(): return original_function()\n",
    "    return wrapper_function"
   ]
  },
  {
   "cell_type": "code",
   "execution_count": 29,
   "id": "c6624cef",
   "metadata": {},
   "outputs": [],
   "source": [
    "def display(): print(\"display function ran\")"
   ]
  },
  {
   "cell_type": "code",
   "execution_count": 30,
   "id": "717ad9ab",
   "metadata": {},
   "outputs": [
    {
     "data": {
      "text/plain": [
       "<function __main__.decorator_function.<locals>.wrapper_function()>"
      ]
     },
     "execution_count": 30,
     "metadata": {},
     "output_type": "execute_result"
    }
   ],
   "source": [
    "decorator_function(display)"
   ]
  },
  {
   "cell_type": "code",
   "execution_count": 31,
   "id": "58f5eed4",
   "metadata": {},
   "outputs": [
    {
     "name": "stdout",
     "output_type": "stream",
     "text": [
      "display function ran\n"
     ]
    }
   ],
   "source": [
    "decorated_display = decorator_function(display)\n",
    "decorated_display()"
   ]
  },
  {
   "cell_type": "code",
   "execution_count": 32,
   "id": "892dbf81",
   "metadata": {},
   "outputs": [
    {
     "name": "stdout",
     "output_type": "stream",
     "text": [
      "wrapper executed this before: DISPLAY function\n",
      "display function ran\n"
     ]
    }
   ],
   "source": [
    "def decorator_function(original_function):\n",
    "    def wrapper_function(): \n",
    "        print(\"wrapper executed this before: {} function\".format(original_function.__name__.upper()))\n",
    "        return original_function()\n",
    "    return wrapper_function\n",
    "\n",
    "decorated_display = decorator_function(display)\n",
    "decorated_display()"
   ]
  },
  {
   "cell_type": "code",
   "execution_count": 33,
   "id": "b062a293",
   "metadata": {},
   "outputs": [],
   "source": [
    "@decorator_function\n",
    "def display(): print(\"display function ran\")\n",
    "    \n",
    "# this is similar to #\n",
    "# display = decorator_function(display)"
   ]
  },
  {
   "cell_type": "code",
   "execution_count": 34,
   "id": "3f878c63",
   "metadata": {},
   "outputs": [
    {
     "name": "stdout",
     "output_type": "stream",
     "text": [
      "wrapper executed this before: DISPLAY function\n",
      "display function ran\n"
     ]
    }
   ],
   "source": [
    "display()"
   ]
  },
  {
   "cell_type": "code",
   "execution_count": 35,
   "id": "7f1112d7",
   "metadata": {},
   "outputs": [
    {
     "name": "stdout",
     "output_type": "stream",
     "text": [
      "display_info ran with arguments (John, 25)\n"
     ]
    }
   ],
   "source": [
    "def decorator_function(original_function):\n",
    "    def wrapper_function(): \n",
    "        print(\"wrapper executed this before: {} function\".format(original_function.__name__.upper()))\n",
    "        return original_function()\n",
    "    return wrapper_function\n",
    "\n",
    "@decorator_function\n",
    "def display(): print(\"display function ran\")\n",
    "    \n",
    "\n",
    "def display_info(name, age): print(\"display_info ran with arguments ({}, {})\".format(name, age))\n",
    "    \n",
    "display_info(\"John\", 25)"
   ]
  },
  {
   "cell_type": "code",
   "execution_count": 61,
   "id": "6874d68b",
   "metadata": {},
   "outputs": [
    {
     "ename": "TypeError",
     "evalue": "wrapper_function() takes 0 positional arguments but 2 were given",
     "output_type": "error",
     "traceback": [
      "\u001b[1;31m---------------------------------------------------------------------------\u001b[0m",
      "\u001b[1;31mTypeError\u001b[0m                                 Traceback (most recent call last)",
      "\u001b[1;32m<ipython-input-61-387e4ac83cb7>\u001b[0m in \u001b[0;36m<module>\u001b[1;34m\u001b[0m\n\u001b[0;32m     11\u001b[0m \u001b[1;32mdef\u001b[0m \u001b[0mdisplay_info\u001b[0m\u001b[1;33m(\u001b[0m\u001b[0mname\u001b[0m\u001b[1;33m,\u001b[0m \u001b[0mage\u001b[0m\u001b[1;33m)\u001b[0m\u001b[1;33m:\u001b[0m \u001b[0mprint\u001b[0m\u001b[1;33m(\u001b[0m\u001b[1;34m\"display_info ran with arguments ({}, {})\"\u001b[0m\u001b[1;33m.\u001b[0m\u001b[0mformat\u001b[0m\u001b[1;33m(\u001b[0m\u001b[0mname\u001b[0m\u001b[1;33m,\u001b[0m \u001b[0mage\u001b[0m\u001b[1;33m)\u001b[0m\u001b[1;33m)\u001b[0m\u001b[1;33m\u001b[0m\u001b[1;33m\u001b[0m\u001b[0m\n\u001b[0;32m     12\u001b[0m \u001b[1;33m\u001b[0m\u001b[0m\n\u001b[1;32m---> 13\u001b[1;33m \u001b[0mdisplay_info\u001b[0m\u001b[1;33m(\u001b[0m\u001b[1;34m\"John\"\u001b[0m\u001b[1;33m,\u001b[0m \u001b[1;36m25\u001b[0m\u001b[1;33m)\u001b[0m\u001b[1;33m\u001b[0m\u001b[1;33m\u001b[0m\u001b[0m\n\u001b[0m",
      "\u001b[1;31mTypeError\u001b[0m: wrapper_function() takes 0 positional arguments but 2 were given"
     ]
    }
   ],
   "source": [
    "def decorator_function(original_function):\n",
    "    def wrapper_function(): \n",
    "        print(\"wrapper executed this before: {} function\".format(original_function.__name__.upper()))\n",
    "        return original_function()\n",
    "    return wrapper_function\n",
    "\n",
    "@decorator_function\n",
    "def display(): print(\"display function ran\")\n",
    "    \n",
    "@decorator_function\n",
    "def display_info(name, age): print(\"display_info ran with arguments ({}, {})\".format(name, age))\n",
    "    \n",
    "display_info(\"John\", 25)"
   ]
  },
  {
   "cell_type": "code",
   "execution_count": 36,
   "id": "7fc7d152",
   "metadata": {},
   "outputs": [
    {
     "name": "stdout",
     "output_type": "stream",
     "text": [
      "display_info ran with arguments (John, 25)\n",
      "None\n",
      "\n",
      "\n",
      "wrapper executed this before: DISPLAY_INFO function\n",
      "display_info ran with arguments (John, 25)\n"
     ]
    }
   ],
   "source": [
    "def decorator_function(original_function):\n",
    "    def wrapper_function(*args, **kwargs): \n",
    "        print(\"wrapper executed this before: {} function\".format(original_function.__name__.upper()))\n",
    "        return original_function(*args, **kwargs)\n",
    "    return wrapper_function\n",
    "\n",
    "@decorator_function\n",
    "def display(): print(\"display function ran\")\n",
    "    \n",
    "# display_info before the decorator #\n",
    "def display_info(name, age): print(\"display_info ran with arguments ({}, {})\".format(name, age))\n",
    "    \n",
    "print(display_info(\"John\", 25))\n",
    "print(\"\\n\")\n",
    "    \n",
    "@decorator_function\n",
    "def display_info(name, age): print(\"display_info ran with arguments ({}, {})\".format(name, age))\n",
    "    \n",
    "display_info(\"John\", 25)"
   ]
  },
  {
   "cell_type": "markdown",
   "id": "c9eaf0c3",
   "metadata": {},
   "source": [
    "using classes as decorators"
   ]
  },
  {
   "cell_type": "markdown",
   "id": "6458468f",
   "metadata": {},
   "source": [
    "object() is shorthand for **`object.__call__()`**"
   ]
  },
  {
   "cell_type": "code",
   "execution_count": 38,
   "id": "9fc02935",
   "metadata": {},
   "outputs": [],
   "source": [
    "class decorator_class(object):\n",
    "    def __init__(self, original_function): self.original_function = original_function\n",
    "        \n",
    "    def __call__(self, *args, **kwargs):\n",
    "        print(\"call method executed this before: {} function\".format(self.original_function.__name__.upper()))\n",
    "        return self.original_function(*args, **kwargs)"
   ]
  },
  {
   "cell_type": "code",
   "execution_count": 41,
   "id": "8d22b4aa",
   "metadata": {},
   "outputs": [],
   "source": [
    "def display_info(name, age): print(\"display_info ran with arguments ({}, {})\".format(name, age))"
   ]
  },
  {
   "cell_type": "code",
   "execution_count": 47,
   "id": "64194ca4",
   "metadata": {},
   "outputs": [
    {
     "name": "stdout",
     "output_type": "stream",
     "text": [
      "call method executed this before: DISPLAY_INFO function\n",
      "display_info ran with arguments (John, 25)\n"
     ]
    }
   ],
   "source": [
    "d = decorator_class(display_info)\n",
    "d(\"John\", 25)"
   ]
  },
  {
   "cell_type": "markdown",
   "id": "1da15849",
   "metadata": {},
   "source": [
    "**OR**"
   ]
  },
  {
   "cell_type": "code",
   "execution_count": 48,
   "id": "07985e6b",
   "metadata": {},
   "outputs": [],
   "source": [
    "@decorator_class\n",
    "def display_info(name, age): print(\"display_info ran with arguments ({}, {})\".format(name, age))\n",
    "    \n",
    "@decorator_class\n",
    "def display(): print(\"display function ran\")"
   ]
  },
  {
   "cell_type": "code",
   "execution_count": 49,
   "id": "45e452e0",
   "metadata": {},
   "outputs": [
    {
     "name": "stdout",
     "output_type": "stream",
     "text": [
      "call method executed this before: DISPLAY_INFO function\n",
      "display_info ran with arguments (John, 25)\n",
      "\n",
      "\n",
      "call method executed this before: DISPLAY function\n",
      "display function ran\n"
     ]
    }
   ],
   "source": [
    "display_info(\"John\", 25)\n",
    "print(\"\\n\")\n",
    "display()    "
   ]
  },
  {
   "cell_type": "code",
   "execution_count": 50,
   "id": "dc591b71",
   "metadata": {},
   "outputs": [
    {
     "name": "stdout",
     "output_type": "stream",
     "text": [
      "call method executed this before: DISPLAY_INFO function\n",
      "display_info ran with arguments (John, 25)\n"
     ]
    }
   ],
   "source": [
    "class decorator_class():\n",
    "    def __init__(self, original_function): self.original_function = original_function\n",
    "        \n",
    "    def __call__(self, *args, **kwargs):\n",
    "        print(\"call method executed this before: {} function\".format(self.original_function.__name__.upper()))\n",
    "        return self.original_function(*args, **kwargs)\n",
    "    \n",
    "@decorator_class\n",
    "def display_info(name, age): print(\"display_info ran with arguments ({}, {})\".format(name, age))\n",
    "    \n",
    "display_info(\"John\", 25)"
   ]
  },
  {
   "cell_type": "code",
   "execution_count": null,
   "id": "b324086c",
   "metadata": {},
   "outputs": [],
   "source": []
  },
  {
   "cell_type": "code",
   "execution_count": 51,
   "id": "a0163449",
   "metadata": {},
   "outputs": [
    {
     "name": "stdout",
     "output_type": "stream",
     "text": [
      "wrapper executed this before: DISPLAY_INFO function\n",
      "display_info ran with arguments (John, 25)\n",
      "\n",
      "\n",
      "wrapper executed this before: DISPLAY function\n",
      "display function ran\n"
     ]
    }
   ],
   "source": [
    "def decorator_function(original_function):\n",
    "    def wrapper_function(*args, **kwargs): \n",
    "        print(\"wrapper executed this before: {} function\".format(original_function.__name__.upper()))\n",
    "        return original_function(*args, **kwargs)\n",
    "    return wrapper_function\n",
    "\n",
    "@decorator_function\n",
    "def display(): print(\"display function ran\")\n",
    "    \n",
    "@decorator_function\n",
    "def display_info(name, age): print(\"display_info ran with arguments ({}, {})\".format(name, age))\n",
    "    \n",
    "display_info(\"John\", 25)\n",
    "print(\"\\n\")\n",
    "display()"
   ]
  },
  {
   "cell_type": "markdown",
   "id": "1922b5b8",
   "metadata": {},
   "source": [
    "# Generators"
   ]
  },
  {
   "cell_type": "code",
   "execution_count": 52,
   "id": "18eb782c",
   "metadata": {},
   "outputs": [
    {
     "data": {
      "text/plain": [
       "[1, 4, 9, 16, 25]"
      ]
     },
     "execution_count": 52,
     "metadata": {},
     "output_type": "execute_result"
    }
   ],
   "source": [
    "def square_numbers(nums):\n",
    "    result = []\n",
    "    for i in nums:\n",
    "        result.append(i*i)\n",
    "    return result\n",
    "\n",
    "my_nums = square_numbers([1,2,3,4,5])\n",
    "\n",
    "my_nums"
   ]
  },
  {
   "cell_type": "code",
   "execution_count": 53,
   "id": "da3f4398",
   "metadata": {},
   "outputs": [],
   "source": [
    "def square_numbers(nums):\n",
    "    for i in nums:\n",
    "        yield(i*i)"
   ]
  },
  {
   "cell_type": "code",
   "execution_count": 54,
   "id": "a33322cf",
   "metadata": {},
   "outputs": [
    {
     "data": {
      "text/plain": [
       "<function __main__.square_numbers(nums)>"
      ]
     },
     "execution_count": 54,
     "metadata": {},
     "output_type": "execute_result"
    }
   ],
   "source": [
    "square_numbers"
   ]
  },
  {
   "cell_type": "code",
   "execution_count": 55,
   "id": "a0daced9",
   "metadata": {},
   "outputs": [
    {
     "data": {
      "text/plain": [
       "<generator object square_numbers at 0x0000005639E1C820>"
      ]
     },
     "execution_count": 55,
     "metadata": {},
     "output_type": "execute_result"
    }
   ],
   "source": [
    "my_nums = square_numbers([1,2,3,4,5])\n",
    "\n",
    "my_nums"
   ]
  },
  {
   "cell_type": "code",
   "execution_count": 56,
   "id": "ec7e1ee0",
   "metadata": {},
   "outputs": [
    {
     "name": "stdout",
     "output_type": "stream",
     "text": [
      "1\n",
      "4\n",
      "9\n",
      "16\n"
     ]
    }
   ],
   "source": [
    "print(next(my_nums))\n",
    "print(next(my_nums))\n",
    "print(next(my_nums))\n",
    "print(next(my_nums))"
   ]
  },
  {
   "cell_type": "code",
   "execution_count": 57,
   "id": "c19c941c",
   "metadata": {},
   "outputs": [
    {
     "name": "stdout",
     "output_type": "stream",
     "text": [
      "25\n"
     ]
    }
   ],
   "source": [
    "print(next(my_nums))"
   ]
  },
  {
   "cell_type": "code",
   "execution_count": 58,
   "id": "3aae4299",
   "metadata": {},
   "outputs": [],
   "source": [
    "# print(next(my_nums))"
   ]
  },
  {
   "cell_type": "markdown",
   "id": "c859aaff",
   "metadata": {},
   "source": [
    "```python\n",
    "print(next(my_nums))\n",
    "---------------------------------------------------------------------------\n",
    "StopIteration                             Traceback (most recent call last)\n",
    "<ipython-input-19-568b6ae09660> in <module>\n",
    "----> 1 print(next(my_nums))\n",
    "\n",
    "StopIteration: \n",
    "```"
   ]
  },
  {
   "cell_type": "code",
   "execution_count": 59,
   "id": "c9e3f453",
   "metadata": {},
   "outputs": [
    {
     "data": {
      "text/plain": [
       "[]"
      ]
     },
     "execution_count": 59,
     "metadata": {},
     "output_type": "execute_result"
    }
   ],
   "source": [
    "list(my_nums)"
   ]
  },
  {
   "cell_type": "code",
   "execution_count": 60,
   "id": "a33c67d6",
   "metadata": {},
   "outputs": [
    {
     "data": {
      "text/plain": [
       "[1, 4, 9, 16, 25]"
      ]
     },
     "execution_count": 60,
     "metadata": {},
     "output_type": "execute_result"
    }
   ],
   "source": [
    "my_nums = square_numbers([1,2,3,4,5])\n",
    "\n",
    "list(my_nums)"
   ]
  },
  {
   "cell_type": "markdown",
   "id": "da7f9c63",
   "metadata": {},
   "source": [
    "or"
   ]
  },
  {
   "cell_type": "code",
   "execution_count": 61,
   "id": "dba6f9dd",
   "metadata": {},
   "outputs": [
    {
     "data": {
      "text/plain": [
       "[1, 4, 9, 16, 25]"
      ]
     },
     "execution_count": 61,
     "metadata": {},
     "output_type": "execute_result"
    }
   ],
   "source": [
    "my_nums = [x*x for x in [1,2,3,4,5]]\n",
    "my_nums"
   ]
  },
  {
   "cell_type": "code",
   "execution_count": 62,
   "id": "f2577983",
   "metadata": {},
   "outputs": [
    {
     "data": {
      "text/plain": [
       "<generator object <genexpr> at 0x0000005639E1D0B0>"
      ]
     },
     "execution_count": 62,
     "metadata": {},
     "output_type": "execute_result"
    }
   ],
   "source": [
    "my_nums = (x*x for x in [1,2,3,4,5])\n",
    "my_nums"
   ]
  },
  {
   "cell_type": "code",
   "execution_count": 63,
   "id": "8173a273",
   "metadata": {},
   "outputs": [
    {
     "data": {
      "text/plain": [
       "[1, 4, 9, 16, 25]"
      ]
     },
     "execution_count": 63,
     "metadata": {},
     "output_type": "execute_result"
    }
   ],
   "source": [
    "list(my_nums)"
   ]
  },
  {
   "cell_type": "code",
   "execution_count": null,
   "id": "5243d66a",
   "metadata": {},
   "outputs": [],
   "source": []
  },
  {
   "cell_type": "code",
   "execution_count": null,
   "id": "b7e48f32",
   "metadata": {},
   "outputs": [],
   "source": []
  },
  {
   "cell_type": "markdown",
   "id": "bd292e73",
   "metadata": {},
   "source": [
    "# Context Managers"
   ]
  },
  {
   "cell_type": "code",
   "execution_count": 64,
   "id": "cdc4dc1b",
   "metadata": {},
   "outputs": [],
   "source": [
    "class Open_File():\n",
    "    def __init__(self, filename, mode):\n",
    "        self.filename = filename\n",
    "        self.mode = mode\n",
    "    \n",
    "    def __enter__(self):\n",
    "        self.file = open(self.filename, self.mode)\n",
    "        return self.file\n",
    "        \n",
    "    def __exit__(self, exc_type, exc_val, traceback):\n",
    "        self.file.close()"
   ]
  },
  {
   "cell_type": "code",
   "execution_count": 65,
   "id": "33d2c74b",
   "metadata": {},
   "outputs": [],
   "source": [
    "with Open_File(\"sample.txt\",\"w\") as f:\n",
    "    f.write(\"Testing\")"
   ]
  },
  {
   "cell_type": "code",
   "execution_count": 66,
   "id": "d50e8448",
   "metadata": {},
   "outputs": [
    {
     "name": "stdout",
     "output_type": "stream",
     "text": [
      "True\n"
     ]
    }
   ],
   "source": [
    "print(f.closed)"
   ]
  },
  {
   "cell_type": "markdown",
   "id": "181ffbcc",
   "metadata": {},
   "source": [
    "using a function"
   ]
  },
  {
   "cell_type": "code",
   "execution_count": 67,
   "id": "cf9d0706",
   "metadata": {},
   "outputs": [],
   "source": [
    "from contextlib import contextmanager"
   ]
  },
  {
   "cell_type": "code",
   "execution_count": 68,
   "id": "0bc24ac5",
   "metadata": {},
   "outputs": [],
   "source": [
    "@contextmanager\n",
    "def open_file(file, mode):\n",
    "    f = open(file, mode)\n",
    "    yield f\n",
    "    f.close()"
   ]
  },
  {
   "cell_type": "code",
   "execution_count": 69,
   "id": "89deeebe",
   "metadata": {},
   "outputs": [
    {
     "data": {
      "text/plain": [
       "<function __main__.open_file(file, mode)>"
      ]
     },
     "execution_count": 69,
     "metadata": {},
     "output_type": "execute_result"
    }
   ],
   "source": [
    "open_file"
   ]
  },
  {
   "cell_type": "code",
   "execution_count": 70,
   "id": "58daf4fd",
   "metadata": {},
   "outputs": [],
   "source": [
    "with open_file(\"sample.txt\", \"w\") as f:\n",
    "    f.write(\"Lorem ipsum sit amet.\")"
   ]
  },
  {
   "cell_type": "code",
   "execution_count": 71,
   "id": "c82d6709",
   "metadata": {},
   "outputs": [
    {
     "name": "stdout",
     "output_type": "stream",
     "text": [
      "True\n"
     ]
    }
   ],
   "source": [
    "print(f.closed)"
   ]
  },
  {
   "cell_type": "code",
   "execution_count": 72,
   "id": "649b2755",
   "metadata": {},
   "outputs": [],
   "source": [
    "@contextmanager\n",
    "def open_file(file, mode):\n",
    "    try:\n",
    "        f = open(file, mode)\n",
    "        yield f\n",
    "    finally:\n",
    "        f.close()"
   ]
  },
  {
   "cell_type": "code",
   "execution_count": 73,
   "id": "0278401c",
   "metadata": {},
   "outputs": [],
   "source": [
    "with open_file(\"sample.txt\", \"w\") as f:\n",
    "    f.write(\"Lorem ipsum sit amet.\")"
   ]
  },
  {
   "cell_type": "code",
   "execution_count": 74,
   "id": "58e0576d",
   "metadata": {},
   "outputs": [
    {
     "name": "stdout",
     "output_type": "stream",
     "text": [
      "True\n"
     ]
    }
   ],
   "source": [
    "print(f.closed)"
   ]
  },
  {
   "cell_type": "code",
   "execution_count": null,
   "id": "ac7ab18a",
   "metadata": {},
   "outputs": [],
   "source": []
  },
  {
   "cell_type": "code",
   "execution_count": null,
   "id": "1f375987",
   "metadata": {},
   "outputs": [],
   "source": []
  },
  {
   "cell_type": "code",
   "execution_count": null,
   "id": "27063a29",
   "metadata": {},
   "outputs": [],
   "source": []
  },
  {
   "cell_type": "code",
   "execution_count": null,
   "id": "c9904d9c",
   "metadata": {},
   "outputs": [],
   "source": []
  },
  {
   "cell_type": "code",
   "execution_count": null,
   "id": "fe87ec52",
   "metadata": {},
   "outputs": [],
   "source": []
  },
  {
   "cell_type": "code",
   "execution_count": null,
   "id": "102a46b4",
   "metadata": {},
   "outputs": [],
   "source": []
  },
  {
   "cell_type": "code",
   "execution_count": null,
   "id": "2e4d36af",
   "metadata": {},
   "outputs": [],
   "source": []
  },
  {
   "cell_type": "code",
   "execution_count": null,
   "id": "d31b7434",
   "metadata": {},
   "outputs": [],
   "source": []
  },
  {
   "cell_type": "code",
   "execution_count": null,
   "id": "86aefc70",
   "metadata": {},
   "outputs": [],
   "source": []
  },
  {
   "cell_type": "code",
   "execution_count": null,
   "id": "d65bf26d",
   "metadata": {},
   "outputs": [],
   "source": []
  },
  {
   "cell_type": "code",
   "execution_count": null,
   "id": "76e9ab50",
   "metadata": {},
   "outputs": [],
   "source": []
  },
  {
   "cell_type": "code",
   "execution_count": null,
   "id": "796b4794",
   "metadata": {},
   "outputs": [],
   "source": []
  },
  {
   "cell_type": "code",
   "execution_count": null,
   "id": "31cb7cb0",
   "metadata": {},
   "outputs": [],
   "source": []
  },
  {
   "cell_type": "code",
   "execution_count": null,
   "id": "459a9e76",
   "metadata": {},
   "outputs": [],
   "source": []
  },
  {
   "cell_type": "code",
   "execution_count": null,
   "id": "51b2970f",
   "metadata": {},
   "outputs": [],
   "source": []
  },
  {
   "cell_type": "code",
   "execution_count": null,
   "id": "8db34864",
   "metadata": {},
   "outputs": [],
   "source": []
  },
  {
   "cell_type": "code",
   "execution_count": null,
   "id": "ebee2c1d",
   "metadata": {},
   "outputs": [],
   "source": []
  },
  {
   "cell_type": "code",
   "execution_count": null,
   "id": "30352430",
   "metadata": {},
   "outputs": [],
   "source": []
  },
  {
   "cell_type": "code",
   "execution_count": null,
   "id": "b3266e7c",
   "metadata": {},
   "outputs": [],
   "source": []
  },
  {
   "cell_type": "code",
   "execution_count": null,
   "id": "9e4a1812",
   "metadata": {},
   "outputs": [],
   "source": []
  },
  {
   "cell_type": "code",
   "execution_count": null,
   "id": "4c193e5e",
   "metadata": {},
   "outputs": [],
   "source": []
  },
  {
   "cell_type": "code",
   "execution_count": null,
   "id": "101b4794",
   "metadata": {},
   "outputs": [],
   "source": []
  },
  {
   "cell_type": "code",
   "execution_count": null,
   "id": "ff7bf985",
   "metadata": {},
   "outputs": [],
   "source": []
  }
 ],
 "metadata": {
  "kernelspec": {
   "display_name": "Python 3",
   "language": "python",
   "name": "python3"
  },
  "language_info": {
   "codemirror_mode": {
    "name": "ipython",
    "version": 3
   },
   "file_extension": ".py",
   "mimetype": "text/x-python",
   "name": "python",
   "nbconvert_exporter": "python",
   "pygments_lexer": "ipython3",
   "version": "3.8.8"
  }
 },
 "nbformat": 4,
 "nbformat_minor": 5
}
